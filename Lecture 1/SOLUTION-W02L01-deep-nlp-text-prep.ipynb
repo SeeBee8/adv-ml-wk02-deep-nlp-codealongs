{
 "cells": [
  {
   "cell_type": "markdown",
   "id": "69383602-32d0-44b4-86d5-a29d46674555",
   "metadata": {},
   "source": [
    "# SOLUTION Advanced ML Week 2, Lecture 1: Preparing Text for Deep NLP Models (TextVectorization)"
   ]
  },
  {
   "cell_type": "markdown",
   "id": "a36e37a1-8e2d-49f0-9652-39896926fd19",
   "metadata": {},
   "source": [
    "## Learning Objectives"
   ]
  },
  {
   "cell_type": "markdown",
   "id": "8cc57c4f-3b2c-4f6f-86aa-68f474a45656",
   "metadata": {},
   "source": [
    "- "
   ]
  },
  {
   "cell_type": "code",
   "execution_count": 1,
   "id": "8a3487b0-db87-4f70-bc6c-a48e62956740",
   "metadata": {
    "execution": {
     "iopub.execute_input": "2024-01-08T01:38:36.411084Z",
     "iopub.status.busy": "2024-01-08T01:38:36.410949Z",
     "iopub.status.idle": "2024-01-08T01:38:36.417486Z",
     "shell.execute_reply": "2024-01-08T01:38:36.416990Z",
     "shell.execute_reply.started": "2024-01-08T01:38:36.411069Z"
    }
   },
   "outputs": [],
   "source": [
    "# Adding parent directory to python path\n",
    "import sys, os\n",
    "sys.path.append( os.path.abspath('../'))"
   ]
  },
  {
   "cell_type": "code",
   "execution_count": 2,
   "id": "23f8d776-63e5-4a02-afd8-04628e4c858e",
   "metadata": {
    "execution": {
     "iopub.execute_input": "2024-01-08T01:38:36.420002Z",
     "iopub.status.busy": "2024-01-08T01:38:36.419704Z",
     "iopub.status.idle": "2024-01-08T01:38:37.052062Z",
     "shell.execute_reply": "2024-01-08T01:38:37.051644Z",
     "shell.execute_reply.started": "2024-01-08T01:38:36.419976Z"
    }
   },
   "outputs": [],
   "source": [
    "## Load the autoreload extension\n",
    "%load_ext autoreload \n",
    "%autoreload 2\n",
    "\n",
    "import custom_functions_SOLUTION  as fn"
   ]
  },
  {
   "cell_type": "markdown",
   "id": "d90fe76e-5fa7-436e-9634-d67e5b470eab",
   "metadata": {},
   "source": [
    "## Data"
   ]
  },
  {
   "cell_type": "code",
   "execution_count": 3,
   "id": "d36b5806-1bf5-4c55-8e39-3f9159e26d1a",
   "metadata": {
    "execution": {
     "iopub.execute_input": "2024-01-08T01:38:37.052742Z",
     "iopub.status.busy": "2024-01-08T01:38:37.052597Z",
     "iopub.status.idle": "2024-01-08T01:38:37.078348Z",
     "shell.execute_reply": "2024-01-08T01:38:37.077998Z",
     "shell.execute_reply.started": "2024-01-08T01:38:37.052732Z"
    }
   },
   "outputs": [
    {
     "data": {
      "text/markdown": [
       "# Amazon Product Reviews\n",
       "\n",
       "- URL: https://cseweb.ucsd.edu/~jmcauley/datasets.html#amazon_reviews \n",
       "\n",
       "## Description\n",
       "\n",
       "This is a large crawl of product reviews from Amazon. This dataset contains 82.83 million unique reviews, from around 20 million users.\n",
       "\n",
       "## Basic statistics\n",
       "\n",
       "| Ratings:  | 82.83 million        |\n",
       "| --------- | -------------------- |\n",
       "| Users:    | 20.98 million        |\n",
       "| Items:    | 9.35 million         |\n",
       "| Timespan: | May 1996 - July 2014 |\n",
       "\n",
       "## Metadata\n",
       "\n",
       "- reviews and ratings\n",
       "- item-to-item relationships (e.g. \"people who bought X also bought Y\")\n",
       "- timestamps\n",
       "- helpfulness votes\n",
       "- product image (and CNN features)\n",
       "- price\n",
       "- category\n",
       "- salesRank\n",
       "\n",
       "## Example\n",
       "\n",
       "```\n",
       "{  \"reviewerID\": \"A2SUAM1J3GNN3B\",  \"asin\": \"0000013714\",  \"reviewerName\": \"J. McDonald\",  \"helpful\": [2, 3],  \"reviewText\": \"I bought this for my husband who plays the piano.  He is having a wonderful time playing these old hymns.  The music  is at times hard to read because we think the book was published for singing from more than playing from.  Great purchase though!\",  \"overall\": 5.0,  \"summary\": \"Heavenly Highway Hymns\",  \"unixReviewTime\": 1252800000,  \"reviewTime\": \"09 13, 2009\" }\n",
       "```\n",
       "\n",
       "## Download link\n",
       "\n",
       "See the [Amazon Dataset Page](https://cseweb.ucsd.edu/~jmcauley/datasets/amazon_v2/) for download information.\n",
       "\n",
       "The 2014 version of this dataset is [also available](https://cseweb.ucsd.edu/~jmcauley/datasets/amazon/links.html).\n",
       "\n",
       "## Citation\n",
       "\n",
       "Please cite the following if you use the data:\n",
       "\n",
       "**Ups and downs: Modeling the visual evolution of fashion trends with one-class collaborative filtering**\n",
       "\n",
       "R. He, J. McAuley\n",
       "\n",
       "*WWW*, 2016\n",
       "[pdf](https://cseweb.ucsd.edu/~jmcauley/pdfs/www16a.pdf)\n",
       "\n",
       "**Image-based recommendations on styles and substitutes**\n",
       "\n",
       "J. McAuley, C. Targett, J. Shi, A. van den Hengel\n",
       "\n",
       "*SIGIR*, 2015\n",
       "[pdf](https://cseweb.ucsd.edu/~jmcauley/pdfs/sigir15.pdf)"
      ],
      "text/plain": [
       "<IPython.core.display.Markdown object>"
      ]
     },
     "metadata": {},
     "output_type": "display_data"
    }
   ],
   "source": [
    "from IPython.display import display, Markdown\n",
    "with open(\"../Data-AmazonReviews/Amazon Product Reviews.md\") as f:\n",
    "    display(Markdown(f.read()))"
   ]
  },
  {
   "cell_type": "code",
   "execution_count": 4,
   "id": "d1f7e2ff-dcf2-4b44-addc-6215aa8a9223",
   "metadata": {
    "execution": {
     "iopub.execute_input": "2024-01-08T01:38:37.079176Z",
     "iopub.status.busy": "2024-01-08T01:38:37.078999Z",
     "iopub.status.idle": "2024-01-08T01:38:39.841715Z",
     "shell.execute_reply": "2024-01-08T01:38:39.841294Z",
     "shell.execute_reply.started": "2024-01-08T01:38:37.079151Z"
    }
   },
   "outputs": [],
   "source": [
    "import tensorflow as tf\n",
    "import numpy as np\n",
    "# Then Set Random Seeds\n",
    "tf.keras.utils.set_random_seed(42)\n",
    "tf.random.set_seed(42)\n",
    "np.random.seed(42)\n",
    "# Then run the Enable Deterministic Operations Function\n",
    "tf.config.experimental.enable_op_determinism()\n",
    "\n",
    "# MacOS Sonoma Fix\n",
    "tf.config.set_visible_devices([], 'GPU')"
   ]
  },
  {
   "cell_type": "code",
   "execution_count": 5,
   "id": "89879753-84c6-40cb-a2a8-8d6e7221cdf3",
   "metadata": {
    "execution": {
     "iopub.execute_input": "2024-01-08T01:38:39.842670Z",
     "iopub.status.busy": "2024-01-08T01:38:39.842462Z",
     "iopub.status.idle": "2024-01-08T01:38:40.118765Z",
     "shell.execute_reply": "2024-01-08T01:38:40.118328Z",
     "shell.execute_reply.started": "2024-01-08T01:38:39.842660Z"
    }
   },
   "outputs": [],
   "source": [
    "import pandas as pd \n",
    "import seaborn as sns\n",
    "\n",
    "import pandas as pd\n",
    "import matplotlib.pyplot as plt\n",
    "import seaborn as sns\n",
    "import numpy as np\n",
    "\n",
    "\n",
    "from tensorflow.keras.layers import TextVectorization\n",
    "from tensorflow.keras import layers\n",
    "from tensorflow.keras import optimizers\n",
    "\n",
    "from sklearn.model_selection import train_test_split\n",
    "from sklearn.pipeline import make_pipeline, Pipeline\n",
    "from sklearn.model_selection import GridSearchCV\n",
    "from imblearn.under_sampling import RandomUnderSampler\n",
    "from sklearn.preprocessing import LabelEncoder\n",
    "from sklearn import set_config\n",
    "set_config(transform_output='pandas')\n",
    "pd.set_option('display.max_colwidth', 250)\n",
    "\n",
    "# Define a function for building an LSTM model\n",
    "from tensorflow.keras.models import Sequential\n",
    "from tensorflow.keras import layers, optimizers, regularizers"
   ]
  },
  {
   "cell_type": "code",
   "execution_count": 6,
   "id": "8b67cf1a-97b6-4d3b-b103-694e4a6c6c29",
   "metadata": {
    "execution": {
     "iopub.execute_input": "2024-01-08T01:38:40.119394Z",
     "iopub.status.busy": "2024-01-08T01:38:40.119209Z",
     "iopub.status.idle": "2024-01-08T01:38:40.378300Z",
     "shell.execute_reply": "2024-01-08T01:38:40.378005Z",
     "shell.execute_reply.started": "2024-01-08T01:38:40.119385Z"
    }
   },
   "outputs": [
    {
     "name": "stdout",
     "output_type": "stream",
     "text": [
      "<class 'pandas.core.frame.DataFrame'>\n",
      "Int64Index: 8191 entries, 0 to 8256\n",
      "Data columns (total 10 columns):\n",
      " #   Column             Non-Null Count  Dtype  \n",
      "---  ------             --------------  -----  \n",
      " 0   overall            8191 non-null   float64\n",
      " 1   text-raw           8191 non-null   object \n",
      " 2   length             8191 non-null   int64  \n",
      " 3   text               8191 non-null   object \n",
      " 4   lower_text         8191 non-null   object \n",
      " 5   tokens             8191 non-null   object \n",
      " 6   no_stops           8191 non-null   object \n",
      " 7   no_stops_no_punct  8191 non-null   object \n",
      " 8   spacy_lemmas       8191 non-null   object \n",
      " 9   bigrams            8191 non-null   object \n",
      "dtypes: float64(1), int64(1), object(8)\n",
      "memory usage: 703.9+ KB\n"
     ]
    },
    {
     "data": {
      "text/html": [
       "<div>\n",
       "<style scoped>\n",
       "    .dataframe tbody tr th:only-of-type {\n",
       "        vertical-align: middle;\n",
       "    }\n",
       "\n",
       "    .dataframe tbody tr th {\n",
       "        vertical-align: top;\n",
       "    }\n",
       "\n",
       "    .dataframe thead th {\n",
       "        text-align: right;\n",
       "    }\n",
       "</style>\n",
       "<table border=\"1\" class=\"dataframe\">\n",
       "  <thead>\n",
       "    <tr style=\"text-align: right;\">\n",
       "      <th></th>\n",
       "      <th>overall</th>\n",
       "      <th>text-raw</th>\n",
       "      <th>length</th>\n",
       "      <th>text</th>\n",
       "      <th>lower_text</th>\n",
       "      <th>tokens</th>\n",
       "      <th>no_stops</th>\n",
       "      <th>no_stops_no_punct</th>\n",
       "      <th>spacy_lemmas</th>\n",
       "      <th>bigrams</th>\n",
       "    </tr>\n",
       "  </thead>\n",
       "  <tbody>\n",
       "    <tr>\n",
       "      <th>0</th>\n",
       "      <td>4.0</td>\n",
       "      <td>Not going to show you the dirty water on here because I have shame and it ...: Used it twice already and I have absolutely seen results. Not going to show you the dirty water on here because I have shame and it is gross. I will say that while you...</td>\n",
       "      <td>672</td>\n",
       "      <td>Not going to show you the dirty water on here because I have shame and it ...: Used it twice already and I have absolutely seen results. Not going to show you the dirty water on here because I have shame and it is gross. I will say that while you...</td>\n",
       "      <td>not going to show you the dirty water on here because i have shame and it ...: used it twice already and i have absolutely seen results. not going to show you the dirty water on here because i have shame and it is gross. i will say that while you...</td>\n",
       "      <td>[not, going, to, show, you, the, dirty, water, on, here, because, i, have, shame, and, it, ..., :, used, it, twice, already, and, i, have, absolutely, seen, results, ., not, going, to, show, you, the, dirty, water, on, here, because, i, have, sha...</td>\n",
       "      <td>[going, show, dirty, water, shame, ..., :, used, twice, already, absolutely, seen, results, ., going, show, dirty, water, shame, gross, ., say, 're, cleaning, ,, leave, place, second, (, instance, ,, 're, moving, plug, new, outlet, ), ,, leak, li...</td>\n",
       "      <td>[going, show, dirty, water, shame, ..., used, twice, already, absolutely, seen, results, going, show, dirty, water, shame, gross, say, 're, cleaning, leave, place, second, instance, 're, moving, plug, new, outlet, leak, little, water, part, sucks...</td>\n",
       "      <td>[go, dirty, water, shame, twice, absolutely, see, result, go, dirty, water, shame, gross, clean, leave, place, second, instance, move, plug, new, outlet, leak, little, water, suck, upward, big, deal, suck, right, happen, end, cleaning, remove, ta...</td>\n",
       "      <td>[(go, dirty), (dirty, water), (water, shame), (shame, twice), (twice, absolutely), (absolutely, see), (see, result), (result, go), (go, dirty), (dirty, water), (water, shame), (shame, gross), (gross, clean), (clean, leave), (leave, place), (place...</td>\n",
       "    </tr>\n",
       "    <tr>\n",
       "      <th>1</th>\n",
       "      <td>5.0</td>\n",
       "      <td>Makes carpet look brand new!!!: When you get the shampooer you have to put it together but is very easy...the handle is the only thing that you have to attach...\\n\\n My carpets were very dirty because I have 2 small dogs that go in and hour all d...</td>\n",
       "      <td>1021</td>\n",
       "      <td>Makes carpet look brand new!!!: When you get the shampooer you have to put it together but is very easy...the handle is the only thing that you have to attach...\\n\\n My carpets were very dirty because I have 2 small dogs that go in and hour all d...</td>\n",
       "      <td>makes carpet look brand new!!!: when you get the shampooer you have to put it together but is very easy...the handle is the only thing that you have to attach...\\n\\n my carpets were very dirty because i have 2 small dogs that go in and hour all d...</td>\n",
       "      <td>[makes, carpet, look, brand, new, !, !, !, :, when, you, get, the, shampooer, you, have, to, put, it, together, but, is, very, easy, ..., the, handle, is, the, only, thing, that, you, have, to, attach, ..., my, carpets, were, very, dirty, because...</td>\n",
       "      <td>[makes, carpet, look, brand, new, !, !, !, :, get, shampooer, put, together, easy, ..., handle, thing, attach, ..., carpets, dirty, 2, small, dogs, go, hour, day, ..., 1st, day, got, shampoo, shampooed, entire, house, made, huge, difference, ., w...</td>\n",
       "      <td>[makes, carpet, look, brand, new, get, shampooer, put, together, easy, ..., handle, thing, attach, ..., carpets, dirty, 2, small, dogs, go, hour, day, ..., 1st, day, got, shampoo, shampooed, entire, house, made, huge, difference, week, later, dow...</td>\n",
       "      <td>[make, carpet, look, brand, new, shampooer, easy, handle, thing, attach, carpet, dirty, 2, small, dog, hour, day, 1st, day, get, shampoo, shampoo, entire, house, huge, difference, week, later, downstair, dirt, carpet, shampoo, carpet, look, brian...</td>\n",
       "      <td>[(make, carpet), (carpet, look), (look, brand), (brand, new), (new, shampooer), (shampooer, easy), (easy, handle), (handle, thing), (thing, attach), (attach, carpet), (carpet, dirty), (dirty, 2), (2, small), (small, dog), (dog, hour), (hour, day)...</td>\n",
       "    </tr>\n",
       "    <tr>\n",
       "      <th>2</th>\n",
       "      <td>4.0</td>\n",
       "      <td>I Got What I Paid For: After getting an estimate on how much it would cost to have a \"professional\" clean our sofa &amp; love seat I decided to do it myself, so purchased this cleaner.  I chose this Hoover based on the many Amazon reviews I read, pri...</td>\n",
       "      <td>3016</td>\n",
       "      <td>I Got What I Paid For: After getting an estimate on how much it would cost to have a \"professional\" clean our sofa &amp; love seat I decided to do it myself, so purchased this cleaner.  I chose this Hoover based on the many Amazon reviews I read, pri...</td>\n",
       "      <td>i got what i paid for: after getting an estimate on how much it would cost to have a \"professional\" clean our sofa &amp; love seat i decided to do it myself, so purchased this cleaner.  i chose this hoover based on the many amazon reviews i read, pri...</td>\n",
       "      <td>[i, got, what, i, paid, for, :, after, getting, an, estimate, on, how, much, it, would, cost, to, have, a, ``, professional, '', clean, our, sofa, &amp;, love, seat, i, decided, to, do, it, myself, ,, so, purchased, this, cleaner, ., i, chose, this, ...</td>\n",
       "      <td>[got, paid, :, getting, estimate, much, would, cost, ``, professional, '', clean, sofa, &amp;, love, seat, decided, ,, purchased, cleaner, ., chose, hoover, based, many, amazon, reviews, read, ,, price, ,, reputation, maker, ., arrived, time, ,, pack...</td>\n",
       "      <td>[got, paid, getting, estimate, much, would, cost, ``, professional, '', clean, sofa, love, seat, decided, purchased, cleaner, chose, hoover, based, many, amazon, reviews, read, price, reputation, maker, arrived, time, packaging, great, thanks, am...</td>\n",
       "      <td>[got, pay, get, estimate, cost, professional, clean, sofa, love, seat, decide, purchase, cleaner, choose, hoover, base, amazon, review, read, price, reputation, maker, arrive, time, packaging, great, thank, amazon, cleaner, brand, new, condition,...</td>\n",
       "      <td>[(got, pay), (pay, get), (get, estimate), (estimate, cost), (cost, professional), (professional, clean), (clean, sofa), (sofa, love), (love, seat), (seat, decide), (decide, purchase), (purchase, cleaner), (cleaner, choose), (choose, hoover), (hoo...</td>\n",
       "    </tr>\n",
       "    <tr>\n",
       "      <th>3</th>\n",
       "      <td>4.0</td>\n",
       "      <td>Read tips before use, but overall great product: I purchased this Hoover carpet cleaner, because of all the great reviews on here.  I really like this carpet cleaner, and it really helped my poor tan colored carpet.  I have a dog, two cats, toddl...</td>\n",
       "      <td>995</td>\n",
       "      <td>Read tips before use, but overall great product: I purchased this Hoover carpet cleaner, because of all the great reviews on here.  I really like this carpet cleaner, and it really helped my poor tan colored carpet.  I have a dog, two cats, toddl...</td>\n",
       "      <td>read tips before use, but overall great product: i purchased this hoover carpet cleaner, because of all the great reviews on here.  i really like this carpet cleaner, and it really helped my poor tan colored carpet.  i have a dog, two cats, toddl...</td>\n",
       "      <td>[read, tips, before, use, ,, but, overall, great, product, :, i, purchased, this, hoover, carpet, cleaner, ,, because, of, all, the, great, reviews, on, here, ., i, really, like, this, carpet, cleaner, ,, and, it, really, helped, my, poor, tan, c...</td>\n",
       "      <td>[read, tips, use, ,, overall, great, product, :, purchased, hoover, carpet, cleaner, ,, great, reviews, ., really, like, carpet, cleaner, ,, really, helped, poor, tan, colored, carpet, ., dog, ,, two, cats, ,, toddler, ,, husband, ,, personally, ...</td>\n",
       "      <td>[read, tips, use, overall, great, product, purchased, hoover, carpet, cleaner, great, reviews, really, like, carpet, cleaner, really, helped, poor, tan, colored, carpet, dog, two, cats, toddler, husband, personally, beverage, spiller, pros, high,...</td>\n",
       "      <td>[read, tip, use, overall, great, product, purchase, hoover, carpet, cleaner, great, review, like, carpet, cleaner, help, poor, tan, color, carpet, dog, cat, toddler, husband, personally, beverage, spiller, pro, high, suction, heavy, clean, con, c...</td>\n",
       "      <td>[(read, tip), (tip, use), (use, overall), (overall, great), (great, product), (product, purchase), (purchase, hoover), (hoover, carpet), (carpet, cleaner), (cleaner, great), (great, review), (review, like), (like, carpet), (carpet, cleaner), (cle...</td>\n",
       "    </tr>\n",
       "    <tr>\n",
       "      <th>4</th>\n",
       "      <td>1.0</td>\n",
       "      <td>VERY DISAPPOINTED: WORKED for maybe 1/2 hr and then it appeared the motor got hot and shut off and 10 secs later would start again and would work for 10 or 15 secs and quit again.......sending it back to HOOVER this week......I was VERY DISAPPOIN...</td>\n",
       "      <td>311</td>\n",
       "      <td>VERY DISAPPOINTED: WORKED for maybe 1/2 hr and then it appeared the motor got hot and shut off and 10 secs later would start again and would work for 10 or 15 secs and quit again.......sending it back to HOOVER this week......I was VERY DISAPPOIN...</td>\n",
       "      <td>very disappointed: worked for maybe 1/2 hr and then it appeared the motor got hot and shut off and 10 secs later would start again and would work for 10 or 15 secs and quit again.......sending it back to hoover this week......i was very disappoin...</td>\n",
       "      <td>[very, disappointed, :, worked, for, maybe, 1/2, hr, and, then, it, appeared, the, motor, got, hot, and, shut, off, and, 10, secs, later, would, start, again, and, would, work, for, 10, or, 15, secs, and, quit, again, ......., sending, it, back, ...</td>\n",
       "      <td>[disappointed, :, worked, maybe, 1/2, hr, appeared, motor, got, hot, shut, 10, secs, later, would, start, would, work, 10, 15, secs, quit, ......., sending, back, hoover, week, ......, disappointed, cause, reviews, good, ....., maybe, got, lemon,...</td>\n",
       "      <td>[disappointed, worked, maybe, 1/2, hr, appeared, motor, got, hot, shut, 10, secs, later, would, start, would, work, 10, 15, secs, quit, ......., sending, back, hoover, week, ......, disappointed, cause, reviews, good, ....., maybe, got, lemon]</td>\n",
       "      <td>[disappointed, worked, maybe, 1/2, hr, appear, motor, get, hot, shut, 10, sec, later, start, work, 10, 15, sec, quit, send, hoover, week, disappointed, cause, review, good, maybe, get, lemon]</td>\n",
       "      <td>[(disappointed, worked), (worked, maybe), (maybe, 1/2), (1/2, hr), (hr, appear), (appear, motor), (motor, get), (get, hot), (hot, shut), (shut, 10), (10, sec), (sec, later), (later, start), (start, work), (work, 10), (10, 15), (15, sec), (sec, qu...</td>\n",
       "    </tr>\n",
       "  </tbody>\n",
       "</table>\n",
       "</div>"
      ],
      "text/plain": [
       "   overall  \\\n",
       "0      4.0   \n",
       "1      5.0   \n",
       "2      4.0   \n",
       "3      4.0   \n",
       "4      1.0   \n",
       "\n",
       "                                                                                                                                                                                                                                                    text-raw  \\\n",
       "0  Not going to show you the dirty water on here because I have shame and it ...: Used it twice already and I have absolutely seen results. Not going to show you the dirty water on here because I have shame and it is gross. I will say that while you...   \n",
       "1  Makes carpet look brand new!!!: When you get the shampooer you have to put it together but is very easy...the handle is the only thing that you have to attach...\\n\\n My carpets were very dirty because I have 2 small dogs that go in and hour all d...   \n",
       "2  I Got What I Paid For: After getting an estimate on how much it would cost to have a \"professional\" clean our sofa & love seat I decided to do it myself, so purchased this cleaner.  I chose this Hoover based on the many Amazon reviews I read, pri...   \n",
       "3  Read tips before use, but overall great product: I purchased this Hoover carpet cleaner, because of all the great reviews on here.  I really like this carpet cleaner, and it really helped my poor tan colored carpet.  I have a dog, two cats, toddl...   \n",
       "4  VERY DISAPPOINTED: WORKED for maybe 1/2 hr and then it appeared the motor got hot and shut off and 10 secs later would start again and would work for 10 or 15 secs and quit again.......sending it back to HOOVER this week......I was VERY DISAPPOIN...   \n",
       "\n",
       "   length  \\\n",
       "0     672   \n",
       "1    1021   \n",
       "2    3016   \n",
       "3     995   \n",
       "4     311   \n",
       "\n",
       "                                                                                                                                                                                                                                                        text  \\\n",
       "0  Not going to show you the dirty water on here because I have shame and it ...: Used it twice already and I have absolutely seen results. Not going to show you the dirty water on here because I have shame and it is gross. I will say that while you...   \n",
       "1  Makes carpet look brand new!!!: When you get the shampooer you have to put it together but is very easy...the handle is the only thing that you have to attach...\\n\\n My carpets were very dirty because I have 2 small dogs that go in and hour all d...   \n",
       "2  I Got What I Paid For: After getting an estimate on how much it would cost to have a \"professional\" clean our sofa & love seat I decided to do it myself, so purchased this cleaner.  I chose this Hoover based on the many Amazon reviews I read, pri...   \n",
       "3  Read tips before use, but overall great product: I purchased this Hoover carpet cleaner, because of all the great reviews on here.  I really like this carpet cleaner, and it really helped my poor tan colored carpet.  I have a dog, two cats, toddl...   \n",
       "4  VERY DISAPPOINTED: WORKED for maybe 1/2 hr and then it appeared the motor got hot and shut off and 10 secs later would start again and would work for 10 or 15 secs and quit again.......sending it back to HOOVER this week......I was VERY DISAPPOIN...   \n",
       "\n",
       "                                                                                                                                                                                                                                                  lower_text  \\\n",
       "0  not going to show you the dirty water on here because i have shame and it ...: used it twice already and i have absolutely seen results. not going to show you the dirty water on here because i have shame and it is gross. i will say that while you...   \n",
       "1  makes carpet look brand new!!!: when you get the shampooer you have to put it together but is very easy...the handle is the only thing that you have to attach...\\n\\n my carpets were very dirty because i have 2 small dogs that go in and hour all d...   \n",
       "2  i got what i paid for: after getting an estimate on how much it would cost to have a \"professional\" clean our sofa & love seat i decided to do it myself, so purchased this cleaner.  i chose this hoover based on the many amazon reviews i read, pri...   \n",
       "3  read tips before use, but overall great product: i purchased this hoover carpet cleaner, because of all the great reviews on here.  i really like this carpet cleaner, and it really helped my poor tan colored carpet.  i have a dog, two cats, toddl...   \n",
       "4  very disappointed: worked for maybe 1/2 hr and then it appeared the motor got hot and shut off and 10 secs later would start again and would work for 10 or 15 secs and quit again.......sending it back to hoover this week......i was very disappoin...   \n",
       "\n",
       "                                                                                                                                                                                                                                                      tokens  \\\n",
       "0  [not, going, to, show, you, the, dirty, water, on, here, because, i, have, shame, and, it, ..., :, used, it, twice, already, and, i, have, absolutely, seen, results, ., not, going, to, show, you, the, dirty, water, on, here, because, i, have, sha...   \n",
       "1  [makes, carpet, look, brand, new, !, !, !, :, when, you, get, the, shampooer, you, have, to, put, it, together, but, is, very, easy, ..., the, handle, is, the, only, thing, that, you, have, to, attach, ..., my, carpets, were, very, dirty, because...   \n",
       "2  [i, got, what, i, paid, for, :, after, getting, an, estimate, on, how, much, it, would, cost, to, have, a, ``, professional, '', clean, our, sofa, &, love, seat, i, decided, to, do, it, myself, ,, so, purchased, this, cleaner, ., i, chose, this, ...   \n",
       "3  [read, tips, before, use, ,, but, overall, great, product, :, i, purchased, this, hoover, carpet, cleaner, ,, because, of, all, the, great, reviews, on, here, ., i, really, like, this, carpet, cleaner, ,, and, it, really, helped, my, poor, tan, c...   \n",
       "4  [very, disappointed, :, worked, for, maybe, 1/2, hr, and, then, it, appeared, the, motor, got, hot, and, shut, off, and, 10, secs, later, would, start, again, and, would, work, for, 10, or, 15, secs, and, quit, again, ......., sending, it, back, ...   \n",
       "\n",
       "                                                                                                                                                                                                                                                    no_stops  \\\n",
       "0  [going, show, dirty, water, shame, ..., :, used, twice, already, absolutely, seen, results, ., going, show, dirty, water, shame, gross, ., say, 're, cleaning, ,, leave, place, second, (, instance, ,, 're, moving, plug, new, outlet, ), ,, leak, li...   \n",
       "1  [makes, carpet, look, brand, new, !, !, !, :, get, shampooer, put, together, easy, ..., handle, thing, attach, ..., carpets, dirty, 2, small, dogs, go, hour, day, ..., 1st, day, got, shampoo, shampooed, entire, house, made, huge, difference, ., w...   \n",
       "2  [got, paid, :, getting, estimate, much, would, cost, ``, professional, '', clean, sofa, &, love, seat, decided, ,, purchased, cleaner, ., chose, hoover, based, many, amazon, reviews, read, ,, price, ,, reputation, maker, ., arrived, time, ,, pack...   \n",
       "3  [read, tips, use, ,, overall, great, product, :, purchased, hoover, carpet, cleaner, ,, great, reviews, ., really, like, carpet, cleaner, ,, really, helped, poor, tan, colored, carpet, ., dog, ,, two, cats, ,, toddler, ,, husband, ,, personally, ...   \n",
       "4  [disappointed, :, worked, maybe, 1/2, hr, appeared, motor, got, hot, shut, 10, secs, later, would, start, would, work, 10, 15, secs, quit, ......., sending, back, hoover, week, ......, disappointed, cause, reviews, good, ....., maybe, got, lemon,...   \n",
       "\n",
       "                                                                                                                                                                                                                                           no_stops_no_punct  \\\n",
       "0  [going, show, dirty, water, shame, ..., used, twice, already, absolutely, seen, results, going, show, dirty, water, shame, gross, say, 're, cleaning, leave, place, second, instance, 're, moving, plug, new, outlet, leak, little, water, part, sucks...   \n",
       "1  [makes, carpet, look, brand, new, get, shampooer, put, together, easy, ..., handle, thing, attach, ..., carpets, dirty, 2, small, dogs, go, hour, day, ..., 1st, day, got, shampoo, shampooed, entire, house, made, huge, difference, week, later, dow...   \n",
       "2  [got, paid, getting, estimate, much, would, cost, ``, professional, '', clean, sofa, love, seat, decided, purchased, cleaner, chose, hoover, based, many, amazon, reviews, read, price, reputation, maker, arrived, time, packaging, great, thanks, am...   \n",
       "3  [read, tips, use, overall, great, product, purchased, hoover, carpet, cleaner, great, reviews, really, like, carpet, cleaner, really, helped, poor, tan, colored, carpet, dog, two, cats, toddler, husband, personally, beverage, spiller, pros, high,...   \n",
       "4        [disappointed, worked, maybe, 1/2, hr, appeared, motor, got, hot, shut, 10, secs, later, would, start, would, work, 10, 15, secs, quit, ......., sending, back, hoover, week, ......, disappointed, cause, reviews, good, ....., maybe, got, lemon]   \n",
       "\n",
       "                                                                                                                                                                                                                                                spacy_lemmas  \\\n",
       "0  [go, dirty, water, shame, twice, absolutely, see, result, go, dirty, water, shame, gross, clean, leave, place, second, instance, move, plug, new, outlet, leak, little, water, suck, upward, big, deal, suck, right, happen, end, cleaning, remove, ta...   \n",
       "1  [make, carpet, look, brand, new, shampooer, easy, handle, thing, attach, carpet, dirty, 2, small, dog, hour, day, 1st, day, get, shampoo, shampoo, entire, house, huge, difference, week, later, downstair, dirt, carpet, shampoo, carpet, look, brian...   \n",
       "2  [got, pay, get, estimate, cost, professional, clean, sofa, love, seat, decide, purchase, cleaner, choose, hoover, base, amazon, review, read, price, reputation, maker, arrive, time, packaging, great, thank, amazon, cleaner, brand, new, condition,...   \n",
       "3  [read, tip, use, overall, great, product, purchase, hoover, carpet, cleaner, great, review, like, carpet, cleaner, help, poor, tan, color, carpet, dog, cat, toddler, husband, personally, beverage, spiller, pro, high, suction, heavy, clean, con, c...   \n",
       "4                                                            [disappointed, worked, maybe, 1/2, hr, appear, motor, get, hot, shut, 10, sec, later, start, work, 10, 15, sec, quit, send, hoover, week, disappointed, cause, review, good, maybe, get, lemon]   \n",
       "\n",
       "                                                                                                                                                                                                                                                     bigrams  \n",
       "0  [(go, dirty), (dirty, water), (water, shame), (shame, twice), (twice, absolutely), (absolutely, see), (see, result), (result, go), (go, dirty), (dirty, water), (water, shame), (shame, gross), (gross, clean), (clean, leave), (leave, place), (place...  \n",
       "1  [(make, carpet), (carpet, look), (look, brand), (brand, new), (new, shampooer), (shampooer, easy), (easy, handle), (handle, thing), (thing, attach), (attach, carpet), (carpet, dirty), (dirty, 2), (2, small), (small, dog), (dog, hour), (hour, day)...  \n",
       "2  [(got, pay), (pay, get), (get, estimate), (estimate, cost), (cost, professional), (professional, clean), (clean, sofa), (sofa, love), (love, seat), (seat, decide), (decide, purchase), (purchase, cleaner), (cleaner, choose), (choose, hoover), (hoo...  \n",
       "3  [(read, tip), (tip, use), (use, overall), (overall, great), (great, product), (product, purchase), (purchase, hoover), (hoover, carpet), (carpet, cleaner), (cleaner, great), (great, review), (review, like), (like, carpet), (carpet, cleaner), (cle...  \n",
       "4  [(disappointed, worked), (worked, maybe), (maybe, 1/2), (1/2, hr), (hr, appear), (appear, motor), (motor, get), (get, hot), (hot, shut), (shut, 10), (10, sec), (sec, later), (later, start), (start, work), (work, 10), (10, 15), (15, sec), (sec, qu...  "
      ]
     },
     "execution_count": 6,
     "metadata": {},
     "output_type": "execute_result"
    }
   ],
   "source": [
    "import joblib\n",
    "df = joblib.load('../Data-AmazonReviews/processed_data.joblib')\n",
    "df.info()\n",
    "df.head()"
   ]
  },
  {
   "cell_type": "code",
   "execution_count": 7,
   "id": "88999b3f-1b93-49ee-950b-9f0bdb426be0",
   "metadata": {
    "execution": {
     "iopub.execute_input": "2024-01-08T01:38:40.380357Z",
     "iopub.status.busy": "2024-01-08T01:38:40.380215Z",
     "iopub.status.idle": "2024-01-08T01:38:40.409162Z",
     "shell.execute_reply": "2024-01-08T01:38:40.408478Z",
     "shell.execute_reply.started": "2024-01-08T01:38:40.380345Z"
    }
   },
   "outputs": [],
   "source": [
    "def create_groups(x):\n",
    "    if x>=5.0:\n",
    "        return \"high\"\n",
    "    elif x <=2.0:\n",
    "        return \"low\"\n",
    "    else: \n",
    "        return None"
   ]
  },
  {
   "cell_type": "markdown",
   "id": "292f5e92-f195-4ded-ac66-934ecb6644a2",
   "metadata": {},
   "source": [
    "To understand what customers do and do not like about Hoover products, we will define 2 groups:\n",
    "- High Ratings\n",
    "    - Overall rating = 5.0\n",
    "- Low Ratings\n",
    "    - Overall rating = 1.0 or 2.0\n",
    "\n",
    "\n",
    "We can use a function and .map to define group names based on the numeric overall ratings."
   ]
  },
  {
   "cell_type": "code",
   "execution_count": 8,
   "id": "9cda1d0b-e442-4f09-b334-c3397ab11834",
   "metadata": {
    "execution": {
     "iopub.execute_input": "2024-01-08T01:38:40.409677Z",
     "iopub.status.busy": "2024-01-08T01:38:40.409586Z",
     "iopub.status.idle": "2024-01-08T01:38:40.439841Z",
     "shell.execute_reply": "2024-01-08T01:38:40.439389Z",
     "shell.execute_reply.started": "2024-01-08T01:38:40.409667Z"
    }
   },
   "outputs": [
    {
     "data": {
      "text/plain": [
       "high    5547\n",
       "None    1832\n",
       "low      812\n",
       "Name: rating, dtype: int64"
      ]
     },
     "execution_count": 8,
     "metadata": {},
     "output_type": "execute_result"
    }
   ],
   "source": [
    "## Use the function to create a new \"rating\" column with groups\n",
    "df['rating'] = df['overall'].map(create_groups)\n",
    "df['rating'].value_counts(dropna=False)"
   ]
  },
  {
   "cell_type": "code",
   "execution_count": 9,
   "id": "5caeeaad-6db4-4dbf-a9e2-fcd3dfd30334",
   "metadata": {
    "execution": {
     "iopub.execute_input": "2024-01-08T01:38:40.440632Z",
     "iopub.status.busy": "2024-01-08T01:38:40.440341Z",
     "iopub.status.idle": "2024-01-08T01:38:40.468998Z",
     "shell.execute_reply": "2024-01-08T01:38:40.468642Z",
     "shell.execute_reply.started": "2024-01-08T01:38:40.440622Z"
    }
   },
   "outputs": [
    {
     "data": {
      "text/plain": [
       "high    0.872307\n",
       "low     0.127693\n",
       "Name: rating, dtype: float64"
      ]
     },
     "execution_count": 9,
     "metadata": {},
     "output_type": "execute_result"
    }
   ],
   "source": [
    "## Check class balance of 'rating'\n",
    "df['rating'].value_counts(normalize=True)"
   ]
  },
  {
   "cell_type": "code",
   "execution_count": 10,
   "id": "34a9010c-9582-42e3-b958-507c65ad08fd",
   "metadata": {
    "execution": {
     "iopub.execute_input": "2024-01-08T01:38:40.469664Z",
     "iopub.status.busy": "2024-01-08T01:38:40.469510Z",
     "iopub.status.idle": "2024-01-08T01:38:40.509804Z",
     "shell.execute_reply": "2024-01-08T01:38:40.509394Z",
     "shell.execute_reply.started": "2024-01-08T01:38:40.469653Z"
    }
   },
   "outputs": [
    {
     "data": {
      "text/plain": [
       "overall              0\n",
       "text-raw             0\n",
       "length               0\n",
       "text                 0\n",
       "lower_text           0\n",
       "tokens               0\n",
       "no_stops             0\n",
       "no_stops_no_punct    0\n",
       "spacy_lemmas         0\n",
       "bigrams              0\n",
       "rating               0\n",
       "dtype: int64"
      ]
     },
     "execution_count": 10,
     "metadata": {},
     "output_type": "execute_result"
    }
   ],
   "source": [
    "# Create a df_ml without null ratings\n",
    "df_ml = df.dropna(subset=['rating']).copy()\n",
    "df_ml.isna().sum()"
   ]
  },
  {
   "cell_type": "code",
   "execution_count": 11,
   "id": "2cd85e99-a07d-4475-9d20-134e1695c248",
   "metadata": {
    "execution": {
     "iopub.execute_input": "2024-01-08T01:38:40.510528Z",
     "iopub.status.busy": "2024-01-08T01:38:40.510435Z",
     "iopub.status.idle": "2024-01-08T01:38:40.541677Z",
     "shell.execute_reply": "2024-01-08T01:38:40.541227Z",
     "shell.execute_reply.started": "2024-01-08T01:38:40.510519Z"
    }
   },
   "outputs": [
    {
     "data": {
      "text/plain": [
       "1     Makes carpet look brand new!!!: When you get the shampooer you have to put it together but is very easy...the handle is the only thing that you have to attach...\\n\\n My carpets were very dirty because I have 2 small dogs that go in and hour all d...\n",
       "4     VERY DISAPPOINTED: WORKED for maybe 1/2 hr and then it appeared the motor got hot and shut off and 10 secs later would start again and would work for 10 or 15 secs and quit again.......sending it back to HOOVER this week......I was VERY DISAPPOIN...\n",
       "5                                                                 Perfect!: I love this cleaner!  It's easy to operate, light enough to manipulate and easy to clean. The tank holds plenty of shampoo and water solution and the suction for removal is great.\n",
       "6     Wow - way exceeded expectations: I had the older model from probably 2001 and it was great for the occasional pet stain or the muddy paw prints on white carpet situation, but it was not for routine cleaning.  It finally konked out so bought this ...\n",
       "7     Nice Carpet Machine!: This machine works really well, both putting out the solution and then sucking it back up.  The pieces to it are durable and fit well together.  It is not clumsy.  I shampooed my living room and family room carpet in about 2...\n",
       "8     Great Product: This steamvac is easy to use, does an excellent job.  Changing water is a breeze.  The scrub brushes really \"rough up\" the carpet to get it clean.  Seems to have done a better job than anything else I have used, since the carpet is...\n",
       "9     Not good for major clean ups: We've had to use this three times now - once was for generally sanitizing a reasonably clean carpet following a kiddie get-together. The second time was for a peeing incident and it worked less well. We could detect ...\n",
       "11    Great Value: We had not washed our carpets in years and this cleaner did a great job.  The liquid containers could be a bit bigger however for this price we have no complaints.  It cleaned up every spot and high traffic area.  I was impressed tha...\n",
       "12                                                                                                      Cleans good: Does a good job cleaning. I have had a few hoover cleaners over the years, this one is a little more simple but does what I need it to do.\n",
       "14    Easy to set up and use - and a reasonable price!: We needed to replace our very old canister green machine, which worked well but was a hassle to set up for use.  We considered the green machine upright but it was twice the price of this one, whi...\n",
       "Name: text, dtype: object"
      ]
     },
     "execution_count": 11,
     "metadata": {},
     "output_type": "execute_result"
    }
   ],
   "source": [
    "## X - Option A)  lemmas\n",
    "# def join_tokens(token_list):\n",
    "#     joined_tokens = ' '.join(token_list)\n",
    "#     return joined_tokens\n",
    "# X = df_ml['spacy_lemmas'].apply(join_tokens)\n",
    "\n",
    "# X - Option B) original raw text\n",
    "X = df_ml['text']\n",
    "\n",
    "# y - use our binary target \n",
    "y = df_ml['rating']\n",
    "X.head(10)"
   ]
  },
  {
   "cell_type": "code",
   "execution_count": 12,
   "id": "ea038ef0-08da-4dc5-b7b3-41f4652ca28d",
   "metadata": {
    "execution": {
     "iopub.execute_input": "2024-01-08T01:38:40.542552Z",
     "iopub.status.busy": "2024-01-08T01:38:40.542381Z",
     "iopub.status.idle": "2024-01-08T01:38:40.571625Z",
     "shell.execute_reply": "2024-01-08T01:38:40.570903Z",
     "shell.execute_reply.started": "2024-01-08T01:38:40.542540Z"
    }
   },
   "outputs": [
    {
     "data": {
      "text/plain": [
       "high    0.872307\n",
       "low     0.127693\n",
       "Name: rating, dtype: float64"
      ]
     },
     "execution_count": 12,
     "metadata": {},
     "output_type": "execute_result"
    }
   ],
   "source": [
    "y.value_counts(normalize=True)"
   ]
  },
  {
   "cell_type": "code",
   "execution_count": null,
   "id": "bde1fe33-1460-4d18-8ffe-8eb4ca9c6cee",
   "metadata": {},
   "outputs": [],
   "source": []
  },
  {
   "cell_type": "markdown",
   "id": "06184dc5-7b95-415d-ad4a-01b24f877d2a",
   "metadata": {},
   "source": [
    "# New For Today:"
   ]
  },
  {
   "cell_type": "markdown",
   "id": "f3dd218e-3911-49e7-9776-c07dc9087ae2",
   "metadata": {},
   "source": [
    "- Starting with a simple train-test-split for ML model (like in movie nlp project)\n",
    "- Resampling Imbalanced training data\n",
    "- Creating tensorflow dataset from X_train, y_train (so dataset is rebalanced)\n",
    "- Creating tensorflow dataset (intended to be split in 2 ) for X_test and y_test"
   ]
  },
  {
   "cell_type": "markdown",
   "id": "2486c413-1286-46df-b939-b6cc423e9b4e",
   "metadata": {},
   "source": [
    "## From Train-Test Split for ML to Train-Test-Val Split for ANNs"
   ]
  },
  {
   "cell_type": "code",
   "execution_count": 13,
   "id": "5f9c6b64-a923-4bcd-a899-8d1c43181cd1",
   "metadata": {
    "execution": {
     "iopub.execute_input": "2024-01-08T01:38:40.572436Z",
     "iopub.status.busy": "2024-01-08T01:38:40.572285Z",
     "iopub.status.idle": "2024-01-08T01:38:40.601498Z",
     "shell.execute_reply": "2024-01-08T01:38:40.601036Z",
     "shell.execute_reply.started": "2024-01-08T01:38:40.572425Z"
    }
   },
   "outputs": [
    {
     "data": {
      "text/plain": [
       "(4451, 1908)"
      ]
     },
     "execution_count": 13,
     "metadata": {},
     "output_type": "execute_result"
    }
   ],
   "source": [
    "# Perform 70:30 train test split\n",
    "X_train_full, X_test, y_train_full, y_test = train_test_split(X, y, test_size=.3, random_state=42)\n",
    "len(X_train_full), len(X_test)"
   ]
  },
  {
   "cell_type": "markdown",
   "id": "8c5dc81c-53c6-486c-9beb-1ba5a86f6909",
   "metadata": {},
   "source": [
    "## Using Sklearn's LabelEncoder"
   ]
  },
  {
   "cell_type": "markdown",
   "id": "d04f3486-8db8-4486-b931-bdc11d14a662",
   "metadata": {},
   "source": [
    "- Can't use text labels with neural networks."
   ]
  },
  {
   "cell_type": "code",
   "execution_count": 14,
   "id": "f098d599-e5a0-4d07-b8aa-a61ae8659921",
   "metadata": {
    "execution": {
     "iopub.execute_input": "2024-01-08T01:38:40.602170Z",
     "iopub.status.busy": "2024-01-08T01:38:40.602054Z",
     "iopub.status.idle": "2024-01-08T01:38:40.630226Z",
     "shell.execute_reply": "2024-01-08T01:38:40.629722Z",
     "shell.execute_reply.started": "2024-01-08T01:38:40.602160Z"
    }
   },
   "outputs": [
    {
     "data": {
      "text/plain": [
       "3889    high\n",
       "3254    high\n",
       "2996    high\n",
       "3790    high\n",
       "3764    high\n",
       "7301    high\n",
       "2449    high\n",
       "430     high\n",
       "2296    high\n",
       "2321     low\n",
       "Name: rating, dtype: object"
      ]
     },
     "execution_count": 14,
     "metadata": {},
     "output_type": "execute_result"
    }
   ],
   "source": [
    "y_train_full[:10]"
   ]
  },
  {
   "cell_type": "code",
   "execution_count": 15,
   "id": "e4195576-f430-446b-853a-da86d2bf0322",
   "metadata": {
    "execution": {
     "iopub.execute_input": "2024-01-08T01:38:40.630972Z",
     "iopub.status.busy": "2024-01-08T01:38:40.630740Z",
     "iopub.status.idle": "2024-01-08T01:38:40.662215Z",
     "shell.execute_reply": "2024-01-08T01:38:40.661787Z",
     "shell.execute_reply.started": "2024-01-08T01:38:40.630958Z"
    }
   },
   "outputs": [
    {
     "data": {
      "text/plain": [
       "array([0, 0, 0, 0, 0, 0, 0, 0, 0, 1])"
      ]
     },
     "execution_count": 15,
     "metadata": {},
     "output_type": "execute_result"
    }
   ],
   "source": [
    "# Instansiate label encoder\n",
    "encoder = LabelEncoder()\n",
    "\n",
    "# Fit and transform the training target\n",
    "y_train_full_enc = encoder.fit_transform(y_train_full)#.values)\n",
    "\n",
    "# Fit and tranform the test target\n",
    "y_test_enc = encoder.transform(y_test)\n",
    "\n",
    "y_train_full_enc[:10]"
   ]
  },
  {
   "cell_type": "code",
   "execution_count": 16,
   "id": "a2b8926d-f87c-40dd-b883-6ab44f054b16",
   "metadata": {
    "execution": {
     "iopub.execute_input": "2024-01-08T01:38:40.662995Z",
     "iopub.status.busy": "2024-01-08T01:38:40.662875Z",
     "iopub.status.idle": "2024-01-08T01:38:40.690487Z",
     "shell.execute_reply": "2024-01-08T01:38:40.690117Z",
     "shell.execute_reply.started": "2024-01-08T01:38:40.662985Z"
    }
   },
   "outputs": [
    {
     "data": {
      "text/plain": [
       "array(['high', 'low'], dtype=object)"
      ]
     },
     "execution_count": 16,
     "metadata": {},
     "output_type": "execute_result"
    }
   ],
   "source": [
    "# Original Class names saved as .classes_\n",
    "classes = encoder.classes_\n",
    "classes"
   ]
  },
  {
   "cell_type": "code",
   "execution_count": 17,
   "id": "a552b075-6d94-4ad7-8c05-025d60ac00c4",
   "metadata": {
    "execution": {
     "iopub.execute_input": "2024-01-08T01:38:40.691442Z",
     "iopub.status.busy": "2024-01-08T01:38:40.691137Z",
     "iopub.status.idle": "2024-01-08T01:38:40.719138Z",
     "shell.execute_reply": "2024-01-08T01:38:40.718770Z",
     "shell.execute_reply.started": "2024-01-08T01:38:40.691425Z"
    }
   },
   "outputs": [
    {
     "data": {
      "text/plain": [
       "array(['high', 'low'], dtype=object)"
      ]
     },
     "execution_count": 17,
     "metadata": {},
     "output_type": "execute_result"
    }
   ],
   "source": [
    "# Can inverse-transform \n",
    "encoder.inverse_transform([0,1])"
   ]
  },
  {
   "cell_type": "markdown",
   "id": "ce7cb1dc-d13d-4dcb-80ca-b8301f0f3581",
   "metadata": {},
   "source": [
    "### Undersampling Majority Class"
   ]
  },
  {
   "cell_type": "code",
   "execution_count": 18,
   "id": "25d98790-5804-4162-9e78-4b0b3ff8faa5",
   "metadata": {
    "execution": {
     "iopub.execute_input": "2024-01-08T01:38:40.719895Z",
     "iopub.status.busy": "2024-01-08T01:38:40.719762Z",
     "iopub.status.idle": "2024-01-08T01:38:40.749511Z",
     "shell.execute_reply": "2024-01-08T01:38:40.748457Z",
     "shell.execute_reply.started": "2024-01-08T01:38:40.719885Z"
    }
   },
   "outputs": [],
   "source": [
    "from imblearn.under_sampling import RandomUnderSampler\n",
    "\n",
    "# Instantiate a RandomUnderSampler\n",
    "sampler = RandomUnderSampler(random_state=42)"
   ]
  },
  {
   "cell_type": "code",
   "execution_count": 19,
   "id": "14d977d4-e6a1-4bf1-8b84-b50c216f0fbd",
   "metadata": {
    "execution": {
     "iopub.execute_input": "2024-01-08T01:38:40.750532Z",
     "iopub.status.busy": "2024-01-08T01:38:40.750312Z",
     "iopub.status.idle": "2024-01-08T01:38:40.786194Z",
     "shell.execute_reply": "2024-01-08T01:38:40.785616Z",
     "shell.execute_reply.started": "2024-01-08T01:38:40.750518Z"
    }
   },
   "outputs": [
    {
     "data": {
      "text/plain": [
       "ValueError('Expected 2D array, got 1D array instead:\\narray=[\\'Really like it!: Love this!  No more pulling out the vacuum cleaner from the garage and plugging it in 3 different places to get the whole room.  Suction is great, very compact and nice handling.  We will see if it holds up.  I did buy the extended warranty for 6 bucks due to some of the reviews.  But if I had to spend 100 on a new one every year I would.\\'\\n \\'which is awesome.: My last carpet cleaner broke so I bought this one after reading the reviews. It cleans very well! My carpet dries in about 30 minutes, which is awesome.\\'\\n \\'seriously powerful: This is our second of these vacuums- we liked the first so much that we decided to get a second one for the second floor of our house.  This is the only \"stick vac\" we have found that can compete with our Dyson. We have four cats, three birds, and a ten year old daughter with very long hair, plus a garden we track leaves and dirt in from, so we\\\\\\'re constantly (and I do mean constantly- at least twice a day) thoroughly vacuuming- I mean, going over the whole house. We usually do our big daily vacuuming of the whole house with the Dyson, but it\\\\\\'s a beast, and it\\\\\\'s not ideal for quick clean ups or, or lugging up the stairs, or doing what we call, \"zip ups\" throughout the day. This is the FIRST stick vac we have had that actually gets up all the hair plus any bird seed and dried leaves, and can make it through our whole house on a charge and continue to work powerfully. It\\\\\\'s also fairly lightweight (but not feather weight).\\\\n\\\\nIt would be nice if there was on board charging- that\\\\\\'s the ONLY major flaw with this vacuum- you have to take the battery out and put it in the charger to get a charge. And you\\\\\\'re not supposed to keep it in the charger, so you have to babysit the battery all the time. It\\\\\\'s be nice to have on-board charging, but alas...\\\\n\\\\nregardless, it\\\\\\'s the best lightweight vacuum we have found and we like it so much we now own two, and they regularly compete with the Dyson. I can\\\\\\'t recommend it enough.\\'\\n ...\\n \"No clean vacuum cleaner: Hard to get it to pick up the dog hair & sand. Dog hair clogs the opening which in turn won\\'t let it pick up the sand. I have to run across a rug to get the dog hair off so I can get what little sand it will pick up. Even with low cost, not worth the money.\"\\n \"Works great!: Works great.  So far I\\'ve used it 3 different times.  I\\'ve cleaned my carpets on 2 different days and furniture another day.  I noticed the most difference on the furniture (mostly because our carpets are dark brown shag and you can\\'t tell when they\\'re dirty) .  The spinning upholstery brush works great!  I did make the mistake of scrubbing cat throw up off the couch with the spin brush and I guess a granule got caught in the spin gears and it stopped spinning.  My husband was able to take it apart and get the grain out and it worked fine again.  So it\\'s important to vacuum any particles up before using the spin brush, but the other upholstery attachment had no issue sucking gobs of cat hair off the furniture.\\\\nI had no issues assembling the machine or with anything leaking.  Already went through the bottle of cleaning solution that came with it, but it was a small bottle.  I probably got 7-10 fills out of that bottle.  The instructions say to place the machine on a hard surface and let it suck up clean water to clean out the front suction part.  Man, does it suck up water well!  You can\\'t tell on carpets other than seeing the water being sucked through the machine.  But on hard floors, the floors are practically dry!  Will be great to have if our basement leaks again.\\\\nI figured for the cost of renting a machine twice, I could just own my own.  After reading reviews on several different machines, I\\'m happy I got this one.\"\\n \\'Researched and Researched and Researched: Researched and researched and researched and this was the result.\\\\n\\\\nSatisfied am I with the slim size, significant suck, and decent battery performance.\\'].\\nReshape your data either using array.reshape(-1, 1) if your data has a single feature or array.reshape(1, -1) if it contains a single sample.')"
      ]
     },
     "metadata": {},
     "output_type": "display_data"
    }
   ],
   "source": [
    "try:\n",
    "    X_train, y_train = sampler.fit_resample(X_train_full,y_train_full_enc)\n",
    "except Exception as e:\n",
    "    display(e)"
   ]
  },
  {
   "cell_type": "code",
   "execution_count": 20,
   "id": "6e69b21c-e59a-44f2-9619-ec706e571518",
   "metadata": {
    "execution": {
     "iopub.execute_input": "2024-01-08T01:38:40.786999Z",
     "iopub.status.busy": "2024-01-08T01:38:40.786843Z",
     "iopub.status.idle": "2024-01-08T01:38:40.817676Z",
     "shell.execute_reply": "2024-01-08T01:38:40.817296Z",
     "shell.execute_reply.started": "2024-01-08T01:38:40.786988Z"
    }
   },
   "outputs": [
    {
     "data": {
      "text/plain": [
       "(1118, 1)"
      ]
     },
     "execution_count": 20,
     "metadata": {},
     "output_type": "execute_result"
    }
   ],
   "source": [
    "# Fit_resample on the reshaped X_train data and y-train data\n",
    "X_train, y_train_enc = sampler.fit_resample(X_train_full.values.reshape(-1,1),\n",
    "                                        y_train_full_enc)\n",
    "X_train.shape"
   ]
  },
  {
   "cell_type": "code",
   "execution_count": 21,
   "id": "13b6157b-9f31-48fb-80d0-db4c35f5fbbc",
   "metadata": {
    "execution": {
     "iopub.execute_input": "2024-01-08T01:38:40.818441Z",
     "iopub.status.busy": "2024-01-08T01:38:40.818271Z",
     "iopub.status.idle": "2024-01-08T01:38:40.846933Z",
     "shell.execute_reply": "2024-01-08T01:38:40.846597Z",
     "shell.execute_reply.started": "2024-01-08T01:38:40.818428Z"
    }
   },
   "outputs": [
    {
     "data": {
      "text/plain": [
       "(1118,)"
      ]
     },
     "execution_count": 21,
     "metadata": {},
     "output_type": "execute_result"
    }
   ],
   "source": [
    "# Flatten the reshaped X_train data back to 1D\n",
    "X_train = X_train.flatten()\n",
    "X_train.shape"
   ]
  },
  {
   "cell_type": "markdown",
   "id": "9880fe72-4a80-4135-ba02-1c2a5f873a21",
   "metadata": {},
   "source": [
    "## Previous ML Model"
   ]
  },
  {
   "cell_type": "code",
   "execution_count": 22,
   "id": "d319c2f9-60a7-4f4e-b2e2-acf0a1fe0f69",
   "metadata": {
    "execution": {
     "iopub.execute_input": "2024-01-08T01:38:40.852483Z",
     "iopub.status.busy": "2024-01-08T01:38:40.852294Z",
     "iopub.status.idle": "2024-01-08T01:38:40.886642Z",
     "shell.execute_reply": "2024-01-08T01:38:40.886224Z",
     "shell.execute_reply.started": "2024-01-08T01:38:40.852463Z"
    }
   },
   "outputs": [],
   "source": [
    "from sklearn.feature_extraction.text import CountVectorizer, TfidfVectorizer\n",
    "from sklearn.pipeline import Pipeline\n",
    "from sklearn.naive_bayes import MultinomialNB"
   ]
  },
  {
   "cell_type": "code",
   "execution_count": 23,
   "id": "9b488903-2846-4bfc-a046-41ebb7ccebfa",
   "metadata": {
    "execution": {
     "iopub.execute_input": "2024-01-08T01:38:40.887744Z",
     "iopub.status.busy": "2024-01-08T01:38:40.887515Z",
     "iopub.status.idle": "2024-01-08T01:38:41.200122Z",
     "shell.execute_reply": "2024-01-08T01:38:41.199678Z",
     "shell.execute_reply.started": "2024-01-08T01:38:40.887731Z"
    }
   },
   "outputs": [
    {
     "name": "stdout",
     "output_type": "stream",
     "text": [
      "----------------------------------------------------------------------\n",
      " Classification Metrics: Training Data\n",
      "----------------------------------------------------------------------\n",
      "              precision    recall  f1-score   support\n",
      "\n",
      "           0       0.95      0.99      0.97       559\n",
      "           1       0.99      0.95      0.97       559\n",
      "\n",
      "    accuracy                           0.97      1118\n",
      "   macro avg       0.97      0.97      0.97      1118\n",
      "weighted avg       0.97      0.97      0.97      1118\n",
      "\n"
     ]
    },
    {
     "data": {
      "image/png": "[encoded data removed]",
      "text/plain": [
       "<Figure size 600x400 with 2 Axes>"
      ]
     },
     "metadata": {},
     "output_type": "display_data"
    },
    {
     "name": "stdout",
     "output_type": "stream",
     "text": [
      "\n",
      "----------------------------------------------------------------------\n",
      " Classification Metrics: Test Data\n",
      "----------------------------------------------------------------------\n",
      "              precision    recall  f1-score   support\n",
      "\n",
      "           0       0.98      0.94      0.96      1655\n",
      "           1       0.68      0.91      0.78       253\n",
      "\n",
      "    accuracy                           0.93      1908\n",
      "   macro avg       0.83      0.92      0.87      1908\n",
      "weighted avg       0.94      0.93      0.94      1908\n",
      "\n"
     ]
    },
    {
     "data": {
      "image/png": "[encoded data removed]",
      "text/plain": [
       "<Figure size 600x400 with 2 Axes>"
      ]
     },
     "metadata": {},
     "output_type": "display_data"
    }
   ],
   "source": [
    "## Create a model pipeline \n",
    "count_pipe = Pipeline([('vectorizer',  CountVectorizer()), \n",
    "                       ('naivebayes',  MultinomialNB())])\n",
    "\n",
    "count_pipe.fit(X_train, y_train_enc)\n",
    "fn.evaluate_classification(count_pipe, X_train, y_train_enc, X_test, y_test_enc,)"
   ]
  },
  {
   "cell_type": "code",
   "execution_count": null,
   "id": "5bf02bd9-eea7-4f5c-aa3b-4c98da641129",
   "metadata": {},
   "outputs": [],
   "source": []
  },
  {
   "cell_type": "markdown",
   "id": "23e80644-9fda-416e-80b6-789bb7a5903d",
   "metadata": {},
   "source": [
    "# Preparing For Deep NLp (Train-Test-Val Datasets)"
   ]
  },
  {
   "cell_type": "code",
   "execution_count": 24,
   "id": "3898e60d-cb19-408e-91d4-e677f033a47d",
   "metadata": {
    "execution": {
     "iopub.execute_input": "2024-01-08T01:38:41.200796Z",
     "iopub.status.busy": "2024-01-08T01:38:41.200696Z",
     "iopub.status.idle": "2024-01-08T01:38:41.231088Z",
     "shell.execute_reply": "2024-01-08T01:38:41.230554Z",
     "shell.execute_reply.started": "2024-01-08T01:38:41.200787Z"
    }
   },
   "outputs": [
    {
     "data": {
      "text/plain": [
       "0    559\n",
       "1    559\n",
       "dtype: int64"
      ]
     },
     "execution_count": 24,
     "metadata": {},
     "output_type": "execute_result"
    }
   ],
   "source": [
    "# Check for class balance\n",
    "pd.Series(y_train_enc).value_counts()"
   ]
  },
  {
   "cell_type": "markdown",
   "id": "47ef132d-e442-485e-a634-acf94bf541ea",
   "metadata": {},
   "source": [
    "## Prepare Tensorflow Datasets"
   ]
  },
  {
   "cell_type": "markdown",
   "id": "56f330c7-0f11-4181-8d04-e80aad6ef623",
   "metadata": {},
   "source": [
    "Since we already have train/test X and y vars, we will make 2 dataset objects using tf.data.Dataset.from_tensor_slices.\n",
    "\n",
    "1. The training dataset using X_train, y_train (that we resampled/balanced)\n",
    "2. The val/test dataset using X_test, y-test.\n",
    "\n",
    "We will then split the val/test dataset into a val/test split."
   ]
  },
  {
   "cell_type": "markdown",
   "id": "93c939b4-e0e5-4868-b48c-916b54de793d",
   "metadata": {},
   "source": [
    "### T/T/V Split - Order of Operations (if using 1 dataset object)\n",
    "\n",
    "1) **Create full dataset object & Shuffle Once.**\n",
    "2) Calculate number of samples for training and validation data.\n",
    "3) Create the train/test/val splits using .take() and .skip()\n",
    "4) **Add shuffle to the train dataset only.**\n",
    "5) (Optional/Not Used on LP) If applying a transformation (e.g. train_ds.map(...)) to the data, add  here, before .cache()\n",
    "7) (Optional) Add .cache() to all splits to increase speed  (but may cause problems with large datasets)\n",
    "8) **Add .batch to all splits (default batch size=32)**\n",
    "9) (Optional) Add .prefetch(tf.data.AUTOTUNE)\n",
    "10) (Optional) Print out final length of datasets"
   ]
  },
  {
   "cell_type": "code",
   "execution_count": 25,
   "id": "e0658b2a-2c35-4f27-a06e-a54416aa9821",
   "metadata": {
    "execution": {
     "iopub.execute_input": "2024-01-08T01:38:41.231826Z",
     "iopub.status.busy": "2024-01-08T01:38:41.231731Z",
     "iopub.status.idle": "2024-01-08T01:38:41.272442Z",
     "shell.execute_reply": "2024-01-08T01:38:41.272088Z",
     "shell.execute_reply.started": "2024-01-08T01:38:41.231816Z"
    }
   },
   "outputs": [],
   "source": [
    "# Convert to Dataset Object\n",
    "train_ds = tf.data.Dataset.from_tensor_slices((X_train, y_train_enc))\n",
    "# Shuffle dataset once\n",
    "train_ds = train_ds.shuffle(buffer_size=len(train_ds),\n",
    "                            reshuffle_each_iteration=False)"
   ]
  },
  {
   "cell_type": "markdown",
   "id": "fedeaafa-fa13-4309-a8a8-42913843b8c3",
   "metadata": {},
   "source": [
    "Create a test and validation dataset using X_test,y_test"
   ]
  },
  {
   "cell_type": "code",
   "execution_count": 26,
   "id": "3e890160-24b8-4bcf-a3af-5d88bd0237a9",
   "metadata": {
    "execution": {
     "iopub.execute_input": "2024-01-08T01:38:41.272980Z",
     "iopub.status.busy": "2024-01-08T01:38:41.272877Z",
     "iopub.status.idle": "2024-01-08T01:38:41.304374Z",
     "shell.execute_reply": "2024-01-08T01:38:41.303872Z",
     "shell.execute_reply.started": "2024-01-08T01:38:41.272970Z"
    }
   },
   "outputs": [
    {
     "data": {
      "text/plain": [
       "<_TensorSliceDataset element_spec=(TensorSpec(shape=(), dtype=tf.string, name=None), TensorSpec(shape=(), dtype=tf.int64, name=None))>"
      ]
     },
     "execution_count": 26,
     "metadata": {},
     "output_type": "execute_result"
    }
   ],
   "source": [
    "# Convert test to dataset object and split\n",
    "val_test_split_ds = tf.data.Dataset.from_tensor_slices((X_test, y_test_enc))\n",
    "val_test_split_ds"
   ]
  },
  {
   "cell_type": "code",
   "execution_count": 27,
   "id": "d69060a8-96f1-4398-9242-af1b3701b761",
   "metadata": {
    "execution": {
     "iopub.execute_input": "2024-01-08T01:38:41.305112Z",
     "iopub.status.busy": "2024-01-08T01:38:41.305018Z",
     "iopub.status.idle": "2024-01-08T01:38:41.334007Z",
     "shell.execute_reply": "2024-01-08T01:38:41.333572Z",
     "shell.execute_reply.started": "2024-01-08T01:38:41.305103Z"
    }
   },
   "outputs": [
    {
     "data": {
      "text/plain": [
       "954"
      ]
     },
     "execution_count": 27,
     "metadata": {},
     "output_type": "execute_result"
    }
   ],
   "source": [
    "# Calculate # of samples for 50/50 val/test split\n",
    "n_val_samples =  int(len(val_test_split_ds) * .5)\n",
    "n_val_samples"
   ]
  },
  {
   "cell_type": "code",
   "execution_count": 28,
   "id": "e495b3b9-b89e-41c8-b597-d65a383cddbc",
   "metadata": {
    "execution": {
     "iopub.execute_input": "2024-01-08T01:38:41.334650Z",
     "iopub.status.busy": "2024-01-08T01:38:41.334544Z",
     "iopub.status.idle": "2024-01-08T01:38:41.365465Z",
     "shell.execute_reply": "2024-01-08T01:38:41.365083Z",
     "shell.execute_reply.started": "2024-01-08T01:38:41.334641Z"
    }
   },
   "outputs": [],
   "source": [
    "## Perform the val/test split\n",
    "## Create the validation dataset\n",
    "val_ds = val_test_split_ds.take(n_val_samples)\n",
    "\n",
    "## Create the test dataset\n",
    "test_ds = val_test_split_ds.skip(n_val_samples)"
   ]
  },
  {
   "cell_type": "code",
   "execution_count": 29,
   "id": "7ad4a489-7074-49ea-be83-ea6c6f54cc38",
   "metadata": {
    "execution": {
     "iopub.execute_input": "2024-01-08T01:38:41.366089Z",
     "iopub.status.busy": "2024-01-08T01:38:41.365991Z",
     "iopub.status.idle": "2024-01-08T01:38:41.394637Z",
     "shell.execute_reply": "2024-01-08T01:38:41.394187Z",
     "shell.execute_reply.started": "2024-01-08T01:38:41.366079Z"
    }
   },
   "outputs": [
    {
     "data": {
      "text/plain": [
       "(1118, 954, 954)"
      ]
     },
     "execution_count": 29,
     "metadata": {},
     "output_type": "execute_result"
    }
   ],
   "source": [
    "# Comparing the len gths of all 3 splits\n",
    "len(train_ds), len(val_ds), len(test_ds)"
   ]
  },
  {
   "cell_type": "markdown",
   "id": "a6305413-cb77-4238-9be5-f8ea32e7a9ee",
   "metadata": {},
   "source": [
    "### Adding Shuffling and Batching"
   ]
  },
  {
   "cell_type": "markdown",
   "id": "66afce4b-e39e-458b-b022-ac39ed9ca9ef",
   "metadata": {},
   "source": [
    "Let's examine a single element."
   ]
  },
  {
   "cell_type": "code",
   "execution_count": 30,
   "id": "f4678d3f-baba-4962-87cf-00910be748f5",
   "metadata": {
    "execution": {
     "iopub.execute_input": "2024-01-08T01:38:41.395425Z",
     "iopub.status.busy": "2024-01-08T01:38:41.395285Z",
     "iopub.status.idle": "2024-01-08T01:38:41.423510Z",
     "shell.execute_reply": "2024-01-08T01:38:41.423111Z",
     "shell.execute_reply.started": "2024-01-08T01:38:41.395415Z"
    }
   },
   "outputs": [
    {
     "name": "stdout",
     "output_type": "stream",
     "text": [
      "tf.Tensor(b'Easy, Fast and does a Good Job: Easy to use, fast set-up.  It did a great job on the carpet I wanted to rescue.', shape=(), dtype=string) \n",
      "\n",
      " tf.Tensor(0, shape=(), dtype=int64)\n"
     ]
    }
   ],
   "source": [
    "# taking a sample \n",
    "example_X, example_y= train_ds.take(1).get_single_element()\n",
    "print(example_X,'\\n\\n',example_y)"
   ]
  },
  {
   "cell_type": "code",
   "execution_count": 31,
   "id": "95b9ebe2-9d41-4641-8961-88c3dfa7adf2",
   "metadata": {
    "execution": {
     "iopub.execute_input": "2024-01-08T01:38:41.424289Z",
     "iopub.status.busy": "2024-01-08T01:38:41.424167Z",
     "iopub.status.idle": "2024-01-08T01:38:41.451554Z",
     "shell.execute_reply": "2024-01-08T01:38:41.451099Z",
     "shell.execute_reply.started": "2024-01-08T01:38:41.424279Z"
    }
   },
   "outputs": [
    {
     "name": "stdout",
     "output_type": "stream",
     "text": [
      "tf.Tensor(b'Easy, Fast and does a Good Job: Easy to use, fast set-up.  It did a great job on the carpet I wanted to rescue.', shape=(), dtype=string) \n",
      "\n",
      " tf.Tensor(0, shape=(), dtype=int64)\n"
     ]
    }
   ],
   "source": [
    "# taking a sample  (same result)\n",
    "example_X, example_y= train_ds.take(1).get_single_element()\n",
    "print(example_X,'\\n\\n',example_y)"
   ]
  },
  {
   "cell_type": "markdown",
   "id": "1cf8c3ac-d2a0-437d-952b-a778d3d054a3",
   "metadata": {},
   "source": [
    "> Shuffle the training data at the end of each epoch"
   ]
  },
  {
   "cell_type": "code",
   "execution_count": 32,
   "id": "c4969390-4e72-4e52-9fe7-41f83e683729",
   "metadata": {
    "execution": {
     "iopub.execute_input": "2024-01-08T01:38:41.452337Z",
     "iopub.status.busy": "2024-01-08T01:38:41.452238Z",
     "iopub.status.idle": "2024-01-08T01:38:41.480724Z",
     "shell.execute_reply": "2024-01-08T01:38:41.480310Z",
     "shell.execute_reply.started": "2024-01-08T01:38:41.452328Z"
    }
   },
   "outputs": [],
   "source": [
    "# Shuffle only the training data every epoch\n",
    "train_ds = train_ds.shuffle(len(train_ds))"
   ]
  },
  {
   "cell_type": "code",
   "execution_count": 33,
   "id": "d5d8b84c-a4b2-464e-a7ef-21e2891df7ee",
   "metadata": {
    "execution": {
     "iopub.execute_input": "2024-01-08T01:38:41.481313Z",
     "iopub.status.busy": "2024-01-08T01:38:41.481225Z",
     "iopub.status.idle": "2024-01-08T01:38:41.508711Z",
     "shell.execute_reply": "2024-01-08T01:38:41.508345Z",
     "shell.execute_reply.started": "2024-01-08T01:38:41.481305Z"
    }
   },
   "outputs": [
    {
     "name": "stdout",
     "output_type": "stream",
     "text": [
      "tf.Tensor(b\"I want it to have a good hand tool for washing the carpeted staircase: I don't nee much from a carpet washer. I want it to have a good hand tool for washing the carpeted staircase, and a dirty tank that can be cleaned. My old Bissel had a tank that got packed with fibers that were not even theoretically removable. This tank I can disassemble, wash, dry, and assemble back. Thank you.\", shape=(), dtype=string) \n",
      "\n",
      " tf.Tensor(0, shape=(), dtype=int64)\n"
     ]
    }
   ],
   "source": [
    "# taking a sample  (different result)\n",
    "example_X, example_y= train_ds.take(1).get_single_element()\n",
    "print(example_X,'\\n\\n',example_y)"
   ]
  },
  {
   "cell_type": "code",
   "execution_count": 34,
   "id": "4d8caedf-696c-4284-a224-194e64319af4",
   "metadata": {
    "execution": {
     "iopub.execute_input": "2024-01-08T01:38:41.509389Z",
     "iopub.status.busy": "2024-01-08T01:38:41.509293Z",
     "iopub.status.idle": "2024-01-08T01:38:41.536602Z",
     "shell.execute_reply": "2024-01-08T01:38:41.536191Z",
     "shell.execute_reply.started": "2024-01-08T01:38:41.509381Z"
    }
   },
   "outputs": [
    {
     "name": "stdout",
     "output_type": "stream",
     "text": [
      "tf.Tensor(b'Hoover SteamVac f5914-900 beat my old rainbow hands down: This steamvac made our carpets look like new, we were thinking of replacing them but now we do not have too.  Works well above what I ever thought it could.  Love it and I used to hate cleaning the carpet with the old rainbow.', shape=(), dtype=string) \n",
      "\n",
      " tf.Tensor(0, shape=(), dtype=int64)\n"
     ]
    }
   ],
   "source": [
    "# taking a sample  (different result)\n",
    "example_X, example_y= train_ds.take(1).get_single_element()\n",
    "print(example_X,'\\n\\n',example_y)"
   ]
  },
  {
   "cell_type": "markdown",
   "id": "8b99b4bd-6d3c-409e-956b-a7d2e0fd5916",
   "metadata": {},
   "source": [
    "> Add batching (use 32 for batch_size)"
   ]
  },
  {
   "cell_type": "code",
   "execution_count": 35,
   "id": "e48eeddb-5554-4f37-a435-91ea27911e99",
   "metadata": {
    "execution": {
     "iopub.execute_input": "2024-01-08T01:38:41.537326Z",
     "iopub.status.busy": "2024-01-08T01:38:41.537213Z",
     "iopub.status.idle": "2024-01-08T01:38:41.566772Z",
     "shell.execute_reply": "2024-01-08T01:38:41.566258Z",
     "shell.execute_reply.started": "2024-01-08T01:38:41.537315Z"
    }
   },
   "outputs": [
    {
     "name": "stdout",
     "output_type": "stream",
     "text": [
      " There are 35 training batches.\n",
      " There are 30 validation batches.\n",
      " There are 30 testing batches.\n"
     ]
    }
   ],
   "source": [
    "#  Setting the batch_size for all datasets\n",
    "BATCH_SIZE = 32\n",
    "\n",
    "train_ds = train_ds.batch(BATCH_SIZE)\n",
    "val_ds = val_ds.batch(BATCH_SIZE)\n",
    "test_ds = test_ds.batch(BATCH_SIZE)\n",
    "\n",
    "\n",
    "# Confirm the number of batches in each\n",
    "print (f' There are {len(train_ds)} training batches.')\n",
    "print (f' There are {len(val_ds)} validation batches.')\n",
    "print (f' There are {len(test_ds)} testing batches.')"
   ]
  },
  {
   "cell_type": "code",
   "execution_count": 36,
   "id": "a498f8eb-bdaa-45bb-a809-f36014e03f0d",
   "metadata": {
    "execution": {
     "iopub.execute_input": "2024-01-08T01:38:41.567578Z",
     "iopub.status.busy": "2024-01-08T01:38:41.567406Z",
     "iopub.status.idle": "2024-01-08T01:38:41.596805Z",
     "shell.execute_reply": "2024-01-08T01:38:41.596462Z",
     "shell.execute_reply.started": "2024-01-08T01:38:41.567558Z"
    }
   },
   "outputs": [
    {
     "name": "stdout",
     "output_type": "stream",
     "text": [
      "tf.Tensor(\n",
      "[b'Two Stars: cumbersome'\n",
      " b\"Excellent cleaning machine. Keeps my carpets clean for our newborn. Worked great getting rid of tough pet stains too.: I had the Bissell portable unit before this. That one broke, so I gave this a try.\\n\\nIt is light years ahead of the Bissell, but it costs more so you might expect it to be. I only wish I had bought this first. The additional vacuum-driven cleaning brush is a major bonus too. It's so much easier to spot clean now.\\n\\nWe just had a baby and I want to keep all our carpets very clean. Before he was born, I used it to clean up our cat's accidents. It does a great job spot cleaning and cleaning large areas. It works as well if not better than the rental ones ... and you don't have to worry about other people's gunk.\\n\\nThe separate water / detergent chambers make it easy to keep it filled with detergent and not waste any. I just refill the water reservoir with hot water and I'm ready to clean!\"\n",
      " b'So thrilled with the way it cleans.: This is a fabulous carpet cleaner.\\nNot hard to assemble, easy to use and works great.'\n",
      " b'surprisingly good for not much $$: this thing is pretty decent. I have used it a lot and it still works fine for about a year now. Maybe 6 cleanings.'\n",
      " b'Five Stars: Best.'\n",
      " b\"I don't recommend.: I have been dealing with many different issues since purchase. I don't recommend .\"\n",
      " b'Worth It!: Works well and easy to maneuver'\n",
      " b'Waste of money: Received it, used it.  If you want to do ONLY VERY SMALL AREAS, it will work, but I could have accomplished the same with a scrub brush and any spray-on carpet cleaner bought in Safeway.  Instructions are neither simple nor clear.  I COULD NOT RECOMMEND THIS TO ANYONEONE IF MY NAME WAS INCLUDED.  Unfortunately, the shipping box got destroyed, because I had confidence, so returning it would be a waste of my time.'\n",
      " b'only used once so far but easy to assemble: only used once so far but easy to assemble, easy to use and easy to clean. Did a decent job on pet stains and heavy traffic areas.'\n",
      " b'Big Big POS, Stay away: I have purchased a lot of different cleaning machines over the years, even a few hoovers that were much better made than this. How ever this machine is so poorly designed and made of such flimsy material that if it did not break the very first time one used it, I would be totally shocked.\\n\\n The deployment of the dirty water container is such that I can see about 7 different ways where it will leak and be a problem in a very short time.  The hand attachment hose is not, I repeat is not permanently attached to the machine, but rather attached by removing the lid to the dirty water tank, then pulling up and out on the flimsy piece of plastic that connects the tank to the front floor suction section, then fitted in a slot where the front suction connector use to be and held into place with the lid of the tank that has very little other then a cheap brittle piece of plastic tang to hold it in place and will be one of the first things I suspect that will be broken on this machine.  Take my advice and stay far away from this machine.  Spend the money for a Bissell or better  yet rent a rug doctor or hire a carpet cleaner.\\n\\nAlso  because the return of the machine was due to my dissatisfaction rather then a problem with shipping damage and or missing pieces, broken parts or defective machine, I was charged for the cost to ship it back.  So keep that in mind also.'\n",
      " b'Great Carpet Cleaner: Replaced a Bissel canister carpet cleaner that was once upon a time the best in its class.  This product is exceptional.  Easy to use, easy to clean and really sucks up the water to greatly improve the drying time.  Highly recommended.'\n",
      " b\"Hate it: I have had this for a couple years now and am updating my original 4 star review. This unit is very finicky. It often does not suck up all the solution. This leaves the carpet/rug too wet to properly dry, but you won't realize that until it emits a funky smell the next day. It has ruined one rug already. I have another one sitting in the sun right now attempting to properly dry it. I can't imagine if this had happened on a carpet. I do not recommend this product. If you decide to buy it anyway, be very careful to watch and make sure the unit is sucking up all the solution. If it is not, stop using and diagnose the problem. It is also expensive. It also uses what seems to be a lot of solution which can make it rather expensive.\"\n",
      " b\"it started leaking dirty water after 12 years: THIS IS AN UPDATE FROM MY PREVIOUS REVIEW:\\nOriginally I gave this 3 stars.  I have now changed my mind.  I only got 1 year and 5 months out of this machine and never once used it to clean an entire room...only spot cleaning approximately once a week.  Besides the fact it left my carpet real wet after use, the soap would leak into the clean water compartment, and I was constantly having to clean the filter to get the brushes to work (which is a pain to do and something I never had to do with my old Hoover Max).  Eventually the brushes stopped working altogether.  In the past, I have always used Hoover products (carpet cleaners and vacuum cleaners).  I owned two Hoover Max cleaners in a period of 24 years. Their vacuum cleaners the same. They were both used HEAVILY  (I had my own housecleaning business and after school care).  Their quality...THEN... was outstanding.  Then when my Hoover vacuum cleaner went out (and they began making the new ones in Mexico with cheap plastic parts), I noticed the quality wasn't the same and I was replacing them every 1 1/2 years (just cleaning my own home).  I finally stopped using Hoover and went with a Miele (which I have had for 8 years with not one problem and I vacuum heavily several times a week and I have a large home).  The company I purchased the Miele from said they no longer sell Hoover products due to poor quality.  So when my Max was going out after 12 years, I took a chance on this, and unfortunately, the quality is poor.  Hoover no longer makes quality products.  So if you purchase any Hoover product...just have the mindset that you can expect about a years worth of use (if you are lucky), along with continual problems to keep them going.\\n\\nOriginal Review:\\nWell....I have used the Hoover Max and it served me well.  Although it still worked, it started leaking dirty water after 12 years.  I decided to purchase the power scrub mainly due to size and weight.  I have stairs and got tired of carrying the heavier Max up the stairs.  The power scrub is much smaller and therefore will take much longer cleaning the carpet in my home...since I have a fairly large home (would be great in condo or apartment).  I mainly use it to clean up spills and cat barf (she has IBS).  I find the power scrub doesn't clean as well as the Max and that I have to go over the spot several times for the stain to come out...whereas with the Max it came out easier and better.  The power scrub doesn't soak up the water as well either...carpet is very damp and takes much longer to dry (and I live in the low desert of Calif).  The rinse cycle doesn't work either.  It's suppose to rinse clean water with no soap...nope the soap comes right along with the water.  Glad I bought this on todays deals otherwise I would of returned it.\\nPros:  lightweight and good water bucket (easy to dump out water).\"\n",
      " b'Poor parts.: The clean water solution tank is leaking a lot when I filled it with water and soap during the first use. Called the 800 number enclosed and you have to wait for hours. Apparently its been a problem for many people when I was looking online for trouble shooting.\\nWill return it.'\n",
      " b\"Buyer Beware: I purchased this vacuum, USED: Like New from Ware house Deals for about $25 less. It was a return, what for, I do not know, but when I got it, the screw for the handle wasn't there. I could purchase one elsewhere for .32 cents and pay $5 postage. I spent a lot of time considering whether to just return it, which Amazon had offered to do, but after my husband used it, I just decided to keep it. So I filled out the warranty card as far as #7 which asked for the Mfg. number listed on the bottom of the machine. Well, it was not there, so the lady at Hoover said it could be on a label on the handle- not there either. This Used : Like New item had some flaws. So without the number I could not register it and so Amazon told me to return it. So, though this item is really great and I intend to buy a NEW one when I get my refund, I would warn you not to buy used\\nmechanical items just to save a few bucks. In the end, I gained nothing but a headache. Amazon was very understanding and\\nthat is why I continue to buy from them. Thank You Amazon.com!\"\n",
      " b'Great when it works: I have owned this for 5 months now. It is awesome at scubbing out stains and making your carpet clean again. We typically do the whole house once a month and spot clean quite often. Early this week the scrub brushes stopped rotating. I called customer service and sat on the phone for 20 minutes waiting to talk to someone. The turbine for the brushes stopped working. We were told by the repair center that the part could take 2 weeks to 6 months to show up or they might send a new machine. Most of the time it will come within a month. They will know nothing until it shows up and they match up the packing slip numbers to what they have. This is the \"new\" way of doing things with Hoover since they were bought out by a Japanese company. So now we wait.'\n",
      " b'Five Stars: This carpet cleaner is amazing and does a fantastic job. I am very happy with this purchase would recommend.'\n",
      " b\"WHERE HAS THIS BEEN ALL MY LIFE: Goes from carpet to hardwood floors without having to change any settings. Perfect for anyone with pets or toddlers. Super lightweight. Compact size to get in hard to reach areas. Comvenient and bagless reservoir. Just don't vacuum up moist food as it will make it stink or pine needles from Christmas trees which will get jammed up.\"\n",
      " b'Great product! Recovers my carpet after my 18 months ...: Great product! Recovers my carpet after my 18 months old baby kind of destroys it from time to time:) Hot air blow help with drying process. I would deffinetely recommend it!'\n",
      " b'Great for Cleaning Your Carpets!!: I ordered this item after reading a lot of the reviews. There are only two screws for the handle that you need a screw driver for. That is it! The rest of the parts easily lock in place. I used very hot tap water that ends up being \"warm\" by the time it hits the carpet. It would probably be better to use boiling water. I have used a larger carpet cleaner from a rental store that was very heavy and awkward to use. This Hoover Power Scrub does just as good as a job as the big machine but MUCH easier to maneuver. Very easy to use. This did an excellent job on my carpets. The rental store charges about $60 for the day to rent their machine so it is worth it to buy this Hoover because it pays for itself after about 3 uses. Right after I bought this my son got gum on my microfiber sofa! I was not happy. I read on the internet that I should use peanut butter to remove the gum. I used the peanut butter and it did remove the gum. BUT...I needed this Hoover to clean the peanut butter! It did an excellent job cleaning the peanut butter and now you can\\'t tell there was a big blotch of gum there. This machine is well designed and worth the money. You won\\'t be sorry.'\n",
      " b'Cordless Stick Vac: FABULOUS product.  I love it.  Has great suction, and easy to use, holds a charge, and easy to empty.  Very happy with my purchase.'\n",
      " b'MOTOR FAILURE: FOR THOSE WHOSE MOTOR STOPPED WORKING. Take the head apart and you will find one of the wires broken. This design fault has caused repeated repairs on our unit. This has been disappointing for me and frustrating for my wife.'\n",
      " b'Five Stars: excellent'\n",
      " b\"Not sure if it was bad luck I got a defective washer or what: Not sure if it was bad luck I got a defective washer or what, but I ended up having to return the one I had because it wasn't rinsing well.  Now I'm having to hire professionals to come in and clean all the soap that got left behind by this unit.\"\n",
      " b'Rinse first - Shampoo second - Repeat Rinse!: I decided to wash our carpet after it was professionally washed by a company I always used for my previous house. There were a couple of old pet stains the professionals could not remove with their machine nor by using special chemicals (the previous home owner had a dog who peed in one place numerous times yuk) and I had guests coming, so I decided to refresh the carpet and to work more on these stains. It is amazing how much dirt this little machine was able to pull - after the professional wash! The old stains are lighter, still not completely gone, but they look a lot better.'\n",
      " b\"Very frustrating experience trying to use this carpet cleaner: My husband and I worked long and hard to get this carpet cleaner put together. He's a handy guy, but he had a hard time figuring out what the instructions were telling him to do. Finally thought we had it put together correctly. We poured the cleaning solution into the holding tank and it immediately emptied onto the carpet, saturating it. Took the whole thing apart and put it together again....same thing happened. Shipped back to Amazon and will never buy a Hoover product again.\"\n",
      " b'Build Quality = Garbage / Customer Service = Non-Existent: I must confess I really liked this unit when I received it.  It had plenty of power, did a great job cleaning up and the battery life was well above what I expected.  However, a few months later and this unit is coming apart.\\n\\nWe mostly use this vacuum on our tile floors only as we have another vacuum we use for our carpets.  So it came as a complete surprise when the motorized power brush stopped working when we hardly used it when vacuuming our hard flooring.  In addition to that, there is a thin layer of material that is shredding away from the handle (see pics) and which regularly comes off in the hand or falls on the floor.  Both of these failures indicate that this is definitely NOT a quality item.\\n\\nIf this had been a relatively inexpensive vacuum, I would not have expected it to last for a considerably long time.  But at almost $150, this unit should not be falling apart and should certainly remain serviceable and intact into the foreseeable future especially when only tasked to perform light vacuuming a few days a week.\\n\\nFind a similar item from another brand - Hoover is NOT the company it used to be...in build quality or customer service.'\n",
      " b\"easy to clean: Works amazingly well.  I used with Carpet Miracle by Sunny & Honey and it worked wonders.  Got the stains out of my beige carpet and beige microfiber couches.  Its a lot of work, but what do you expect? There's a reason carpet/upholstery cleaning services are expensive, took me a long time to do my whole apt but it looks immaculate.  Well worth the money, easy to clean.... afterwards I used a comb to clean out the scrub brushes because a lot of lint and carpet fibers were stuck in there.  I was shocked by how dark the water in the dirty water tank, can't believe that was in my couch!! A must have for anyone who is a clean freak.\"\n",
      " b\"Doesnt suck up excess water: This is my 2nd Hoover shampooer, my last one last 5 years and even after it started struggling it worked better than this one. Some of my major complaints are that after the water runs out, it still shoots out soap. There is no alert to when the water runs out, you just have to watch, so don't fill the solution area completely or you'll have a very soapy carpet. Two the dirty water stops sucking before it's full, because the suds push the bobber making it think it's full. Also quick movements or turns, will pop the bobber up, causing the same issue. So you're either constantly stopping to get the bobber to fall or emptying it. Three, it doesn't even suck up half the water. Which, as someone with a wool carpet, is a big deal. Wet wool is not a fun smell. I call bull on the heating to dry faster too, I go over the same sections with just suction multiple times, as in no fewer than 6, to get any water I can up and it's still cold and wet. The old one did a much better job, even towards then end of its life. Is it better than having just a bucket and brush, absolutely, but not by much.\"\n",
      " b\"i don't like this vacuum: i don't like this vacuum. i really wanted to like it, and i did a lot of research before buying it for our new house. i'm so disappointed because it doesnt hold a charge for longer than 20 minutes. my house is not huge--about 2000sqft, so i never thought i would have a problem getting through my whole house with this vacuum. it's so frustrating when this thing dies halfway through cleaning. it's happened almost every time i've used it so far. i'm a very capable person and know for a fact that it's fully charged because the blue light blinks slowly on the charging dock once it's fully charged. takes about 3 hours. i love the fact that it's cordless and there are no bulky cords to manuever, and you don't have to keep unplugging and re-plugging in around the house. but if i would have known the battery was going to die every 15-20 minutes i defintely wouldn't have bought this vacuum.\"\n",
      " b\"Works great - no complaints: I've used a few other in-home carpet cleaners and this one is by far my favorite. I like that it keeps the clean water separate from the dirty water and does a great job getting most of the moisture out of the carpets. I've used it several times now... no musty smell after it dries (like a few other machines) and the dog hair easily comes out of the scrubbing circles.\\n\\nAlso, it was very easy to put together out of the box... just took about 10 minutes\"\n",
      " b'Good carpet cleaner: Hoover F5914-900 SteamVac with Clean Surge&nbsp;We have Oriental carpets and have moved to a rural area.  Previously we had them commercially cleaned.  There\\'s no such service available here.  The dirt was building up.  SO I took a chance on this machine.  Because the carpets are wool, I didn\\'t use super hot water.  Others said the machine worked well with half the amount of detergent that Hoover calls for.  It did work well, tho I had to pre-treat really dirty areas, as expected.  I didn\\'t use the brushes because the carpets are delicate, but still got a LOT of dirt out.  I kept my \"wet\" passes down to two as recommended, used four \"dry\" passes, and put washed out plastic milk cartons under the damp carpet to facilitate drying with the help of a box fan.  The rugs felt dry in about four hours, but I kept the fans going overnight for the sake of the wood floor. Be sure to read Lissie\\'s detailed review of the machine and avoid problems.  You\\'ll save the purchase price pretty quickly, but I\\'ll do it sooner since the price I paid is almost $20 less than the current one, and I got free shipping.  I haven\\'t used the upholstery cleaning ability yet, but expect it will be quite respectable, too. Oh, don\\'t look for how to get your carpet \"steam cleaned\" with this: it doesn\\'t really use steam.'], shape=(32,), dtype=string) \n",
      "\n",
      " tf.Tensor([1 0 0 0 0 1 0 1 0 1 0 1 1 1 1 1 0 0 0 0 0 1 0 1 0 1 1 0 1 1 0 0], shape=(32,), dtype=int64)\n"
     ]
    }
   ],
   "source": [
    "# taking a sample - now 32 observations instead of 1\n",
    "example_X, example_y= train_ds.take(1).get_single_element()\n",
    "print(example_X,'\\n\\n',example_y)\n"
   ]
  },
  {
   "cell_type": "markdown",
   "id": "d31a1990-85b6-4c25-852d-6049cae198a4",
   "metadata": {},
   "source": [
    "## Vectorizing Text with Keras's TextVectorization Layer"
   ]
  },
  {
   "cell_type": "markdown",
   "id": "37bccabc-475f-49aa-8ede-aca4e55333c6",
   "metadata": {},
   "source": [
    "> ADD INTRO, explain need for sequence length"
   ]
  },
  {
   "cell_type": "markdown",
   "id": "9d149c9a-8735-465b-b48a-ca8ba82dcee9",
   "metadata": {},
   "source": [
    "### TextVectorization Layer - Demo Count Vectorization"
   ]
  },
  {
   "cell_type": "markdown",
   "id": "46b16927-1276-4d6d-a209-64fed6bcfec6",
   "metadata": {},
   "source": [
    "Flexible layer that can convert text to bag-of-words or sequences."
   ]
  },
  {
   "cell_type": "code",
   "execution_count": 37,
   "id": "396378c7-cdc7-45d7-bacd-967abdf5f581",
   "metadata": {
    "execution": {
     "iopub.execute_input": "2024-01-08T01:38:41.597509Z",
     "iopub.status.busy": "2024-01-08T01:38:41.597354Z",
     "iopub.status.idle": "2024-01-08T01:38:41.628801Z",
     "shell.execute_reply": "2024-01-08T01:38:41.628412Z",
     "shell.execute_reply.started": "2024-01-08T01:38:41.597499Z"
    },
    "scrolled": true
   },
   "outputs": [
    {
     "data": {
      "text/plain": [
       "<keras.layers.preprocessing.text_vectorization.TextVectorization at 0x2a29858a0>"
      ]
     },
     "execution_count": 37,
     "metadata": {},
     "output_type": "execute_result"
    }
   ],
   "source": [
    "# Create text Vectorization layer\n",
    "count_vectorizer = tf.keras.layers.TextVectorization(\n",
    "    standardize=\"lower_and_strip_punctuation\",\n",
    "    output_mode=\"count\",\n",
    "    # output_sequence_length=SEQUENCE_LENGTH\n",
    ")\n",
    "count_vectorizer"
   ]
  },
  {
   "cell_type": "code",
   "execution_count": 38,
   "id": "066c1dde-7d3a-4f62-ba2f-09fb5fd17194",
   "metadata": {
    "execution": {
     "iopub.execute_input": "2024-01-08T01:38:41.629540Z",
     "iopub.status.busy": "2024-01-08T01:38:41.629453Z",
     "iopub.status.idle": "2024-01-08T01:38:41.659018Z",
     "shell.execute_reply": "2024-01-08T01:38:41.658619Z",
     "shell.execute_reply.started": "2024-01-08T01:38:41.629532Z"
    }
   },
   "outputs": [
    {
     "data": {
      "text/plain": [
       "['[UNK]']"
      ]
     },
     "execution_count": 38,
     "metadata": {},
     "output_type": "execute_result"
    }
   ],
   "source": [
    "# Before training, only contains the out of vocab token ([UNK])\n",
    "count_vectorizer.get_vocabulary()"
   ]
  },
  {
   "cell_type": "code",
   "execution_count": 39,
   "id": "1cb84974-50fe-466f-81d6-9e6a6f5a22cf",
   "metadata": {
    "execution": {
     "iopub.execute_input": "2024-01-08T01:38:41.659604Z",
     "iopub.status.busy": "2024-01-08T01:38:41.659501Z",
     "iopub.status.idle": "2024-01-08T01:38:41.686748Z",
     "shell.execute_reply": "2024-01-08T01:38:41.686289Z",
     "shell.execute_reply.started": "2024-01-08T01:38:41.659595Z"
    }
   },
   "outputs": [],
   "source": [
    "example_text = [['Sometimes I love this vacuum, sometimes i hate this vacuum']]"
   ]
  },
  {
   "cell_type": "code",
   "execution_count": 40,
   "id": "bc93a1b0-e470-4e79-8c91-9f3d58d5e6c7",
   "metadata": {
    "execution": {
     "iopub.execute_input": "2024-01-08T01:38:41.687442Z",
     "iopub.status.busy": "2024-01-08T01:38:41.687338Z",
     "iopub.status.idle": "2024-01-08T01:38:41.784697Z",
     "shell.execute_reply": "2024-01-08T01:38:41.784240Z",
     "shell.execute_reply.started": "2024-01-08T01:38:41.687433Z"
    }
   },
   "outputs": [
    {
     "name": "stderr",
     "output_type": "stream",
     "text": [
      "2024-01-07 20:38:41.737604: W tensorflow/tsl/platform/profile_utils/cpu_utils.cc:128] Failed to get CPU frequency: 0 Hz\n"
     ]
    },
    {
     "data": {
      "text/plain": [
       "['[UNK]', 'vacuum', 'this', 'sometimes', 'i', 'love', 'hate']"
      ]
     },
     "execution_count": 40,
     "metadata": {},
     "output_type": "execute_result"
    }
   ],
   "source": [
    "# Fitting the vectorizer using .adapt\n",
    "count_vectorizer.adapt(example_text)\n",
    "\n",
    "# Before training, only contains the out of vocab token ([UNK])\n",
    "count_vectorizer.get_vocabulary()#[:10]"
   ]
  },
  {
   "cell_type": "code",
   "execution_count": 41,
   "id": "6666ae7b-f4cc-43f8-ba87-294e7a99b959",
   "metadata": {
    "execution": {
     "iopub.execute_input": "2024-01-08T01:38:41.785571Z",
     "iopub.status.busy": "2024-01-08T01:38:41.785420Z",
     "iopub.status.idle": "2024-01-08T01:38:41.823194Z",
     "shell.execute_reply": "2024-01-08T01:38:41.822740Z",
     "shell.execute_reply.started": "2024-01-08T01:38:41.785558Z"
    }
   },
   "outputs": [
    {
     "name": "stdout",
     "output_type": "stream",
     "text": [
      "tf.Tensor([[0. 2. 2. 2. 2. 1. 1.]], shape=(1, 7), dtype=float32)\n"
     ]
    }
   ],
   "source": [
    "# Convert example to count-vectorization\n",
    "counts = count_vectorizer(example_text)\n",
    "print(counts)"
   ]
  },
  {
   "cell_type": "code",
   "execution_count": 42,
   "id": "aa852fc8-92ac-4d1f-ae29-42f49a35cc6f",
   "metadata": {
    "execution": {
     "iopub.execute_input": "2024-01-08T01:38:41.823886Z",
     "iopub.status.busy": "2024-01-08T01:38:41.823790Z",
     "iopub.status.idle": "2024-01-08T01:38:41.852165Z",
     "shell.execute_reply": "2024-01-08T01:38:41.851824Z",
     "shell.execute_reply.started": "2024-01-08T01:38:41.823877Z"
    }
   },
   "outputs": [
    {
     "data": {
      "text/plain": [
       "array([[0., 2., 2., 2., 2., 1., 1.]], dtype=float32)"
      ]
     },
     "execution_count": 42,
     "metadata": {},
     "output_type": "execute_result"
    }
   ],
   "source": [
    "# Getting the counts as \n",
    "example_counts = counts.numpy()\n",
    "example_counts"
   ]
  },
  {
   "cell_type": "markdown",
   "id": "c9e2b3aa-03fb-4a4e-a9a4-2f4ab05acb7f",
   "metadata": {},
   "source": [
    "- Size of vectorized text - column for every word in vocab"
   ]
  },
  {
   "cell_type": "code",
   "execution_count": 43,
   "id": "3a37577f-0738-4836-89bd-392d3b4ffc44",
   "metadata": {
    "execution": {
     "iopub.execute_input": "2024-01-08T01:38:41.852983Z",
     "iopub.status.busy": "2024-01-08T01:38:41.852813Z",
     "iopub.status.idle": "2024-01-08T01:38:41.884489Z",
     "shell.execute_reply": "2024-01-08T01:38:41.884084Z",
     "shell.execute_reply.started": "2024-01-08T01:38:41.852970Z"
    }
   },
   "outputs": [
    {
     "data": {
      "text/html": [
       "<div>\n",
       "<style scoped>\n",
       "    .dataframe tbody tr th:only-of-type {\n",
       "        vertical-align: middle;\n",
       "    }\n",
       "\n",
       "    .dataframe tbody tr th {\n",
       "        vertical-align: top;\n",
       "    }\n",
       "\n",
       "    .dataframe thead th {\n",
       "        text-align: right;\n",
       "    }\n",
       "</style>\n",
       "<table border=\"1\" class=\"dataframe\">\n",
       "  <thead>\n",
       "    <tr style=\"text-align: right;\">\n",
       "      <th></th>\n",
       "      <th>[UNK]</th>\n",
       "      <th>vacuum</th>\n",
       "      <th>this</th>\n",
       "      <th>sometimes</th>\n",
       "      <th>i</th>\n",
       "      <th>love</th>\n",
       "      <th>hate</th>\n",
       "    </tr>\n",
       "  </thead>\n",
       "  <tbody>\n",
       "    <tr>\n",
       "      <th>0</th>\n",
       "      <td>0.0</td>\n",
       "      <td>2.0</td>\n",
       "      <td>2.0</td>\n",
       "      <td>2.0</td>\n",
       "      <td>2.0</td>\n",
       "      <td>1.0</td>\n",
       "      <td>1.0</td>\n",
       "    </tr>\n",
       "  </tbody>\n",
       "</table>\n",
       "</div>"
      ],
      "text/plain": [
       "   [UNK]  vacuum  this  sometimes    i  love  hate\n",
       "0    0.0     2.0   2.0        2.0  2.0   1.0   1.0"
      ]
     },
     "execution_count": 43,
     "metadata": {},
     "output_type": "execute_result"
    }
   ],
   "source": [
    "# Getting the counts as as DataFrame \n",
    "example_counts_df = pd.DataFrame(counts.numpy(), \n",
    "                         columns=count_vectorizer.get_vocabulary())\n",
    "example_counts_df"
   ]
  },
  {
   "cell_type": "markdown",
   "id": "79ec6f78-c06a-4299-95d1-6445ba7c8fd3",
   "metadata": {},
   "source": [
    "### TextVectorization Layer - Demo Sequence Vectorization"
   ]
  },
  {
   "cell_type": "markdown",
   "id": "4376e380-0416-491a-a68a-417de91c3689",
   "metadata": {},
   "source": [
    "- Output_mode='int' returns sequences.\n",
    "- Length "
   ]
  },
  {
   "cell_type": "code",
   "execution_count": 44,
   "id": "cc2aeb45-d8d4-4c6f-a11d-914b1a5f8e23",
   "metadata": {
    "execution": {
     "iopub.execute_input": "2024-01-08T01:38:41.885319Z",
     "iopub.status.busy": "2024-01-08T01:38:41.885190Z",
     "iopub.status.idle": "2024-01-08T01:38:41.915644Z",
     "shell.execute_reply": "2024-01-08T01:38:41.915268Z",
     "shell.execute_reply.started": "2024-01-08T01:38:41.885310Z"
    }
   },
   "outputs": [],
   "source": [
    "# Create text Vectorization layer\n",
    "demo_sequence_vectorizer = tf.keras.layers.TextVectorization(\n",
    "    standardize=\"lower_and_strip_punctuation\",\n",
    "    output_mode=\"int\",\n",
    "    # output_sequence_length=50\n",
    ")"
   ]
  },
  {
   "cell_type": "code",
   "execution_count": 45,
   "id": "c3381ee3-2a32-412d-bab6-61bf02edaf62",
   "metadata": {
    "execution": {
     "iopub.execute_input": "2024-01-08T01:38:41.916399Z",
     "iopub.status.busy": "2024-01-08T01:38:41.916244Z",
     "iopub.status.idle": "2024-01-08T01:38:41.944340Z",
     "shell.execute_reply": "2024-01-08T01:38:41.943884Z",
     "shell.execute_reply.started": "2024-01-08T01:38:41.916389Z"
    }
   },
   "outputs": [
    {
     "data": {
      "text/plain": [
       "['', '[UNK]']"
      ]
     },
     "execution_count": 45,
     "metadata": {},
     "output_type": "execute_result"
    }
   ],
   "source": [
    "# Before training, only contains the out of vocab token ([UNK])\n",
    "demo_sequence_vectorizer.get_vocabulary()"
   ]
  },
  {
   "cell_type": "code",
   "execution_count": 46,
   "id": "711794b0-ee24-4917-996f-33c59ef1b8b2",
   "metadata": {
    "execution": {
     "iopub.execute_input": "2024-01-08T01:38:41.944972Z",
     "iopub.status.busy": "2024-01-08T01:38:41.944886Z",
     "iopub.status.idle": "2024-01-08T01:38:42.022518Z",
     "shell.execute_reply": "2024-01-08T01:38:42.022226Z",
     "shell.execute_reply.started": "2024-01-08T01:38:41.944964Z"
    }
   },
   "outputs": [
    {
     "data": {
      "text/plain": [
       "['', '[UNK]', 'vacuum', 'this', 'sometimes', 'i', 'love', 'hate']"
      ]
     },
     "execution_count": 46,
     "metadata": {},
     "output_type": "execute_result"
    }
   ],
   "source": [
    "# Fitting the vectorizer using .adapt\n",
    "demo_sequence_vectorizer.adapt(example_text)\n",
    "# Before training, only contains the out of vocab token ([UNK])\n",
    "demo_sequence_vectorizer.get_vocabulary()[:10]"
   ]
  },
  {
   "cell_type": "code",
   "execution_count": 47,
   "id": "6d128654-ce00-4827-bd86-90737a54e79b",
   "metadata": {
    "execution": {
     "iopub.execute_input": "2024-01-08T01:38:42.023008Z",
     "iopub.status.busy": "2024-01-08T01:38:42.022919Z",
     "iopub.status.idle": "2024-01-08T01:38:42.051524Z",
     "shell.execute_reply": "2024-01-08T01:38:42.051099Z",
     "shell.execute_reply.started": "2024-01-08T01:38:42.022998Z"
    }
   },
   "outputs": [
    {
     "data": {
      "text/plain": [
       "{0: '',\n",
       " 1: '[UNK]',\n",
       " 2: 'vacuum',\n",
       " 3: 'this',\n",
       " 4: 'sometimes',\n",
       " 5: 'i',\n",
       " 6: 'love',\n",
       " 7: 'hate'}"
      ]
     },
     "execution_count": 47,
     "metadata": {},
     "output_type": "execute_result"
    }
   ],
   "source": [
    "# SAVING VOCAB FOR LATER\n",
    "# Getting list of vocab \n",
    "vocab = demo_sequence_vectorizer.get_vocabulary()\n",
    "\n",
    "# Save dictionaries to look up words from ints \n",
    "int_to_str  = {idx:word for idx, word in enumerate(vocab)} # Dictionary Comprehension\n",
    "# int_to_str = dict(zip( range(len(vocab)), vocab )) # Dict Constructor + \n",
    "int_to_str"
   ]
  },
  {
   "cell_type": "code",
   "execution_count": 48,
   "id": "5ffffb57-fbe8-4c2f-9ad0-a1e138733fee",
   "metadata": {
    "execution": {
     "iopub.execute_input": "2024-01-08T01:38:42.052261Z",
     "iopub.status.busy": "2024-01-08T01:38:42.052176Z",
     "iopub.status.idle": "2024-01-08T01:38:42.082034Z",
     "shell.execute_reply": "2024-01-08T01:38:42.081613Z",
     "shell.execute_reply.started": "2024-01-08T01:38:42.052253Z"
    }
   },
   "outputs": [
    {
     "name": "stdout",
     "output_type": "stream",
     "text": [
      "[[4 5 6 3 2 4 5 7 3 2]]\n"
     ]
    }
   ],
   "source": [
    "# Convert example to sequences\n",
    "sequences = demo_sequence_vectorizer(example_text)\n",
    "print(sequences.numpy())"
   ]
  },
  {
   "cell_type": "code",
   "execution_count": 49,
   "id": "da990d10-2a75-4e0b-804e-a302b4f02bfc",
   "metadata": {
    "execution": {
     "iopub.execute_input": "2024-01-08T01:38:42.083004Z",
     "iopub.status.busy": "2024-01-08T01:38:42.082779Z",
     "iopub.status.idle": "2024-01-08T01:38:42.111377Z",
     "shell.execute_reply": "2024-01-08T01:38:42.111002Z",
     "shell.execute_reply.started": "2024-01-08T01:38:42.082981Z"
    }
   },
   "outputs": [
    {
     "data": {
      "text/plain": [
       "ValueError('Shape of passed values is (1, 10), indices imply (1, 8)')"
      ]
     },
     "metadata": {},
     "output_type": "display_data"
    }
   ],
   "source": [
    "try:\n",
    "    pd.DataFrame(sequences, columns = vocab)\n",
    "except Exception as e:\n",
    "    display(e)"
   ]
  },
  {
   "cell_type": "code",
   "execution_count": 50,
   "id": "04958dbd-126d-41a4-b63e-9a4e0e420d15",
   "metadata": {
    "execution": {
     "iopub.execute_input": "2024-01-08T01:38:42.112346Z",
     "iopub.status.busy": "2024-01-08T01:38:42.112103Z",
     "iopub.status.idle": "2024-01-08T01:38:42.140396Z",
     "shell.execute_reply": "2024-01-08T01:38:42.139889Z",
     "shell.execute_reply.started": "2024-01-08T01:38:42.112329Z"
    }
   },
   "outputs": [
    {
     "data": {
      "text/plain": [
       "array([[4, 5, 6, 3, 2, 4, 5, 7, 3, 2]])"
      ]
     },
     "execution_count": 50,
     "metadata": {},
     "output_type": "execute_result"
    }
   ],
   "source": [
    "sequences = sequences.numpy()\n",
    "sequences"
   ]
  },
  {
   "cell_type": "code",
   "execution_count": 51,
   "id": "1abdad54-2f2b-42dc-ab07-5be556033ca3",
   "metadata": {
    "execution": {
     "iopub.execute_input": "2024-01-08T01:38:42.141414Z",
     "iopub.status.busy": "2024-01-08T01:38:42.141176Z",
     "iopub.status.idle": "2024-01-08T01:38:42.171212Z",
     "shell.execute_reply": "2024-01-08T01:38:42.170857Z",
     "shell.execute_reply.started": "2024-01-08T01:38:42.141400Z"
    },
    "scrolled": true
   },
   "outputs": [
    {
     "name": "stdout",
     "output_type": "stream",
     "text": [
      "4 = sometimes\n",
      "5 = i\n",
      "6 = love\n",
      "3 = this\n",
      "2 = vacuum\n",
      "4 = sometimes\n",
      "5 = i\n",
      "7 = hate\n",
      "3 = this\n",
      "2 = vacuum\n"
     ]
    }
   ],
   "source": [
    "for val in sequences[0]:\n",
    "    print(f\"{val} = {int_to_str[val]}\")"
   ]
  },
  {
   "cell_type": "markdown",
   "id": "597c67c8-c54a-4614-893c-f914120509af",
   "metadata": {},
   "source": [
    "### Determine appropriate sequence length. "
   ]
  },
  {
   "cell_type": "code",
   "execution_count": 52,
   "id": "89ce67c8-4815-4dba-a9b6-0a8d7b97b069",
   "metadata": {
    "execution": {
     "iopub.execute_input": "2024-01-08T01:38:42.171925Z",
     "iopub.status.busy": "2024-01-08T01:38:42.171801Z",
     "iopub.status.idle": "2024-01-08T01:38:42.200248Z",
     "shell.execute_reply": "2024-01-08T01:38:42.199863Z",
     "shell.execute_reply.started": "2024-01-08T01:38:42.171915Z"
    }
   },
   "outputs": [],
   "source": [
    "# df_ml['length (characters)'] = df_ml['text'].map(len)\n",
    "# df_ml.head(3)\n",
    "\n",
    "# ax = sns.histplot(data=df_ml, hue='rating', x='length (characters)',\n",
    "#                 stat='percent',common_norm=False)#, estimator='median',);\n",
    "# ax.axvline()"
   ]
  },
  {
   "cell_type": "code",
   "execution_count": 53,
   "id": "825a1930-00f2-41c4-b337-e20f3cec154d",
   "metadata": {
    "execution": {
     "iopub.execute_input": "2024-01-08T01:38:42.200904Z",
     "iopub.status.busy": "2024-01-08T01:38:42.200793Z",
     "iopub.status.idle": "2024-01-08T01:38:42.247412Z",
     "shell.execute_reply": "2024-01-08T01:38:42.247004Z",
     "shell.execute_reply.started": "2024-01-08T01:38:42.200887Z"
    }
   },
   "outputs": [
    {
     "data": {
      "text/plain": [
       "count    6359.000000\n",
       "mean       85.317345\n",
       "std       105.261462\n",
       "min         2.000000\n",
       "25%        21.000000\n",
       "50%        52.000000\n",
       "75%       106.000000\n",
       "max      1521.000000\n",
       "Name: length (tokens), dtype: float64"
      ]
     },
     "execution_count": 53,
     "metadata": {},
     "output_type": "execute_result"
    }
   ],
   "source": [
    "# Let's take a look at the length of the each text\n",
    "# We will split on each space, and then get the length\n",
    "df_ml['length (tokens)'] = df_ml['text'].map( lambda x: len(x.split(\" \")))\n",
    "df_ml['length (tokens)'].describe()"
   ]
  },
  {
   "cell_type": "code",
   "execution_count": 54,
   "id": "27050d88-b035-4861-a971-344839ddb452",
   "metadata": {
    "execution": {
     "iopub.execute_input": "2024-01-08T01:38:42.248308Z",
     "iopub.status.busy": "2024-01-08T01:38:42.248121Z",
     "iopub.status.idle": "2024-01-08T01:38:42.274275Z",
     "shell.execute_reply": "2024-01-08T01:38:42.273895Z",
     "shell.execute_reply.started": "2024-01-08T01:38:42.248297Z"
    }
   },
   "outputs": [],
   "source": [
    "# ax = sns.histplot(data=df_ml, hue='rating', x='length (tokens)',\n",
    "#                 stat='frequency',common_norm=False)#, estimator='median',);\n"
   ]
  },
  {
   "cell_type": "code",
   "execution_count": 55,
   "id": "d404d3ad-45eb-4c4a-ad53-c67714b350ea",
   "metadata": {
    "execution": {
     "iopub.execute_input": "2024-01-08T01:38:42.274989Z",
     "iopub.status.busy": "2024-01-08T01:38:42.274901Z",
     "iopub.status.idle": "2024-01-08T01:38:42.729083Z",
     "shell.execute_reply": "2024-01-08T01:38:42.728612Z",
     "shell.execute_reply.started": "2024-01-08T01:38:42.274980Z"
    }
   },
   "outputs": [
    {
     "data": {
      "text/plain": [
       "<matplotlib.lines.Line2D at 0x2c29fdd20>"
      ]
     },
     "execution_count": 55,
     "metadata": {},
     "output_type": "execute_result"
    },
    {
     "data": {
      "image/png": "[encoded data removed]",
      "text/plain": [
       "<Figure size 640x480 with 1 Axes>"
      ]
     },
     "metadata": {},
     "output_type": "display_data"
    }
   ],
   "source": [
    "SEQUENCE_LENGTH = 150\n",
    "ax = sns.histplot(data=df_ml, hue='rating', x='length (tokens)',kde=True,\n",
    "                stat='probability',common_norm=False)#, estimator='median',);\n",
    "ax.axvline(SEQUENCE_LENGTH, color='red', ls=\":\")"
   ]
  },
  {
   "cell_type": "markdown",
   "id": "29c7a72b-3a3e-463b-bcb2-5aa1c05dce0f",
   "metadata": {},
   "source": [
    "## Word Embeddings Demo (Pre-Trained)"
   ]
  },
  {
   "cell_type": "markdown",
   "id": "ef3f1d5e-f502-487c-a2bb-77c389c5b0f6",
   "metadata": {},
   "source": [
    "##  Pretrianed Word Embeddings with GloVe"
   ]
  },
  {
   "cell_type": "markdown",
   "id": "2610a51b-6b5a-46c6-95da-95756540fbd2",
   "metadata": {},
   "source": [
    "- [Click here](https://nlp.stanford.edu/data/glove.6B.zip) to start donwnloading GloVe zip file (glove.6B.zip)\n",
    "- Unzip the downloaded zip archive.\n",
    "- Open the extracted folder and find the the `glove.6B.100d.txt` file. (Size is over 300MB )\n",
    "- Move the text file from Downloads to the same folder as this notebook.\n",
    "- **Make sure to ignore the large file using GitHub Desktop**"
   ]
  },
  {
   "cell_type": "code",
   "execution_count": 56,
   "id": "8d787ab9-41a7-4c09-bd99-76722f369f07",
   "metadata": {
    "execution": {
     "iopub.execute_input": "2024-01-08T01:38:42.729947Z",
     "iopub.status.busy": "2024-01-08T01:38:42.729844Z",
     "iopub.status.idle": "2024-01-08T01:38:53.809802Z",
     "shell.execute_reply": "2024-01-08T01:38:53.809493Z",
     "shell.execute_reply.started": "2024-01-08T01:38:42.729938Z"
    }
   },
   "outputs": [],
   "source": [
    "from gensim.models import KeyedVectors\n",
    "# Load GloVe vectors into a gensim model\n",
    "glove_model = KeyedVectors.load_word2vec_format(\"glove.6B.100d.txt\", binary=False, no_header=True)"
   ]
  },
  {
   "cell_type": "code",
   "execution_count": 57,
   "id": "7859c359-c117-4d4c-b745-a5c0591c8ea7",
   "metadata": {
    "execution": {
     "iopub.execute_input": "2024-01-08T01:38:53.810402Z",
     "iopub.status.busy": "2024-01-08T01:38:53.810314Z",
     "iopub.status.idle": "2024-01-08T01:38:53.842750Z",
     "shell.execute_reply": "2024-01-08T01:38:53.842406Z",
     "shell.execute_reply.started": "2024-01-08T01:38:53.810393Z"
    }
   },
   "outputs": [
    {
     "data": {
      "text/plain": [
       "array([-0.32307 , -0.87616 ,  0.21977 ,  0.25268 ,  0.22976 ,  0.7388  ,\n",
       "       -0.37954 , -0.35307 , -0.84369 , -1.1113  , -0.30266 ,  0.33178 ,\n",
       "       -0.25113 ,  0.30448 , -0.077491, -0.89815 ,  0.092496, -1.1407  ,\n",
       "       -0.58324 ,  0.66869 , -0.23122 , -0.95855 ,  0.28262 , -0.078848,\n",
       "        0.75315 ,  0.26584 ,  0.3422  , -0.33949 ,  0.95608 ,  0.065641,\n",
       "        0.45747 ,  0.39835 ,  0.57965 ,  0.39267 , -0.21851 ,  0.58795 ,\n",
       "       -0.55999 ,  0.63368 , -0.043983, -0.68731 , -0.37841 ,  0.38026 ,\n",
       "        0.61641 , -0.88269 , -0.12346 , -0.37928 , -0.38318 ,  0.23868 ,\n",
       "        0.6685  , -0.43321 , -0.11065 ,  0.081723,  1.1569  ,  0.78958 ,\n",
       "       -0.21223 , -2.3211  , -0.67806 ,  0.44561 ,  0.65707 ,  0.1045  ,\n",
       "        0.46217 ,  0.19912 ,  0.25802 ,  0.057194,  0.53443 , -0.43133 ,\n",
       "       -0.34311 ,  0.59789 , -0.58417 ,  0.068995,  0.23944 , -0.85181 ,\n",
       "        0.30379 , -0.34177 , -0.25746 , -0.031101, -0.16285 ,  0.45169 ,\n",
       "       -0.91627 ,  0.64521 ,  0.73281 , -0.22752 ,  0.30226 ,  0.044801,\n",
       "       -0.83741 ,  0.55006 , -0.52506 , -1.7357  ,  0.4751  , -0.70487 ,\n",
       "        0.056939, -0.7132  ,  0.089623,  0.41394 , -1.3363  , -0.61915 ,\n",
       "       -0.33089 , -0.52881 ,  0.16483 , -0.98878 ], dtype=float32)"
      ]
     },
     "execution_count": 57,
     "metadata": {},
     "output_type": "execute_result"
    }
   ],
   "source": [
    "# You can now use `glove_model` to access individual word vectors, similar to a dictionary\n",
    "vector = glove_model['king']\n",
    "vector"
   ]
  },
  {
   "cell_type": "code",
   "execution_count": 58,
   "id": "ec2cfa48-3101-4f11-b95f-86a2da36dba7",
   "metadata": {
    "execution": {
     "iopub.execute_input": "2024-01-08T01:38:53.843361Z",
     "iopub.status.busy": "2024-01-08T01:38:53.843266Z",
     "iopub.status.idle": "2024-01-08T01:38:53.872569Z",
     "shell.execute_reply": "2024-01-08T01:38:53.872272Z",
     "shell.execute_reply.started": "2024-01-08T01:38:53.843352Z"
    }
   },
   "outputs": [
    {
     "data": {
      "text/plain": [
       "(100,)"
      ]
     },
     "execution_count": 58,
     "metadata": {},
     "output_type": "execute_result"
    }
   ],
   "source": [
    "vector.shape"
   ]
  },
  {
   "cell_type": "code",
   "execution_count": 59,
   "id": "4f16f619-2d0b-4443-869a-801a3fb40313",
   "metadata": {
    "execution": {
     "iopub.execute_input": "2024-01-08T01:38:53.873363Z",
     "iopub.status.busy": "2024-01-08T01:38:53.873232Z",
     "iopub.status.idle": "2024-01-08T01:38:53.903798Z",
     "shell.execute_reply": "2024-01-08T01:38:53.903455Z",
     "shell.execute_reply.started": "2024-01-08T01:38:53.873353Z"
    }
   },
   "outputs": [
    {
     "data": {
      "text/plain": [
       "0.7507691"
      ]
     },
     "execution_count": 59,
     "metadata": {},
     "output_type": "execute_result"
    }
   ],
   "source": [
    "# Find similarity between words\n",
    "glove_model.similarity('king', 'queen')"
   ]
  },
  {
   "cell_type": "code",
   "execution_count": 60,
   "id": "c0366fee-7698-44a3-b281-1d55518ec2e2",
   "metadata": {
    "execution": {
     "iopub.execute_input": "2024-01-08T01:38:53.904777Z",
     "iopub.status.busy": "2024-01-08T01:38:53.904523Z",
     "iopub.status.idle": "2024-01-08T01:38:53.977382Z",
     "shell.execute_reply": "2024-01-08T01:38:53.976960Z",
     "shell.execute_reply.started": "2024-01-08T01:38:53.904750Z"
    }
   },
   "outputs": [
    {
     "data": {
      "text/plain": [
       "[('queen', 0.7698541283607483),\n",
       " ('monarch', 0.6843380331993103),\n",
       " ('throne', 0.6755736470222473),\n",
       " ('daughter', 0.6594556570053101),\n",
       " ('princess', 0.6520534157752991)]"
      ]
     },
     "execution_count": 60,
     "metadata": {},
     "output_type": "execute_result"
    }
   ],
   "source": [
    "# Perform word math\n",
    "result = glove_model.most_similar(positive=['woman', 'king'], negative=['man'], topn=5)\n",
    "result"
   ]
  },
  {
   "cell_type": "code",
   "execution_count": 61,
   "id": "0fc6bd42-f0a0-4ad0-a301-5790f22b24fb",
   "metadata": {
    "execution": {
     "iopub.execute_input": "2024-01-08T01:38:53.978392Z",
     "iopub.status.busy": "2024-01-08T01:38:53.978128Z",
     "iopub.status.idle": "2024-01-08T01:38:54.014371Z",
     "shell.execute_reply": "2024-01-08T01:38:54.013839Z",
     "shell.execute_reply.started": "2024-01-08T01:38:53.978367Z"
    }
   },
   "outputs": [
    {
     "data": {
      "text/plain": [
       "[('prince', 0.7682329416275024),\n",
       " ('queen', 0.7507689595222473),\n",
       " ('son', 0.7020888328552246),\n",
       " ('brother', 0.6985775828361511),\n",
       " ('monarch', 0.6977890729904175),\n",
       " ('throne', 0.691999077796936),\n",
       " ('kingdom', 0.6811410188674927),\n",
       " ('father', 0.6802029013633728),\n",
       " ('emperor', 0.6712858080863953),\n",
       " ('ii', 0.6676074266433716)]"
      ]
     },
     "execution_count": 61,
     "metadata": {},
     "output_type": "execute_result"
    }
   ],
   "source": [
    "# We can use glove to calculate the most similar\n",
    "glove_model.most_similar('king')"
   ]
  },
  {
   "cell_type": "code",
   "execution_count": 62,
   "id": "2631163a-290a-4086-8525-2ead60ae42ea",
   "metadata": {
    "execution": {
     "iopub.execute_input": "2024-01-08T01:38:54.015533Z",
     "iopub.status.busy": "2024-01-08T01:38:54.015238Z",
     "iopub.status.idle": "2024-01-08T01:38:54.048180Z",
     "shell.execute_reply": "2024-01-08T01:38:54.047459Z",
     "shell.execute_reply.started": "2024-01-08T01:38:54.015520Z"
    }
   },
   "outputs": [
    {
     "data": {
      "text/plain": [
       "array([-0.10231996, -0.81294006,  0.10211003,  0.985924  ,  0.34218282,\n",
       "        1.09095   , -0.48912996, -0.05616698, -0.21029997, -1.02996   ,\n",
       "       -0.86851   ,  0.36786997,  0.01960999,  0.59259   , -0.23190099,\n",
       "       -1.016919  , -0.01218399, -1.17194   , -0.52329   ,  0.60645   ,\n",
       "       -0.98537004, -1.001028  ,  0.48913902,  0.630072  ,  0.58224   ,\n",
       "        0.15908998,  0.43685   , -1.25351   ,  0.97054   , -0.065529  ,\n",
       "        0.733763  ,  0.44219002,  1.2091839 ,  0.19698   , -0.15948   ,\n",
       "        0.34364003, -0.46222997,  0.33772   ,  0.14792705, -0.24959502,\n",
       "       -0.77093005,  0.522717  , -0.1283    , -0.91881   , -0.01755001,\n",
       "       -0.44041002, -0.52656496,  0.33734798,  0.60639   , -0.45067   ,\n",
       "       -0.04158002,  0.08408299,  1.31456   ,  0.67737997, -0.24316001,\n",
       "       -2.071     , -0.60648996,  0.19710997,  0.63567   ,  0.07819998,\n",
       "        0.49161002,  0.08171999,  0.70855707,  0.201938  ,  0.5155501 ,\n",
       "       -0.23025298, -0.40473002,  0.39212003, -0.5093    , -0.139153  ,\n",
       "        0.21609999, -0.628671  ,  0.08894002,  0.49167   , -0.06637001,\n",
       "        0.76095   , -0.19442001,  0.41131002, -1.04476   , -0.14801991,\n",
       "       -0.09835501, -0.25115   ,  0.808957  ,  0.36312902, -0.78200996,\n",
       "       -0.10484004,  0.08340102, -1.24067   ,  0.655344  , -0.93635   ,\n",
       "        0.648379  , -0.55827   ,  0.45621303,  0.27575803, -1.54896   ,\n",
       "       -0.199096  , -0.50804996, -0.13818002,  0.27731198, -0.75721   ],\n",
       "      dtype=float32)"
      ]
     },
     "execution_count": 62,
     "metadata": {},
     "output_type": "execute_result"
    }
   ],
   "source": [
    "# Manually calculating new vector for word math\n",
    "new_vector = glove_model['king'] - glove_model['man'] + glove_model['woman']\n",
    "new_vector"
   ]
  },
  {
   "cell_type": "code",
   "execution_count": 63,
   "id": "ee62f9b9-696b-4186-baa0-96306023a7a3",
   "metadata": {
    "execution": {
     "iopub.execute_input": "2024-01-08T01:38:54.049257Z",
     "iopub.status.busy": "2024-01-08T01:38:54.049043Z",
     "iopub.status.idle": "2024-01-08T01:38:54.087494Z",
     "shell.execute_reply": "2024-01-08T01:38:54.087109Z",
     "shell.execute_reply.started": "2024-01-08T01:38:54.049236Z"
    }
   },
   "outputs": [
    {
     "data": {
      "text/plain": [
       "[('king', 0.8551837205886841),\n",
       " ('queen', 0.7834413647651672),\n",
       " ('monarch', 0.6933802366256714),\n",
       " ('throne', 0.6833109259605408),\n",
       " ('daughter', 0.680908203125),\n",
       " ('prince', 0.6713142991065979),\n",
       " ('princess', 0.664408266544342),\n",
       " ('mother', 0.6579325199127197),\n",
       " ('elizabeth', 0.6563301086425781),\n",
       " ('father', 0.6392418742179871)]"
      ]
     },
     "execution_count": 63,
     "metadata": {},
     "output_type": "execute_result"
    }
   ],
   "source": [
    "# Using .most_similar with an array\n",
    "glove_model.most_similar(new_vector)"
   ]
  },
  {
   "cell_type": "code",
   "execution_count": 64,
   "id": "4446cc69-1265-4e2e-a777-875ee070fa55",
   "metadata": {
    "execution": {
     "iopub.execute_input": "2024-01-08T01:38:54.088281Z",
     "iopub.status.busy": "2024-01-08T01:38:54.088147Z",
     "iopub.status.idle": "2024-01-08T01:38:54.125576Z",
     "shell.execute_reply": "2024-01-08T01:38:54.125186Z",
     "shell.execute_reply.started": "2024-01-08T01:38:54.088271Z"
    }
   },
   "outputs": [
    {
     "data": {
      "text/plain": [
       "[('government', 0.8555272221565247),\n",
       " ('elections', 0.8260869979858398),\n",
       " ('vote', 0.821299135684967),\n",
       " ('election', 0.7950962781906128),\n",
       " ('rule', 0.7902188897132874),\n",
       " ('opposition', 0.7764408588409424),\n",
       " ('parliament', 0.7697930335998535),\n",
       " ('ruling', 0.7695497274398804),\n",
       " ('party', 0.7599928379058838),\n",
       " ('monarchy', 0.7500120401382446)]"
      ]
     },
     "execution_count": 64,
     "metadata": {},
     "output_type": "execute_result"
    }
   ],
   "source": [
    "# Manually calculating new vector for word math\n",
    "new_vector = glove_model['monarchy'] + glove_model['vote'] + glove_model['government']\n",
    "glove_model.most_similar(new_vector)"
   ]
  },
  {
   "cell_type": "code",
   "execution_count": 65,
   "id": "2ccf957d-31af-4be4-aeeb-dc909a6a2c5e",
   "metadata": {
    "execution": {
     "iopub.execute_input": "2024-01-08T01:38:54.126203Z",
     "iopub.status.busy": "2024-01-08T01:38:54.126105Z",
     "iopub.status.idle": "2024-01-08T01:38:54.176119Z",
     "shell.execute_reply": "2024-01-08T01:38:54.175661Z",
     "shell.execute_reply.started": "2024-01-08T01:38:54.126193Z"
    }
   },
   "outputs": [
    {
     "data": {
      "text/plain": [
       "[('age', 0.8743536472320557),\n",
       " ('baby', 0.8642442226409912),\n",
       " ('child', 0.795682430267334),\n",
       " ('children', 0.7709920406341553),\n",
       " ('older', 0.7629886269569397),\n",
       " ('girl', 0.7522111535072327),\n",
       " ('mother', 0.7367070317268372),\n",
       " ('boy', 0.7361041307449341),\n",
       " ('birth', 0.7357129454612732),\n",
       " ('couple', 0.7255393266677856)]"
      ]
     },
     "execution_count": 65,
     "metadata": {},
     "output_type": "execute_result"
    }
   ],
   "source": [
    "# Manually calculating new vector for word math\n",
    "new_vector = glove_model['baby'] + glove_model['age']\n",
    "glove_model.most_similar(new_vector)"
   ]
  },
  {
   "cell_type": "code",
   "execution_count": 66,
   "id": "fede594e-cd14-4cdd-85ad-19065d899744",
   "metadata": {
    "execution": {
     "iopub.execute_input": "2024-01-08T01:38:54.177152Z",
     "iopub.status.busy": "2024-01-08T01:38:54.176800Z",
     "iopub.status.idle": "2024-01-08T01:38:54.216333Z",
     "shell.execute_reply": "2024-01-08T01:38:54.215839Z",
     "shell.execute_reply.started": "2024-01-08T01:38:54.177139Z"
    },
    "scrolled": true
   },
   "outputs": [
    {
     "data": {
      "text/plain": [
       "[('baby', 0.9999999403953552),\n",
       " ('babies', 0.7870863676071167),\n",
       " ('newborn', 0.7522428035736084),\n",
       " ('boy', 0.7506729364395142),\n",
       " ('girl', 0.7423104047775269),\n",
       " ('child', 0.7266175746917725),\n",
       " ('infant', 0.7064839005470276),\n",
       " ('mom', 0.699421226978302),\n",
       " ('pregnant', 0.6986744403839111),\n",
       " ('toddler', 0.6978277564048767)]"
      ]
     },
     "execution_count": 66,
     "metadata": {},
     "output_type": "execute_result"
    }
   ],
   "source": [
    "# Manually calculating new vector for word math\n",
    "new_vector = glove_model['baby'] + glove_model['baby']\n",
    "glove_model.most_similar(new_vector)"
   ]
  },
  {
   "cell_type": "markdown",
   "id": "ed82d8d9-8d00-4b90-8d83-7eb963cf5ba9",
   "metadata": {},
   "source": [
    "### **[✅TO DO: Change to Using Generic Example]**\"Fitting\" the Text Vectorization Layer "
   ]
  },
  {
   "cell_type": "code",
   "execution_count": null,
   "id": "9fce214b-0948-4632-bc3d-f2e1c70d8e45",
   "metadata": {},
   "outputs": [],
   "source": []
  },
  {
   "cell_type": "code",
   "execution_count": 67,
   "id": "972e8d3e-634d-4d6a-8524-a62be7f3de52",
   "metadata": {
    "execution": {
     "iopub.execute_input": "2024-01-08T01:38:54.230072Z",
     "iopub.status.busy": "2024-01-08T01:38:54.229842Z",
     "iopub.status.idle": "2024-01-08T01:38:54.263962Z",
     "shell.execute_reply": "2024-01-08T01:38:54.263372Z",
     "shell.execute_reply.started": "2024-01-08T01:38:54.230060Z"
    }
   },
   "outputs": [],
   "source": [
    "# Create text Vectorization layer\n",
    "sequence_vectorizer = tf.keras.layers.TextVectorization(\n",
    "    standardize=\"lower_and_strip_punctuation\",\n",
    "    output_mode=\"int\",\n",
    "    output_sequence_length=SEQUENCE_LENGTH\n",
    ")"
   ]
  },
  {
   "cell_type": "code",
   "execution_count": 68,
   "id": "3a628364-29e3-4180-90fd-3c2d42c0db90",
   "metadata": {
    "execution": {
     "iopub.execute_input": "2024-01-08T01:38:54.264940Z",
     "iopub.status.busy": "2024-01-08T01:38:54.264832Z",
     "iopub.status.idle": "2024-01-08T01:38:54.344243Z",
     "shell.execute_reply": "2024-01-08T01:38:54.343829Z",
     "shell.execute_reply.started": "2024-01-08T01:38:54.264931Z"
    }
   },
   "outputs": [],
   "source": [
    "# Fitting the vectorizer using .adapt\n",
    "\n",
    "example_text = ['Sometimes I love this vacuum, sometimes i hate this vacuum']\n",
    "sequence_vectorizer.adapt(example_text)\n"
   ]
  },
  {
   "cell_type": "code",
   "execution_count": 69,
   "id": "97a25c29-8323-4909-bcc0-d9c31c557abd",
   "metadata": {
    "execution": {
     "iopub.execute_input": "2024-01-08T01:38:54.344830Z",
     "iopub.status.busy": "2024-01-08T01:38:54.344691Z",
     "iopub.status.idle": "2024-01-08T01:38:54.375947Z",
     "shell.execute_reply": "2024-01-08T01:38:54.375550Z",
     "shell.execute_reply.started": "2024-01-08T01:38:54.344777Z"
    }
   },
   "outputs": [
    {
     "data": {
      "text/plain": [
       "['', '[UNK]', 'vacuum', 'this', 'sometimes', 'i', 'love', 'hate']"
      ]
     },
     "execution_count": 69,
     "metadata": {},
     "output_type": "execute_result"
    }
   ],
   "source": [
    "# Before training, only contains the out of vocab token ([UNK])\n",
    "sequence_vectorizer.get_vocabulary()[:10]"
   ]
  },
  {
   "cell_type": "code",
   "execution_count": 70,
   "id": "532cfa99-1ce6-4dbd-b02f-b331a1aa6f09",
   "metadata": {
    "execution": {
     "iopub.execute_input": "2024-01-08T01:38:54.376985Z",
     "iopub.status.busy": "2024-01-08T01:38:54.376713Z",
     "iopub.status.idle": "2024-01-08T01:38:54.407515Z",
     "shell.execute_reply": "2024-01-08T01:38:54.407187Z",
     "shell.execute_reply.started": "2024-01-08T01:38:54.376967Z"
    }
   },
   "outputs": [
    {
     "data": {
      "text/plain": [
       "8"
      ]
     },
     "execution_count": 70,
     "metadata": {},
     "output_type": "execute_result"
    }
   ],
   "source": [
    "# Saving the Size of the Vocab\n",
    "VOCAB_SIZE = sequence_vectorizer.vocabulary_size()\n",
    "VOCAB_SIZE"
   ]
  },
  {
   "cell_type": "code",
   "execution_count": null,
   "id": "66623992-d44d-4838-a2e3-4c9e26bcfe75",
   "metadata": {},
   "outputs": [],
   "source": []
  },
  {
   "cell_type": "code",
   "execution_count": 71,
   "id": "8edba3e4-0cb6-4326-a8b6-9bbec61df44b",
   "metadata": {
    "execution": {
     "iopub.execute_input": "2024-01-08T01:38:54.408213Z",
     "iopub.status.busy": "2024-01-08T01:38:54.408089Z",
     "iopub.status.idle": "2024-01-08T01:38:54.437248Z",
     "shell.execute_reply": "2024-01-08T01:38:54.436924Z",
     "shell.execute_reply.started": "2024-01-08T01:38:54.408203Z"
    }
   },
   "outputs": [
    {
     "data": {
      "text/plain": [
       "{0: '',\n",
       " 1: '[UNK]',\n",
       " 2: 'vacuum',\n",
       " 3: 'this',\n",
       " 4: 'sometimes',\n",
       " 5: 'i',\n",
       " 6: 'love',\n",
       " 7: 'hate'}"
      ]
     },
     "execution_count": 71,
     "metadata": {},
     "output_type": "execute_result"
    }
   ],
   "source": [
    "# Getting list of vocab\n",
    "vocab = sequence_vectorizer.get_vocabulary()\n",
    "int_to_str = {idx: word for idx, word in enumerate(vocab)}\n",
    "int_to_str"
   ]
  },
  {
   "cell_type": "markdown",
   "id": "a574b868-c730-4524-b129-c85f6ceb36ca",
   "metadata": {},
   "source": [
    "## Embedding Layer"
   ]
  },
  {
   "cell_type": "markdown",
   "id": "ed794019-1e9e-491a-8133-f9046d69de41",
   "metadata": {},
   "source": [
    "The embedding layer needs the number of words in the input (input_dim), and the desired embedding dimensions. (e.g. 100,200,300).\n",
    "\n",
    "Arbitrary"
   ]
  },
  {
   "cell_type": "code",
   "execution_count": 72,
   "id": "75cda7fb-8833-40ec-897c-3517928e60ef",
   "metadata": {
    "execution": {
     "iopub.execute_input": "2024-01-08T01:38:54.438117Z",
     "iopub.status.busy": "2024-01-08T01:38:54.438004Z",
     "iopub.status.idle": "2024-01-08T01:38:54.466351Z",
     "shell.execute_reply": "2024-01-08T01:38:54.466035Z",
     "shell.execute_reply.started": "2024-01-08T01:38:54.438107Z"
    }
   },
   "outputs": [],
   "source": [
    "# ## COMBINED CODE FOR CHAT GPT QUESTIONS\n",
    "# example_text = ['Sometimes I love this vacuum, sometimes i hate this vacuum']\n",
    "\n",
    "\n",
    "# # Create text Vectorization layer\n",
    "# sequence_vectorizer = tf.keras.layers.TextVectorization(\n",
    "#     standardize=\"lower_and_strip_punctuation\",\n",
    "#     output_mode=\"int\",\n",
    "#     output_sequence_length=SEQUENCE_LENGTH\n",
    "# )\n",
    "\n",
    "# # Fit the Text Vectorization Layer with .adapt\n",
    "# sequence_vectorizer.adapt(example_text)\n",
    "# VOCAB_SIZE = sequence_vectorizer.vocabulary_size()"
   ]
  },
  {
   "cell_type": "code",
   "execution_count": 73,
   "id": "3b78002a-64c7-4426-8bb0-feba8d69d60d",
   "metadata": {
    "execution": {
     "iopub.execute_input": "2024-01-08T01:38:54.467004Z",
     "iopub.status.busy": "2024-01-08T01:38:54.466889Z",
     "iopub.status.idle": "2024-01-08T01:38:54.528998Z",
     "shell.execute_reply": "2024-01-08T01:38:54.527791Z",
     "shell.execute_reply.started": "2024-01-08T01:38:54.466994Z"
    }
   },
   "outputs": [
    {
     "name": "stdout",
     "output_type": "stream",
     "text": [
      "Model: \"sequential\"\n",
      "_________________________________________________________________\n",
      " Layer (type)                Output Shape              Param #   \n",
      "=================================================================\n",
      " text_vectorization_2 (TextV  (None, 150)              0         \n",
      " ectorization)                                                   \n",
      "                                                                 \n",
      " embedding (Embedding)       (None, 150, 100)          800       \n",
      "                                                                 \n",
      "=================================================================\n",
      "Total params: 800\n",
      "Trainable params: 800\n",
      "Non-trainable params: 0\n",
      "_________________________________________________________________\n"
     ]
    }
   ],
   "source": [
    "# Create embedding layer of desired # of values\n",
    "EMBED_DIM = 100\n",
    "embedding_layer = layers.Embedding(input_dim = VOCAB_SIZE, output_dim = EMBED_DIM)\n",
    "\n",
    "demo_embed = Sequential()\n",
    "demo_embed.add(sequence_vectorizer)\n",
    "demo_embed.add(embedding_layer)\n",
    "demo_embed.compile(optimizer='adam', loss='mse')\n",
    "demo_embed.summary()"
   ]
  },
  {
   "cell_type": "code",
   "execution_count": 74,
   "id": "43cb3f56-0371-47b1-b897-a0275e99f565",
   "metadata": {
    "execution": {
     "iopub.execute_input": "2024-01-08T01:38:54.531409Z",
     "iopub.status.busy": "2024-01-08T01:38:54.531055Z",
     "iopub.status.idle": "2024-01-08T01:38:54.569528Z",
     "shell.execute_reply": "2024-01-08T01:38:54.569178Z",
     "shell.execute_reply.started": "2024-01-08T01:38:54.531394Z"
    }
   },
   "outputs": [
    {
     "data": {
      "text/plain": [
       "{0: '',\n",
       " 1: '[UNK]',\n",
       " 2: 'vacuum',\n",
       " 3: 'this',\n",
       " 4: 'sometimes',\n",
       " 5: 'i',\n",
       " 6: 'love',\n",
       " 7: 'hate'}"
      ]
     },
     "execution_count": 74,
     "metadata": {},
     "output_type": "execute_result"
    }
   ],
   "source": [
    "# Saving word index\n",
    "word_index = dict(\n",
    "    zip(\n",
    "        range(len(sequence_vectorizer.get_vocabulary())),\n",
    "        sequence_vectorizer.get_vocabulary(),\n",
    "    )\n",
    ")\n",
    "word_index"
   ]
  },
  {
   "cell_type": "code",
   "execution_count": 75,
   "id": "fe4f7cde-206f-4777-8225-bf8ee849c14e",
   "metadata": {
    "execution": {
     "iopub.execute_input": "2024-01-08T01:38:54.570299Z",
     "iopub.status.busy": "2024-01-08T01:38:54.570168Z",
     "iopub.status.idle": "2024-01-08T01:38:54.600762Z",
     "shell.execute_reply": "2024-01-08T01:38:54.600437Z",
     "shell.execute_reply.started": "2024-01-08T01:38:54.570286Z"
    }
   },
   "outputs": [
    {
     "data": {
      "text/plain": [
       "dict_keys(['', '[UNK]', 'vacuum', 'this', 'sometimes', 'i', 'love', 'hate'])"
      ]
     },
     "execution_count": 75,
     "metadata": {},
     "output_type": "execute_result"
    }
   ],
   "source": [
    "# Get the weights from the embedding layer (this is your actual embedding matrix)\n",
    "embedding_weights = demo_embed.layers[1].get_weights()[0]\n",
    "\n",
    "# Prepare the words and their corresponding vectors\n",
    "vector_dict = {}\n",
    "for i, word in word_index.items():#tokenizer.word_index.items():\n",
    "    # Save the weights for word (based on numeric index)\n",
    "    vector_dict[word]= embedding_weights[i] \n",
    "\n",
    "    # vector_list.append(embedding_weights[i])\n",
    "vector_dict.keys()"
   ]
  },
  {
   "cell_type": "code",
   "execution_count": 76,
   "id": "d804c401-996b-4386-8db4-dd585d5c56f7",
   "metadata": {
    "execution": {
     "iopub.execute_input": "2024-01-08T01:38:54.601354Z",
     "iopub.status.busy": "2024-01-08T01:38:54.601247Z",
     "iopub.status.idle": "2024-01-08T01:38:54.630087Z",
     "shell.execute_reply": "2024-01-08T01:38:54.629739Z",
     "shell.execute_reply.started": "2024-01-08T01:38:54.601344Z"
    }
   },
   "outputs": [
    {
     "data": {
      "text/plain": [
       "array([-0.0299156 ,  0.03141477,  0.00691662,  0.00198822, -0.01217095,\n",
       "        0.02614078,  0.00346822, -0.02694712, -0.02126378, -0.03367047,\n",
       "       -0.03026041, -0.04868783, -0.02720155,  0.0419825 ,  0.00935179,\n",
       "       -0.02623322,  0.02855435,  0.01595129,  0.01063927,  0.01984445,\n",
       "        0.03613817, -0.01970359,  0.02470828, -0.04452672,  0.02201129,\n",
       "       -0.00045055,  0.04587338, -0.01627526, -0.04408516,  0.03226172,\n",
       "       -0.01914661, -0.03202157,  0.0161907 ,  0.02494757, -0.04451919,\n",
       "       -0.02151566,  0.01456491,  0.00426685,  0.02268736,  0.01590947,\n",
       "        0.04506755,  0.01644034, -0.03675661,  0.03544264,  0.04810592,\n",
       "        0.04440464,  0.02846401, -0.00148214,  0.01913513, -0.01814747,\n",
       "       -0.01095663, -0.02679619, -0.02126837,  0.02699495,  0.03047511,\n",
       "       -0.04371173, -0.03436366, -0.04844689, -0.03162741, -0.03735153,\n",
       "        0.03211944,  0.00299814, -0.01709545, -0.03028184, -0.0462152 ,\n",
       "       -0.03546283, -0.01334856, -0.03376438, -0.04167335,  0.00930016,\n",
       "       -0.01518286, -0.02717583, -0.01524682, -0.02709051,  0.03355304,\n",
       "        0.02666891, -0.01672123, -0.01853266, -0.03558813, -0.04918878,\n",
       "        0.00932227, -0.02492307,  0.00714646, -0.0466604 , -0.03663117,\n",
       "       -0.01944542,  0.03105435, -0.01877296,  0.03591431,  0.01806159,\n",
       "       -0.02708738, -0.01910571, -0.01751347, -0.02586076,  0.04572946,\n",
       "        0.0184269 ,  0.01719678, -0.0202775 , -0.03283928, -0.00424309],\n",
       "      dtype=float32)"
      ]
     },
     "execution_count": 76,
     "metadata": {},
     "output_type": "execute_result"
    }
   ],
   "source": [
    "# Display the vector for \"love\"\n",
    "vector_dict['love']"
   ]
  },
  {
   "cell_type": "code",
   "execution_count": 77,
   "id": "d68a9432-9aa5-4d33-9b3b-5dbe432773e7",
   "metadata": {
    "execution": {
     "iopub.execute_input": "2024-01-08T01:38:54.630704Z",
     "iopub.status.busy": "2024-01-08T01:38:54.630594Z",
     "iopub.status.idle": "2024-01-08T01:38:54.659980Z",
     "shell.execute_reply": "2024-01-08T01:38:54.659615Z",
     "shell.execute_reply.started": "2024-01-08T01:38:54.630694Z"
    }
   },
   "outputs": [
    {
     "data": {
      "text/plain": [
       "array([-2.9399002e-02,  1.9975293e-02,  1.5409421e-02, -3.6812343e-02,\n",
       "       -1.2080610e-02, -7.9583153e-03,  1.2902748e-02,  3.9528403e-02,\n",
       "        3.5524789e-02,  4.7547173e-02, -1.4540553e-03,  2.0537484e-02,\n",
       "       -4.0473592e-02, -4.7446337e-02,  2.1903384e-02,  2.2696961e-02,\n",
       "        3.3331487e-02, -7.9357140e-03,  2.5086377e-02,  2.6388418e-02,\n",
       "        4.4058789e-02, -9.9365003e-03, -6.5351017e-03, -1.5260495e-02,\n",
       "        2.4355981e-02,  8.6950548e-03, -2.7296174e-02,  1.9183010e-04,\n",
       "        2.2819210e-02, -6.5993778e-03, -6.1978102e-03,  3.4676623e-02,\n",
       "       -4.3440413e-02, -7.0386417e-03, -1.4401436e-02,  1.3110902e-02,\n",
       "       -1.9784559e-02,  1.0675024e-02,  4.9137499e-02,  2.9477846e-02,\n",
       "        7.4203014e-03, -3.9217271e-02,  3.8854253e-02,  4.6427671e-02,\n",
       "        4.0411461e-02, -1.0167457e-02, -4.6183355e-03, -1.7419327e-02,\n",
       "       -4.7331762e-02,  2.5224771e-02,  9.1593638e-03,  2.1666612e-02,\n",
       "       -1.6731083e-02,  1.6487923e-02,  1.9970451e-02,  1.8838320e-02,\n",
       "       -4.5277204e-02, -1.2608279e-02,  2.2842657e-02,  4.6001028e-02,\n",
       "       -1.8521201e-02,  4.3051194e-02,  1.4027249e-02,  2.5330950e-02,\n",
       "        1.4100794e-02,  4.2908303e-03, -2.0229494e-02, -3.0096961e-02,\n",
       "        3.2691929e-02,  3.6323618e-02,  1.3710763e-02,  2.6611041e-02,\n",
       "        3.3812772e-02, -1.6937219e-02, -1.2549438e-02, -4.5076251e-02,\n",
       "       -1.0901548e-02,  1.8564072e-02, -3.1732429e-02,  3.6871087e-02,\n",
       "       -3.9071858e-02,  2.4747323e-02, -2.3234451e-02, -1.7052673e-02,\n",
       "       -4.7673773e-02,  4.5880664e-02, -3.1673528e-02,  1.1412751e-02,\n",
       "       -1.1682294e-02,  1.9384112e-02,  2.5298093e-02, -2.3042500e-02,\n",
       "       -3.8585745e-02,  9.1662258e-04, -2.9081428e-02,  3.6031272e-02,\n",
       "        2.3871209e-02, -1.4123786e-02, -4.5603503e-02,  7.0869923e-05],\n",
       "      dtype=float32)"
      ]
     },
     "execution_count": 77,
     "metadata": {},
     "output_type": "execute_result"
    }
   ],
   "source": [
    "# Display the vector for \"hate\"\n",
    "vector_dict['hate']"
   ]
  },
  {
   "cell_type": "code",
   "execution_count": 78,
   "id": "8d419d9f-38e3-4f75-96ac-4a9cdc63cff4",
   "metadata": {
    "execution": {
     "iopub.execute_input": "2024-01-08T01:38:54.660525Z",
     "iopub.status.busy": "2024-01-08T01:38:54.660434Z",
     "iopub.status.idle": "2024-01-08T01:38:54.690242Z",
     "shell.execute_reply": "2024-01-08T01:38:54.689826Z",
     "shell.execute_reply.started": "2024-01-08T01:38:54.660516Z"
    }
   },
   "outputs": [
    {
     "data": {
      "text/plain": [
       "array([-0.08981124,  0.05247709,  0.02686416, -0.01327632, -0.05526114,\n",
       "       -0.01193722, -0.03211054, -0.00147977,  0.00739419,  0.04675735,\n",
       "       -0.02957153, -0.07060971, -0.11193659,  0.01983193,  0.00241606,\n",
       "       -0.03908715,  0.06892775, -0.02353816,  0.04863957,  0.03333106,\n",
       "        0.07470986, -0.06084235,  0.0409374 , -0.10620053,  0.0306413 ,\n",
       "       -0.00615031,  0.03269647, -0.00192071, -0.03078766, -0.00917423,\n",
       "       -0.04787026,  0.00777104, -0.01177847,  0.0005806 , -0.04246987,\n",
       "       -0.03673746, -0.0311374 ,  0.03042643,  0.03687542,  0.0630185 ,\n",
       "        0.07274289, -0.03603158,  0.00283721,  0.12074791,  0.12408917,\n",
       "        0.06067729,  0.00251714,  0.00802746,  0.00496997, -0.02096344,\n",
       "       -0.00896698,  0.00165874, -0.04671446,  0.00078575,  0.08780511,\n",
       "        0.02343546, -0.07000072, -0.10230902,  0.01281979,  0.02200008,\n",
       "       -0.00922413,  0.04028123,  0.03144372, -0.00259336, -0.07818303,\n",
       "       -0.02868263, -0.04779096, -0.04441864,  0.03239391,  0.02108003,\n",
       "       -0.04061412,  0.02736096,  0.00689888,  0.00578735,  0.04665069,\n",
       "        0.02637854, -0.06356534,  0.03370443, -0.04943326, -0.00861654,\n",
       "       -0.02025871,  0.01430206,  0.01208785, -0.04961313, -0.10293274,\n",
       "        0.04039905,  0.01335844, -0.00175263,  0.04503777,  0.03143017,\n",
       "        0.03530458, -0.04806091, -0.05306401, -0.05063377,  0.0363536 ,\n",
       "        0.04227458,  0.08277988, -0.01034449, -0.12687238,  0.02680268],\n",
       "      dtype=float32)"
      ]
     },
     "execution_count": 78,
     "metadata": {},
     "output_type": "execute_result"
    }
   ],
   "source": [
    "# Vectors can be added/subtracted to get output vector - then find most similar word  \n",
    "vector_dict['hate'] + vector_dict['love'] + vector_dict['vacuum']"
   ]
  },
  {
   "cell_type": "markdown",
   "id": "710e824f-01f1-447b-b470-6b6111d92c8d",
   "metadata": {},
   "source": [
    "> - Conceptual example of using the maximum value as final result.\n",
    "> - Relate to GlovalMaxPooling1D() layer"
   ]
  },
  {
   "cell_type": "code",
   "execution_count": 79,
   "id": "26bffeeb-9b97-4fb0-a428-f7daefbdde9f",
   "metadata": {
    "execution": {
     "iopub.execute_input": "2024-01-08T01:38:54.690965Z",
     "iopub.status.busy": "2024-01-08T01:38:54.690850Z",
     "iopub.status.idle": "2024-01-08T01:38:54.720781Z",
     "shell.execute_reply": "2024-01-08T01:38:54.720455Z",
     "shell.execute_reply.started": "2024-01-08T01:38:54.690956Z"
    }
   },
   "outputs": [
    {
     "name": "stdout",
     "output_type": "stream",
     "text": [
      "(100,)\n"
     ]
    },
    {
     "data": {
      "text/plain": [
       "array([-0.029399  ,  0.03141477,  0.01540942,  0.02154781, -0.01208061,\n",
       "        0.02614078,  0.01290275,  0.0395284 ,  0.03552479,  0.04754717,\n",
       "        0.00214293,  0.02053748, -0.02720155,  0.0419825 ,  0.02190338,\n",
       "        0.02269696,  0.03333149,  0.01595129,  0.02508638,  0.02638842,\n",
       "        0.04405879, -0.0099365 ,  0.02470828, -0.0152605 ,  0.02435598,\n",
       "        0.00869505,  0.04587338,  0.01416272,  0.02281921,  0.03226172,\n",
       "       -0.00619781,  0.03467662,  0.0161907 ,  0.02494757,  0.01645075,\n",
       "        0.0131109 ,  0.01456491,  0.01548456,  0.0491375 ,  0.02947785,\n",
       "        0.04506755,  0.01644034,  0.03885425,  0.04642767,  0.04810592,\n",
       "        0.04440464,  0.02846401,  0.02692893,  0.0331666 ,  0.02522477,\n",
       "        0.00915936,  0.02166661, -0.00871501,  0.02699495,  0.03735954,\n",
       "        0.04830888,  0.00964015, -0.01260828,  0.02284266,  0.04600103,\n",
       "        0.03211944,  0.04305119,  0.03451191,  0.02533095,  0.01410079,\n",
       "        0.00429083, -0.01334856,  0.0194427 ,  0.04137533,  0.03632362,\n",
       "        0.01371076,  0.02792576,  0.03381277,  0.04981508,  0.03355304,\n",
       "        0.04478588, -0.01090155,  0.03367301,  0.0178873 ,  0.03687109,\n",
       "        0.00949087,  0.02474732,  0.02817584,  0.01409994, -0.0186278 ,\n",
       "        0.04588066,  0.03105435,  0.01141275,  0.03591431,  0.01938411,\n",
       "        0.03709387, -0.0059127 ,  0.0030352 ,  0.00091662,  0.04572946,\n",
       "        0.03603127,  0.04171189,  0.0240568 , -0.03283928,  0.0309749 ],\n",
       "      dtype=float32)"
      ]
     },
     "execution_count": 79,
     "metadata": {},
     "output_type": "execute_result"
    }
   ],
   "source": [
    "# Saving the MAX values (relate to GlobalMaxPooling)\n",
    "max_vector = np.max((vector_dict['hate'], vector_dict['love'] ,vector_dict['vacuum']), axis=0)\n",
    "print(max_vector.shape)\n",
    "max_vector"
   ]
  },
  {
   "cell_type": "code",
   "execution_count": 80,
   "id": "32d43288-b4bb-4145-a6ad-cb7efe7b5bfb",
   "metadata": {
    "execution": {
     "iopub.execute_input": "2024-01-08T01:38:54.721463Z",
     "iopub.status.busy": "2024-01-08T01:38:54.721336Z",
     "iopub.status.idle": "2024-01-08T01:38:54.751814Z",
     "shell.execute_reply": "2024-01-08T01:38:54.751461Z",
     "shell.execute_reply.started": "2024-01-08T01:38:54.721452Z"
    }
   },
   "outputs": [
    {
     "name": "stdout",
     "output_type": "stream",
     "text": [
      "(100,)\n"
     ]
    },
    {
     "data": {
      "text/plain": [
       "array([-0.02993708,  0.01749236,  0.00895472, -0.00442544, -0.01842038,\n",
       "       -0.00397907, -0.01070351, -0.00049326,  0.00246473,  0.01558578,\n",
       "       -0.00985718, -0.02353657, -0.0373122 ,  0.00661064,  0.00080535,\n",
       "       -0.01302905,  0.02297592, -0.00784605,  0.01621319,  0.01111035,\n",
       "        0.02490329, -0.02028078,  0.0136458 , -0.03540018,  0.01021377,\n",
       "       -0.0020501 ,  0.01089882, -0.00064024, -0.01026255, -0.00305808,\n",
       "       -0.01595675,  0.00259035, -0.00392616,  0.00019353, -0.01415662,\n",
       "       -0.01224582, -0.01037913,  0.01014214,  0.01229181,  0.02100617,\n",
       "        0.02424763, -0.01201053,  0.00094574,  0.0402493 ,  0.04136306,\n",
       "        0.02022576,  0.00083905,  0.00267582,  0.00165666, -0.00698781,\n",
       "       -0.00298899,  0.00055291, -0.01557149,  0.00026192,  0.02926837,\n",
       "        0.00781182, -0.02333357, -0.03410301,  0.00427326,  0.00733336,\n",
       "       -0.00307471,  0.01342708,  0.01048124, -0.00086445, -0.02606101,\n",
       "       -0.00956088, -0.01593032, -0.01480621,  0.01079797,  0.00702668,\n",
       "       -0.01353804,  0.00912032,  0.00229963,  0.00192912,  0.01555023,\n",
       "        0.00879285, -0.02118845,  0.01123481, -0.01647775, -0.00287218,\n",
       "       -0.0067529 ,  0.00476735,  0.00402928, -0.01653771, -0.03431091,\n",
       "        0.01346635,  0.00445281, -0.00058421,  0.01501259,  0.01047672,\n",
       "        0.01176819, -0.0160203 , -0.017688  , -0.01687792,  0.01211787,\n",
       "        0.01409153,  0.02759329, -0.00344816, -0.04229079,  0.00893423],\n",
       "      dtype=float32)"
      ]
     },
     "execution_count": 80,
     "metadata": {},
     "output_type": "execute_result"
    }
   ],
   "source": [
    "# Saving the Average values (relate to GlobalMaxPooling)\n",
    "avg_vector = np.mean((vector_dict['hate'], vector_dict['love'] ,vector_dict['vacuum']), axis=0)\n",
    "print(avg_vector.shape)\n",
    "avg_vector"
   ]
  },
  {
   "cell_type": "markdown",
   "id": "708f60a0-180d-498f-ae5b-07e9a849770b",
   "metadata": {},
   "source": [
    "## [Back to Task] Word Math with Corpus Vectors"
   ]
  },
  {
   "cell_type": "code",
   "execution_count": 81,
   "id": "73d5cc8b-963d-4a78-a33f-4f134509e812",
   "metadata": {
    "execution": {
     "iopub.execute_input": "2024-01-08T01:38:54.752535Z",
     "iopub.status.busy": "2024-01-08T01:38:54.752360Z",
     "iopub.status.idle": "2024-01-08T01:38:54.779629Z",
     "shell.execute_reply": "2024-01-08T01:38:54.779211Z",
     "shell.execute_reply.started": "2024-01-08T01:38:54.752518Z"
    }
   },
   "outputs": [],
   "source": [
    "# # Fit the layer on the training texts\n",
    "# try:\n",
    "#     sequence_vectorizer.adapt(train_ds)\n",
    "# except Exception as e:\n",
    "#     display(e)"
   ]
  },
  {
   "cell_type": "markdown",
   "id": "c45da873-5e7a-4e92-b4ca-939ad5c0e1f2",
   "metadata": {},
   "source": [
    "> We need to get a version of our data that is **only the texts**."
   ]
  },
  {
   "cell_type": "markdown",
   "id": "d401b00d-d9b2-416c-b171-2e3cace3dd92",
   "metadata": {},
   "source": [
    "### Create the Training Texts Dataset"
   ]
  },
  {
   "cell_type": "code",
   "execution_count": 82,
   "id": "68a346be-2bf5-483d-8c13-4074fb506730",
   "metadata": {
    "execution": {
     "iopub.execute_input": "2024-01-08T01:38:54.780153Z",
     "iopub.status.busy": "2024-01-08T01:38:54.780059Z",
     "iopub.status.idle": "2024-01-08T01:38:54.819065Z",
     "shell.execute_reply": "2024-01-08T01:38:54.818727Z",
     "shell.execute_reply.started": "2024-01-08T01:38:54.780143Z"
    }
   },
   "outputs": [
    {
     "data": {
      "text/plain": [
       "<tf.Tensor: shape=(32,), dtype=string, numpy=\n",
       "array([b\"If you have kids or animals or both - you need this.: I usually rent a rug doctor to clean my carpets but I just got tired of that and started to let them go to long so I bought this to keep in the house.  I love it, should have done this years ago when the kids were younger.\\nPros:\\nEasy to use, not any harder then pushing your vacume around.\\nDoes a very nice job\\nPrice is good, same as walmart\\n\\nCon:\\nTank is a little small so you have to fill and empty often.  But since I'm not renting it by the hour it's not that big of a deal for me.\",\n",
       "       b\"Leaked everywhere, but I got my money back on it: Bought it Nov. 2016.  It's broken a year later.  I bought the 2-year warranty provided by Square Trade, who issued me a full refund, sending me a refund check in the mail and did NOT ask for the machine back.  The machine leaked a bit from the first time I used it, a reported issue in the reviews.  But, I so loved the machine that I put up with the leaking.  But, it got worse and worse over time, finally dumping a lot of water on the carpet.  It easily sucked it all up, but it takes way too long to clean anything this way.  A gasket ring under the rinse tank also broke during my final use of the machine.  I had problems reaching Square Trade on my own, as their site said my e-mail was already associated with an account (Yes, MY account), but that my password was not working.  The new password they sent didn't work either, so I could not initiate the refund via their website.  They do NOT post a phone number.  I called WONDERFUL AMAZON CUSTOMER SERVICE (can't say enough good things about them).  They called Square Trade for me and put me through to talking directly to their customer service, who quickly decided the machine was not worth returning or fixing and issued me a full refund.  I did not like the machine.  I did like the resolution of the problem.\",\n",
       "       b'No steam!!!: It does clean well but there is no heating element of any way of heating the water. So not sure why the word steam cleaner. Also the instructions are so wired i have not been able to put the hose in so i have to keep the old one i have around because the hose part works well to clean the upholstery.',\n",
       "       b\"Wow. My rugs were nasty!: This thing is amazing. I cleaned my area rugs with it and the dirty water was black! And I had this weird smell in my parlor like there was a dead mouse in the crawlspace under the house or something. A bad DOA smell. Now after cleaning my rugs it's gone. Ugh. They were that dirty!! This thing is great. Highly recommend!\",\n",
       "       b\"Stopped Scrubbing on the Third Day: The brush stopped spinning at the beginning of the third day.  I can spin the brush by hand so it's not jammed.  Only used it about 2 hours for two days in a row.  I did check the little screen as described in the manual and it's clean.  Cleaned the brush, too.  I haven't even finished half of our house yet, and haven't moved the furniture so it's really less than a quarter of the house.\\n\\nWhen it worked, it cleaned and scrubbed the carpet well.  It sent the motor's warm exhaust downward to help dry the carpet - a clever design.  It had very good suction power.  The carpet dried to crisp in about 2 hours (in mid-70's with humidity below 10%.)\\n\\nThe only other negative was that the motor was jet engine loud.  I wore my 30db rated gun range hearing protection, but it's still louder than my Shark vacuum.\",\n",
       "       b'this thing is nearly useless. Picks up dust: meh, this thing is nearly useless. Picks up dust, requires a lot of cleaning. Long hair wraps around core plastic piece and it loses suction.',\n",
       "       b'Best vacuum ever: Best vacuum ever! I use this more than my stronger plugin simply because of the convenience of a cordless.',\n",
       "       b\"Stopped working after 10 months: My vacuum stopped working after 10 months. I don't know if it is a battery issue or what. Looks like battery issue. I charge the battery it will run for 2 mins and then stop. Is there anyway they can send me new battery? My last cordless vacuum last me for 3 years.\",\n",
       "       b\"This is the greatest little vacuum for us and our dogs: This is the greatest little vacuum for us and our dogs. Picks up most of the dog hair and we love watching it spin around in the dirt cup. Very rewarding to dump it all in the trash too. It's so easy we got another one for upstairs!\",\n",
       "       b'Great Vacuum!!: This is a great vacuum. It is so nice to just grab it and do a quick clean up. It does a great job on floors and carpets. Recharging is quick and easy. It is extremely convenient!',\n",
       "       b\"One Star: Don't waste your money!! Horrible item. I didn't clean at all! It was so frustrating! Please don't buy.\",\n",
       "       b'Not easy to clean the dust: Not easy to clean the dust, very difficult to open the dust container and put it back.\\nSucking not as good as I thought.',\n",
       "       b'Does a good job!: Cleans great!  I had to look up a youtube video to figure out how to attach the attachment hose but it works great!!',\n",
       "       b'Leaky mess that cant be fixed. Terrible customer service.: DO NOt BUY HOOVER power scrub for carpet cleaning. Their Authorized service center had for 2 weeks , replaced the motor and it still leaks. HOOVER wants me to take it back again instead of replacing it.  It worked fine 2 or 3 times for one large room then leaked everywhere. Do your research!',\n",
       "       b'Five Stars: Works great! Easy to use!',\n",
       "       b\"Extremely disappointed and have not even used it yet!!: No place for tools on the machine.  Put wet tools into a bag.  Talk about cheap!\\nEverything is plastic.  Too light weight.  Does not feel at all like there is any quality or durability.\\nCan't use it as I want to return it.\",\n",
       "       b\"it's better just to rent it: not what i expected.  who would buy just a carpet cleaner.  it is so heavy.  it's better just to rent it.\",\n",
       "       b'We have dogs that spay incontinence and though this wash + rince model would do better. HELL NO: Not enough power, just Jeb bush.  I also own the F5914900 which does not have a standalone rinse option.  We use that 99% of the time.  We have dogs that spay incontinence and though this wash + rince model would do better. HELL NO.  the F5914900 is heavier and sucks up most of the water.  This crappy one leaves a lot of fluid behind in the carpet.',\n",
       "       b'Five Stars: Awesome Vacuum for a Cordless.  I just love the suction and it works so easily.',\n",
       "       b'Very good product - also has great reviews.: Great for quick cleaning - strong suction and good battery life.  Have one for each floor.',\n",
       "       b'AWESOME!!!: OMG It really works well!!!!! Used with the pet stain and odor remover- this machine brouth our carpets back to their original gorgeous state!!! I am blown away!',\n",
       "       b\"I had no idea my carpet could look new!: I live in an apartment complex and the carpet is about 4 years old. When we moved in it was not looking in the best shape and figured it would never come clean! I purchased this product (I don't write reviews but I have to here) and OMG 3 extremely dark black water buckets later and an extremely clean carpet I was convinced this was getting the job done better than hiring a carpet cleaner for the same price!!!!! I also put clean water in the solution area after cleaning with the deep cleaning solution the steam vac came with (which works wonders without even spot treating) and I still got all the dirt up! Fast, simple, easy to use, effective and does just as good if not better than the rug doctor you rent! Extremely pleased!\\n\\nUpdated on 13JUN16- It has finally began to fall apart! This steam cleaner ahs been through so many things and been with me since a few months before my first son was born (about 3 1/2 years total life) We used this to do EVERYTHING! when you have kids this is a must. Sadly the bottom to keep it upright or let it go back broke off naturally... NO we aren't hard on our things, we seriously have used this so much and honestly that would be my biggest gripe about this steam cleaner is the way it holds itself upright is very wobbly. and the things which hold the dirty water tank in one of those broke off too. we have divorced and we will be purchasing the newer version of this steam cleaner! Hoover has done a fantastic job with steam cleaners for the price point! Just wish it would've lasted a bit longer!\",\n",
       "       b'Best Bang for the Buck or any Buck!: The shampooer came in three days and well packaged. I tried it out the next day. To my amazement it took dirt and stains out of our rug that had been there for several years. I used the Hoover carpet shampoo and that was a good choice. While this is not a commercial machine, it did a great job and was easy to use.',\n",
       "       b'A Must For Pet Owners: Excellent vacuum for pet owners. Light, easy to maneuver, charges quickly.',\n",
       "       b'Not great: Love the idea of this - and all the reviews were very good.  I had high expectations.  Unfortunately the roller grabs threads and other long dirt items and wraps them around so tight the roller just stops working.  You have to either \"remember\" to unwind it each time or suffer like I did and get frustrated. After 3 weeks of trying to put up with it because the no-cord thing is fabulous, it stopped working - just plain old stopped - quit - nada - nothing.  It leaves tomorrow.',\n",
       "       b'Very good, when it works. Do not expect long life out of it.: Got it in March 2015, today is end of October 2015.\\nPlastic is cracking at the points where you put screws to hold the handler in place. Today the vacuum started leaking badly. Both solvent and water leaks out from the bottom with the stream, which empty the tank within 4-5 minutes.\\nThe unit was kept dry and washed after every cleaning.\\nI just loaded it up and noticed the leak. Stay away from this equipment.',\n",
       "       b'Stopped working after a few uses.: Had this machine for a little over a year and it worked great. Only used it 4 or 5 times. Used it a few months ago and it worked fine, went to clean my couch with the hand tool and it did not work. Tried to use it to clean my rugs a few days ago and it will not dispense the cleaning solution. Looked online to find a solution and nothing worked. I came on here the other day to order a new machine and saw one on sale, ordered it and realized that this is the same machine I already have, will be returning when it arrives.',\n",
       "       b'Steer clear, do not buy used!!!!!!!!!!: If I could give zero stars.....Garbage.  Missing second water container, thrown in box.  Dirty, no instructions.  Could have done better going to thrift shop.  How can they honestly charge anyone for a machine missing water holder, basically non functional???? ',\n",
       "       b\"Good cleaner: This steam carpet cleaner works very well.  Does a good job on the carpet and is very easy to use.  I had a similar one that I used for years and when it finally gave out, I got a Bissel. In  the three years I had that one, it had to be replaced once while still under warranty and it quit working again so I got this one.  I like the ease of use. My only complaint is the hose attachment storage on machine itself doesn't seem to work so well for me, so the hose is not stored on my machine.\",\n",
       "       b'There is no where to contact anyone when there is ...: There is no where to contact anyone when there is a problem, I was not offered any extended plan on Amazon and now the vacuum cleaner is not working. The dirt is backing up in the exhaust and not going into the canister. Buy from here at your own risk',\n",
       "       b\"super cleaner!: I am so impressed with this hoover steamvac, i hadn't cleaned my carpets in years and now they look like new again!!! Best money I have spent in a long long time\",\n",
       "       b\"Hardly worth it: So heavy to push around, hardly worth the effort, doesn't get the carpet very clean at all, nothing like a professional cleaning no matter how hard you work at it.  My sister has a different brand and it seems to do a much superior job.\"],\n",
       "      dtype=object)>"
      ]
     },
     "execution_count": 82,
     "metadata": {},
     "output_type": "execute_result"
    }
   ],
   "source": [
    "# Get just the text from ds_train\n",
    "ds_texts = train_ds.map(lambda x, y: x)\n",
    "\n",
    "# Preview the text\n",
    "ds_texts.take(1).get_single_element()"
   ]
  },
  {
   "cell_type": "code",
   "execution_count": 83,
   "id": "8a6aed55-e62e-4375-8d80-17223bcdb253",
   "metadata": {
    "execution": {
     "iopub.execute_input": "2024-01-08T01:38:54.819813Z",
     "iopub.status.busy": "2024-01-08T01:38:54.819689Z",
     "iopub.status.idle": "2024-01-08T01:38:54.850785Z",
     "shell.execute_reply": "2024-01-08T01:38:54.850481Z",
     "shell.execute_reply.started": "2024-01-08T01:38:54.819803Z"
    }
   },
   "outputs": [
    {
     "name": "stdout",
     "output_type": "stream",
     "text": [
      "Words similar to 'vacuum': ['this', 'i', 'sometimes', '[UNK]', '']\n",
      "Words similar to the combination of 'hate', 'love', and 'vacuum': ['this', 'i', 'sometimes', '[UNK]', '']\n"
     ]
    }
   ],
   "source": [
    "import numpy as np\n",
    "from sklearn.metrics.pairwise import cosine_similarity\n",
    "\n",
    "# Define a function to calculate cosine similarity\n",
    "def find_closest_embeddings(embedding):\n",
    "    \n",
    "    return sorted(vector_dict.keys(), key=lambda word: cosine_similarity([vector_dict[word]], [embedding]))\n",
    "\n",
    "# Example of finding words similar to 'vacuum' \n",
    "similar_to_vacuum = find_closest_embeddings(vector_dict['vacuum'])[:5]  # Get the top 5 similar words\n",
    "\n",
    "# Print the similar words\n",
    "print(\"Words similar to 'vacuum':\", similar_to_vacuum)\n",
    "\n",
    "# Demonstration of vector arithmetic: 'hate' + 'love' + 'vacuum'\n",
    "combined_vector = vector_dict['hate'] + vector_dict['love'] + vector_dict['vacuum']\n",
    "similar_to_combined = find_closest_embeddings(combined_vector)[:5]  # Get the top 5 similar words\n",
    "\n",
    "# Print the similar words to the combined vector\n",
    "print(\"Words similar to the combination of 'hate', 'love', and 'vacuum':\", similar_to_combined)\n"
   ]
  },
  {
   "cell_type": "code",
   "execution_count": 84,
   "id": "a628c644-cf83-4cd6-abe8-c181c3af2f77",
   "metadata": {
    "execution": {
     "iopub.execute_input": "2024-01-08T01:38:54.851456Z",
     "iopub.status.busy": "2024-01-08T01:38:54.851329Z",
     "iopub.status.idle": "2024-01-08T01:38:54.881504Z",
     "shell.execute_reply": "2024-01-08T01:38:54.881204Z",
     "shell.execute_reply.started": "2024-01-08T01:38:54.851445Z"
    }
   },
   "outputs": [
    {
     "name": "stdout",
     "output_type": "stream",
     "text": [
      "Words similar to 'vacuum':\n",
      "['this', 'i', 'sometimes', '[UNK]', '']\n",
      "\n",
      "Words similar to the combination of vacuum + love\n",
      "['this', 'i', 'hate', 'sometimes', '']\n"
     ]
    }
   ],
   "source": [
    "\n",
    "# Example of finding words similar to 'vacuum' \n",
    "n_results = 5\n",
    "demo_word = 'vacuum'\n",
    "add_word = 'love'\n",
    "\n",
    "similar_to_vacuum = find_closest_embeddings(vector_dict[demo_word])[:n_results]  # Get the top 5 similar words\n",
    "\n",
    "# Print the similar words\n",
    "print(f\"Words similar to '{demo_word}':\")\n",
    "print(similar_to_vacuum)\n",
    "\n",
    "# Demonstration of vector arithmetic: 'hate' + 'love' + 'vacuum'\n",
    "combined_vector =vector_dict[add_word] + vector_dict[demo_word]# vector_dict['hate'] + \n",
    "\n",
    "similar_to_combined = find_closest_embeddings(combined_vector)[:n_results]  # Get the top 5 similar words\n",
    "\n",
    "# Print the similar words to the combined vector\n",
    "print(f\"\\nWords similar to the combination of {demo_word} + {add_word}\")\n",
    "print(similar_to_combined)\n"
   ]
  },
  {
   "cell_type": "markdown",
   "id": "a033011a-004f-47bc-b7e8-a6253a175730",
   "metadata": {},
   "source": [
    "## 📌BOOKMARK: TO DO ON 01/07/24"
   ]
  },
  {
   "cell_type": "markdown",
   "id": "54b0a46e-cd95-4c75-bf37-e10ca7ebb492",
   "metadata": {},
   "source": [
    "> FINISH END OF NOTEBOOK BELOW"
   ]
  },
  {
   "cell_type": "code",
   "execution_count": 85,
   "id": "f77a82ad-e846-4d6e-b344-618eecd78ecb",
   "metadata": {
    "execution": {
     "iopub.execute_input": "2024-01-08T01:38:54.882344Z",
     "iopub.status.busy": "2024-01-08T01:38:54.882201Z",
     "iopub.status.idle": "2024-01-08T01:38:54.910754Z",
     "shell.execute_reply": "2024-01-08T01:38:54.910443Z",
     "shell.execute_reply.started": "2024-01-08T01:38:54.882332Z"
    }
   },
   "outputs": [],
   "source": [
    "# ## COMBINED CODE FOR CHAT GPT QUESTIONS\n",
    "# # example_text = ['Sometimes I love this vacuum, sometimes i hate this vacuum']\n",
    "\n",
    "\n",
    "# # Create text Vectorization layer\n",
    "# sequence_vectorizer = tf.keras.layers.TextVectorization(\n",
    "#     standardize=\"lower_and_strip_punctuation\",\n",
    "#     output_mode=\"int\",\n",
    "#     output_sequence_length=SEQUENCE_LENGTH\n",
    "# )\n",
    "\n",
    "# # Fit the Text Vectorization Layer with .adapt\n",
    "# sequence_vectorizer.adapt(ds_texts)\n",
    "# VOCAB_SIZE = sequence_vectorizer.vocabulary_size()\n",
    "\n",
    "# # Create embedding layer of desired # of values\n",
    "# EMBED_DIM = 100\n",
    "# embedding_layer = layers.Embedding(input_dim = VOCAB_SIZE, output_dim = EMBED_DIM)\n",
    "\n",
    "# demo_embed = Sequential()\n",
    "# demo_embed.add(sequence_vectorizer)\n",
    "# demo_embed.add(embedding_layer)\n",
    "# demo_embed.compile(optimizer='adam', loss='mse')\n",
    "# # demo_embed.summary()\n",
    "\n",
    "\n",
    "# # Saving word index\n",
    "# word_index = dict(\n",
    "#     zip(\n",
    "#         range(len(sequence_vectorizer.get_vocabulary())),\n",
    "#         sequence_vectorizer.get_vocabulary(),\n",
    "#     )\n",
    "# )\n",
    "\n",
    "# # Get the weights from the embedding layer (this is your actual embedding matrix)\n",
    "# embedding_weights = demo_embed.layers[1].get_weights()[0]\n",
    "\n",
    "# # Prepare the words and their corresponding vectors\n",
    "# vector_dict = {}\n",
    "# for i, word in word_index.items():\n",
    "#     # Save the weights for word (based on numeric index)\n",
    "#     vector_dict[word]= embedding_weights[i] \n",
    "\n",
    "\n",
    "# # print(vector_dict.keys())\n",
    "\n",
    "# # Vectors can be added/subtracted to get output vector - then find most similar word  \n",
    "# vector_dict['hate'] + vector_dict['love'] + vector_dict['vacuum']"
   ]
  },
  {
   "cell_type": "markdown",
   "id": "4dfeeadc-e20b-4f2a-a64d-86944826a297",
   "metadata": {},
   "source": [
    "## TO DO: Demonstrate Sequence Lookup"
   ]
  },
  {
   "cell_type": "code",
   "execution_count": 86,
   "id": "b57461ed-2890-437f-aca6-36eeeb90fa13",
   "metadata": {
    "execution": {
     "iopub.execute_input": "2024-01-08T01:38:54.911343Z",
     "iopub.status.busy": "2024-01-08T01:38:54.911247Z",
     "iopub.status.idle": "2024-01-08T01:38:54.938102Z",
     "shell.execute_reply": "2024-01-08T01:38:54.937773Z",
     "shell.execute_reply.started": "2024-01-08T01:38:54.911334Z"
    }
   },
   "outputs": [],
   "source": [
    "# # Saving word index\n",
    "# word_index = dict(\n",
    "#     zip(\n",
    "#         range(len(sequence_vectorizer.get_vocabulary())),\n",
    "#         sequence_vectorizer.get_vocabulary(),\n",
    "#     )\n",
    "# )\n",
    "# word_index"
   ]
  },
  {
   "cell_type": "code",
   "execution_count": 87,
   "id": "8521c70d-c2b6-4435-bdbe-7ac595925a73",
   "metadata": {
    "execution": {
     "iopub.execute_input": "2024-01-08T01:38:54.938779Z",
     "iopub.status.busy": "2024-01-08T01:38:54.938685Z",
     "iopub.status.idle": "2024-01-08T01:38:54.965904Z",
     "shell.execute_reply": "2024-01-08T01:38:54.965486Z",
     "shell.execute_reply.started": "2024-01-08T01:38:54.938770Z"
    }
   },
   "outputs": [],
   "source": [
    "# EMBED_DIM = 100\n",
    "# embedding_layer = layers.Embedding(input_dim = VOCAB_SIZE, output_dim = EMBED_DIM)\n",
    "# embedding_layer"
   ]
  },
  {
   "cell_type": "code",
   "execution_count": null,
   "id": "bcfdce3a-30a2-4329-b061-5ca61b179544",
   "metadata": {},
   "outputs": [],
   "source": []
  },
  {
   "cell_type": "code",
   "execution_count": null,
   "id": "45ecd89e-612e-4c17-9286-6d92fe63ead8",
   "metadata": {},
   "outputs": [],
   "source": []
  },
  {
   "cell_type": "code",
   "execution_count": null,
   "id": "46088607-41ee-49b1-93a4-d2405e591730",
   "metadata": {},
   "outputs": [],
   "source": []
  },
  {
   "cell_type": "markdown",
   "id": "d0e1a448-8cc1-4bac-8896-0d278ebcfc5f",
   "metadata": {},
   "source": [
    "# Our First Deep Sequence Model"
   ]
  },
  {
   "cell_type": "markdown",
   "id": "95210b15-3546-48cb-9e2e-85669af45e6d",
   "metadata": {},
   "source": [
    "### Simple RNN"
   ]
  },
  {
   "cell_type": "code",
   "execution_count": 88,
   "id": "ba2fdb25-c2e2-44b7-ae97-1bc87ddc49cc",
   "metadata": {
    "execution": {
     "iopub.execute_input": "2024-01-08T01:38:54.966468Z",
     "iopub.status.busy": "2024-01-08T01:38:54.966377Z",
     "iopub.status.idle": "2024-01-08T01:38:57.843186Z",
     "shell.execute_reply": "2024-01-08T01:38:57.842849Z",
     "shell.execute_reply.started": "2024-01-08T01:38:54.966459Z"
    }
   },
   "outputs": [
    {
     "name": "stdout",
     "output_type": "stream",
     "text": [
      "Model: \"sequential_1\"\n",
      "_________________________________________________________________\n",
      " Layer (type)                Output Shape              Param #   \n",
      "=================================================================\n",
      " text_vectorization_3 (TextV  (None, 50)               0         \n",
      " ectorization)                                                   \n",
      "                                                                 \n",
      " embedding_1 (Embedding)     (None, 50, 100)           588900    \n",
      "                                                                 \n",
      " simple_rnn (SimpleRNN)      (None, 32)                4256      \n",
      "                                                                 \n",
      " dense (Dense)               (None, 1)                 33        \n",
      "                                                                 \n",
      "=================================================================\n",
      "Total params: 593,189\n",
      "Trainable params: 593,189\n",
      "Non-trainable params: 0\n",
      "_________________________________________________________________\n",
      "Epoch 1/30\n",
      "35/35 [==============================] - 1s 10ms/step - loss: 0.5445 - accuracy: 0.7513 - val_loss: 0.3865 - val_accuracy: 0.8721\n",
      "Epoch 2/30\n",
      "35/35 [==============================] - 0s 7ms/step - loss: 0.4048 - accuracy: 0.8560 - val_loss: 0.3898 - val_accuracy: 0.8690\n",
      "Epoch 3/30\n",
      "35/35 [==============================] - 0s 7ms/step - loss: 0.6039 - accuracy: 0.6959 - val_loss: 0.4633 - val_accuracy: 0.9088\n",
      "Epoch 4/30\n",
      "35/35 [==============================] - 0s 8ms/step - loss: 0.5011 - accuracy: 0.7701 - val_loss: 0.4799 - val_accuracy: 0.8208\n",
      "Epoch 5/30\n",
      "35/35 [==============================] - 0s 8ms/step - loss: 0.2815 - accuracy: 0.9275 - val_loss: 0.4100 - val_accuracy: 0.8606\n",
      "Epoch 6/30\n",
      "35/35 [==============================] - 0s 8ms/step - loss: 0.1332 - accuracy: 0.9696 - val_loss: 0.3129 - val_accuracy: 0.8983\n",
      "Epoch 7/30\n",
      "35/35 [==============================] - 0s 8ms/step - loss: 0.0638 - accuracy: 0.9982 - val_loss: 0.3889 - val_accuracy: 0.8312\n",
      "Epoch 8/30\n",
      "35/35 [==============================] - 0s 8ms/step - loss: 0.0352 - accuracy: 0.9991 - val_loss: 0.3602 - val_accuracy: 0.8480\n"
     ]
    },
    {
     "data": {
      "image/png": "[encoded data removed]",
      "text/plain": [
       "<Figure size 600x400 with 2 Axes>"
      ]
     },
     "metadata": {},
     "output_type": "display_data"
    }
   ],
   "source": [
    "### BEST\n",
    "\n",
    "\n",
    "def build_rnn_model(text_vectorization_layer):\n",
    "    VOCAB_SIZE = text_vectorization_layer.vocabulary_size()\n",
    "    SEQUENCE_LENGTH = sequence_vectorizer.get_config()['output_sequence_length']\n",
    "    \n",
    "    \n",
    "    # Define sequential model with pre-trained vectorization layer and *new* embedding layer\n",
    "    model = Sequential([\n",
    "        text_vectorization_layer,\n",
    "        layers.Embedding(input_dim=VOCAB_SIZE,\n",
    "                                  output_dim=EMBED_DIM, \n",
    "                                  input_length=SEQUENCE_LENGTH)\n",
    "        ])\n",
    "        \n",
    "    # Add *new* LSTM layer\n",
    "    model.add(layers.SimpleRNN(32)) #BEST=32\n",
    "    \n",
    "    # Add output layer\n",
    "    model.add(layers.Dense(1, activation='sigmoid'))\n",
    " \n",
    "    # Compile the model\n",
    "    model.compile(optimizer=optimizers.legacy.Adam(learning_rate = .001), \n",
    "                  loss='bce',#'sparse_categorical_crossentropy', \n",
    "                  metrics=['accuracy'])\n",
    "    \n",
    "    model.summary()\n",
    "    return model\n",
    "\n",
    "def get_callbacks(patience=3, monitor='val_accuracy'):\n",
    "    early_stop = tf.keras.callbacks.EarlyStopping(patience=patience, monitor=monitor)\n",
    "    return [early_stop]\n",
    "\n",
    "## Create text Vectorization layer\n",
    "SEQUENCE_LENGTH=50 #BEST=50\n",
    "EMBED_DIM = 100 # BEST= 200\n",
    "\n",
    "sequence_vectorizer = tf.keras.layers.TextVectorization(\n",
    "    standardize=\"lower_and_strip_punctuation\",\n",
    "    output_mode=\"int\",\n",
    "    output_sequence_length=SEQUENCE_LENGTH\n",
    ")\n",
    "\n",
    "sequence_vectorizer.adapt(ds_texts)\n",
    "\n",
    "# Build the lstm model and specify the vectorizer\n",
    "rnn_model = build_rnn_model(sequence_vectorizer)\n",
    "\n",
    "# Defien number of epocs\n",
    "EPOCHS = 30\n",
    "# Fit the model\n",
    "history = rnn_model.fit(\n",
    "    train_ds,\n",
    "    epochs=EPOCHS,\n",
    "    validation_data=val_ds,\n",
    "    callbacks=get_callbacks(patience=5),\n",
    ")\n",
    "fn.plot_history(history,figsize=(6,4))"
   ]
  },
  {
   "cell_type": "code",
   "execution_count": 89,
   "id": "fb74a307-abc8-4713-bc8f-44ca51062faf",
   "metadata": {
    "execution": {
     "iopub.execute_input": "2024-01-08T01:38:57.843947Z",
     "iopub.status.busy": "2024-01-08T01:38:57.843796Z",
     "iopub.status.idle": "2024-01-08T01:39:01.021382Z",
     "shell.execute_reply": "2024-01-08T01:39:01.020702Z",
     "shell.execute_reply.started": "2024-01-08T01:38:57.843937Z"
    }
   },
   "outputs": [
    {
     "name": "stdout",
     "output_type": "stream",
     "text": [
      "\n",
      "================================================================================\n",
      "- Evaluating Network...\n",
      "================================================================================\n",
      "----------------------------------------------------------------------\n",
      " Classification Metrics: Training Data\n",
      "----------------------------------------------------------------------\n",
      "              precision    recall  f1-score   support\n",
      "\n",
      "           0       1.00      1.00      1.00       559\n",
      "           1       1.00      1.00      1.00       559\n",
      "\n",
      "    accuracy                           1.00      1118\n",
      "   macro avg       1.00      1.00      1.00      1118\n",
      "weighted avg       1.00      1.00      1.00      1118\n",
      "\n"
     ]
    },
    {
     "data": {
      "image/png": "[encoded data removed]",
      "text/plain": [
       "<Figure size 600x400 with 2 Axes>"
      ]
     },
     "metadata": {},
     "output_type": "display_data"
    },
    {
     "name": "stdout",
     "output_type": "stream",
     "text": [
      "\n",
      "- Evaluating Training Data:\n",
      "35/35 [==============================] - 0s 2ms/step - loss: 0.0238 - accuracy: 1.0000\n",
      "{'loss': 0.023752808570861816, 'accuracy': 1.0}\n",
      "----------------------------------------------------------------------\n",
      " Classification Metrics: Test Data\n",
      "----------------------------------------------------------------------\n",
      "              precision    recall  f1-score   support\n",
      "\n",
      "           0       0.96      0.86      0.91       833\n",
      "           1       0.43      0.73      0.54       121\n",
      "\n",
      "    accuracy                           0.84       954\n",
      "   macro avg       0.69      0.79      0.72       954\n",
      "weighted avg       0.89      0.84      0.86       954\n",
      "\n"
     ]
    },
    {
     "data": {
      "image/png": "[encoded data removed]",
      "text/plain": [
       "<Figure size 600x400 with 2 Axes>"
      ]
     },
     "metadata": {},
     "output_type": "display_data"
    },
    {
     "name": "stdout",
     "output_type": "stream",
     "text": [
      "\n",
      "- Evaluating Test Data:\n",
      "30/30 [==============================] - 0s 2ms/step - loss: 0.3497 - accuracy: 0.8428\n",
      "{'loss': 0.34966155886650085, 'accuracy': 0.8427672982215881}\n"
     ]
    }
   ],
   "source": [
    "# Obtain the results\n",
    "results = fn.evaluate_classification_network(\n",
    "    rnn_model, X_train=train_ds, \n",
    "    X_test=test_ds,# history=history\n",
    ");"
   ]
  },
  {
   "cell_type": "markdown",
   "id": "ab409020-886d-46a5-afcc-bb2fad40fd23",
   "metadata": {},
   "source": [
    "### To Do: \n",
    "- Extract word vectors from embedding layers' weight \n",
    "- Do some word math\n",
    "- Alternative: glove"
   ]
  },
  {
   "cell_type": "code",
   "execution_count": 90,
   "id": "8be57a84-b485-42c6-b580-f46ac5bd835b",
   "metadata": {
    "execution": {
     "iopub.execute_input": "2024-01-08T01:39:01.022062Z",
     "iopub.status.busy": "2024-01-08T01:39:01.021923Z",
     "iopub.status.idle": "2024-01-08T01:39:01.055579Z",
     "shell.execute_reply": "2024-01-08T01:39:01.055089Z",
     "shell.execute_reply.started": "2024-01-08T01:39:01.022050Z"
    }
   },
   "outputs": [
    {
     "data": {
      "text/plain": [
       "(5889, 100)"
      ]
     },
     "execution_count": 90,
     "metadata": {},
     "output_type": "execute_result"
    }
   ],
   "source": [
    "## TEMP/EXP - extract embedding matrix\n",
    "\n",
    "embedding_weights = rnn_model.layers[1].get_weights()[0]\n",
    "embedding_weights.shape"
   ]
  },
  {
   "cell_type": "code",
   "execution_count": null,
   "id": "2b3dabd1-4cb8-4bfb-9064-62ad1874b4b2",
   "metadata": {},
   "outputs": [],
   "source": []
  },
  {
   "cell_type": "code",
   "execution_count": null,
   "id": "392b58b7-ea5e-4afe-8a40-287278be13a1",
   "metadata": {},
   "outputs": [],
   "source": []
  }
 ],
 "metadata": {
  "kernelspec": {
   "display_name": "Python (dojo-env)",
   "language": "python",
   "name": "dojo-env"
  },
  "language_info": {
   "codemirror_mode": {
    "name": "ipython",
    "version": 3
   },
   "file_extension": ".py",
   "mimetype": "text/x-python",
   "name": "python",
   "nbconvert_exporter": "python",
   "pygments_lexer": "ipython3",
   "version": "3.10.10"
  }
 },
 "nbformat": 4,
 "nbformat_minor": 5
}
