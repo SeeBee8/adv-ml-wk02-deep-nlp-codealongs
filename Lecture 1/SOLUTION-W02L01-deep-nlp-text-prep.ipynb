{
 "cells": [
  {
   "cell_type": "markdown",
   "id": "69383602-32d0-44b4-86d5-a29d46674555",
   "metadata": {},
   "source": [
    "# SOLUTION Advanced ML Week 3, Lecture 1: Text Vectorization - Sequences"
   ]
  },
  {
   "cell_type": "markdown",
   "id": "a36e37a1-8e2d-49f0-9652-39896926fd19",
   "metadata": {},
   "source": [
    "## Learning Objectives"
   ]
  },
  {
   "cell_type": "markdown",
   "id": "8cc57c4f-3b2c-4f6f-86aa-68f474a45656",
   "metadata": {},
   "source": [
    "- "
   ]
  },
  {
   "cell_type": "code",
   "execution_count": null,
   "id": "1bb188cf-33c6-4291-a422-dc7f06c25d55",
   "metadata": {},
   "outputs": [],
   "source": []
  },
  {
   "cell_type": "code",
   "execution_count": null,
   "id": "a3da456d-4d08-4957-87e2-c11afb391e51",
   "metadata": {},
   "outputs": [],
   "source": []
  },
  {
   "cell_type": "markdown",
   "id": "bd1b7678-d413-415e-8f3a-6a7d4b5d1cfd",
   "metadata": {},
   "source": [
    "## 🚧Functions (To Move to .py file) {move to before ML}"
   ]
  },
  {
   "cell_type": "code",
   "execution_count": 1,
   "id": "8a3487b0-db87-4f70-bc6c-a48e62956740",
   "metadata": {
    "execution": {
     "iopub.execute_input": "2024-01-06T03:50:50.638995Z",
     "iopub.status.busy": "2024-01-06T03:50:50.637944Z",
     "iopub.status.idle": "2024-01-06T03:50:50.644107Z",
     "shell.execute_reply": "2024-01-06T03:50:50.643597Z",
     "shell.execute_reply.started": "2024-01-06T03:50:50.638981Z"
    }
   },
   "outputs": [],
   "source": [
    "# Adding parent directory to python path\n",
    "import sys, os\n",
    "sys.path.append( os.path.abspath('../'))"
   ]
  },
  {
   "cell_type": "code",
   "execution_count": 2,
   "id": "23f8d776-63e5-4a02-afd8-04628e4c858e",
   "metadata": {
    "execution": {
     "iopub.execute_input": "2024-01-06T03:50:50.645933Z",
     "iopub.status.busy": "2024-01-06T03:50:50.645737Z",
     "iopub.status.idle": "2024-01-06T03:50:51.371453Z",
     "shell.execute_reply": "2024-01-06T03:50:51.371129Z",
     "shell.execute_reply.started": "2024-01-06T03:50:50.645914Z"
    }
   },
   "outputs": [],
   "source": [
    "## Load the autoreload extension\n",
    "%load_ext autoreload \n",
    "%autoreload 2\n",
    "\n",
    "import custom_functions_SOLUTION  as fn"
   ]
  },
  {
   "cell_type": "code",
   "execution_count": 3,
   "id": "615ff79d-d236-414f-872f-58093d182cb1",
   "metadata": {
    "execution": {
     "iopub.execute_input": "2024-01-06T03:50:51.372020Z",
     "iopub.status.busy": "2024-01-06T03:50:51.371890Z",
     "iopub.status.idle": "2024-01-06T03:50:51.386062Z",
     "shell.execute_reply": "2024-01-06T03:50:51.385611Z",
     "shell.execute_reply.started": "2024-01-06T03:50:51.372011Z"
    }
   },
   "outputs": [],
   "source": [
    "# from pprint import pprint\n",
    "# def make_text_vectorization_layer(train_ds,  max_tokens=None, \n",
    "#                                   split='whitespace',\n",
    "#                                   standardize=\"lower_and_strip_punctuation\",\n",
    "#                                   output_mode=\"int\",\n",
    "#                                   output_sequence_length=None,\n",
    "#                                   ngrams=None, pad_to_max_tokens=False,\n",
    "#                                   verbose=True,\n",
    "#                                   **kwargs,\n",
    "#                                  ):\n",
    "#     # Build the text vectorization layer\n",
    "#     text_vectorizer = tf.keras.layers.TextVectorization(\n",
    "#         max_tokens=max_tokens,\n",
    "#         standardize=standardize, \n",
    "#         output_mode=output_mode,\n",
    "#         output_sequence_length=output_sequence_length,\n",
    "#         **kwargs\n",
    "#     )\n",
    "#     # Get just the text from the training data\n",
    "#     if isinstance(train_ds, (np.ndarray, list, tuple, pd.Series)):\n",
    "#         ds_texts = train_ds\n",
    "#     else:\n",
    "#         try:\n",
    "#             ds_texts = train_ds.map(lambda x, y: x )\n",
    "#         except:\n",
    "#             ds_texts = train_ds\n",
    "            \n",
    "#     # Fit the layer on the training texts\n",
    "#     text_vectorizer.adapt(ds_texts)\n",
    "    \n",
    "    \n",
    "#     if verbose:\n",
    "#         # Print the params\n",
    "#         print( \"\\ntf.keras.layers.TextVectorization(\" )\n",
    "#         config = text_vectorizer.get_config()\n",
    "#         pprint(config,indent=4)\n",
    "#         print(\")\")\n",
    "               \n",
    "#     # SAVING VOCAB FOR LATER\n",
    "#     # Getting list of vocab \n",
    "#     vocab = text_vectorizer.get_vocabulary()\n",
    "#     # Save dictionaries to look up words from ints \n",
    "#     int_to_str  = {idx:word for idx, word in enumerate(vocab)}\n",
    "    \n",
    "#     return text_vectorizer, int_to_str\n"
   ]
  },
  {
   "cell_type": "code",
   "execution_count": 4,
   "id": "c7b18f3d-37d6-4752-a636-fde1d5e72528",
   "metadata": {
    "execution": {
     "iopub.execute_input": "2024-01-06T03:50:51.386740Z",
     "iopub.status.busy": "2024-01-06T03:50:51.386620Z",
     "iopub.status.idle": "2024-01-06T03:50:51.399601Z",
     "shell.execute_reply": "2024-01-06T03:50:51.399226Z",
     "shell.execute_reply.started": "2024-01-06T03:50:51.386718Z"
    }
   },
   "outputs": [],
   "source": [
    "# # Writing a demo custom function for .py file\n",
    "# def demo_function(name):\n",
    "#     print(f'Hello, {name}!')\n",
    "\n"
   ]
  },
  {
   "cell_type": "code",
   "execution_count": 5,
   "id": "b2a0b407-2ac8-4f34-8eb5-7dd8b415e011",
   "metadata": {
    "execution": {
     "iopub.execute_input": "2024-01-06T03:50:51.400275Z",
     "iopub.status.busy": "2024-01-06T03:50:51.400177Z",
     "iopub.status.idle": "2024-01-06T03:50:51.416046Z",
     "shell.execute_reply": "2024-01-06T03:50:51.415672Z",
     "shell.execute_reply.started": "2024-01-06T03:50:51.400265Z"
    }
   },
   "outputs": [],
   "source": [
    "# from sklearn.metrics import classification_report, ConfusionMatrixDisplay\n",
    "# def classification_metrics(y_true, y_pred, label='',\n",
    "#                            output_dict=False, figsize=(8,4),\n",
    "#                            normalize='true', cmap='Blues',\n",
    "#                            colorbar=False,values_format=\".2f\"):\n",
    "#     \"\"\"Modified version of classification metrics function from Intro to Machine Learning.\n",
    "#     Updates:\n",
    "#     - Reversed raw counts confusion matrix cmap  (so darker==more).\n",
    "#     - Added arg for normalized confusion matrix values_format\n",
    "#     \"\"\"\n",
    "#     # Get the classification report\n",
    "#     report = classification_report(y_true, y_pred)\n",
    "    \n",
    "#     ## Print header and report\n",
    "#     header = \"-\"*70\n",
    "#     print(header, f\" Classification Metrics: {label}\", header, sep='\\n')\n",
    "#     print(report)\n",
    "    \n",
    "#     ## CONFUSION MATRICES SUBPLOTS\n",
    "#     fig, axes = plt.subplots(ncols=2, figsize=figsize)\n",
    "    \n",
    "#     # Create a confusion matrix  of raw counts (left subplot)\n",
    "#     ConfusionMatrixDisplay.from_predictions(y_true, y_pred,\n",
    "#                                             normalize=None, \n",
    "#                                             cmap='gist_gray_r',# Updated cmap\n",
    "#                                             values_format=\"d\", \n",
    "#                                             colorbar=colorbar,\n",
    "#                                             ax = axes[0]);\n",
    "#     axes[0].set_title(\"Raw Counts\")\n",
    "    \n",
    "#     # Create a confusion matrix with the data with normalize argument \n",
    "#     ConfusionMatrixDisplay.from_predictions(y_true, y_pred,\n",
    "#                                             normalize=normalize,\n",
    "#                                             cmap=cmap, \n",
    "#                                             values_format=values_format, #New arg\n",
    "#                                             colorbar=colorbar,\n",
    "#                                             ax = axes[1]);\n",
    "#     axes[1].set_title(\"Normalized Confusion Matrix\")\n",
    "    \n",
    "#     # Adjust layout and show figure\n",
    "#     fig.tight_layout()\n",
    "#     plt.show()\n",
    "    \n",
    "#     # Return dictionary of classification_report\n",
    "#     if output_dict==True:\n",
    "#         report_dict = classification_report(y_true, y_pred, output_dict=True)\n",
    "#         return report_dict\n",
    "\n",
    "# def evaluate_classification(model, X_train, y_train, X_test, y_test,\n",
    "#                          figsize=(6,4), normalize='true', output_dict = False,\n",
    "#                             cmap_train='Blues', cmap_test=\"Reds\",colorbar=False):\n",
    "#   # Get predictions for training data\n",
    "#   y_train_pred = model.predict(X_train)\n",
    "#   # Call the helper function to obtain regression metrics for training data\n",
    "#   results_train = classification_metrics(y_train, y_train_pred, #verbose = verbose,\n",
    "#                                      output_dict=True, figsize=figsize,\n",
    "#                                          colorbar=colorbar, cmap=cmap_train,\n",
    "#                                      label='Training Data')\n",
    "#   print()\n",
    "#   # Get predictions for test data\n",
    "#   y_test_pred = model.predict(X_test)\n",
    "#   # Call the helper function to obtain regression metrics for test data\n",
    "#   results_test = classification_metrics(y_test, y_test_pred, #verbose = verbose,\n",
    "#                                   output_dict=True,figsize=figsize,\n",
    "#                                          colorbar=colorbar, cmap=cmap_test,\n",
    "#                                     label='Test Data' )\n",
    "#   if output_dict == True:\n",
    "#     # Store results in a dataframe if ouput_frame is True\n",
    "#     results_dict = {'train':results_train,\n",
    "#                     'test': results_test}\n",
    "#     return results_dict\n",
    "\n",
    "      \n",
    "\n",
    "# def evaluate_classification_network(model, \n",
    "#                                     X_train=None, y_train=None, \n",
    "#                                     X_test=None, y_test=None,\n",
    "#                                     history=None, history_figsize=(6,6),\n",
    "#                                     figsize=(6,4), normalize='true',\n",
    "#                                     output_dict = False,\n",
    "#                                     cmap_train='Blues',\n",
    "#                                     cmap_test=\"Reds\",\n",
    "#                                     values_format=\".2f\", \n",
    "#                                     colorbar=False):\n",
    "#     \"\"\"Evaluates a neural network classification task using either\n",
    "#     separate X and y arrays or a tensorflow Dataset\n",
    "    \n",
    "#     Data Args:\n",
    "#         X_train (array, or Dataset)\n",
    "#         y_train (array, or None if using a Dataset\n",
    "#         X_test (array, or Dataset)\n",
    "#         y_test (array, or None if using a Dataset)\n",
    "#         history (history object)\n",
    "#         \"\"\"\n",
    "#     # Plot history, if provided\n",
    "#     if history is not None:\n",
    "#         plot_history(history, figsize=history_figsize)\n",
    "#     ## Adding a Print Header\n",
    "#     print(\"\\n\"+'='*80)\n",
    "#     print('- Evaluating Network...')\n",
    "#     print('='*80)\n",
    "#     ## TRAINING DATA EVALUATION\n",
    "#     # check if X_train was provided\n",
    "#     if X_train is not None:\n",
    "#         ## Check if X_train is a dataset\n",
    "#         if hasattr(X_train,'map'):\n",
    "#             # If it IS a Datset:\n",
    "#             # extract y_train and y_train_pred with helper function\n",
    "#             y_train, y_train_pred = get_true_pred_labels(model, X_train)\n",
    "#         else:\n",
    "#             # Get predictions for training data\n",
    "#             y_train_pred = model.predict(X_train)\n",
    "#         ## Pass both y-vars through helper compatibility function\n",
    "#         y_train = convert_y_to_sklearn_classes(y_train)\n",
    "#         y_train_pred = convert_y_to_sklearn_classes(y_train_pred)\n",
    "        \n",
    "#         # Call the helper function to obtain regression metrics for training data\n",
    "#         results_train = classification_metrics(y_train, y_train_pred, \n",
    "#                                          output_dict=True, figsize=figsize,\n",
    "#                                              colorbar=colorbar, cmap=cmap_train,\n",
    "#                                                values_format=values_format,\n",
    "#                                          label='Training Data')\n",
    "        \n",
    "#         ## Run model.evaluate         \n",
    "#         print(\"\\n- Evaluating Training Data:\")\n",
    "#         print(model.evaluate(X_train, return_dict=True))\n",
    "    \n",
    "#     # If no X_train, then save empty list for results_train\n",
    "#     else:\n",
    "#         results_train = []\n",
    "#     ## TEST DATA EVALUATION\n",
    "#     # check if X_test was provided\n",
    "#     if X_test is not None:\n",
    "#         ## Check if X_train is a dataset\n",
    "#         if hasattr(X_test,'map'):\n",
    "#             # If it IS a Datset:\n",
    "#             # extract y_train and y_train_pred with helper function\n",
    "#             y_test, y_test_pred = get_true_pred_labels(model, X_test)\n",
    "#         else:\n",
    "#             # Get predictions for training data\n",
    "#             y_test_pred = model.predict(X_test)\n",
    "#         ## Pass both y-vars through helper compatibility function\n",
    "#         y_test = convert_y_to_sklearn_classes(y_test)\n",
    "#         y_test_pred = convert_y_to_sklearn_classes(y_test_pred)\n",
    "        \n",
    "#         # Call the helper function to obtain regression metrics for training data\n",
    "#         results_test = classification_metrics(y_test, y_test_pred, \n",
    "#                                          output_dict=True, figsize=figsize,\n",
    "#                                              colorbar=colorbar, cmap=cmap_test,\n",
    "#                                               values_format=values_format,\n",
    "#                                          label='Test Data')\n",
    "        \n",
    "#         ## Run model.evaluate         \n",
    "#         print(\"\\n- Evaluating Test Data:\")\n",
    "#         print(model.evaluate(X_test, return_dict=True))\n",
    "      \n",
    "#     # If no X_test, then save empty list for results_test\n",
    "#     else:\n",
    "#         results_test = []\n",
    "      \n",
    "#     # Store results in a dictionary\n",
    "#     results_dict = {'train':results_train,\n",
    "#                     'test': results_test}\n",
    "#     if output_dict == True:\n",
    "#         return results_dict\n",
    "\n",
    "# def plot_history(history,figsize=(6,8)):\n",
    "#     # Get a unique list of metrics \n",
    "#     all_metrics = np.unique([k.replace('val_','') for k in history.history.keys()])\n",
    "#     # Plot each metric\n",
    "#     n_plots = len(all_metrics)\n",
    "#     fig, axes = plt.subplots(nrows=n_plots, figsize=figsize)\n",
    "#     axes = axes.flatten()\n",
    "#     # Loop through metric names add get an index for the axes\n",
    "#     for i, metric in enumerate(all_metrics):\n",
    "#         # Get the epochs and metric values\n",
    "#         epochs = history.epoch\n",
    "#         score = history.history[metric]\n",
    "#         # Plot the training results\n",
    "#         axes[i].plot(epochs, score, label=metric, marker='.')\n",
    "#         # Plot val results (if they exist)\n",
    "#         try:\n",
    "#             val_score = history.history[f\"val_{metric}\"]\n",
    "#             axes[i].plot(epochs, val_score, label=f\"val_{metric}\",marker='.')\n",
    "#         except:\n",
    "#             pass\n",
    "#         finally:\n",
    "#             axes[i].legend()\n",
    "#             axes[i].set(title=metric, xlabel=\"Epoch\",ylabel=metric)\n",
    "#     # Adjust subplots and show\n",
    "#     fig.tight_layout()\n",
    "#     plt.show()\n",
    "\n",
    "# def convert_y_to_sklearn_classes(y, verbose=False):\n",
    "#     # If already one-dimension\n",
    "#     if np.ndim(y)==1:\n",
    "#         if verbose:\n",
    "#             print(\"- y is 1D, using it as-is.\")\n",
    "#         return y\n",
    "        \n",
    "#     # If 2 dimensions with more than 1 column:\n",
    "#     elif y.shape[1]>1:\n",
    "#         if verbose:\n",
    "#             print(\"- y is 2D with >1 column. Using argmax for metrics.\")   \n",
    "#         return np.argmax(y, axis=1)\n",
    "    \n",
    "#     else:\n",
    "#         if verbose:\n",
    "#             print(\"y is 2D with 1 column. Using round for metrics.\")\n",
    "#         return np.round(y).flatten().astype(int)\n",
    "\n",
    "\n",
    "# def get_true_pred_labels(model,ds):\n",
    "#     \"\"\"Gets the labels and predicted probabilities from a Tensorflow model and Dataset object.\n",
    "#     Adapted from source: https://stackoverflow.com/questions/66386561/keras-classification-report-accuracy-is-different-between-model-predict-accurac\n",
    "#     \"\"\"\n",
    "#     y_true = []\n",
    "#     y_pred_probs = []\n",
    "    \n",
    "#     # Loop through the dataset as a numpy iterator\n",
    "#     for images, labels in ds.as_numpy_iterator():\n",
    "        \n",
    "#         # Get prediction with batch_size=1\n",
    "#         y_probs = model.predict(images, batch_size=1, verbose=0)\n",
    "#         # Combine previous labels/preds with new labels/preds\n",
    "#         y_true.extend(labels)\n",
    "#         y_pred_probs.extend(y_probs)\n",
    "#     ## Convert the lists to arrays\n",
    "#     y_true = np.array(y_true)\n",
    "#     y_pred_probs = np.array(y_pred_probs)\n",
    "    \n",
    "#     return y_true, y_pred_probs\n"
   ]
  },
  {
   "cell_type": "code",
   "execution_count": 6,
   "id": "229368d5-a825-4185-b265-e1c0d7cd0dc2",
   "metadata": {
    "execution": {
     "iopub.execute_input": "2024-01-06T03:50:51.416699Z",
     "iopub.status.busy": "2024-01-06T03:50:51.416583Z",
     "iopub.status.idle": "2024-01-06T03:50:51.429474Z",
     "shell.execute_reply": "2024-01-06T03:50:51.429045Z",
     "shell.execute_reply.started": "2024-01-06T03:50:51.416688Z"
    }
   },
   "outputs": [],
   "source": [
    "# # Adding parent directory to python path\n",
    "# import sys, os\n",
    "# sys.path.append( os.path.abspath('../'))"
   ]
  },
  {
   "cell_type": "code",
   "execution_count": 7,
   "id": "d37f8c44-19e8-4d0d-8888-60d6065ed44d",
   "metadata": {
    "execution": {
     "iopub.execute_input": "2024-01-06T03:50:51.431724Z",
     "iopub.status.busy": "2024-01-06T03:50:51.431546Z",
     "iopub.status.idle": "2024-01-06T03:50:51.444131Z",
     "shell.execute_reply": "2024-01-06T03:50:51.443762Z",
     "shell.execute_reply.started": "2024-01-06T03:50:51.431710Z"
    }
   },
   "outputs": [],
   "source": [
    "# ## Load the autoreload extension\n",
    "# %load_ext autoreload \n",
    "# %autoreload 2\n",
    "\n",
    "# import custom_functions_SOLUTION  as fn"
   ]
  },
  {
   "cell_type": "code",
   "execution_count": 8,
   "id": "44117edd-f2e2-4f61-a20d-ae1ac47f2f06",
   "metadata": {
    "execution": {
     "iopub.execute_input": "2024-01-06T03:50:51.444699Z",
     "iopub.status.busy": "2024-01-06T03:50:51.444595Z",
     "iopub.status.idle": "2024-01-06T03:50:51.456967Z",
     "shell.execute_reply": "2024-01-06T03:50:51.456590Z",
     "shell.execute_reply.started": "2024-01-06T03:50:51.444690Z"
    }
   },
   "outputs": [],
   "source": [
    "# # Call custom function from imported file\n",
    "# fn.demo_function('Brenda')\n",
    "\n"
   ]
  },
  {
   "cell_type": "markdown",
   "id": "d90fe76e-5fa7-436e-9634-d67e5b470eab",
   "metadata": {},
   "source": [
    "## Data"
   ]
  },
  {
   "cell_type": "code",
   "execution_count": 9,
   "id": "d36b5806-1bf5-4c55-8e39-3f9159e26d1a",
   "metadata": {
    "execution": {
     "iopub.execute_input": "2024-01-06T03:50:51.457781Z",
     "iopub.status.busy": "2024-01-06T03:50:51.457527Z",
     "iopub.status.idle": "2024-01-06T03:50:51.471991Z",
     "shell.execute_reply": "2024-01-06T03:50:51.471672Z",
     "shell.execute_reply.started": "2024-01-06T03:50:51.457770Z"
    }
   },
   "outputs": [
    {
     "data": {
      "text/markdown": [
       "# Amazon Product Reviews\n",
       "\n",
       "- URL: https://cseweb.ucsd.edu/~jmcauley/datasets.html#amazon_reviews \n",
       "\n",
       "## Description\n",
       "\n",
       "This is a large crawl of product reviews from Amazon. This dataset contains 82.83 million unique reviews, from around 20 million users.\n",
       "\n",
       "## Basic statistics\n",
       "\n",
       "| Ratings:  | 82.83 million        |\n",
       "| --------- | -------------------- |\n",
       "| Users:    | 20.98 million        |\n",
       "| Items:    | 9.35 million         |\n",
       "| Timespan: | May 1996 - July 2014 |\n",
       "\n",
       "## Metadata\n",
       "\n",
       "- reviews and ratings\n",
       "- item-to-item relationships (e.g. \"people who bought X also bought Y\")\n",
       "- timestamps\n",
       "- helpfulness votes\n",
       "- product image (and CNN features)\n",
       "- price\n",
       "- category\n",
       "- salesRank\n",
       "\n",
       "## Example\n",
       "\n",
       "```\n",
       "{  \"reviewerID\": \"A2SUAM1J3GNN3B\",  \"asin\": \"0000013714\",  \"reviewerName\": \"J. McDonald\",  \"helpful\": [2, 3],  \"reviewText\": \"I bought this for my husband who plays the piano.  He is having a wonderful time playing these old hymns.  The music  is at times hard to read because we think the book was published for singing from more than playing from.  Great purchase though!\",  \"overall\": 5.0,  \"summary\": \"Heavenly Highway Hymns\",  \"unixReviewTime\": 1252800000,  \"reviewTime\": \"09 13, 2009\" }\n",
       "```\n",
       "\n",
       "## Download link\n",
       "\n",
       "See the [Amazon Dataset Page](https://cseweb.ucsd.edu/~jmcauley/datasets/amazon_v2/) for download information.\n",
       "\n",
       "The 2014 version of this dataset is [also available](https://cseweb.ucsd.edu/~jmcauley/datasets/amazon/links.html).\n",
       "\n",
       "## Citation\n",
       "\n",
       "Please cite the following if you use the data:\n",
       "\n",
       "**Ups and downs: Modeling the visual evolution of fashion trends with one-class collaborative filtering**\n",
       "\n",
       "R. He, J. McAuley\n",
       "\n",
       "*WWW*, 2016\n",
       "[pdf](https://cseweb.ucsd.edu/~jmcauley/pdfs/www16a.pdf)\n",
       "\n",
       "**Image-based recommendations on styles and substitutes**\n",
       "\n",
       "J. McAuley, C. Targett, J. Shi, A. van den Hengel\n",
       "\n",
       "*SIGIR*, 2015\n",
       "[pdf](https://cseweb.ucsd.edu/~jmcauley/pdfs/sigir15.pdf)"
      ],
      "text/plain": [
       "<IPython.core.display.Markdown object>"
      ]
     },
     "metadata": {},
     "output_type": "display_data"
    }
   ],
   "source": [
    "from IPython.display import display, Markdown\n",
    "with open(\"../Data-AmazonReviews/Amazon Product Reviews.md\") as f:\n",
    "    display(Markdown(f.read()))"
   ]
  },
  {
   "cell_type": "code",
   "execution_count": 10,
   "id": "d1f7e2ff-dcf2-4b44-addc-6215aa8a9223",
   "metadata": {
    "execution": {
     "iopub.execute_input": "2024-01-06T03:50:51.472575Z",
     "iopub.status.busy": "2024-01-06T03:50:51.472479Z",
     "iopub.status.idle": "2024-01-06T03:50:54.137142Z",
     "shell.execute_reply": "2024-01-06T03:50:54.136716Z",
     "shell.execute_reply.started": "2024-01-06T03:50:51.472566Z"
    }
   },
   "outputs": [],
   "source": [
    "import tensorflow as tf\n",
    "import numpy as np\n",
    "# Then Set Random Seeds\n",
    "tf.keras.utils.set_random_seed(42)\n",
    "tf.random.set_seed(42)\n",
    "np.random.seed(42)\n",
    "# Then run the Enable Deterministic Operations Function\n",
    "tf.config.experimental.enable_op_determinism()\n",
    "\n",
    "# MacOS Sonoma Fix\n",
    "tf.config.set_visible_devices([], 'GPU')"
   ]
  },
  {
   "cell_type": "code",
   "execution_count": 11,
   "id": "89879753-84c6-40cb-a2a8-8d6e7221cdf3",
   "metadata": {
    "execution": {
     "iopub.execute_input": "2024-01-06T03:50:54.137968Z",
     "iopub.status.busy": "2024-01-06T03:50:54.137768Z",
     "iopub.status.idle": "2024-01-06T03:50:54.458788Z",
     "shell.execute_reply": "2024-01-06T03:50:54.458434Z",
     "shell.execute_reply.started": "2024-01-06T03:50:54.137958Z"
    }
   },
   "outputs": [],
   "source": [
    "import pandas as pd \n",
    "import seaborn as sns\n",
    "\n",
    "import pandas as pd\n",
    "import matplotlib.pyplot as plt\n",
    "import seaborn as sns\n",
    "import numpy as np\n",
    "\n",
    "\n",
    "from tensorflow.keras.layers import TextVectorization\n",
    "from tensorflow.keras import layers\n",
    "from tensorflow.keras import optimizers\n",
    "\n",
    "from sklearn.model_selection import train_test_split\n",
    "from sklearn.pipeline import make_pipeline, Pipeline\n",
    "from sklearn.model_selection import GridSearchCV\n",
    "from imblearn.under_sampling import RandomUnderSampler\n",
    "from sklearn.preprocessing import LabelEncoder\n",
    "from sklearn import set_config\n",
    "set_config(transform_output='pandas')\n",
    "pd.set_option('display.max_colwidth', 250)\n",
    "\n",
    "# Define a function for building an LSTM model\n",
    "from tensorflow.keras.models import Sequential\n",
    "from tensorflow.keras import layers, optimizers, regularizers"
   ]
  },
  {
   "cell_type": "code",
   "execution_count": 12,
   "id": "8b67cf1a-97b6-4d3b-b103-694e4a6c6c29",
   "metadata": {
    "execution": {
     "iopub.execute_input": "2024-01-06T03:50:54.459473Z",
     "iopub.status.busy": "2024-01-06T03:50:54.459263Z",
     "iopub.status.idle": "2024-01-06T03:50:54.716257Z",
     "shell.execute_reply": "2024-01-06T03:50:54.715922Z",
     "shell.execute_reply.started": "2024-01-06T03:50:54.459463Z"
    }
   },
   "outputs": [
    {
     "name": "stdout",
     "output_type": "stream",
     "text": [
      "<class 'pandas.core.frame.DataFrame'>\n",
      "Int64Index: 8191 entries, 0 to 8256\n",
      "Data columns (total 10 columns):\n",
      " #   Column             Non-Null Count  Dtype  \n",
      "---  ------             --------------  -----  \n",
      " 0   overall            8191 non-null   float64\n",
      " 1   text-raw           8191 non-null   object \n",
      " 2   length             8191 non-null   int64  \n",
      " 3   text               8191 non-null   object \n",
      " 4   lower_text         8191 non-null   object \n",
      " 5   tokens             8191 non-null   object \n",
      " 6   no_stops           8191 non-null   object \n",
      " 7   no_stops_no_punct  8191 non-null   object \n",
      " 8   spacy_lemmas       8191 non-null   object \n",
      " 9   bigrams            8191 non-null   object \n",
      "dtypes: float64(1), int64(1), object(8)\n",
      "memory usage: 703.9+ KB\n"
     ]
    },
    {
     "data": {
      "text/html": [
       "<div>\n",
       "<style scoped>\n",
       "    .dataframe tbody tr th:only-of-type {\n",
       "        vertical-align: middle;\n",
       "    }\n",
       "\n",
       "    .dataframe tbody tr th {\n",
       "        vertical-align: top;\n",
       "    }\n",
       "\n",
       "    .dataframe thead th {\n",
       "        text-align: right;\n",
       "    }\n",
       "</style>\n",
       "<table border=\"1\" class=\"dataframe\">\n",
       "  <thead>\n",
       "    <tr style=\"text-align: right;\">\n",
       "      <th></th>\n",
       "      <th>overall</th>\n",
       "      <th>text-raw</th>\n",
       "      <th>length</th>\n",
       "      <th>text</th>\n",
       "      <th>lower_text</th>\n",
       "      <th>tokens</th>\n",
       "      <th>no_stops</th>\n",
       "      <th>no_stops_no_punct</th>\n",
       "      <th>spacy_lemmas</th>\n",
       "      <th>bigrams</th>\n",
       "    </tr>\n",
       "  </thead>\n",
       "  <tbody>\n",
       "    <tr>\n",
       "      <th>0</th>\n",
       "      <td>4.0</td>\n",
       "      <td>Not going to show you the dirty water on here because I have shame and it ...: Used it twice already and I have absolutely seen results. Not going to show you the dirty water on here because I have shame and it is gross. I will say that while you...</td>\n",
       "      <td>672</td>\n",
       "      <td>Not going to show you the dirty water on here because I have shame and it ...: Used it twice already and I have absolutely seen results. Not going to show you the dirty water on here because I have shame and it is gross. I will say that while you...</td>\n",
       "      <td>not going to show you the dirty water on here because i have shame and it ...: used it twice already and i have absolutely seen results. not going to show you the dirty water on here because i have shame and it is gross. i will say that while you...</td>\n",
       "      <td>[not, going, to, show, you, the, dirty, water, on, here, because, i, have, shame, and, it, ..., :, used, it, twice, already, and, i, have, absolutely, seen, results, ., not, going, to, show, you, the, dirty, water, on, here, because, i, have, sha...</td>\n",
       "      <td>[going, show, dirty, water, shame, ..., :, used, twice, already, absolutely, seen, results, ., going, show, dirty, water, shame, gross, ., say, 're, cleaning, ,, leave, place, second, (, instance, ,, 're, moving, plug, new, outlet, ), ,, leak, li...</td>\n",
       "      <td>[going, show, dirty, water, shame, ..., used, twice, already, absolutely, seen, results, going, show, dirty, water, shame, gross, say, 're, cleaning, leave, place, second, instance, 're, moving, plug, new, outlet, leak, little, water, part, sucks...</td>\n",
       "      <td>[go, dirty, water, shame, twice, absolutely, see, result, go, dirty, water, shame, gross, clean, leave, place, second, instance, move, plug, new, outlet, leak, little, water, suck, upward, big, deal, suck, right, happen, end, cleaning, remove, ta...</td>\n",
       "      <td>[(go, dirty), (dirty, water), (water, shame), (shame, twice), (twice, absolutely), (absolutely, see), (see, result), (result, go), (go, dirty), (dirty, water), (water, shame), (shame, gross), (gross, clean), (clean, leave), (leave, place), (place...</td>\n",
       "    </tr>\n",
       "    <tr>\n",
       "      <th>1</th>\n",
       "      <td>5.0</td>\n",
       "      <td>Makes carpet look brand new!!!: When you get the shampooer you have to put it together but is very easy...the handle is the only thing that you have to attach...\\n\\n My carpets were very dirty because I have 2 small dogs that go in and hour all d...</td>\n",
       "      <td>1021</td>\n",
       "      <td>Makes carpet look brand new!!!: When you get the shampooer you have to put it together but is very easy...the handle is the only thing that you have to attach...\\n\\n My carpets were very dirty because I have 2 small dogs that go in and hour all d...</td>\n",
       "      <td>makes carpet look brand new!!!: when you get the shampooer you have to put it together but is very easy...the handle is the only thing that you have to attach...\\n\\n my carpets were very dirty because i have 2 small dogs that go in and hour all d...</td>\n",
       "      <td>[makes, carpet, look, brand, new, !, !, !, :, when, you, get, the, shampooer, you, have, to, put, it, together, but, is, very, easy, ..., the, handle, is, the, only, thing, that, you, have, to, attach, ..., my, carpets, were, very, dirty, because...</td>\n",
       "      <td>[makes, carpet, look, brand, new, !, !, !, :, get, shampooer, put, together, easy, ..., handle, thing, attach, ..., carpets, dirty, 2, small, dogs, go, hour, day, ..., 1st, day, got, shampoo, shampooed, entire, house, made, huge, difference, ., w...</td>\n",
       "      <td>[makes, carpet, look, brand, new, get, shampooer, put, together, easy, ..., handle, thing, attach, ..., carpets, dirty, 2, small, dogs, go, hour, day, ..., 1st, day, got, shampoo, shampooed, entire, house, made, huge, difference, week, later, dow...</td>\n",
       "      <td>[make, carpet, look, brand, new, shampooer, easy, handle, thing, attach, carpet, dirty, 2, small, dog, hour, day, 1st, day, get, shampoo, shampoo, entire, house, huge, difference, week, later, downstair, dirt, carpet, shampoo, carpet, look, brian...</td>\n",
       "      <td>[(make, carpet), (carpet, look), (look, brand), (brand, new), (new, shampooer), (shampooer, easy), (easy, handle), (handle, thing), (thing, attach), (attach, carpet), (carpet, dirty), (dirty, 2), (2, small), (small, dog), (dog, hour), (hour, day)...</td>\n",
       "    </tr>\n",
       "    <tr>\n",
       "      <th>2</th>\n",
       "      <td>4.0</td>\n",
       "      <td>I Got What I Paid For: After getting an estimate on how much it would cost to have a \"professional\" clean our sofa &amp; love seat I decided to do it myself, so purchased this cleaner.  I chose this Hoover based on the many Amazon reviews I read, pri...</td>\n",
       "      <td>3016</td>\n",
       "      <td>I Got What I Paid For: After getting an estimate on how much it would cost to have a \"professional\" clean our sofa &amp; love seat I decided to do it myself, so purchased this cleaner.  I chose this Hoover based on the many Amazon reviews I read, pri...</td>\n",
       "      <td>i got what i paid for: after getting an estimate on how much it would cost to have a \"professional\" clean our sofa &amp; love seat i decided to do it myself, so purchased this cleaner.  i chose this hoover based on the many amazon reviews i read, pri...</td>\n",
       "      <td>[i, got, what, i, paid, for, :, after, getting, an, estimate, on, how, much, it, would, cost, to, have, a, ``, professional, '', clean, our, sofa, &amp;, love, seat, i, decided, to, do, it, myself, ,, so, purchased, this, cleaner, ., i, chose, this, ...</td>\n",
       "      <td>[got, paid, :, getting, estimate, much, would, cost, ``, professional, '', clean, sofa, &amp;, love, seat, decided, ,, purchased, cleaner, ., chose, hoover, based, many, amazon, reviews, read, ,, price, ,, reputation, maker, ., arrived, time, ,, pack...</td>\n",
       "      <td>[got, paid, getting, estimate, much, would, cost, ``, professional, '', clean, sofa, love, seat, decided, purchased, cleaner, chose, hoover, based, many, amazon, reviews, read, price, reputation, maker, arrived, time, packaging, great, thanks, am...</td>\n",
       "      <td>[got, pay, get, estimate, cost, professional, clean, sofa, love, seat, decide, purchase, cleaner, choose, hoover, base, amazon, review, read, price, reputation, maker, arrive, time, packaging, great, thank, amazon, cleaner, brand, new, condition,...</td>\n",
       "      <td>[(got, pay), (pay, get), (get, estimate), (estimate, cost), (cost, professional), (professional, clean), (clean, sofa), (sofa, love), (love, seat), (seat, decide), (decide, purchase), (purchase, cleaner), (cleaner, choose), (choose, hoover), (hoo...</td>\n",
       "    </tr>\n",
       "    <tr>\n",
       "      <th>3</th>\n",
       "      <td>4.0</td>\n",
       "      <td>Read tips before use, but overall great product: I purchased this Hoover carpet cleaner, because of all the great reviews on here.  I really like this carpet cleaner, and it really helped my poor tan colored carpet.  I have a dog, two cats, toddl...</td>\n",
       "      <td>995</td>\n",
       "      <td>Read tips before use, but overall great product: I purchased this Hoover carpet cleaner, because of all the great reviews on here.  I really like this carpet cleaner, and it really helped my poor tan colored carpet.  I have a dog, two cats, toddl...</td>\n",
       "      <td>read tips before use, but overall great product: i purchased this hoover carpet cleaner, because of all the great reviews on here.  i really like this carpet cleaner, and it really helped my poor tan colored carpet.  i have a dog, two cats, toddl...</td>\n",
       "      <td>[read, tips, before, use, ,, but, overall, great, product, :, i, purchased, this, hoover, carpet, cleaner, ,, because, of, all, the, great, reviews, on, here, ., i, really, like, this, carpet, cleaner, ,, and, it, really, helped, my, poor, tan, c...</td>\n",
       "      <td>[read, tips, use, ,, overall, great, product, :, purchased, hoover, carpet, cleaner, ,, great, reviews, ., really, like, carpet, cleaner, ,, really, helped, poor, tan, colored, carpet, ., dog, ,, two, cats, ,, toddler, ,, husband, ,, personally, ...</td>\n",
       "      <td>[read, tips, use, overall, great, product, purchased, hoover, carpet, cleaner, great, reviews, really, like, carpet, cleaner, really, helped, poor, tan, colored, carpet, dog, two, cats, toddler, husband, personally, beverage, spiller, pros, high,...</td>\n",
       "      <td>[read, tip, use, overall, great, product, purchase, hoover, carpet, cleaner, great, review, like, carpet, cleaner, help, poor, tan, color, carpet, dog, cat, toddler, husband, personally, beverage, spiller, pro, high, suction, heavy, clean, con, c...</td>\n",
       "      <td>[(read, tip), (tip, use), (use, overall), (overall, great), (great, product), (product, purchase), (purchase, hoover), (hoover, carpet), (carpet, cleaner), (cleaner, great), (great, review), (review, like), (like, carpet), (carpet, cleaner), (cle...</td>\n",
       "    </tr>\n",
       "    <tr>\n",
       "      <th>4</th>\n",
       "      <td>1.0</td>\n",
       "      <td>VERY DISAPPOINTED: WORKED for maybe 1/2 hr and then it appeared the motor got hot and shut off and 10 secs later would start again and would work for 10 or 15 secs and quit again.......sending it back to HOOVER this week......I was VERY DISAPPOIN...</td>\n",
       "      <td>311</td>\n",
       "      <td>VERY DISAPPOINTED: WORKED for maybe 1/2 hr and then it appeared the motor got hot and shut off and 10 secs later would start again and would work for 10 or 15 secs and quit again.......sending it back to HOOVER this week......I was VERY DISAPPOIN...</td>\n",
       "      <td>very disappointed: worked for maybe 1/2 hr and then it appeared the motor got hot and shut off and 10 secs later would start again and would work for 10 or 15 secs and quit again.......sending it back to hoover this week......i was very disappoin...</td>\n",
       "      <td>[very, disappointed, :, worked, for, maybe, 1/2, hr, and, then, it, appeared, the, motor, got, hot, and, shut, off, and, 10, secs, later, would, start, again, and, would, work, for, 10, or, 15, secs, and, quit, again, ......., sending, it, back, ...</td>\n",
       "      <td>[disappointed, :, worked, maybe, 1/2, hr, appeared, motor, got, hot, shut, 10, secs, later, would, start, would, work, 10, 15, secs, quit, ......., sending, back, hoover, week, ......, disappointed, cause, reviews, good, ....., maybe, got, lemon,...</td>\n",
       "      <td>[disappointed, worked, maybe, 1/2, hr, appeared, motor, got, hot, shut, 10, secs, later, would, start, would, work, 10, 15, secs, quit, ......., sending, back, hoover, week, ......, disappointed, cause, reviews, good, ....., maybe, got, lemon]</td>\n",
       "      <td>[disappointed, worked, maybe, 1/2, hr, appear, motor, get, hot, shut, 10, sec, later, start, work, 10, 15, sec, quit, send, hoover, week, disappointed, cause, review, good, maybe, get, lemon]</td>\n",
       "      <td>[(disappointed, worked), (worked, maybe), (maybe, 1/2), (1/2, hr), (hr, appear), (appear, motor), (motor, get), (get, hot), (hot, shut), (shut, 10), (10, sec), (sec, later), (later, start), (start, work), (work, 10), (10, 15), (15, sec), (sec, qu...</td>\n",
       "    </tr>\n",
       "  </tbody>\n",
       "</table>\n",
       "</div>"
      ],
      "text/plain": [
       "   overall  \\\n",
       "0      4.0   \n",
       "1      5.0   \n",
       "2      4.0   \n",
       "3      4.0   \n",
       "4      1.0   \n",
       "\n",
       "                                                                                                                                                                                                                                                    text-raw  \\\n",
       "0  Not going to show you the dirty water on here because I have shame and it ...: Used it twice already and I have absolutely seen results. Not going to show you the dirty water on here because I have shame and it is gross. I will say that while you...   \n",
       "1  Makes carpet look brand new!!!: When you get the shampooer you have to put it together but is very easy...the handle is the only thing that you have to attach...\\n\\n My carpets were very dirty because I have 2 small dogs that go in and hour all d...   \n",
       "2  I Got What I Paid For: After getting an estimate on how much it would cost to have a \"professional\" clean our sofa & love seat I decided to do it myself, so purchased this cleaner.  I chose this Hoover based on the many Amazon reviews I read, pri...   \n",
       "3  Read tips before use, but overall great product: I purchased this Hoover carpet cleaner, because of all the great reviews on here.  I really like this carpet cleaner, and it really helped my poor tan colored carpet.  I have a dog, two cats, toddl...   \n",
       "4  VERY DISAPPOINTED: WORKED for maybe 1/2 hr and then it appeared the motor got hot and shut off and 10 secs later would start again and would work for 10 or 15 secs and quit again.......sending it back to HOOVER this week......I was VERY DISAPPOIN...   \n",
       "\n",
       "   length  \\\n",
       "0     672   \n",
       "1    1021   \n",
       "2    3016   \n",
       "3     995   \n",
       "4     311   \n",
       "\n",
       "                                                                                                                                                                                                                                                        text  \\\n",
       "0  Not going to show you the dirty water on here because I have shame and it ...: Used it twice already and I have absolutely seen results. Not going to show you the dirty water on here because I have shame and it is gross. I will say that while you...   \n",
       "1  Makes carpet look brand new!!!: When you get the shampooer you have to put it together but is very easy...the handle is the only thing that you have to attach...\\n\\n My carpets were very dirty because I have 2 small dogs that go in and hour all d...   \n",
       "2  I Got What I Paid For: After getting an estimate on how much it would cost to have a \"professional\" clean our sofa & love seat I decided to do it myself, so purchased this cleaner.  I chose this Hoover based on the many Amazon reviews I read, pri...   \n",
       "3  Read tips before use, but overall great product: I purchased this Hoover carpet cleaner, because of all the great reviews on here.  I really like this carpet cleaner, and it really helped my poor tan colored carpet.  I have a dog, two cats, toddl...   \n",
       "4  VERY DISAPPOINTED: WORKED for maybe 1/2 hr and then it appeared the motor got hot and shut off and 10 secs later would start again and would work for 10 or 15 secs and quit again.......sending it back to HOOVER this week......I was VERY DISAPPOIN...   \n",
       "\n",
       "                                                                                                                                                                                                                                                  lower_text  \\\n",
       "0  not going to show you the dirty water on here because i have shame and it ...: used it twice already and i have absolutely seen results. not going to show you the dirty water on here because i have shame and it is gross. i will say that while you...   \n",
       "1  makes carpet look brand new!!!: when you get the shampooer you have to put it together but is very easy...the handle is the only thing that you have to attach...\\n\\n my carpets were very dirty because i have 2 small dogs that go in and hour all d...   \n",
       "2  i got what i paid for: after getting an estimate on how much it would cost to have a \"professional\" clean our sofa & love seat i decided to do it myself, so purchased this cleaner.  i chose this hoover based on the many amazon reviews i read, pri...   \n",
       "3  read tips before use, but overall great product: i purchased this hoover carpet cleaner, because of all the great reviews on here.  i really like this carpet cleaner, and it really helped my poor tan colored carpet.  i have a dog, two cats, toddl...   \n",
       "4  very disappointed: worked for maybe 1/2 hr and then it appeared the motor got hot and shut off and 10 secs later would start again and would work for 10 or 15 secs and quit again.......sending it back to hoover this week......i was very disappoin...   \n",
       "\n",
       "                                                                                                                                                                                                                                                      tokens  \\\n",
       "0  [not, going, to, show, you, the, dirty, water, on, here, because, i, have, shame, and, it, ..., :, used, it, twice, already, and, i, have, absolutely, seen, results, ., not, going, to, show, you, the, dirty, water, on, here, because, i, have, sha...   \n",
       "1  [makes, carpet, look, brand, new, !, !, !, :, when, you, get, the, shampooer, you, have, to, put, it, together, but, is, very, easy, ..., the, handle, is, the, only, thing, that, you, have, to, attach, ..., my, carpets, were, very, dirty, because...   \n",
       "2  [i, got, what, i, paid, for, :, after, getting, an, estimate, on, how, much, it, would, cost, to, have, a, ``, professional, '', clean, our, sofa, &, love, seat, i, decided, to, do, it, myself, ,, so, purchased, this, cleaner, ., i, chose, this, ...   \n",
       "3  [read, tips, before, use, ,, but, overall, great, product, :, i, purchased, this, hoover, carpet, cleaner, ,, because, of, all, the, great, reviews, on, here, ., i, really, like, this, carpet, cleaner, ,, and, it, really, helped, my, poor, tan, c...   \n",
       "4  [very, disappointed, :, worked, for, maybe, 1/2, hr, and, then, it, appeared, the, motor, got, hot, and, shut, off, and, 10, secs, later, would, start, again, and, would, work, for, 10, or, 15, secs, and, quit, again, ......., sending, it, back, ...   \n",
       "\n",
       "                                                                                                                                                                                                                                                    no_stops  \\\n",
       "0  [going, show, dirty, water, shame, ..., :, used, twice, already, absolutely, seen, results, ., going, show, dirty, water, shame, gross, ., say, 're, cleaning, ,, leave, place, second, (, instance, ,, 're, moving, plug, new, outlet, ), ,, leak, li...   \n",
       "1  [makes, carpet, look, brand, new, !, !, !, :, get, shampooer, put, together, easy, ..., handle, thing, attach, ..., carpets, dirty, 2, small, dogs, go, hour, day, ..., 1st, day, got, shampoo, shampooed, entire, house, made, huge, difference, ., w...   \n",
       "2  [got, paid, :, getting, estimate, much, would, cost, ``, professional, '', clean, sofa, &, love, seat, decided, ,, purchased, cleaner, ., chose, hoover, based, many, amazon, reviews, read, ,, price, ,, reputation, maker, ., arrived, time, ,, pack...   \n",
       "3  [read, tips, use, ,, overall, great, product, :, purchased, hoover, carpet, cleaner, ,, great, reviews, ., really, like, carpet, cleaner, ,, really, helped, poor, tan, colored, carpet, ., dog, ,, two, cats, ,, toddler, ,, husband, ,, personally, ...   \n",
       "4  [disappointed, :, worked, maybe, 1/2, hr, appeared, motor, got, hot, shut, 10, secs, later, would, start, would, work, 10, 15, secs, quit, ......., sending, back, hoover, week, ......, disappointed, cause, reviews, good, ....., maybe, got, lemon,...   \n",
       "\n",
       "                                                                                                                                                                                                                                           no_stops_no_punct  \\\n",
       "0  [going, show, dirty, water, shame, ..., used, twice, already, absolutely, seen, results, going, show, dirty, water, shame, gross, say, 're, cleaning, leave, place, second, instance, 're, moving, plug, new, outlet, leak, little, water, part, sucks...   \n",
       "1  [makes, carpet, look, brand, new, get, shampooer, put, together, easy, ..., handle, thing, attach, ..., carpets, dirty, 2, small, dogs, go, hour, day, ..., 1st, day, got, shampoo, shampooed, entire, house, made, huge, difference, week, later, dow...   \n",
       "2  [got, paid, getting, estimate, much, would, cost, ``, professional, '', clean, sofa, love, seat, decided, purchased, cleaner, chose, hoover, based, many, amazon, reviews, read, price, reputation, maker, arrived, time, packaging, great, thanks, am...   \n",
       "3  [read, tips, use, overall, great, product, purchased, hoover, carpet, cleaner, great, reviews, really, like, carpet, cleaner, really, helped, poor, tan, colored, carpet, dog, two, cats, toddler, husband, personally, beverage, spiller, pros, high,...   \n",
       "4        [disappointed, worked, maybe, 1/2, hr, appeared, motor, got, hot, shut, 10, secs, later, would, start, would, work, 10, 15, secs, quit, ......., sending, back, hoover, week, ......, disappointed, cause, reviews, good, ....., maybe, got, lemon]   \n",
       "\n",
       "                                                                                                                                                                                                                                                spacy_lemmas  \\\n",
       "0  [go, dirty, water, shame, twice, absolutely, see, result, go, dirty, water, shame, gross, clean, leave, place, second, instance, move, plug, new, outlet, leak, little, water, suck, upward, big, deal, suck, right, happen, end, cleaning, remove, ta...   \n",
       "1  [make, carpet, look, brand, new, shampooer, easy, handle, thing, attach, carpet, dirty, 2, small, dog, hour, day, 1st, day, get, shampoo, shampoo, entire, house, huge, difference, week, later, downstair, dirt, carpet, shampoo, carpet, look, brian...   \n",
       "2  [got, pay, get, estimate, cost, professional, clean, sofa, love, seat, decide, purchase, cleaner, choose, hoover, base, amazon, review, read, price, reputation, maker, arrive, time, packaging, great, thank, amazon, cleaner, brand, new, condition,...   \n",
       "3  [read, tip, use, overall, great, product, purchase, hoover, carpet, cleaner, great, review, like, carpet, cleaner, help, poor, tan, color, carpet, dog, cat, toddler, husband, personally, beverage, spiller, pro, high, suction, heavy, clean, con, c...   \n",
       "4                                                            [disappointed, worked, maybe, 1/2, hr, appear, motor, get, hot, shut, 10, sec, later, start, work, 10, 15, sec, quit, send, hoover, week, disappointed, cause, review, good, maybe, get, lemon]   \n",
       "\n",
       "                                                                                                                                                                                                                                                     bigrams  \n",
       "0  [(go, dirty), (dirty, water), (water, shame), (shame, twice), (twice, absolutely), (absolutely, see), (see, result), (result, go), (go, dirty), (dirty, water), (water, shame), (shame, gross), (gross, clean), (clean, leave), (leave, place), (place...  \n",
       "1  [(make, carpet), (carpet, look), (look, brand), (brand, new), (new, shampooer), (shampooer, easy), (easy, handle), (handle, thing), (thing, attach), (attach, carpet), (carpet, dirty), (dirty, 2), (2, small), (small, dog), (dog, hour), (hour, day)...  \n",
       "2  [(got, pay), (pay, get), (get, estimate), (estimate, cost), (cost, professional), (professional, clean), (clean, sofa), (sofa, love), (love, seat), (seat, decide), (decide, purchase), (purchase, cleaner), (cleaner, choose), (choose, hoover), (hoo...  \n",
       "3  [(read, tip), (tip, use), (use, overall), (overall, great), (great, product), (product, purchase), (purchase, hoover), (hoover, carpet), (carpet, cleaner), (cleaner, great), (great, review), (review, like), (like, carpet), (carpet, cleaner), (cle...  \n",
       "4  [(disappointed, worked), (worked, maybe), (maybe, 1/2), (1/2, hr), (hr, appear), (appear, motor), (motor, get), (get, hot), (hot, shut), (shut, 10), (10, sec), (sec, later), (later, start), (start, work), (work, 10), (10, 15), (15, sec), (sec, qu...  "
      ]
     },
     "execution_count": 12,
     "metadata": {},
     "output_type": "execute_result"
    }
   ],
   "source": [
    "import joblib\n",
    "df = joblib.load('../Data-AmazonReviews/processed_data.joblib')\n",
    "df.info()\n",
    "df.head()"
   ]
  },
  {
   "cell_type": "code",
   "execution_count": 13,
   "id": "88999b3f-1b93-49ee-950b-9f0bdb426be0",
   "metadata": {
    "execution": {
     "iopub.execute_input": "2024-01-06T03:50:54.716923Z",
     "iopub.status.busy": "2024-01-06T03:50:54.716777Z",
     "iopub.status.idle": "2024-01-06T03:50:54.744612Z",
     "shell.execute_reply": "2024-01-06T03:50:54.744232Z",
     "shell.execute_reply.started": "2024-01-06T03:50:54.716914Z"
    }
   },
   "outputs": [],
   "source": [
    "def create_groups(x):\n",
    "    if x>=5.0:\n",
    "        return \"high\"\n",
    "    elif x <=2.0:\n",
    "        return \"low\"\n",
    "    else: \n",
    "        return None"
   ]
  },
  {
   "cell_type": "markdown",
   "id": "292f5e92-f195-4ded-ac66-934ecb6644a2",
   "metadata": {},
   "source": [
    "To understand what customers do and do not like about Hoover products, we will define 2 groups:\n",
    "- High Ratings\n",
    "    - Overall rating = 5.0\n",
    "- Low Ratings\n",
    "    - Overall rating = 1.0 or 2.0\n",
    "\n",
    "\n",
    "We can use a function and .map to define group names based on the numeric overall ratings."
   ]
  },
  {
   "cell_type": "code",
   "execution_count": 14,
   "id": "9cda1d0b-e442-4f09-b334-c3397ab11834",
   "metadata": {
    "execution": {
     "iopub.execute_input": "2024-01-06T03:50:54.745438Z",
     "iopub.status.busy": "2024-01-06T03:50:54.745327Z",
     "iopub.status.idle": "2024-01-06T03:50:54.774751Z",
     "shell.execute_reply": "2024-01-06T03:50:54.774440Z",
     "shell.execute_reply.started": "2024-01-06T03:50:54.745428Z"
    }
   },
   "outputs": [
    {
     "data": {
      "text/plain": [
       "high    5547\n",
       "None    1832\n",
       "low      812\n",
       "Name: rating, dtype: int64"
      ]
     },
     "execution_count": 14,
     "metadata": {},
     "output_type": "execute_result"
    }
   ],
   "source": [
    "## Use the function to create a new \"rating\" column with groups\n",
    "df['rating'] = df['overall'].map(create_groups)\n",
    "df['rating'].value_counts(dropna=False)"
   ]
  },
  {
   "cell_type": "code",
   "execution_count": 15,
   "id": "5caeeaad-6db4-4dbf-a9e2-fcd3dfd30334",
   "metadata": {
    "execution": {
     "iopub.execute_input": "2024-01-06T03:50:54.775401Z",
     "iopub.status.busy": "2024-01-06T03:50:54.775295Z",
     "iopub.status.idle": "2024-01-06T03:50:54.803678Z",
     "shell.execute_reply": "2024-01-06T03:50:54.803335Z",
     "shell.execute_reply.started": "2024-01-06T03:50:54.775392Z"
    }
   },
   "outputs": [
    {
     "data": {
      "text/plain": [
       "high    0.872307\n",
       "low     0.127693\n",
       "Name: rating, dtype: float64"
      ]
     },
     "execution_count": 15,
     "metadata": {},
     "output_type": "execute_result"
    }
   ],
   "source": [
    "## Check class balance of 'rating'\n",
    "df['rating'].value_counts(normalize=True)"
   ]
  },
  {
   "cell_type": "code",
   "execution_count": 16,
   "id": "34a9010c-9582-42e3-b958-507c65ad08fd",
   "metadata": {
    "execution": {
     "iopub.execute_input": "2024-01-06T03:50:54.804636Z",
     "iopub.status.busy": "2024-01-06T03:50:54.804445Z",
     "iopub.status.idle": "2024-01-06T03:50:54.841197Z",
     "shell.execute_reply": "2024-01-06T03:50:54.840859Z",
     "shell.execute_reply.started": "2024-01-06T03:50:54.804619Z"
    }
   },
   "outputs": [
    {
     "data": {
      "text/plain": [
       "overall              0\n",
       "text-raw             0\n",
       "length               0\n",
       "text                 0\n",
       "lower_text           0\n",
       "tokens               0\n",
       "no_stops             0\n",
       "no_stops_no_punct    0\n",
       "spacy_lemmas         0\n",
       "bigrams              0\n",
       "rating               0\n",
       "dtype: int64"
      ]
     },
     "execution_count": 16,
     "metadata": {},
     "output_type": "execute_result"
    }
   ],
   "source": [
    "# Create a df_ml without null ratings\n",
    "df_ml = df.dropna(subset=['rating']).copy()\n",
    "df_ml.isna().sum()"
   ]
  },
  {
   "cell_type": "code",
   "execution_count": 17,
   "id": "2cd85e99-a07d-4475-9d20-134e1695c248",
   "metadata": {
    "execution": {
     "iopub.execute_input": "2024-01-06T03:50:54.841786Z",
     "iopub.status.busy": "2024-01-06T03:50:54.841680Z",
     "iopub.status.idle": "2024-01-06T03:50:54.871304Z",
     "shell.execute_reply": "2024-01-06T03:50:54.870912Z",
     "shell.execute_reply.started": "2024-01-06T03:50:54.841776Z"
    }
   },
   "outputs": [
    {
     "data": {
      "text/plain": [
       "1     Makes carpet look brand new!!!: When you get the shampooer you have to put it together but is very easy...the handle is the only thing that you have to attach...\\n\\n My carpets were very dirty because I have 2 small dogs that go in and hour all d...\n",
       "4     VERY DISAPPOINTED: WORKED for maybe 1/2 hr and then it appeared the motor got hot and shut off and 10 secs later would start again and would work for 10 or 15 secs and quit again.......sending it back to HOOVER this week......I was VERY DISAPPOIN...\n",
       "5                                                                 Perfect!: I love this cleaner!  It's easy to operate, light enough to manipulate and easy to clean. The tank holds plenty of shampoo and water solution and the suction for removal is great.\n",
       "6     Wow - way exceeded expectations: I had the older model from probably 2001 and it was great for the occasional pet stain or the muddy paw prints on white carpet situation, but it was not for routine cleaning.  It finally konked out so bought this ...\n",
       "7     Nice Carpet Machine!: This machine works really well, both putting out the solution and then sucking it back up.  The pieces to it are durable and fit well together.  It is not clumsy.  I shampooed my living room and family room carpet in about 2...\n",
       "8     Great Product: This steamvac is easy to use, does an excellent job.  Changing water is a breeze.  The scrub brushes really \"rough up\" the carpet to get it clean.  Seems to have done a better job than anything else I have used, since the carpet is...\n",
       "9     Not good for major clean ups: We've had to use this three times now - once was for generally sanitizing a reasonably clean carpet following a kiddie get-together. The second time was for a peeing incident and it worked less well. We could detect ...\n",
       "11    Great Value: We had not washed our carpets in years and this cleaner did a great job.  The liquid containers could be a bit bigger however for this price we have no complaints.  It cleaned up every spot and high traffic area.  I was impressed tha...\n",
       "12                                                                                                      Cleans good: Does a good job cleaning. I have had a few hoover cleaners over the years, this one is a little more simple but does what I need it to do.\n",
       "14    Easy to set up and use - and a reasonable price!: We needed to replace our very old canister green machine, which worked well but was a hassle to set up for use.  We considered the green machine upright but it was twice the price of this one, whi...\n",
       "Name: text, dtype: object"
      ]
     },
     "execution_count": 17,
     "metadata": {},
     "output_type": "execute_result"
    }
   ],
   "source": [
    "## X - Option A)  lemmas\n",
    "# def join_tokens(token_list):\n",
    "#     joined_tokens = ' '.join(token_list)\n",
    "#     return joined_tokens\n",
    "# X = df_ml['spacy_lemmas'].apply(join_tokens)\n",
    "\n",
    "# X - Option B) original raw text\n",
    "X = df_ml['text']\n",
    "\n",
    "# y - use our binary target \n",
    "y = df_ml['rating']\n",
    "X.head(10)"
   ]
  },
  {
   "cell_type": "code",
   "execution_count": 18,
   "id": "ea038ef0-08da-4dc5-b7b3-41f4652ca28d",
   "metadata": {
    "execution": {
     "iopub.execute_input": "2024-01-06T03:50:54.872034Z",
     "iopub.status.busy": "2024-01-06T03:50:54.871910Z",
     "iopub.status.idle": "2024-01-06T03:50:54.901152Z",
     "shell.execute_reply": "2024-01-06T03:50:54.900839Z",
     "shell.execute_reply.started": "2024-01-06T03:50:54.872024Z"
    }
   },
   "outputs": [
    {
     "data": {
      "text/plain": [
       "high    0.872307\n",
       "low     0.127693\n",
       "Name: rating, dtype: float64"
      ]
     },
     "execution_count": 18,
     "metadata": {},
     "output_type": "execute_result"
    }
   ],
   "source": [
    "y.value_counts(normalize=True)"
   ]
  },
  {
   "cell_type": "code",
   "execution_count": null,
   "id": "bde1fe33-1460-4d18-8ffe-8eb4ca9c6cee",
   "metadata": {},
   "outputs": [],
   "source": []
  },
  {
   "cell_type": "markdown",
   "id": "06184dc5-7b95-415d-ad4a-01b24f877d2a",
   "metadata": {},
   "source": [
    "# New For Today:"
   ]
  },
  {
   "cell_type": "markdown",
   "id": "f3dd218e-3911-49e7-9776-c07dc9087ae2",
   "metadata": {},
   "source": [
    "- Starting with a simple train-test-split for ML model (like in movie nlp project)\n",
    "- Resampling Imbalanced training data\n",
    "- Creating tensorflow dataset from X_train, y_train (so dataset is rebalanced)\n",
    "- Creating tensorflow dataset (intended to be split in 2 ) for X_test and y_test"
   ]
  },
  {
   "cell_type": "markdown",
   "id": "2486c413-1286-46df-b939-b6cc423e9b4e",
   "metadata": {},
   "source": [
    "## From Train-Test Split for ML to Train-Test-Val Split for ANNs"
   ]
  },
  {
   "cell_type": "code",
   "execution_count": 19,
   "id": "5f9c6b64-a923-4bcd-a899-8d1c43181cd1",
   "metadata": {
    "execution": {
     "iopub.execute_input": "2024-01-06T03:50:54.901926Z",
     "iopub.status.busy": "2024-01-06T03:50:54.901769Z",
     "iopub.status.idle": "2024-01-06T03:50:54.930899Z",
     "shell.execute_reply": "2024-01-06T03:50:54.930532Z",
     "shell.execute_reply.started": "2024-01-06T03:50:54.901916Z"
    }
   },
   "outputs": [
    {
     "data": {
      "text/plain": [
       "(4451, 1908)"
      ]
     },
     "execution_count": 19,
     "metadata": {},
     "output_type": "execute_result"
    }
   ],
   "source": [
    "# Perform 70:30 train test split\n",
    "X_train_full, X_test, y_train_full, y_test = train_test_split(X, y, test_size=.3, random_state=42)\n",
    "len(X_train_full), len(X_test)"
   ]
  },
  {
   "cell_type": "markdown",
   "id": "8c5dc81c-53c6-486c-9beb-1ba5a86f6909",
   "metadata": {},
   "source": [
    "## Using Sklearn's LabelEncoder"
   ]
  },
  {
   "cell_type": "markdown",
   "id": "d04f3486-8db8-4486-b931-bdc11d14a662",
   "metadata": {},
   "source": [
    "- Can't use text labels with neural networks."
   ]
  },
  {
   "cell_type": "code",
   "execution_count": 20,
   "id": "f098d599-e5a0-4d07-b8aa-a61ae8659921",
   "metadata": {
    "execution": {
     "iopub.execute_input": "2024-01-06T03:50:54.931581Z",
     "iopub.status.busy": "2024-01-06T03:50:54.931480Z",
     "iopub.status.idle": "2024-01-06T03:50:54.961579Z",
     "shell.execute_reply": "2024-01-06T03:50:54.961015Z",
     "shell.execute_reply.started": "2024-01-06T03:50:54.931572Z"
    }
   },
   "outputs": [
    {
     "data": {
      "text/plain": [
       "3889    high\n",
       "3254    high\n",
       "2996    high\n",
       "3790    high\n",
       "3764    high\n",
       "7301    high\n",
       "2449    high\n",
       "430     high\n",
       "2296    high\n",
       "2321     low\n",
       "Name: rating, dtype: object"
      ]
     },
     "execution_count": 20,
     "metadata": {},
     "output_type": "execute_result"
    }
   ],
   "source": [
    "y_train_full[:10]"
   ]
  },
  {
   "cell_type": "code",
   "execution_count": 21,
   "id": "e4195576-f430-446b-853a-da86d2bf0322",
   "metadata": {
    "execution": {
     "iopub.execute_input": "2024-01-06T03:50:54.962561Z",
     "iopub.status.busy": "2024-01-06T03:50:54.962168Z",
     "iopub.status.idle": "2024-01-06T03:50:54.990984Z",
     "shell.execute_reply": "2024-01-06T03:50:54.990591Z",
     "shell.execute_reply.started": "2024-01-06T03:50:54.962541Z"
    }
   },
   "outputs": [
    {
     "data": {
      "text/plain": [
       "array([0, 0, 0, 0, 0, 0, 0, 0, 0, 1])"
      ]
     },
     "execution_count": 21,
     "metadata": {},
     "output_type": "execute_result"
    }
   ],
   "source": [
    "# Instansiate label encoder\n",
    "encoder = LabelEncoder()\n",
    "\n",
    "# Fit and transform the training target\n",
    "y_train_full_enc = encoder.fit_transform(y_train_full)#.values)\n",
    "\n",
    "# Fit and tranform the test target\n",
    "y_test_enc = encoder.transform(y_test)\n",
    "\n",
    "y_train_full_enc[:10]"
   ]
  },
  {
   "cell_type": "code",
   "execution_count": 22,
   "id": "a2b8926d-f87c-40dd-b883-6ab44f054b16",
   "metadata": {
    "execution": {
     "iopub.execute_input": "2024-01-06T03:50:54.995486Z",
     "iopub.status.busy": "2024-01-06T03:50:54.995310Z",
     "iopub.status.idle": "2024-01-06T03:50:55.023014Z",
     "shell.execute_reply": "2024-01-06T03:50:55.022693Z",
     "shell.execute_reply.started": "2024-01-06T03:50:54.995473Z"
    }
   },
   "outputs": [
    {
     "data": {
      "text/plain": [
       "array(['high', 'low'], dtype=object)"
      ]
     },
     "execution_count": 22,
     "metadata": {},
     "output_type": "execute_result"
    }
   ],
   "source": [
    "# Original Class names saved as .classes_\n",
    "classes = encoder.classes_\n",
    "classes"
   ]
  },
  {
   "cell_type": "code",
   "execution_count": 23,
   "id": "a552b075-6d94-4ad7-8c05-025d60ac00c4",
   "metadata": {
    "execution": {
     "iopub.execute_input": "2024-01-06T03:50:55.023689Z",
     "iopub.status.busy": "2024-01-06T03:50:55.023549Z",
     "iopub.status.idle": "2024-01-06T03:50:55.052221Z",
     "shell.execute_reply": "2024-01-06T03:50:55.051871Z",
     "shell.execute_reply.started": "2024-01-06T03:50:55.023679Z"
    }
   },
   "outputs": [
    {
     "data": {
      "text/plain": [
       "array(['high', 'low'], dtype=object)"
      ]
     },
     "execution_count": 23,
     "metadata": {},
     "output_type": "execute_result"
    }
   ],
   "source": [
    "# Can inverse-transform \n",
    "encoder.inverse_transform([0,1])"
   ]
  },
  {
   "cell_type": "markdown",
   "id": "ce7cb1dc-d13d-4dcb-80ca-b8301f0f3581",
   "metadata": {},
   "source": [
    "### Undersampling Majority Class"
   ]
  },
  {
   "cell_type": "code",
   "execution_count": 24,
   "id": "25d98790-5804-4162-9e78-4b0b3ff8faa5",
   "metadata": {
    "execution": {
     "iopub.execute_input": "2024-01-06T03:50:55.053287Z",
     "iopub.status.busy": "2024-01-06T03:50:55.053059Z",
     "iopub.status.idle": "2024-01-06T03:50:55.081704Z",
     "shell.execute_reply": "2024-01-06T03:50:55.081223Z",
     "shell.execute_reply.started": "2024-01-06T03:50:55.053273Z"
    }
   },
   "outputs": [],
   "source": [
    "from imblearn.under_sampling import RandomUnderSampler\n",
    "\n",
    "# Instantiate a RandomUnderSampler\n",
    "sampler = RandomUnderSampler(random_state=42)"
   ]
  },
  {
   "cell_type": "code",
   "execution_count": 25,
   "id": "14d977d4-e6a1-4bf1-8b84-b50c216f0fbd",
   "metadata": {
    "execution": {
     "iopub.execute_input": "2024-01-06T03:50:55.082583Z",
     "iopub.status.busy": "2024-01-06T03:50:55.082476Z",
     "iopub.status.idle": "2024-01-06T03:50:55.111744Z",
     "shell.execute_reply": "2024-01-06T03:50:55.111393Z",
     "shell.execute_reply.started": "2024-01-06T03:50:55.082574Z"
    }
   },
   "outputs": [
    {
     "data": {
      "text/plain": [
       "ValueError('Expected 2D array, got 1D array instead:\\narray=[\\'Really like it!: Love this!  No more pulling out the vacuum cleaner from the garage and plugging it in 3 different places to get the whole room.  Suction is great, very compact and nice handling.  We will see if it holds up.  I did buy the extended warranty for 6 bucks due to some of the reviews.  But if I had to spend 100 on a new one every year I would.\\'\\n \\'which is awesome.: My last carpet cleaner broke so I bought this one after reading the reviews. It cleans very well! My carpet dries in about 30 minutes, which is awesome.\\'\\n \\'seriously powerful: This is our second of these vacuums- we liked the first so much that we decided to get a second one for the second floor of our house.  This is the only \"stick vac\" we have found that can compete with our Dyson. We have four cats, three birds, and a ten year old daughter with very long hair, plus a garden we track leaves and dirt in from, so we\\\\\\'re constantly (and I do mean constantly- at least twice a day) thoroughly vacuuming- I mean, going over the whole house. We usually do our big daily vacuuming of the whole house with the Dyson, but it\\\\\\'s a beast, and it\\\\\\'s not ideal for quick clean ups or, or lugging up the stairs, or doing what we call, \"zip ups\" throughout the day. This is the FIRST stick vac we have had that actually gets up all the hair plus any bird seed and dried leaves, and can make it through our whole house on a charge and continue to work powerfully. It\\\\\\'s also fairly lightweight (but not feather weight).\\\\n\\\\nIt would be nice if there was on board charging- that\\\\\\'s the ONLY major flaw with this vacuum- you have to take the battery out and put it in the charger to get a charge. And you\\\\\\'re not supposed to keep it in the charger, so you have to babysit the battery all the time. It\\\\\\'s be nice to have on-board charging, but alas...\\\\n\\\\nregardless, it\\\\\\'s the best lightweight vacuum we have found and we like it so much we now own two, and they regularly compete with the Dyson. I can\\\\\\'t recommend it enough.\\'\\n ...\\n \"No clean vacuum cleaner: Hard to get it to pick up the dog hair & sand. Dog hair clogs the opening which in turn won\\'t let it pick up the sand. I have to run across a rug to get the dog hair off so I can get what little sand it will pick up. Even with low cost, not worth the money.\"\\n \"Works great!: Works great.  So far I\\'ve used it 3 different times.  I\\'ve cleaned my carpets on 2 different days and furniture another day.  I noticed the most difference on the furniture (mostly because our carpets are dark brown shag and you can\\'t tell when they\\'re dirty) .  The spinning upholstery brush works great!  I did make the mistake of scrubbing cat throw up off the couch with the spin brush and I guess a granule got caught in the spin gears and it stopped spinning.  My husband was able to take it apart and get the grain out and it worked fine again.  So it\\'s important to vacuum any particles up before using the spin brush, but the other upholstery attachment had no issue sucking gobs of cat hair off the furniture.\\\\nI had no issues assembling the machine or with anything leaking.  Already went through the bottle of cleaning solution that came with it, but it was a small bottle.  I probably got 7-10 fills out of that bottle.  The instructions say to place the machine on a hard surface and let it suck up clean water to clean out the front suction part.  Man, does it suck up water well!  You can\\'t tell on carpets other than seeing the water being sucked through the machine.  But on hard floors, the floors are practically dry!  Will be great to have if our basement leaks again.\\\\nI figured for the cost of renting a machine twice, I could just own my own.  After reading reviews on several different machines, I\\'m happy I got this one.\"\\n \\'Researched and Researched and Researched: Researched and researched and researched and this was the result.\\\\n\\\\nSatisfied am I with the slim size, significant suck, and decent battery performance.\\'].\\nReshape your data either using array.reshape(-1, 1) if your data has a single feature or array.reshape(1, -1) if it contains a single sample.')"
      ]
     },
     "metadata": {},
     "output_type": "display_data"
    }
   ],
   "source": [
    "try:\n",
    "    X_train, y_train = sampler.fit_resample(X_train_full,y_train_full_enc)\n",
    "except Exception as e:\n",
    "    display(e)"
   ]
  },
  {
   "cell_type": "code",
   "execution_count": 26,
   "id": "6e69b21c-e59a-44f2-9619-ec706e571518",
   "metadata": {
    "execution": {
     "iopub.execute_input": "2024-01-06T03:50:55.112448Z",
     "iopub.status.busy": "2024-01-06T03:50:55.112305Z",
     "iopub.status.idle": "2024-01-06T03:50:55.140718Z",
     "shell.execute_reply": "2024-01-06T03:50:55.140379Z",
     "shell.execute_reply.started": "2024-01-06T03:50:55.112436Z"
    }
   },
   "outputs": [
    {
     "data": {
      "text/plain": [
       "(1118, 1)"
      ]
     },
     "execution_count": 26,
     "metadata": {},
     "output_type": "execute_result"
    }
   ],
   "source": [
    "# Fit_resample on the reshaped X_train data and y-train data\n",
    "X_train, y_train_enc = sampler.fit_resample(X_train_full.values.reshape(-1,1),\n",
    "                                        y_train_full_enc)\n",
    "X_train.shape"
   ]
  },
  {
   "cell_type": "code",
   "execution_count": 27,
   "id": "13b6157b-9f31-48fb-80d0-db4c35f5fbbc",
   "metadata": {
    "execution": {
     "iopub.execute_input": "2024-01-06T03:50:55.141360Z",
     "iopub.status.busy": "2024-01-06T03:50:55.141236Z",
     "iopub.status.idle": "2024-01-06T03:50:55.170191Z",
     "shell.execute_reply": "2024-01-06T03:50:55.169543Z",
     "shell.execute_reply.started": "2024-01-06T03:50:55.141349Z"
    }
   },
   "outputs": [
    {
     "data": {
      "text/plain": [
       "(1118,)"
      ]
     },
     "execution_count": 27,
     "metadata": {},
     "output_type": "execute_result"
    }
   ],
   "source": [
    "# Flatten the reshaped X_train data back to 1D\n",
    "X_train = X_train.flatten()\n",
    "X_train.shape"
   ]
  },
  {
   "cell_type": "markdown",
   "id": "9880fe72-4a80-4135-ba02-1c2a5f873a21",
   "metadata": {},
   "source": [
    "## Previous ML Model"
   ]
  },
  {
   "cell_type": "code",
   "execution_count": 28,
   "id": "d319c2f9-60a7-4f4e-b2e2-acf0a1fe0f69",
   "metadata": {
    "execution": {
     "iopub.execute_input": "2024-01-06T03:50:55.170782Z",
     "iopub.status.busy": "2024-01-06T03:50:55.170673Z",
     "iopub.status.idle": "2024-01-06T03:50:55.205260Z",
     "shell.execute_reply": "2024-01-06T03:50:55.204954Z",
     "shell.execute_reply.started": "2024-01-06T03:50:55.170773Z"
    }
   },
   "outputs": [],
   "source": [
    "from sklearn.feature_extraction.text import CountVectorizer, TfidfVectorizer\n",
    "from sklearn.pipeline import Pipeline\n",
    "from sklearn.naive_bayes import MultinomialNB"
   ]
  },
  {
   "cell_type": "code",
   "execution_count": 29,
   "id": "9b488903-2846-4bfc-a046-41ebb7ccebfa",
   "metadata": {
    "execution": {
     "iopub.execute_input": "2024-01-06T03:50:55.205793Z",
     "iopub.status.busy": "2024-01-06T03:50:55.205699Z",
     "iopub.status.idle": "2024-01-06T03:50:55.520942Z",
     "shell.execute_reply": "2024-01-06T03:50:55.520501Z",
     "shell.execute_reply.started": "2024-01-06T03:50:55.205784Z"
    }
   },
   "outputs": [
    {
     "name": "stdout",
     "output_type": "stream",
     "text": [
      "----------------------------------------------------------------------\n",
      " Classification Metrics: Training Data\n",
      "----------------------------------------------------------------------\n",
      "              precision    recall  f1-score   support\n",
      "\n",
      "           0       0.95      0.99      0.97       559\n",
      "           1       0.99      0.95      0.97       559\n",
      "\n",
      "    accuracy                           0.97      1118\n",
      "   macro avg       0.97      0.97      0.97      1118\n",
      "weighted avg       0.97      0.97      0.97      1118\n",
      "\n"
     ]
    },
    {
     "data": {
      "image/png": "[encoded data removed]",
      "text/plain": [
       "<Figure size 600x400 with 2 Axes>"
      ]
     },
     "metadata": {},
     "output_type": "display_data"
    },
    {
     "name": "stdout",
     "output_type": "stream",
     "text": [
      "\n",
      "----------------------------------------------------------------------\n",
      " Classification Metrics: Test Data\n",
      "----------------------------------------------------------------------\n",
      "              precision    recall  f1-score   support\n",
      "\n",
      "           0       0.98      0.94      0.96      1655\n",
      "           1       0.68      0.91      0.78       253\n",
      "\n",
      "    accuracy                           0.93      1908\n",
      "   macro avg       0.83      0.92      0.87      1908\n",
      "weighted avg       0.94      0.93      0.94      1908\n",
      "\n"
     ]
    },
    {
     "data": {
      "image/png": "[encoded data removed]",
      "text/plain": [
       "<Figure size 600x400 with 2 Axes>"
      ]
     },
     "metadata": {},
     "output_type": "display_data"
    }
   ],
   "source": [
    "## Create a model pipeline \n",
    "count_pipe = Pipeline([('vectorizer',  CountVectorizer()), \n",
    "                       ('naivebayes',  MultinomialNB())])\n",
    "\n",
    "count_pipe.fit(X_train, y_train_enc)\n",
    "fn.evaluate_classification(count_pipe, X_train, y_train_enc, X_test, y_test_enc,)"
   ]
  },
  {
   "cell_type": "code",
   "execution_count": null,
   "id": "5bf02bd9-eea7-4f5c-aa3b-4c98da641129",
   "metadata": {},
   "outputs": [],
   "source": []
  },
  {
   "cell_type": "markdown",
   "id": "23e80644-9fda-416e-80b6-789bb7a5903d",
   "metadata": {},
   "source": [
    "# Preparing For Deep NLp (Train-Test-Val Datasets)"
   ]
  },
  {
   "cell_type": "code",
   "execution_count": null,
   "id": "9bcb37c0-2c2a-488b-b526-622f8a289f52",
   "metadata": {},
   "outputs": [],
   "source": []
  },
  {
   "cell_type": "code",
   "execution_count": 30,
   "id": "3898e60d-cb19-408e-91d4-e677f033a47d",
   "metadata": {
    "execution": {
     "iopub.execute_input": "2024-01-06T03:50:55.521671Z",
     "iopub.status.busy": "2024-01-06T03:50:55.521566Z",
     "iopub.status.idle": "2024-01-06T03:50:55.552822Z",
     "shell.execute_reply": "2024-01-06T03:50:55.552328Z",
     "shell.execute_reply.started": "2024-01-06T03:50:55.521661Z"
    }
   },
   "outputs": [
    {
     "data": {
      "text/plain": [
       "0    559\n",
       "1    559\n",
       "dtype: int64"
      ]
     },
     "execution_count": 30,
     "metadata": {},
     "output_type": "execute_result"
    }
   ],
   "source": [
    "# Check for class balance\n",
    "pd.Series(y_train_enc).value_counts()"
   ]
  },
  {
   "cell_type": "markdown",
   "id": "47ef132d-e442-485e-a634-acf94bf541ea",
   "metadata": {},
   "source": [
    "## Prepare Tensorflow Datasets"
   ]
  },
  {
   "cell_type": "markdown",
   "id": "56f330c7-0f11-4181-8d04-e80aad6ef623",
   "metadata": {},
   "source": [
    "Since we already have train/test X and y vars, we will make 2 dataset objects using tf.data.Dataset.from_tensor_slices.\n",
    "\n",
    "1. The training dataset using X_train, y_train (that we resampled/balanced)\n",
    "2. The val/test dataset using X_test, y-test.\n",
    "\n",
    "We will then split the val/test dataset into a val/test split."
   ]
  },
  {
   "cell_type": "markdown",
   "id": "93c939b4-e0e5-4868-b48c-916b54de793d",
   "metadata": {},
   "source": [
    "### T/T/V Split - Order of Operations (if using 1 dataset object)\n",
    "\n",
    "1) **Create full dataset object & Shuffle Once.**\n",
    "2) Calculate number of samples for training and validation data.\n",
    "3) Create the train/test/val splits using .take() and .skip()\n",
    "4) **Add shuffle to the train dataset only.**\n",
    "5) (Optional/Not Used on LP) If applying a transformation (e.g. train_ds.map(...)) to the data, add  here, before .cache()\n",
    "7) (Optional) Add .cache() to all splits to increase speed  (but may cause problems with large datasets)\n",
    "8) **Add .batch to all splits (default batch size=32)**\n",
    "9) (Optional) Add .prefetch(tf.data.AUTOTUNE)\n",
    "10) (Optional) Print out final length of datasets"
   ]
  },
  {
   "cell_type": "code",
   "execution_count": 31,
   "id": "e0658b2a-2c35-4f27-a06e-a54416aa9821",
   "metadata": {
    "execution": {
     "iopub.execute_input": "2024-01-06T03:50:55.553594Z",
     "iopub.status.busy": "2024-01-06T03:50:55.553471Z",
     "iopub.status.idle": "2024-01-06T03:50:55.594041Z",
     "shell.execute_reply": "2024-01-06T03:50:55.593582Z",
     "shell.execute_reply.started": "2024-01-06T03:50:55.553582Z"
    }
   },
   "outputs": [],
   "source": [
    "# Convert to Dataset Object\n",
    "train_ds = tf.data.Dataset.from_tensor_slices((X_train, y_train_enc))\n",
    "# Shuffle dataset once\n",
    "train_ds = train_ds.shuffle(buffer_size=len(train_ds),\n",
    "                            reshuffle_each_iteration=False)"
   ]
  },
  {
   "cell_type": "markdown",
   "id": "fedeaafa-fa13-4309-a8a8-42913843b8c3",
   "metadata": {},
   "source": [
    "Create a test and validation dataset using X_test,y_test"
   ]
  },
  {
   "cell_type": "code",
   "execution_count": 32,
   "id": "3e890160-24b8-4bcf-a3af-5d88bd0237a9",
   "metadata": {
    "execution": {
     "iopub.execute_input": "2024-01-06T03:50:55.594810Z",
     "iopub.status.busy": "2024-01-06T03:50:55.594709Z",
     "iopub.status.idle": "2024-01-06T03:50:55.627341Z",
     "shell.execute_reply": "2024-01-06T03:50:55.626888Z",
     "shell.execute_reply.started": "2024-01-06T03:50:55.594801Z"
    }
   },
   "outputs": [
    {
     "data": {
      "text/plain": [
       "<_TensorSliceDataset element_spec=(TensorSpec(shape=(), dtype=tf.string, name=None), TensorSpec(shape=(), dtype=tf.int64, name=None))>"
      ]
     },
     "execution_count": 32,
     "metadata": {},
     "output_type": "execute_result"
    }
   ],
   "source": [
    "# Convert test to dataset object and split\n",
    "val_test_split_ds = tf.data.Dataset.from_tensor_slices((X_test, y_test_enc))\n",
    "val_test_split_ds"
   ]
  },
  {
   "cell_type": "code",
   "execution_count": 33,
   "id": "d69060a8-96f1-4398-9242-af1b3701b761",
   "metadata": {
    "execution": {
     "iopub.execute_input": "2024-01-06T03:50:55.628439Z",
     "iopub.status.busy": "2024-01-06T03:50:55.628214Z",
     "iopub.status.idle": "2024-01-06T03:50:55.658026Z",
     "shell.execute_reply": "2024-01-06T03:50:55.657612Z",
     "shell.execute_reply.started": "2024-01-06T03:50:55.628422Z"
    }
   },
   "outputs": [
    {
     "data": {
      "text/plain": [
       "954"
      ]
     },
     "execution_count": 33,
     "metadata": {},
     "output_type": "execute_result"
    }
   ],
   "source": [
    "# Calculate # of samples for 50/50 val/test split\n",
    "n_val_samples =  int(len(val_test_split_ds) * .5)\n",
    "n_val_samples"
   ]
  },
  {
   "cell_type": "code",
   "execution_count": 34,
   "id": "e495b3b9-b89e-41c8-b597-d65a383cddbc",
   "metadata": {
    "execution": {
     "iopub.execute_input": "2024-01-06T03:50:55.658749Z",
     "iopub.status.busy": "2024-01-06T03:50:55.658643Z",
     "iopub.status.idle": "2024-01-06T03:50:55.689313Z",
     "shell.execute_reply": "2024-01-06T03:50:55.688784Z",
     "shell.execute_reply.started": "2024-01-06T03:50:55.658739Z"
    }
   },
   "outputs": [],
   "source": [
    "## Perform the val/test split\n",
    "## Create the validation dataset\n",
    "val_ds = val_test_split_ds.take(n_val_samples)\n",
    "\n",
    "## Create the test dataset\n",
    "test_ds = val_test_split_ds.skip(n_val_samples)"
   ]
  },
  {
   "cell_type": "code",
   "execution_count": 35,
   "id": "7ad4a489-7074-49ea-be83-ea6c6f54cc38",
   "metadata": {
    "execution": {
     "iopub.execute_input": "2024-01-06T03:50:55.689920Z",
     "iopub.status.busy": "2024-01-06T03:50:55.689812Z",
     "iopub.status.idle": "2024-01-06T03:50:55.718471Z",
     "shell.execute_reply": "2024-01-06T03:50:55.718178Z",
     "shell.execute_reply.started": "2024-01-06T03:50:55.689910Z"
    }
   },
   "outputs": [
    {
     "data": {
      "text/plain": [
       "(1118, 954, 954)"
      ]
     },
     "execution_count": 35,
     "metadata": {},
     "output_type": "execute_result"
    }
   ],
   "source": [
    "# Comparing the len gths of all 3 splits\n",
    "len(train_ds), len(val_ds), len(test_ds)"
   ]
  },
  {
   "cell_type": "markdown",
   "id": "a6305413-cb77-4238-9be5-f8ea32e7a9ee",
   "metadata": {},
   "source": [
    "### Adding Shuffling and Batching"
   ]
  },
  {
   "cell_type": "markdown",
   "id": "66afce4b-e39e-458b-b022-ac39ed9ca9ef",
   "metadata": {},
   "source": [
    "Let's examine a single element."
   ]
  },
  {
   "cell_type": "code",
   "execution_count": 36,
   "id": "f4678d3f-baba-4962-87cf-00910be748f5",
   "metadata": {
    "execution": {
     "iopub.execute_input": "2024-01-06T03:50:55.719045Z",
     "iopub.status.busy": "2024-01-06T03:50:55.718944Z",
     "iopub.status.idle": "2024-01-06T03:50:55.748422Z",
     "shell.execute_reply": "2024-01-06T03:50:55.748124Z",
     "shell.execute_reply.started": "2024-01-06T03:50:55.719036Z"
    }
   },
   "outputs": [
    {
     "name": "stdout",
     "output_type": "stream",
     "text": [
      "tf.Tensor(b'Easy, Fast and does a Good Job: Easy to use, fast set-up.  It did a great job on the carpet I wanted to rescue.', shape=(), dtype=string) \n",
      "\n",
      " tf.Tensor(0, shape=(), dtype=int64)\n"
     ]
    }
   ],
   "source": [
    "# taking a sample \n",
    "example_X, example_y= train_ds.take(1).get_single_element()\n",
    "print(example_X,'\\n\\n',example_y)"
   ]
  },
  {
   "cell_type": "code",
   "execution_count": 37,
   "id": "95b9ebe2-9d41-4641-8961-88c3dfa7adf2",
   "metadata": {
    "execution": {
     "iopub.execute_input": "2024-01-06T03:50:55.749087Z",
     "iopub.status.busy": "2024-01-06T03:50:55.748982Z",
     "iopub.status.idle": "2024-01-06T03:50:55.777400Z",
     "shell.execute_reply": "2024-01-06T03:50:55.776984Z",
     "shell.execute_reply.started": "2024-01-06T03:50:55.749078Z"
    }
   },
   "outputs": [
    {
     "name": "stdout",
     "output_type": "stream",
     "text": [
      "tf.Tensor(b'Easy, Fast and does a Good Job: Easy to use, fast set-up.  It did a great job on the carpet I wanted to rescue.', shape=(), dtype=string) \n",
      "\n",
      " tf.Tensor(0, shape=(), dtype=int64)\n"
     ]
    }
   ],
   "source": [
    "# taking a sample  (same result)\n",
    "example_X, example_y= train_ds.take(1).get_single_element()\n",
    "print(example_X,'\\n\\n',example_y)"
   ]
  },
  {
   "cell_type": "markdown",
   "id": "1cf8c3ac-d2a0-437d-952b-a778d3d054a3",
   "metadata": {},
   "source": [
    "> Shuffle the training data at the end of each epoch"
   ]
  },
  {
   "cell_type": "code",
   "execution_count": 38,
   "id": "c4969390-4e72-4e52-9fe7-41f83e683729",
   "metadata": {
    "execution": {
     "iopub.execute_input": "2024-01-06T03:50:55.778078Z",
     "iopub.status.busy": "2024-01-06T03:50:55.777980Z",
     "iopub.status.idle": "2024-01-06T03:50:55.806284Z",
     "shell.execute_reply": "2024-01-06T03:50:55.805938Z",
     "shell.execute_reply.started": "2024-01-06T03:50:55.778069Z"
    }
   },
   "outputs": [],
   "source": [
    "# Shuffle only the training data every epoch\n",
    "train_ds = train_ds.shuffle(len(train_ds))"
   ]
  },
  {
   "cell_type": "code",
   "execution_count": 39,
   "id": "d5d8b84c-a4b2-464e-a7ef-21e2891df7ee",
   "metadata": {
    "execution": {
     "iopub.execute_input": "2024-01-06T03:50:55.806880Z",
     "iopub.status.busy": "2024-01-06T03:50:55.806788Z",
     "iopub.status.idle": "2024-01-06T03:50:55.834913Z",
     "shell.execute_reply": "2024-01-06T03:50:55.834589Z",
     "shell.execute_reply.started": "2024-01-06T03:50:55.806871Z"
    }
   },
   "outputs": [
    {
     "name": "stdout",
     "output_type": "stream",
     "text": [
      "tf.Tensor(b\"I want it to have a good hand tool for washing the carpeted staircase: I don't nee much from a carpet washer. I want it to have a good hand tool for washing the carpeted staircase, and a dirty tank that can be cleaned. My old Bissel had a tank that got packed with fibers that were not even theoretically removable. This tank I can disassemble, wash, dry, and assemble back. Thank you.\", shape=(), dtype=string) \n",
      "\n",
      " tf.Tensor(0, shape=(), dtype=int64)\n"
     ]
    }
   ],
   "source": [
    "# taking a sample  (different result)\n",
    "example_X, example_y= train_ds.take(1).get_single_element()\n",
    "print(example_X,'\\n\\n',example_y)"
   ]
  },
  {
   "cell_type": "code",
   "execution_count": 40,
   "id": "4d8caedf-696c-4284-a224-194e64319af4",
   "metadata": {
    "execution": {
     "iopub.execute_input": "2024-01-06T03:50:55.835607Z",
     "iopub.status.busy": "2024-01-06T03:50:55.835487Z",
     "iopub.status.idle": "2024-01-06T03:50:55.863743Z",
     "shell.execute_reply": "2024-01-06T03:50:55.863441Z",
     "shell.execute_reply.started": "2024-01-06T03:50:55.835596Z"
    }
   },
   "outputs": [
    {
     "name": "stdout",
     "output_type": "stream",
     "text": [
      "tf.Tensor(b'Hoover SteamVac f5914-900 beat my old rainbow hands down: This steamvac made our carpets look like new, we were thinking of replacing them but now we do not have too.  Works well above what I ever thought it could.  Love it and I used to hate cleaning the carpet with the old rainbow.', shape=(), dtype=string) \n",
      "\n",
      " tf.Tensor(0, shape=(), dtype=int64)\n"
     ]
    }
   ],
   "source": [
    "# taking a sample  (different result)\n",
    "example_X, example_y= train_ds.take(1).get_single_element()\n",
    "print(example_X,'\\n\\n',example_y)"
   ]
  },
  {
   "cell_type": "markdown",
   "id": "8b99b4bd-6d3c-409e-956b-a7d2e0fd5916",
   "metadata": {},
   "source": [
    "> Add batching (use 32 for batch_size)"
   ]
  },
  {
   "cell_type": "code",
   "execution_count": 41,
   "id": "e48eeddb-5554-4f37-a435-91ea27911e99",
   "metadata": {
    "execution": {
     "iopub.execute_input": "2024-01-06T03:50:55.864400Z",
     "iopub.status.busy": "2024-01-06T03:50:55.864285Z",
     "iopub.status.idle": "2024-01-06T03:50:55.893691Z",
     "shell.execute_reply": "2024-01-06T03:50:55.893327Z",
     "shell.execute_reply.started": "2024-01-06T03:50:55.864391Z"
    }
   },
   "outputs": [
    {
     "name": "stdout",
     "output_type": "stream",
     "text": [
      " There are 35 training batches.\n",
      " There are 30 validation batches.\n",
      " There are 30 testing batches.\n"
     ]
    }
   ],
   "source": [
    "#  Setting the batch_size for all datasets\n",
    "BATCH_SIZE = 32\n",
    "\n",
    "train_ds = train_ds.batch(BATCH_SIZE)\n",
    "val_ds = val_ds.batch(BATCH_SIZE)\n",
    "test_ds = test_ds.batch(BATCH_SIZE)\n",
    "\n",
    "\n",
    "# Confirm the number of batches in each\n",
    "print (f' There are {len(train_ds)} training batches.')\n",
    "print (f' There are {len(val_ds)} validation batches.')\n",
    "print (f' There are {len(test_ds)} testing batches.')"
   ]
  },
  {
   "cell_type": "code",
   "execution_count": 42,
   "id": "a498f8eb-bdaa-45bb-a809-f36014e03f0d",
   "metadata": {
    "execution": {
     "iopub.execute_input": "2024-01-06T03:50:55.894684Z",
     "iopub.status.busy": "2024-01-06T03:50:55.894405Z",
     "iopub.status.idle": "2024-01-06T03:50:55.924303Z",
     "shell.execute_reply": "2024-01-06T03:50:55.923965Z",
     "shell.execute_reply.started": "2024-01-06T03:50:55.894672Z"
    }
   },
   "outputs": [
    {
     "name": "stdout",
     "output_type": "stream",
     "text": [
      "tf.Tensor(\n",
      "[b'Two Stars: cumbersome'\n",
      " b\"Excellent cleaning machine. Keeps my carpets clean for our newborn. Worked great getting rid of tough pet stains too.: I had the Bissell portable unit before this. That one broke, so I gave this a try.\\n\\nIt is light years ahead of the Bissell, but it costs more so you might expect it to be. I only wish I had bought this first. The additional vacuum-driven cleaning brush is a major bonus too. It's so much easier to spot clean now.\\n\\nWe just had a baby and I want to keep all our carpets very clean. Before he was born, I used it to clean up our cat's accidents. It does a great job spot cleaning and cleaning large areas. It works as well if not better than the rental ones ... and you don't have to worry about other people's gunk.\\n\\nThe separate water / detergent chambers make it easy to keep it filled with detergent and not waste any. I just refill the water reservoir with hot water and I'm ready to clean!\"\n",
      " b'So thrilled with the way it cleans.: This is a fabulous carpet cleaner.\\nNot hard to assemble, easy to use and works great.'\n",
      " b'surprisingly good for not much $$: this thing is pretty decent. I have used it a lot and it still works fine for about a year now. Maybe 6 cleanings.'\n",
      " b'Five Stars: Best.'\n",
      " b\"I don't recommend.: I have been dealing with many different issues since purchase. I don't recommend .\"\n",
      " b'Worth It!: Works well and easy to maneuver'\n",
      " b'Waste of money: Received it, used it.  If you want to do ONLY VERY SMALL AREAS, it will work, but I could have accomplished the same with a scrub brush and any spray-on carpet cleaner bought in Safeway.  Instructions are neither simple nor clear.  I COULD NOT RECOMMEND THIS TO ANYONEONE IF MY NAME WAS INCLUDED.  Unfortunately, the shipping box got destroyed, because I had confidence, so returning it would be a waste of my time.'\n",
      " b'only used once so far but easy to assemble: only used once so far but easy to assemble, easy to use and easy to clean. Did a decent job on pet stains and heavy traffic areas.'\n",
      " b'Big Big POS, Stay away: I have purchased a lot of different cleaning machines over the years, even a few hoovers that were much better made than this. How ever this machine is so poorly designed and made of such flimsy material that if it did not break the very first time one used it, I would be totally shocked.\\n\\n The deployment of the dirty water container is such that I can see about 7 different ways where it will leak and be a problem in a very short time.  The hand attachment hose is not, I repeat is not permanently attached to the machine, but rather attached by removing the lid to the dirty water tank, then pulling up and out on the flimsy piece of plastic that connects the tank to the front floor suction section, then fitted in a slot where the front suction connector use to be and held into place with the lid of the tank that has very little other then a cheap brittle piece of plastic tang to hold it in place and will be one of the first things I suspect that will be broken on this machine.  Take my advice and stay far away from this machine.  Spend the money for a Bissell or better  yet rent a rug doctor or hire a carpet cleaner.\\n\\nAlso  because the return of the machine was due to my dissatisfaction rather then a problem with shipping damage and or missing pieces, broken parts or defective machine, I was charged for the cost to ship it back.  So keep that in mind also.'\n",
      " b'Great Carpet Cleaner: Replaced a Bissel canister carpet cleaner that was once upon a time the best in its class.  This product is exceptional.  Easy to use, easy to clean and really sucks up the water to greatly improve the drying time.  Highly recommended.'\n",
      " b\"Hate it: I have had this for a couple years now and am updating my original 4 star review. This unit is very finicky. It often does not suck up all the solution. This leaves the carpet/rug too wet to properly dry, but you won't realize that until it emits a funky smell the next day. It has ruined one rug already. I have another one sitting in the sun right now attempting to properly dry it. I can't imagine if this had happened on a carpet. I do not recommend this product. If you decide to buy it anyway, be very careful to watch and make sure the unit is sucking up all the solution. If it is not, stop using and diagnose the problem. It is also expensive. It also uses what seems to be a lot of solution which can make it rather expensive.\"\n",
      " b\"it started leaking dirty water after 12 years: THIS IS AN UPDATE FROM MY PREVIOUS REVIEW:\\nOriginally I gave this 3 stars.  I have now changed my mind.  I only got 1 year and 5 months out of this machine and never once used it to clean an entire room...only spot cleaning approximately once a week.  Besides the fact it left my carpet real wet after use, the soap would leak into the clean water compartment, and I was constantly having to clean the filter to get the brushes to work (which is a pain to do and something I never had to do with my old Hoover Max).  Eventually the brushes stopped working altogether.  In the past, I have always used Hoover products (carpet cleaners and vacuum cleaners).  I owned two Hoover Max cleaners in a period of 24 years. Their vacuum cleaners the same. They were both used HEAVILY  (I had my own housecleaning business and after school care).  Their quality...THEN... was outstanding.  Then when my Hoover vacuum cleaner went out (and they began making the new ones in Mexico with cheap plastic parts), I noticed the quality wasn't the same and I was replacing them every 1 1/2 years (just cleaning my own home).  I finally stopped using Hoover and went with a Miele (which I have had for 8 years with not one problem and I vacuum heavily several times a week and I have a large home).  The company I purchased the Miele from said they no longer sell Hoover products due to poor quality.  So when my Max was going out after 12 years, I took a chance on this, and unfortunately, the quality is poor.  Hoover no longer makes quality products.  So if you purchase any Hoover product...just have the mindset that you can expect about a years worth of use (if you are lucky), along with continual problems to keep them going.\\n\\nOriginal Review:\\nWell....I have used the Hoover Max and it served me well.  Although it still worked, it started leaking dirty water after 12 years.  I decided to purchase the power scrub mainly due to size and weight.  I have stairs and got tired of carrying the heavier Max up the stairs.  The power scrub is much smaller and therefore will take much longer cleaning the carpet in my home...since I have a fairly large home (would be great in condo or apartment).  I mainly use it to clean up spills and cat barf (she has IBS).  I find the power scrub doesn't clean as well as the Max and that I have to go over the spot several times for the stain to come out...whereas with the Max it came out easier and better.  The power scrub doesn't soak up the water as well either...carpet is very damp and takes much longer to dry (and I live in the low desert of Calif).  The rinse cycle doesn't work either.  It's suppose to rinse clean water with no soap...nope the soap comes right along with the water.  Glad I bought this on todays deals otherwise I would of returned it.\\nPros:  lightweight and good water bucket (easy to dump out water).\"\n",
      " b'Poor parts.: The clean water solution tank is leaking a lot when I filled it with water and soap during the first use. Called the 800 number enclosed and you have to wait for hours. Apparently its been a problem for many people when I was looking online for trouble shooting.\\nWill return it.'\n",
      " b\"Buyer Beware: I purchased this vacuum, USED: Like New from Ware house Deals for about $25 less. It was a return, what for, I do not know, but when I got it, the screw for the handle wasn't there. I could purchase one elsewhere for .32 cents and pay $5 postage. I spent a lot of time considering whether to just return it, which Amazon had offered to do, but after my husband used it, I just decided to keep it. So I filled out the warranty card as far as #7 which asked for the Mfg. number listed on the bottom of the machine. Well, it was not there, so the lady at Hoover said it could be on a label on the handle- not there either. This Used : Like New item had some flaws. So without the number I could not register it and so Amazon told me to return it. So, though this item is really great and I intend to buy a NEW one when I get my refund, I would warn you not to buy used\\nmechanical items just to save a few bucks. In the end, I gained nothing but a headache. Amazon was very understanding and\\nthat is why I continue to buy from them. Thank You Amazon.com!\"\n",
      " b'Great when it works: I have owned this for 5 months now. It is awesome at scubbing out stains and making your carpet clean again. We typically do the whole house once a month and spot clean quite often. Early this week the scrub brushes stopped rotating. I called customer service and sat on the phone for 20 minutes waiting to talk to someone. The turbine for the brushes stopped working. We were told by the repair center that the part could take 2 weeks to 6 months to show up or they might send a new machine. Most of the time it will come within a month. They will know nothing until it shows up and they match up the packing slip numbers to what they have. This is the \"new\" way of doing things with Hoover since they were bought out by a Japanese company. So now we wait.'\n",
      " b'Five Stars: This carpet cleaner is amazing and does a fantastic job. I am very happy with this purchase would recommend.'\n",
      " b\"WHERE HAS THIS BEEN ALL MY LIFE: Goes from carpet to hardwood floors without having to change any settings. Perfect for anyone with pets or toddlers. Super lightweight. Compact size to get in hard to reach areas. Comvenient and bagless reservoir. Just don't vacuum up moist food as it will make it stink or pine needles from Christmas trees which will get jammed up.\"\n",
      " b'Great product! Recovers my carpet after my 18 months ...: Great product! Recovers my carpet after my 18 months old baby kind of destroys it from time to time:) Hot air blow help with drying process. I would deffinetely recommend it!'\n",
      " b'Great for Cleaning Your Carpets!!: I ordered this item after reading a lot of the reviews. There are only two screws for the handle that you need a screw driver for. That is it! The rest of the parts easily lock in place. I used very hot tap water that ends up being \"warm\" by the time it hits the carpet. It would probably be better to use boiling water. I have used a larger carpet cleaner from a rental store that was very heavy and awkward to use. This Hoover Power Scrub does just as good as a job as the big machine but MUCH easier to maneuver. Very easy to use. This did an excellent job on my carpets. The rental store charges about $60 for the day to rent their machine so it is worth it to buy this Hoover because it pays for itself after about 3 uses. Right after I bought this my son got gum on my microfiber sofa! I was not happy. I read on the internet that I should use peanut butter to remove the gum. I used the peanut butter and it did remove the gum. BUT...I needed this Hoover to clean the peanut butter! It did an excellent job cleaning the peanut butter and now you can\\'t tell there was a big blotch of gum there. This machine is well designed and worth the money. You won\\'t be sorry.'\n",
      " b'Cordless Stick Vac: FABULOUS product.  I love it.  Has great suction, and easy to use, holds a charge, and easy to empty.  Very happy with my purchase.'\n",
      " b'MOTOR FAILURE: FOR THOSE WHOSE MOTOR STOPPED WORKING. Take the head apart and you will find one of the wires broken. This design fault has caused repeated repairs on our unit. This has been disappointing for me and frustrating for my wife.'\n",
      " b'Five Stars: excellent'\n",
      " b\"Not sure if it was bad luck I got a defective washer or what: Not sure if it was bad luck I got a defective washer or what, but I ended up having to return the one I had because it wasn't rinsing well.  Now I'm having to hire professionals to come in and clean all the soap that got left behind by this unit.\"\n",
      " b'Rinse first - Shampoo second - Repeat Rinse!: I decided to wash our carpet after it was professionally washed by a company I always used for my previous house. There were a couple of old pet stains the professionals could not remove with their machine nor by using special chemicals (the previous home owner had a dog who peed in one place numerous times yuk) and I had guests coming, so I decided to refresh the carpet and to work more on these stains. It is amazing how much dirt this little machine was able to pull - after the professional wash! The old stains are lighter, still not completely gone, but they look a lot better.'\n",
      " b\"Very frustrating experience trying to use this carpet cleaner: My husband and I worked long and hard to get this carpet cleaner put together. He's a handy guy, but he had a hard time figuring out what the instructions were telling him to do. Finally thought we had it put together correctly. We poured the cleaning solution into the holding tank and it immediately emptied onto the carpet, saturating it. Took the whole thing apart and put it together again....same thing happened. Shipped back to Amazon and will never buy a Hoover product again.\"\n",
      " b'Build Quality = Garbage / Customer Service = Non-Existent: I must confess I really liked this unit when I received it.  It had plenty of power, did a great job cleaning up and the battery life was well above what I expected.  However, a few months later and this unit is coming apart.\\n\\nWe mostly use this vacuum on our tile floors only as we have another vacuum we use for our carpets.  So it came as a complete surprise when the motorized power brush stopped working when we hardly used it when vacuuming our hard flooring.  In addition to that, there is a thin layer of material that is shredding away from the handle (see pics) and which regularly comes off in the hand or falls on the floor.  Both of these failures indicate that this is definitely NOT a quality item.\\n\\nIf this had been a relatively inexpensive vacuum, I would not have expected it to last for a considerably long time.  But at almost $150, this unit should not be falling apart and should certainly remain serviceable and intact into the foreseeable future especially when only tasked to perform light vacuuming a few days a week.\\n\\nFind a similar item from another brand - Hoover is NOT the company it used to be...in build quality or customer service.'\n",
      " b\"easy to clean: Works amazingly well.  I used with Carpet Miracle by Sunny & Honey and it worked wonders.  Got the stains out of my beige carpet and beige microfiber couches.  Its a lot of work, but what do you expect? There's a reason carpet/upholstery cleaning services are expensive, took me a long time to do my whole apt but it looks immaculate.  Well worth the money, easy to clean.... afterwards I used a comb to clean out the scrub brushes because a lot of lint and carpet fibers were stuck in there.  I was shocked by how dark the water in the dirty water tank, can't believe that was in my couch!! A must have for anyone who is a clean freak.\"\n",
      " b\"Doesnt suck up excess water: This is my 2nd Hoover shampooer, my last one last 5 years and even after it started struggling it worked better than this one. Some of my major complaints are that after the water runs out, it still shoots out soap. There is no alert to when the water runs out, you just have to watch, so don't fill the solution area completely or you'll have a very soapy carpet. Two the dirty water stops sucking before it's full, because the suds push the bobber making it think it's full. Also quick movements or turns, will pop the bobber up, causing the same issue. So you're either constantly stopping to get the bobber to fall or emptying it. Three, it doesn't even suck up half the water. Which, as someone with a wool carpet, is a big deal. Wet wool is not a fun smell. I call bull on the heating to dry faster too, I go over the same sections with just suction multiple times, as in no fewer than 6, to get any water I can up and it's still cold and wet. The old one did a much better job, even towards then end of its life. Is it better than having just a bucket and brush, absolutely, but not by much.\"\n",
      " b\"i don't like this vacuum: i don't like this vacuum. i really wanted to like it, and i did a lot of research before buying it for our new house. i'm so disappointed because it doesnt hold a charge for longer than 20 minutes. my house is not huge--about 2000sqft, so i never thought i would have a problem getting through my whole house with this vacuum. it's so frustrating when this thing dies halfway through cleaning. it's happened almost every time i've used it so far. i'm a very capable person and know for a fact that it's fully charged because the blue light blinks slowly on the charging dock once it's fully charged. takes about 3 hours. i love the fact that it's cordless and there are no bulky cords to manuever, and you don't have to keep unplugging and re-plugging in around the house. but if i would have known the battery was going to die every 15-20 minutes i defintely wouldn't have bought this vacuum.\"\n",
      " b\"Works great - no complaints: I've used a few other in-home carpet cleaners and this one is by far my favorite. I like that it keeps the clean water separate from the dirty water and does a great job getting most of the moisture out of the carpets. I've used it several times now... no musty smell after it dries (like a few other machines) and the dog hair easily comes out of the scrubbing circles.\\n\\nAlso, it was very easy to put together out of the box... just took about 10 minutes\"\n",
      " b'Good carpet cleaner: Hoover F5914-900 SteamVac with Clean Surge&nbsp;We have Oriental carpets and have moved to a rural area.  Previously we had them commercially cleaned.  There\\'s no such service available here.  The dirt was building up.  SO I took a chance on this machine.  Because the carpets are wool, I didn\\'t use super hot water.  Others said the machine worked well with half the amount of detergent that Hoover calls for.  It did work well, tho I had to pre-treat really dirty areas, as expected.  I didn\\'t use the brushes because the carpets are delicate, but still got a LOT of dirt out.  I kept my \"wet\" passes down to two as recommended, used four \"dry\" passes, and put washed out plastic milk cartons under the damp carpet to facilitate drying with the help of a box fan.  The rugs felt dry in about four hours, but I kept the fans going overnight for the sake of the wood floor. Be sure to read Lissie\\'s detailed review of the machine and avoid problems.  You\\'ll save the purchase price pretty quickly, but I\\'ll do it sooner since the price I paid is almost $20 less than the current one, and I got free shipping.  I haven\\'t used the upholstery cleaning ability yet, but expect it will be quite respectable, too. Oh, don\\'t look for how to get your carpet \"steam cleaned\" with this: it doesn\\'t really use steam.'], shape=(32,), dtype=string) \n",
      "\n",
      " tf.Tensor([1 0 0 0 0 1 0 1 0 1 0 1 1 1 1 1 0 0 0 0 0 1 0 1 0 1 1 0 1 1 0 0], shape=(32,), dtype=int64)\n"
     ]
    }
   ],
   "source": [
    "# taking a sample - now 32 observations instead of 1\n",
    "example_X, example_y= train_ds.take(1).get_single_element()\n",
    "print(example_X,'\\n\\n',example_y)\n"
   ]
  },
  {
   "cell_type": "markdown",
   "id": "d31a1990-85b6-4c25-852d-6049cae198a4",
   "metadata": {},
   "source": [
    "## Vectorizing Text with Keras's TextVectorization Layer"
   ]
  },
  {
   "cell_type": "markdown",
   "id": "37bccabc-475f-49aa-8ede-aca4e55333c6",
   "metadata": {},
   "source": [
    "> ADD INTRO, explain need for sequence length"
   ]
  },
  {
   "cell_type": "markdown",
   "id": "9d149c9a-8735-465b-b48a-ca8ba82dcee9",
   "metadata": {},
   "source": [
    "### TextVectorization Layer - Demo Count Vectorization"
   ]
  },
  {
   "cell_type": "markdown",
   "id": "46b16927-1276-4d6d-a209-64fed6bcfec6",
   "metadata": {},
   "source": [
    "Flexible layer that can convert text to bag-of-words or sequences."
   ]
  },
  {
   "cell_type": "code",
   "execution_count": 43,
   "id": "396378c7-cdc7-45d7-bacd-967abdf5f581",
   "metadata": {
    "execution": {
     "iopub.execute_input": "2024-01-06T03:50:55.924980Z",
     "iopub.status.busy": "2024-01-06T03:50:55.924879Z",
     "iopub.status.idle": "2024-01-06T03:50:55.957585Z",
     "shell.execute_reply": "2024-01-06T03:50:55.957265Z",
     "shell.execute_reply.started": "2024-01-06T03:50:55.924971Z"
    },
    "scrolled": true
   },
   "outputs": [
    {
     "data": {
      "text/plain": [
       "<keras.layers.preprocessing.text_vectorization.TextVectorization at 0x2aa268f70>"
      ]
     },
     "execution_count": 43,
     "metadata": {},
     "output_type": "execute_result"
    }
   ],
   "source": [
    "# Create text Vectorization layer\n",
    "count_vectorizer = tf.keras.layers.TextVectorization(\n",
    "    standardize=\"lower_and_strip_punctuation\",\n",
    "    output_mode=\"count\",\n",
    "    # output_sequence_length=SEQUENCE_LENGTH\n",
    ")\n",
    "count_vectorizer"
   ]
  },
  {
   "cell_type": "code",
   "execution_count": 44,
   "id": "066c1dde-7d3a-4f62-ba2f-09fb5fd17194",
   "metadata": {
    "execution": {
     "iopub.execute_input": "2024-01-06T03:50:55.958295Z",
     "iopub.status.busy": "2024-01-06T03:50:55.958176Z",
     "iopub.status.idle": "2024-01-06T03:50:55.987044Z",
     "shell.execute_reply": "2024-01-06T03:50:55.986706Z",
     "shell.execute_reply.started": "2024-01-06T03:50:55.958286Z"
    }
   },
   "outputs": [
    {
     "data": {
      "text/plain": [
       "['[UNK]']"
      ]
     },
     "execution_count": 44,
     "metadata": {},
     "output_type": "execute_result"
    }
   ],
   "source": [
    "# Before training, only contains the out of vocab token ([UNK])\n",
    "count_vectorizer.get_vocabulary()"
   ]
  },
  {
   "cell_type": "code",
   "execution_count": 45,
   "id": "1cb84974-50fe-466f-81d6-9e6a6f5a22cf",
   "metadata": {
    "execution": {
     "iopub.execute_input": "2024-01-06T03:50:55.987812Z",
     "iopub.status.busy": "2024-01-06T03:50:55.987650Z",
     "iopub.status.idle": "2024-01-06T03:50:56.015462Z",
     "shell.execute_reply": "2024-01-06T03:50:56.014970Z",
     "shell.execute_reply.started": "2024-01-06T03:50:55.987802Z"
    }
   },
   "outputs": [],
   "source": [
    "example_text = [['Sometimes I love this vacuum, sometimes i hate this vacuum']]"
   ]
  },
  {
   "cell_type": "code",
   "execution_count": 46,
   "id": "bc93a1b0-e470-4e79-8c91-9f3d58d5e6c7",
   "metadata": {
    "execution": {
     "iopub.execute_input": "2024-01-06T03:50:56.016408Z",
     "iopub.status.busy": "2024-01-06T03:50:56.016176Z",
     "iopub.status.idle": "2024-01-06T03:50:56.112001Z",
     "shell.execute_reply": "2024-01-06T03:50:56.111653Z",
     "shell.execute_reply.started": "2024-01-06T03:50:56.016392Z"
    }
   },
   "outputs": [
    {
     "name": "stderr",
     "output_type": "stream",
     "text": [
      "2024-01-05 22:50:56.065753: W tensorflow/tsl/platform/profile_utils/cpu_utils.cc:128] Failed to get CPU frequency: 0 Hz\n"
     ]
    },
    {
     "data": {
      "text/plain": [
       "['[UNK]', 'vacuum', 'this', 'sometimes', 'i', 'love', 'hate']"
      ]
     },
     "execution_count": 46,
     "metadata": {},
     "output_type": "execute_result"
    }
   ],
   "source": [
    "# Fitting the vectorizer using .adapt\n",
    "count_vectorizer.adapt(example_text)\n",
    "\n",
    "# Before training, only contains the out of vocab token ([UNK])\n",
    "count_vectorizer.get_vocabulary()#[:10]"
   ]
  },
  {
   "cell_type": "code",
   "execution_count": 47,
   "id": "6666ae7b-f4cc-43f8-ba87-294e7a99b959",
   "metadata": {
    "execution": {
     "iopub.execute_input": "2024-01-06T03:50:56.112587Z",
     "iopub.status.busy": "2024-01-06T03:50:56.112495Z",
     "iopub.status.idle": "2024-01-06T03:50:56.151285Z",
     "shell.execute_reply": "2024-01-06T03:50:56.150958Z",
     "shell.execute_reply.started": "2024-01-06T03:50:56.112578Z"
    }
   },
   "outputs": [
    {
     "name": "stdout",
     "output_type": "stream",
     "text": [
      "tf.Tensor([[0. 2. 2. 2. 2. 1. 1.]], shape=(1, 7), dtype=float32)\n"
     ]
    }
   ],
   "source": [
    "# Convert example to count-vectorization\n",
    "counts = count_vectorizer(example_text)\n",
    "print(counts)"
   ]
  },
  {
   "cell_type": "code",
   "execution_count": 48,
   "id": "aa852fc8-92ac-4d1f-ae29-42f49a35cc6f",
   "metadata": {
    "execution": {
     "iopub.execute_input": "2024-01-06T03:50:56.151893Z",
     "iopub.status.busy": "2024-01-06T03:50:56.151794Z",
     "iopub.status.idle": "2024-01-06T03:50:56.180262Z",
     "shell.execute_reply": "2024-01-06T03:50:56.179893Z",
     "shell.execute_reply.started": "2024-01-06T03:50:56.151884Z"
    }
   },
   "outputs": [
    {
     "data": {
      "text/plain": [
       "array([[0., 2., 2., 2., 2., 1., 1.]], dtype=float32)"
      ]
     },
     "execution_count": 48,
     "metadata": {},
     "output_type": "execute_result"
    }
   ],
   "source": [
    "# Getting the counts as \n",
    "example_counts = counts.numpy()\n",
    "example_counts"
   ]
  },
  {
   "cell_type": "markdown",
   "id": "c9e2b3aa-03fb-4a4e-a9a4-2f4ab05acb7f",
   "metadata": {},
   "source": [
    "- Size of vectorized text - column for every word in vocab"
   ]
  },
  {
   "cell_type": "code",
   "execution_count": 49,
   "id": "3a37577f-0738-4836-89bd-392d3b4ffc44",
   "metadata": {
    "execution": {
     "iopub.execute_input": "2024-01-06T03:50:56.180993Z",
     "iopub.status.busy": "2024-01-06T03:50:56.180839Z",
     "iopub.status.idle": "2024-01-06T03:50:56.211893Z",
     "shell.execute_reply": "2024-01-06T03:50:56.211544Z",
     "shell.execute_reply.started": "2024-01-06T03:50:56.180982Z"
    }
   },
   "outputs": [
    {
     "data": {
      "text/html": [
       "<div>\n",
       "<style scoped>\n",
       "    .dataframe tbody tr th:only-of-type {\n",
       "        vertical-align: middle;\n",
       "    }\n",
       "\n",
       "    .dataframe tbody tr th {\n",
       "        vertical-align: top;\n",
       "    }\n",
       "\n",
       "    .dataframe thead th {\n",
       "        text-align: right;\n",
       "    }\n",
       "</style>\n",
       "<table border=\"1\" class=\"dataframe\">\n",
       "  <thead>\n",
       "    <tr style=\"text-align: right;\">\n",
       "      <th></th>\n",
       "      <th>[UNK]</th>\n",
       "      <th>vacuum</th>\n",
       "      <th>this</th>\n",
       "      <th>sometimes</th>\n",
       "      <th>i</th>\n",
       "      <th>love</th>\n",
       "      <th>hate</th>\n",
       "    </tr>\n",
       "  </thead>\n",
       "  <tbody>\n",
       "    <tr>\n",
       "      <th>0</th>\n",
       "      <td>0.0</td>\n",
       "      <td>2.0</td>\n",
       "      <td>2.0</td>\n",
       "      <td>2.0</td>\n",
       "      <td>2.0</td>\n",
       "      <td>1.0</td>\n",
       "      <td>1.0</td>\n",
       "    </tr>\n",
       "  </tbody>\n",
       "</table>\n",
       "</div>"
      ],
      "text/plain": [
       "   [UNK]  vacuum  this  sometimes    i  love  hate\n",
       "0    0.0     2.0   2.0        2.0  2.0   1.0   1.0"
      ]
     },
     "execution_count": 49,
     "metadata": {},
     "output_type": "execute_result"
    }
   ],
   "source": [
    "# Getting the counts as as DataFrame \n",
    "example_counts_df = pd.DataFrame(counts.numpy(), \n",
    "                         columns=count_vectorizer.get_vocabulary())\n",
    "example_counts_df"
   ]
  },
  {
   "cell_type": "markdown",
   "id": "79ec6f78-c06a-4299-95d1-6445ba7c8fd3",
   "metadata": {},
   "source": [
    "### TextVectorization Layer - Demo Sequence Vectorization"
   ]
  },
  {
   "cell_type": "markdown",
   "id": "4376e380-0416-491a-a68a-417de91c3689",
   "metadata": {},
   "source": [
    "- Output_mode='int' returns sequences.\n",
    "- Length "
   ]
  },
  {
   "cell_type": "code",
   "execution_count": 50,
   "id": "cc2aeb45-d8d4-4c6f-a11d-914b1a5f8e23",
   "metadata": {
    "execution": {
     "iopub.execute_input": "2024-01-06T03:50:56.212597Z",
     "iopub.status.busy": "2024-01-06T03:50:56.212494Z",
     "iopub.status.idle": "2024-01-06T03:50:56.243094Z",
     "shell.execute_reply": "2024-01-06T03:50:56.242723Z",
     "shell.execute_reply.started": "2024-01-06T03:50:56.212588Z"
    }
   },
   "outputs": [],
   "source": [
    "# Create text Vectorization layer\n",
    "demo_sequence_vectorizer = tf.keras.layers.TextVectorization(\n",
    "    standardize=\"lower_and_strip_punctuation\",\n",
    "    output_mode=\"int\",\n",
    "    # output_sequence_length=50\n",
    ")"
   ]
  },
  {
   "cell_type": "code",
   "execution_count": 51,
   "id": "c3381ee3-2a32-412d-bab6-61bf02edaf62",
   "metadata": {
    "execution": {
     "iopub.execute_input": "2024-01-06T03:50:56.243841Z",
     "iopub.status.busy": "2024-01-06T03:50:56.243707Z",
     "iopub.status.idle": "2024-01-06T03:50:56.272448Z",
     "shell.execute_reply": "2024-01-06T03:50:56.272054Z",
     "shell.execute_reply.started": "2024-01-06T03:50:56.243831Z"
    }
   },
   "outputs": [
    {
     "data": {
      "text/plain": [
       "['', '[UNK]']"
      ]
     },
     "execution_count": 51,
     "metadata": {},
     "output_type": "execute_result"
    }
   ],
   "source": [
    "# Before training, only contains the out of vocab token ([UNK])\n",
    "demo_sequence_vectorizer.get_vocabulary()"
   ]
  },
  {
   "cell_type": "code",
   "execution_count": 52,
   "id": "711794b0-ee24-4917-996f-33c59ef1b8b2",
   "metadata": {
    "execution": {
     "iopub.execute_input": "2024-01-06T03:50:56.273066Z",
     "iopub.status.busy": "2024-01-06T03:50:56.272960Z",
     "iopub.status.idle": "2024-01-06T03:50:56.343423Z",
     "shell.execute_reply": "2024-01-06T03:50:56.343100Z",
     "shell.execute_reply.started": "2024-01-06T03:50:56.273056Z"
    }
   },
   "outputs": [
    {
     "data": {
      "text/plain": [
       "['', '[UNK]', 'vacuum', 'this', 'sometimes', 'i', 'love', 'hate']"
      ]
     },
     "execution_count": 52,
     "metadata": {},
     "output_type": "execute_result"
    }
   ],
   "source": [
    "# Fitting the vectorizer using .adapt\n",
    "demo_sequence_vectorizer.adapt(example_text)\n",
    "# Before training, only contains the out of vocab token ([UNK])\n",
    "demo_sequence_vectorizer.get_vocabulary()[:10]"
   ]
  },
  {
   "cell_type": "code",
   "execution_count": 53,
   "id": "6d128654-ce00-4827-bd86-90737a54e79b",
   "metadata": {
    "execution": {
     "iopub.execute_input": "2024-01-06T03:50:56.344046Z",
     "iopub.status.busy": "2024-01-06T03:50:56.343946Z",
     "iopub.status.idle": "2024-01-06T03:50:56.372772Z",
     "shell.execute_reply": "2024-01-06T03:50:56.372469Z",
     "shell.execute_reply.started": "2024-01-06T03:50:56.344037Z"
    }
   },
   "outputs": [
    {
     "data": {
      "text/plain": [
       "{0: '',\n",
       " 1: '[UNK]',\n",
       " 2: 'vacuum',\n",
       " 3: 'this',\n",
       " 4: 'sometimes',\n",
       " 5: 'i',\n",
       " 6: 'love',\n",
       " 7: 'hate'}"
      ]
     },
     "execution_count": 53,
     "metadata": {},
     "output_type": "execute_result"
    }
   ],
   "source": [
    "# SAVING VOCAB FOR LATER\n",
    "# Getting list of vocab \n",
    "vocab = demo_sequence_vectorizer.get_vocabulary()\n",
    "\n",
    "# Save dictionaries to look up words from ints \n",
    "int_to_str  = {idx:word for idx, word in enumerate(vocab)} # Dictionary Comprehension\n",
    "# int_to_str = dict(zip( range(len(vocab)), vocab )) # Dict Constructor + \n",
    "int_to_str"
   ]
  },
  {
   "cell_type": "code",
   "execution_count": 54,
   "id": "5ffffb57-fbe8-4c2f-9ad0-a1e138733fee",
   "metadata": {
    "execution": {
     "iopub.execute_input": "2024-01-06T03:50:56.373472Z",
     "iopub.status.busy": "2024-01-06T03:50:56.373325Z",
     "iopub.status.idle": "2024-01-06T03:50:56.402925Z",
     "shell.execute_reply": "2024-01-06T03:50:56.402627Z",
     "shell.execute_reply.started": "2024-01-06T03:50:56.373463Z"
    }
   },
   "outputs": [
    {
     "name": "stdout",
     "output_type": "stream",
     "text": [
      "[[4 5 6 3 2 4 5 7 3 2]]\n"
     ]
    }
   ],
   "source": [
    "# Convert example to sequences\n",
    "sequences = demo_sequence_vectorizer(example_text)\n",
    "print(sequences.numpy())"
   ]
  },
  {
   "cell_type": "code",
   "execution_count": 55,
   "id": "da990d10-2a75-4e0b-804e-a302b4f02bfc",
   "metadata": {
    "execution": {
     "iopub.execute_input": "2024-01-06T03:50:56.403769Z",
     "iopub.status.busy": "2024-01-06T03:50:56.403613Z",
     "iopub.status.idle": "2024-01-06T03:50:56.432240Z",
     "shell.execute_reply": "2024-01-06T03:50:56.431887Z",
     "shell.execute_reply.started": "2024-01-06T03:50:56.403760Z"
    }
   },
   "outputs": [
    {
     "data": {
      "text/plain": [
       "ValueError('Shape of passed values is (1, 10), indices imply (1, 8)')"
      ]
     },
     "metadata": {},
     "output_type": "display_data"
    }
   ],
   "source": [
    "try:\n",
    "    pd.DataFrame(sequences, columns = vocab)\n",
    "except Exception as e:\n",
    "    display(e)"
   ]
  },
  {
   "cell_type": "code",
   "execution_count": 56,
   "id": "04958dbd-126d-41a4-b63e-9a4e0e420d15",
   "metadata": {
    "execution": {
     "iopub.execute_input": "2024-01-06T03:50:56.433035Z",
     "iopub.status.busy": "2024-01-06T03:50:56.432877Z",
     "iopub.status.idle": "2024-01-06T03:50:56.461136Z",
     "shell.execute_reply": "2024-01-06T03:50:56.460801Z",
     "shell.execute_reply.started": "2024-01-06T03:50:56.433022Z"
    }
   },
   "outputs": [
    {
     "data": {
      "text/plain": [
       "array([[4, 5, 6, 3, 2, 4, 5, 7, 3, 2]])"
      ]
     },
     "execution_count": 56,
     "metadata": {},
     "output_type": "execute_result"
    }
   ],
   "source": [
    "sequences = sequences.numpy()\n",
    "sequences"
   ]
  },
  {
   "cell_type": "code",
   "execution_count": 57,
   "id": "1abdad54-2f2b-42dc-ab07-5be556033ca3",
   "metadata": {
    "execution": {
     "iopub.execute_input": "2024-01-06T03:50:56.461812Z",
     "iopub.status.busy": "2024-01-06T03:50:56.461714Z",
     "iopub.status.idle": "2024-01-06T03:50:56.488981Z",
     "shell.execute_reply": "2024-01-06T03:50:56.488487Z",
     "shell.execute_reply.started": "2024-01-06T03:50:56.461802Z"
    },
    "scrolled": true
   },
   "outputs": [
    {
     "name": "stdout",
     "output_type": "stream",
     "text": [
      "4 = sometimes\n",
      "5 = i\n",
      "6 = love\n",
      "3 = this\n",
      "2 = vacuum\n",
      "4 = sometimes\n",
      "5 = i\n",
      "7 = hate\n",
      "3 = this\n",
      "2 = vacuum\n"
     ]
    }
   ],
   "source": [
    "for val in sequences[0]:\n",
    "    print(f\"{val} = {int_to_str[val]}\")"
   ]
  },
  {
   "cell_type": "markdown",
   "id": "597c67c8-c54a-4614-893c-f914120509af",
   "metadata": {},
   "source": [
    "### Determine appropriate sequence length. "
   ]
  },
  {
   "cell_type": "code",
   "execution_count": 58,
   "id": "89ce67c8-4815-4dba-a9b6-0a8d7b97b069",
   "metadata": {
    "execution": {
     "iopub.execute_input": "2024-01-06T03:50:56.489677Z",
     "iopub.status.busy": "2024-01-06T03:50:56.489570Z",
     "iopub.status.idle": "2024-01-06T03:50:56.516899Z",
     "shell.execute_reply": "2024-01-06T03:50:56.516515Z",
     "shell.execute_reply.started": "2024-01-06T03:50:56.489667Z"
    }
   },
   "outputs": [],
   "source": [
    "# df_ml['length (characters)'] = df_ml['text'].map(len)\n",
    "# df_ml.head(3)\n",
    "\n",
    "# ax = sns.histplot(data=df_ml, hue='rating', x='length (characters)',\n",
    "#                 stat='percent',common_norm=False)#, estimator='median',);\n",
    "# ax.axvline()"
   ]
  },
  {
   "cell_type": "code",
   "execution_count": 59,
   "id": "825a1930-00f2-41c4-b337-e20f3cec154d",
   "metadata": {
    "execution": {
     "iopub.execute_input": "2024-01-06T03:50:56.517562Z",
     "iopub.status.busy": "2024-01-06T03:50:56.517464Z",
     "iopub.status.idle": "2024-01-06T03:50:56.562200Z",
     "shell.execute_reply": "2024-01-06T03:50:56.561894Z",
     "shell.execute_reply.started": "2024-01-06T03:50:56.517552Z"
    }
   },
   "outputs": [
    {
     "data": {
      "text/plain": [
       "count    6359.000000\n",
       "mean       85.317345\n",
       "std       105.261462\n",
       "min         2.000000\n",
       "25%        21.000000\n",
       "50%        52.000000\n",
       "75%       106.000000\n",
       "max      1521.000000\n",
       "Name: length (tokens), dtype: float64"
      ]
     },
     "execution_count": 59,
     "metadata": {},
     "output_type": "execute_result"
    }
   ],
   "source": [
    "# Let's take a look at the length of the each text\n",
    "# We will split on each space, and then get the length\n",
    "df_ml['length (tokens)'] = df_ml['text'].map( lambda x: len(x.split(\" \")))\n",
    "df_ml['length (tokens)'].describe()"
   ]
  },
  {
   "cell_type": "code",
   "execution_count": 60,
   "id": "27050d88-b035-4861-a971-344839ddb452",
   "metadata": {
    "execution": {
     "iopub.execute_input": "2024-01-06T03:50:56.562843Z",
     "iopub.status.busy": "2024-01-06T03:50:56.562717Z",
     "iopub.status.idle": "2024-01-06T03:50:56.589823Z",
     "shell.execute_reply": "2024-01-06T03:50:56.589499Z",
     "shell.execute_reply.started": "2024-01-06T03:50:56.562833Z"
    }
   },
   "outputs": [],
   "source": [
    "# ax = sns.histplot(data=df_ml, hue='rating', x='length (tokens)',\n",
    "#                 stat='frequency',common_norm=False)#, estimator='median',);\n"
   ]
  },
  {
   "cell_type": "code",
   "execution_count": 61,
   "id": "d404d3ad-45eb-4c4a-ad53-c67714b350ea",
   "metadata": {
    "execution": {
     "iopub.execute_input": "2024-01-06T03:50:56.590415Z",
     "iopub.status.busy": "2024-01-06T03:50:56.590316Z",
     "iopub.status.idle": "2024-01-06T03:50:57.032682Z",
     "shell.execute_reply": "2024-01-06T03:50:57.032180Z",
     "shell.execute_reply.started": "2024-01-06T03:50:56.590406Z"
    }
   },
   "outputs": [
    {
     "data": {
      "text/plain": [
       "<matplotlib.lines.Line2D at 0x2aa072740>"
      ]
     },
     "execution_count": 61,
     "metadata": {},
     "output_type": "execute_result"
    },
    {
     "data": {
      "image/png": "[encoded data removed]",
      "text/plain": [
       "<Figure size 640x480 with 1 Axes>"
      ]
     },
     "metadata": {},
     "output_type": "display_data"
    }
   ],
   "source": [
    "SEQUENCE_LENGTH = 150\n",
    "ax = sns.histplot(data=df_ml, hue='rating', x='length (tokens)',kde=True,\n",
    "                stat='probability',common_norm=False)#, estimator='median',);\n",
    "ax.axvline(SEQUENCE_LENGTH, color='red', ls=\":\")"
   ]
  },
  {
   "cell_type": "markdown",
   "id": "3899e199-f286-483a-a466-c63fe987d652",
   "metadata": {},
   "source": [
    "### Create the Training Texts Dataset"
   ]
  },
  {
   "cell_type": "markdown",
   "id": "56612dd3-9d92-4a02-a28a-5cffd50abacc",
   "metadata": {},
   "source": [
    "> We need to get a version of our data that is **only the texts**."
   ]
  },
  {
   "cell_type": "code",
   "execution_count": 62,
   "id": "68a346be-2bf5-483d-8c13-4074fb506730",
   "metadata": {
    "execution": {
     "iopub.execute_input": "2024-01-06T03:50:57.033724Z",
     "iopub.status.busy": "2024-01-06T03:50:57.033513Z",
     "iopub.status.idle": "2024-01-06T03:50:57.072039Z",
     "shell.execute_reply": "2024-01-06T03:50:57.071615Z",
     "shell.execute_reply.started": "2024-01-06T03:50:57.033711Z"
    }
   },
   "outputs": [
    {
     "data": {
      "text/plain": [
       "<tf.Tensor: shape=(32,), dtype=string, numpy=\n",
       "array([b\"If you have kids or animals or both - you need this.: I usually rent a rug doctor to clean my carpets but I just got tired of that and started to let them go to long so I bought this to keep in the house.  I love it, should have done this years ago when the kids were younger.\\nPros:\\nEasy to use, not any harder then pushing your vacume around.\\nDoes a very nice job\\nPrice is good, same as walmart\\n\\nCon:\\nTank is a little small so you have to fill and empty often.  But since I'm not renting it by the hour it's not that big of a deal for me.\",\n",
       "       b\"Leaked everywhere, but I got my money back on it: Bought it Nov. 2016.  It's broken a year later.  I bought the 2-year warranty provided by Square Trade, who issued me a full refund, sending me a refund check in the mail and did NOT ask for the machine back.  The machine leaked a bit from the first time I used it, a reported issue in the reviews.  But, I so loved the machine that I put up with the leaking.  But, it got worse and worse over time, finally dumping a lot of water on the carpet.  It easily sucked it all up, but it takes way too long to clean anything this way.  A gasket ring under the rinse tank also broke during my final use of the machine.  I had problems reaching Square Trade on my own, as their site said my e-mail was already associated with an account (Yes, MY account), but that my password was not working.  The new password they sent didn't work either, so I could not initiate the refund via their website.  They do NOT post a phone number.  I called WONDERFUL AMAZON CUSTOMER SERVICE (can't say enough good things about them).  They called Square Trade for me and put me through to talking directly to their customer service, who quickly decided the machine was not worth returning or fixing and issued me a full refund.  I did not like the machine.  I did like the resolution of the problem.\",\n",
       "       b'No steam!!!: It does clean well but there is no heating element of any way of heating the water. So not sure why the word steam cleaner. Also the instructions are so wired i have not been able to put the hose in so i have to keep the old one i have around because the hose part works well to clean the upholstery.',\n",
       "       b\"Wow. My rugs were nasty!: This thing is amazing. I cleaned my area rugs with it and the dirty water was black! And I had this weird smell in my parlor like there was a dead mouse in the crawlspace under the house or something. A bad DOA smell. Now after cleaning my rugs it's gone. Ugh. They were that dirty!! This thing is great. Highly recommend!\",\n",
       "       b\"Stopped Scrubbing on the Third Day: The brush stopped spinning at the beginning of the third day.  I can spin the brush by hand so it's not jammed.  Only used it about 2 hours for two days in a row.  I did check the little screen as described in the manual and it's clean.  Cleaned the brush, too.  I haven't even finished half of our house yet, and haven't moved the furniture so it's really less than a quarter of the house.\\n\\nWhen it worked, it cleaned and scrubbed the carpet well.  It sent the motor's warm exhaust downward to help dry the carpet - a clever design.  It had very good suction power.  The carpet dried to crisp in about 2 hours (in mid-70's with humidity below 10%.)\\n\\nThe only other negative was that the motor was jet engine loud.  I wore my 30db rated gun range hearing protection, but it's still louder than my Shark vacuum.\",\n",
       "       b'this thing is nearly useless. Picks up dust: meh, this thing is nearly useless. Picks up dust, requires a lot of cleaning. Long hair wraps around core plastic piece and it loses suction.',\n",
       "       b'Best vacuum ever: Best vacuum ever! I use this more than my stronger plugin simply because of the convenience of a cordless.',\n",
       "       b\"Stopped working after 10 months: My vacuum stopped working after 10 months. I don't know if it is a battery issue or what. Looks like battery issue. I charge the battery it will run for 2 mins and then stop. Is there anyway they can send me new battery? My last cordless vacuum last me for 3 years.\",\n",
       "       b\"This is the greatest little vacuum for us and our dogs: This is the greatest little vacuum for us and our dogs. Picks up most of the dog hair and we love watching it spin around in the dirt cup. Very rewarding to dump it all in the trash too. It's so easy we got another one for upstairs!\",\n",
       "       b'Great Vacuum!!: This is a great vacuum. It is so nice to just grab it and do a quick clean up. It does a great job on floors and carpets. Recharging is quick and easy. It is extremely convenient!',\n",
       "       b\"One Star: Don't waste your money!! Horrible item. I didn't clean at all! It was so frustrating! Please don't buy.\",\n",
       "       b'Not easy to clean the dust: Not easy to clean the dust, very difficult to open the dust container and put it back.\\nSucking not as good as I thought.',\n",
       "       b'Does a good job!: Cleans great!  I had to look up a youtube video to figure out how to attach the attachment hose but it works great!!',\n",
       "       b'Leaky mess that cant be fixed. Terrible customer service.: DO NOt BUY HOOVER power scrub for carpet cleaning. Their Authorized service center had for 2 weeks , replaced the motor and it still leaks. HOOVER wants me to take it back again instead of replacing it.  It worked fine 2 or 3 times for one large room then leaked everywhere. Do your research!',\n",
       "       b'Five Stars: Works great! Easy to use!',\n",
       "       b\"Extremely disappointed and have not even used it yet!!: No place for tools on the machine.  Put wet tools into a bag.  Talk about cheap!\\nEverything is plastic.  Too light weight.  Does not feel at all like there is any quality or durability.\\nCan't use it as I want to return it.\",\n",
       "       b\"it's better just to rent it: not what i expected.  who would buy just a carpet cleaner.  it is so heavy.  it's better just to rent it.\",\n",
       "       b'We have dogs that spay incontinence and though this wash + rince model would do better. HELL NO: Not enough power, just Jeb bush.  I also own the F5914900 which does not have a standalone rinse option.  We use that 99% of the time.  We have dogs that spay incontinence and though this wash + rince model would do better. HELL NO.  the F5914900 is heavier and sucks up most of the water.  This crappy one leaves a lot of fluid behind in the carpet.',\n",
       "       b'Five Stars: Awesome Vacuum for a Cordless.  I just love the suction and it works so easily.',\n",
       "       b'Very good product - also has great reviews.: Great for quick cleaning - strong suction and good battery life.  Have one for each floor.',\n",
       "       b'AWESOME!!!: OMG It really works well!!!!! Used with the pet stain and odor remover- this machine brouth our carpets back to their original gorgeous state!!! I am blown away!',\n",
       "       b\"I had no idea my carpet could look new!: I live in an apartment complex and the carpet is about 4 years old. When we moved in it was not looking in the best shape and figured it would never come clean! I purchased this product (I don't write reviews but I have to here) and OMG 3 extremely dark black water buckets later and an extremely clean carpet I was convinced this was getting the job done better than hiring a carpet cleaner for the same price!!!!! I also put clean water in the solution area after cleaning with the deep cleaning solution the steam vac came with (which works wonders without even spot treating) and I still got all the dirt up! Fast, simple, easy to use, effective and does just as good if not better than the rug doctor you rent! Extremely pleased!\\n\\nUpdated on 13JUN16- It has finally began to fall apart! This steam cleaner ahs been through so many things and been with me since a few months before my first son was born (about 3 1/2 years total life) We used this to do EVERYTHING! when you have kids this is a must. Sadly the bottom to keep it upright or let it go back broke off naturally... NO we aren't hard on our things, we seriously have used this so much and honestly that would be my biggest gripe about this steam cleaner is the way it holds itself upright is very wobbly. and the things which hold the dirty water tank in one of those broke off too. we have divorced and we will be purchasing the newer version of this steam cleaner! Hoover has done a fantastic job with steam cleaners for the price point! Just wish it would've lasted a bit longer!\",\n",
       "       b'Best Bang for the Buck or any Buck!: The shampooer came in three days and well packaged. I tried it out the next day. To my amazement it took dirt and stains out of our rug that had been there for several years. I used the Hoover carpet shampoo and that was a good choice. While this is not a commercial machine, it did a great job and was easy to use.',\n",
       "       b'A Must For Pet Owners: Excellent vacuum for pet owners. Light, easy to maneuver, charges quickly.',\n",
       "       b'Not great: Love the idea of this - and all the reviews were very good.  I had high expectations.  Unfortunately the roller grabs threads and other long dirt items and wraps them around so tight the roller just stops working.  You have to either \"remember\" to unwind it each time or suffer like I did and get frustrated. After 3 weeks of trying to put up with it because the no-cord thing is fabulous, it stopped working - just plain old stopped - quit - nada - nothing.  It leaves tomorrow.',\n",
       "       b'Very good, when it works. Do not expect long life out of it.: Got it in March 2015, today is end of October 2015.\\nPlastic is cracking at the points where you put screws to hold the handler in place. Today the vacuum started leaking badly. Both solvent and water leaks out from the bottom with the stream, which empty the tank within 4-5 minutes.\\nThe unit was kept dry and washed after every cleaning.\\nI just loaded it up and noticed the leak. Stay away from this equipment.',\n",
       "       b'Stopped working after a few uses.: Had this machine for a little over a year and it worked great. Only used it 4 or 5 times. Used it a few months ago and it worked fine, went to clean my couch with the hand tool and it did not work. Tried to use it to clean my rugs a few days ago and it will not dispense the cleaning solution. Looked online to find a solution and nothing worked. I came on here the other day to order a new machine and saw one on sale, ordered it and realized that this is the same machine I already have, will be returning when it arrives.',\n",
       "       b'Steer clear, do not buy used!!!!!!!!!!: If I could give zero stars.....Garbage.  Missing second water container, thrown in box.  Dirty, no instructions.  Could have done better going to thrift shop.  How can they honestly charge anyone for a machine missing water holder, basically non functional???? ',\n",
       "       b\"Good cleaner: This steam carpet cleaner works very well.  Does a good job on the carpet and is very easy to use.  I had a similar one that I used for years and when it finally gave out, I got a Bissel. In  the three years I had that one, it had to be replaced once while still under warranty and it quit working again so I got this one.  I like the ease of use. My only complaint is the hose attachment storage on machine itself doesn't seem to work so well for me, so the hose is not stored on my machine.\",\n",
       "       b'There is no where to contact anyone when there is ...: There is no where to contact anyone when there is a problem, I was not offered any extended plan on Amazon and now the vacuum cleaner is not working. The dirt is backing up in the exhaust and not going into the canister. Buy from here at your own risk',\n",
       "       b\"super cleaner!: I am so impressed with this hoover steamvac, i hadn't cleaned my carpets in years and now they look like new again!!! Best money I have spent in a long long time\",\n",
       "       b\"Hardly worth it: So heavy to push around, hardly worth the effort, doesn't get the carpet very clean at all, nothing like a professional cleaning no matter how hard you work at it.  My sister has a different brand and it seems to do a much superior job.\"],\n",
       "      dtype=object)>"
      ]
     },
     "execution_count": 62,
     "metadata": {},
     "output_type": "execute_result"
    }
   ],
   "source": [
    "# Get just the text from ds_train\n",
    "ds_texts = train_ds.map(lambda x, y: x)\n",
    "\n",
    "# Preview the text\n",
    "ds_texts.take(1).get_single_element()"
   ]
  },
  {
   "cell_type": "code",
   "execution_count": 63,
   "id": "73d5cc8b-963d-4a78-a33f-4f134509e812",
   "metadata": {
    "execution": {
     "iopub.execute_input": "2024-01-06T03:50:57.072832Z",
     "iopub.status.busy": "2024-01-06T03:50:57.072700Z",
     "iopub.status.idle": "2024-01-06T03:50:57.098372Z",
     "shell.execute_reply": "2024-01-06T03:50:57.097905Z",
     "shell.execute_reply.started": "2024-01-06T03:50:57.072823Z"
    }
   },
   "outputs": [],
   "source": [
    "# # Fit the layer on the training texts\n",
    "# try:\n",
    "#     sequence_vectorizer.adapt(train_ds)\n",
    "# except Exception as e:\n",
    "#     display(e)"
   ]
  },
  {
   "cell_type": "markdown",
   "id": "ed82d8d9-8d00-4b90-8d83-7eb963cf5ba9",
   "metadata": {},
   "source": [
    "### \"Fitting\" the Text Vectorization Layer"
   ]
  },
  {
   "cell_type": "code",
   "execution_count": 64,
   "id": "972e8d3e-634d-4d6a-8524-a62be7f3de52",
   "metadata": {
    "execution": {
     "iopub.execute_input": "2024-01-06T03:50:57.098941Z",
     "iopub.status.busy": "2024-01-06T03:50:57.098839Z",
     "iopub.status.idle": "2024-01-06T03:50:57.127310Z",
     "shell.execute_reply": "2024-01-06T03:50:57.127012Z",
     "shell.execute_reply.started": "2024-01-06T03:50:57.098931Z"
    }
   },
   "outputs": [],
   "source": [
    "# Create text Vectorization layer\n",
    "sequence_vectorizer = tf.keras.layers.TextVectorization(\n",
    "    standardize=\"lower_and_strip_punctuation\",\n",
    "    output_mode=\"int\",\n",
    "    output_sequence_length=SEQUENCE_LENGTH\n",
    ")"
   ]
  },
  {
   "cell_type": "code",
   "execution_count": 65,
   "id": "3a628364-29e3-4180-90fd-3c2d42c0db90",
   "metadata": {
    "execution": {
     "iopub.execute_input": "2024-01-06T03:50:57.128041Z",
     "iopub.status.busy": "2024-01-06T03:50:57.127898Z",
     "iopub.status.idle": "2024-01-06T03:50:57.202791Z",
     "shell.execute_reply": "2024-01-06T03:50:57.202469Z",
     "shell.execute_reply.started": "2024-01-06T03:50:57.128032Z"
    }
   },
   "outputs": [],
   "source": [
    "# Fitting the vectorizer using .adapt\n",
    "sequence_vectorizer.adapt(ds_texts)"
   ]
  },
  {
   "cell_type": "code",
   "execution_count": 66,
   "id": "97a25c29-8323-4909-bcc0-d9c31c557abd",
   "metadata": {
    "execution": {
     "iopub.execute_input": "2024-01-06T03:50:57.203417Z",
     "iopub.status.busy": "2024-01-06T03:50:57.203321Z",
     "iopub.status.idle": "2024-01-06T03:50:57.241777Z",
     "shell.execute_reply": "2024-01-06T03:50:57.241319Z",
     "shell.execute_reply.started": "2024-01-06T03:50:57.203408Z"
    }
   },
   "outputs": [
    {
     "data": {
      "text/plain": [
       "['', '[UNK]', 'the', 'i', 'it', 'and', 'to', 'a', 'this', 'is']"
      ]
     },
     "execution_count": 66,
     "metadata": {},
     "output_type": "execute_result"
    }
   ],
   "source": [
    "# Before training, only contains the out of vocab token ([UNK])\n",
    "sequence_vectorizer.get_vocabulary()[:10]"
   ]
  },
  {
   "cell_type": "code",
   "execution_count": 67,
   "id": "532cfa99-1ce6-4dbd-b02f-b331a1aa6f09",
   "metadata": {
    "execution": {
     "iopub.execute_input": "2024-01-06T03:50:57.251264Z",
     "iopub.status.busy": "2024-01-06T03:50:57.251072Z",
     "iopub.status.idle": "2024-01-06T03:50:57.278354Z",
     "shell.execute_reply": "2024-01-06T03:50:57.277982Z",
     "shell.execute_reply.started": "2024-01-06T03:50:57.251251Z"
    }
   },
   "outputs": [
    {
     "data": {
      "text/plain": [
       "5889"
      ]
     },
     "execution_count": 67,
     "metadata": {},
     "output_type": "execute_result"
    }
   ],
   "source": [
    "# Saving the Size of the Vocab\n",
    "VOCAB_SIZE = sequence_vectorizer.vocabulary_size()\n",
    "VOCAB_SIZE"
   ]
  },
  {
   "cell_type": "code",
   "execution_count": null,
   "id": "66623992-d44d-4838-a2e3-4c9e26bcfe75",
   "metadata": {},
   "outputs": [],
   "source": []
  },
  {
   "cell_type": "code",
   "execution_count": 68,
   "id": "8edba3e4-0cb6-4326-a8b6-9bbec61df44b",
   "metadata": {
    "execution": {
     "iopub.execute_input": "2024-01-06T03:50:57.279185Z",
     "iopub.status.busy": "2024-01-06T03:50:57.279026Z",
     "iopub.status.idle": "2024-01-06T03:50:57.311400Z",
     "shell.execute_reply": "2024-01-06T03:50:57.311076Z",
     "shell.execute_reply.started": "2024-01-06T03:50:57.279176Z"
    }
   },
   "outputs": [],
   "source": [
    "# Getting list of vocab\n",
    "vocab = sequence_vectorizer.get_vocabulary()\n",
    "int_to_str = {idx: word for idx, word in enumerate(vocab)}\n",
    "# int_to_str"
   ]
  },
  {
   "cell_type": "markdown",
   "id": "7537cbde-6aeb-4e23-a3a6-73645acfe1c1",
   "metadata": {},
   "source": [
    "## To Do: \n",
    "- Troubleshoot demo of embedding layers (or just use full model)"
   ]
  },
  {
   "cell_type": "markdown",
   "id": "a574b868-c730-4524-b129-c85f6ceb36ca",
   "metadata": {},
   "source": [
    "### Embedding Layer"
   ]
  },
  {
   "cell_type": "markdown",
   "id": "ed794019-1e9e-491a-8133-f9046d69de41",
   "metadata": {},
   "source": [
    "The embedding layer needs the number of words in the input (input_dim), and the desired embedding dimensions. (e.g. 100,200,300).\n",
    "\n",
    "Arbitrary"
   ]
  },
  {
   "cell_type": "code",
   "execution_count": 69,
   "id": "d46de2b3-a730-40b2-bf5d-af35151092af",
   "metadata": {
    "execution": {
     "iopub.execute_input": "2024-01-06T03:50:57.312209Z",
     "iopub.status.busy": "2024-01-06T03:50:57.312093Z",
     "iopub.status.idle": "2024-01-06T03:50:57.339884Z",
     "shell.execute_reply": "2024-01-06T03:50:57.339505Z",
     "shell.execute_reply.started": "2024-01-06T03:50:57.312199Z"
    }
   },
   "outputs": [
    {
     "data": {
      "text/plain": [
       "<_TensorDataset element_spec=(TensorSpec(shape=(1, 1), dtype=tf.string, name=None), TensorSpec(shape=(1,), dtype=tf.float64, name=None))>"
      ]
     },
     "execution_count": 69,
     "metadata": {},
     "output_type": "execute_result"
    }
   ],
   "source": [
    "example_text = [['Sometimes I love this vacuum, sometimes i hate this vacuum']]\n",
    "dummy_labels = np.zeros(len(example_text))\n",
    "demo_ds = tf.data.Dataset.from_tensors((example_text,dummy_labels))\n",
    "demo_ds"
   ]
  },
  {
   "cell_type": "code",
   "execution_count": 70,
   "id": "bcdcc2fa-3d2c-4ce7-a71f-16037c81486e",
   "metadata": {
    "execution": {
     "iopub.execute_input": "2024-01-06T03:50:57.340411Z",
     "iopub.status.busy": "2024-01-06T03:50:57.340331Z",
     "iopub.status.idle": "2024-01-06T03:50:57.366461Z",
     "shell.execute_reply": "2024-01-06T03:50:57.366109Z",
     "shell.execute_reply.started": "2024-01-06T03:50:57.340403Z"
    }
   },
   "outputs": [
    {
     "data": {
      "text/plain": [
       "<_BatchDataset element_spec=(TensorSpec(shape=(None,), dtype=tf.string, name=None), TensorSpec(shape=(None,), dtype=tf.int64, name=None))>"
      ]
     },
     "execution_count": 70,
     "metadata": {},
     "output_type": "execute_result"
    }
   ],
   "source": [
    "train_ds"
   ]
  },
  {
   "cell_type": "code",
   "execution_count": 71,
   "id": "91753aa7-d604-4cea-b030-19472775cb17",
   "metadata": {
    "execution": {
     "iopub.execute_input": "2024-01-06T03:50:57.367162Z",
     "iopub.status.busy": "2024-01-06T03:50:57.367047Z",
     "iopub.status.idle": "2024-01-06T03:50:57.394768Z",
     "shell.execute_reply": "2024-01-06T03:50:57.394317Z",
     "shell.execute_reply.started": "2024-01-06T03:50:57.367154Z"
    }
   },
   "outputs": [
    {
     "data": {
      "text/plain": [
       "TensorShape([32])"
      ]
     },
     "execution_count": 71,
     "metadata": {},
     "output_type": "execute_result"
    }
   ],
   "source": [
    "demo_x, demo_y = train_ds.take(1).get_single_element()\n",
    "demo_x.shape"
   ]
  },
  {
   "cell_type": "code",
   "execution_count": 72,
   "id": "f8dc7732-ad5c-4160-97a9-9c43a7d9862e",
   "metadata": {
    "execution": {
     "iopub.execute_input": "2024-01-06T03:50:57.395447Z",
     "iopub.status.busy": "2024-01-06T03:50:57.395363Z",
     "iopub.status.idle": "2024-01-06T03:50:57.421355Z",
     "shell.execute_reply": "2024-01-06T03:50:57.420922Z",
     "shell.execute_reply.started": "2024-01-06T03:50:57.395439Z"
    }
   },
   "outputs": [],
   "source": [
    "demo_ds =  train_ds.take(1)#.get_single_element()"
   ]
  },
  {
   "cell_type": "code",
   "execution_count": 73,
   "id": "f629764d-8fa8-4dc9-a722-f4cb15eb8e3b",
   "metadata": {
    "execution": {
     "iopub.execute_input": "2024-01-06T03:50:57.422107Z",
     "iopub.status.busy": "2024-01-06T03:50:57.421974Z",
     "iopub.status.idle": "2024-01-06T03:50:57.449970Z",
     "shell.execute_reply": "2024-01-06T03:50:57.449513Z",
     "shell.execute_reply.started": "2024-01-06T03:50:57.422096Z"
    }
   },
   "outputs": [
    {
     "data": {
      "text/plain": [
       "<tf.Tensor: shape=(32,), dtype=string, numpy=\n",
       "array([b'TOTAL FRUSTRATION: This Chinese made POS has failed for the last time! It simply will not suck up water, again. No matter how many times I re-install the recovery tank, it will not suck. So, my carpets are saturated with soapy fluid. Hoover sucks all right.......',\n",
       "       b'Good deal, fast delivery, packaging was a little beat up: Bought as a gift. No complaints.  It was half the price of the Bissel machine that had similar features.',\n",
       "       b'Excellent scrubber: Great scrubber for the money.',\n",
       "       b\"Was good in the beginning.: The convenience of having this rechargeable vacuum sounded great...but if you don't aim the center of the vacuum directly over the dirt you want picked up, it won't pick it up.  The dog hair gathers on the corners while in use, instead of being taken up into the vacuum.  You have to clean it every time you use it.\",\n",
       "       b'Five Stars: Love this machine. Powerful cleaning. Simple to empty.',\n",
       "       b\"Very Disappointed by Short Life: Stopped working after 8 months. Wouldn't pick up, brushes would not move. Very disappointed.\",\n",
       "       b\"Cleaner doesn't clean too good plus it is really heavy: Cleaner doesn't clean too good plus it is really heavy.\\n\\nUpdate:\\n\\nI purchased this carpet cleaner in 2014 and used it maybe one time, at least my brother did.  At the time he said it did not pick up but I thought it was him.  I tried to used again this week and could not get the cleaner to pick up.  I paid over $130 for this cleaner and its been over a couple of years so Amazon won't take it back - what a waste of money.  When it arrived from Amazon, all I had to do is pull it out of the box, I did not have to put it together which makes me think this was a return from a customer who was having the same no suction problem because it did not pick up then.  Since that time I have been paying carpet companies to clean my 600 sq feet carpet.  Its too late now for me to return to Amazon but I want others to know that if its already put together, it is a return.  Amazon did not say that but what else could it be.\",\n",
       "       b\"Extremely disappointed and have not even used it yet!!: No place for tools on the machine.  Put wet tools into a bag.  Talk about cheap!\\nEverything is plastic.  Too light weight.  Does not feel at all like there is any quality or durability.\\nCan't use it as I want to return it.\",\n",
       "       b\"Handle to water tank broke: This worked okay for the first year, especially given the price. However, after just one year, the handle that attaches the top tank to the machine broke, so it does not stay attached to the machine anymore. We did not use this very much, and only in our family room (about 250sqft). I would say we used it maybe 5 times. We now have a big piece of junk in our laundry room. Next time, I'll spend a little more and hope to get better quality.\",\n",
       "       b'Five Stars: The best!!!! it is a life saver for pet lovers. it removes stains right away!',\n",
       "       b'GREAT: We have two of these and they are actually powerful enough and do well on carpets (we have both hardwood floors and area carpets).',\n",
       "       b\"Great buy!: I bought this Hoover after attempting to use my Bissell cleaner (only two years old) and it wouldn't work. After weeks of attempting to fix it and learning others had the same problem, I reviewed other cleaners and found this to be the best buy. I am glad I did. It's much easier to use and did a fine job of cleaning. Not having it long I don't know about long term but I feel confident it will hold up well. I run vinegar in the 2nd rinse the next day or two to prevent clogging.\",\n",
       "       b'made worse by taking out leaking trash: I have lived in my apartment 5 years and have never had it shampooed. The stains from my kitchen to the front door, made worse by taking out leaking trash, were too embarrassing to have people over. After a few wash passes using the included small carpet cleaner, my carpet now looks fresh and inviting again. washing my entire apartment seems like it could get pricey, though, but that is not the fault of the washer. now I just have to dirty my carpet a few more times so it will pay for itself =]',\n",
       "       b'Fabulous!!: Greatest little vacuum. This is the second one we bought for around the house small jobs. Just love it!',\n",
       "       b\"Amazing carpet and upholstery cleaner! Toddler approved!: I absolutely love this cleaner. We have purchased other brands in the past but this surpasses their quality by far. I have a 9 month old, a toddler, and I nanny for 2 more toddlers so spills and messes are everywhere. I've used this cleaner to clean my couches and they look brand new. The variety if attachments is so useful for cleaning up any type of spill or mess. The heating feature makes it so you aren't walking on wet carpets. The dirty water is easily poured out with no mess due to the spout hole. Great product! I even bought one for my in laws because I loved it so much!\",\n",
       "       b\"Unreliable product, unacceptable customer service: I strongly recommend against buying this vacuum.  The battery is unreliable and Hoover's customer service is atrocious.  When I called their customer service department, I was put on hold for over an hour.  While I was waiting, I got on their website and was able to chat with someone who knew nothing about the product and tried to find every reason imaginable not to help me. First she asked for the model number and manufacturer's code.  After I provided both, she told me I needed my original receipt.  I pulled that up and then she claimed the product was out of warranty, and I reminded her that the product had a 5 year warranty (as stated on Amazon) and then she told me that the battery and almost all of the parts are not covered by the 5 year warranty.  She seemed to have absolutely no interest in assisting me and told me my only option was to buy a new $50 battery.  I've had negative experiences dealing with Hoover before and hoped they had improved their customer service, but unfortunately it was just as bad if not worse than before.  She did acknowledge that the Linx had battery issues and I did some research online and discovered the same.  Don't waste your money on an unreliable product from an ungrateful company.\",\n",
       "       b\"This Is Far More Than A Carpet Washer. It's A Versatile Cleaning Machine.: An excellent carpet steamer/washer. Our previous carpet steamer was very clunky and inefficient so we decided to get a new one. This model is far more efficient at cleaning, and far easier to maneuver. The dual tanks are a great idea, and seem to cut down on the cleaning time. The fact that it comes with attachments also makes this a highly versatile steamer. We were pleasantly surprised by the quality of this steamer, given the price point. As others have stated, this is well worth the money.\",\n",
       "       b\"YES!!!: Fabulous!!! My carpet looks SO MUCH BETTER!!! I love this steam cleaner! This is the second time I have purchased it, and with six dogs, it's an AMAZING cleaner!!!\",\n",
       "       b'Not good: Seems to have enough suction but there are a few major drawbacks. First of all the receiving tank is way to small. Have to constantly empty it as the fresh tank is larger. The power cord is too short. It leaks badly. Finally, leaves dark areas after cleaning. Piece of junk. I like Hoover products but this is unacceptable.',\n",
       "       b\"It is amazing! I've been a Bissell owner for two decades: I normally don't write reviews but I felt compelled to for this machine. It is amazing! I've been a Bissell owner for two decades. My husband decided to replace my old Bissell and after nine months it stop spraying. It has something to do with the defect in the ProHeat series. It was enough to make me want to switch brands. I was nervous to buy a Hoover because I had no knowledge or experience of them. I am so thankful I did. This thing really  has great suction. It works so good. Would definitely recommend it to a friend.\\n\\nEDIT:....\\nI can't compliment this steam cleaner enough! I am a janitor at a school. Our usual industrial carpet cleaner took a dump. I volunteered to bring in my Hoover because time was running out to get all the carpets cleaned in time for the new school year and the part for our industrial cleaner would take to long.. you can only imagine the amount of dirt in the carpet of an elementary school.. ALL of the carpets came out fabulous. Every dirty water bin I dumped looked like dark chocolate milk. This is a must buy!\",\n",
       "       b'CLEANS VERY WELL: VERY GOOD MACHINE FOR THE PRICE',\n",
       "       b\"didn't work: We tried it w/ the solution and dry, this vacuum just pushed the dirt and dust around - maybe ours was defective.  we sent it back to amazon, all i can say is thank god we bought it from amazon where returns are hassle free!\",\n",
       "       b\"Love this steam cleaner: This Carpet cleaner is very easy to put together. I absolutely love this carpet cleaner. It does a great job. I'm very happy with this purchase.\",\n",
       "       b\"no suction: I tried it out for about 20 minutes and then went to empty the dirty water and the container was dry. Reviews suggested wiggling the door on the suction tank. I did and got some suction but it seemed pretty mickey mouse. I am returning it after less than a day's use.\",\n",
       "       b\"A good product: Although this thing is quite expensive, it does work very well. So you get what you pay for. My only complaints are that the duct collection cup is rather small for a vacuum that picks up so much stuff. And being an engineer, I like to hear things click into place. When you reattach the dirt cup assembly, it just kind of sits there. No click.\\nIf you want a good vacuum and don't want to drag a cord around behind you, this is it. Not to say that it's a replacement for the big corded vacuum, but it's pretty close.\",\n",
       "       b\"Good, but only a supplement: After removing carpet and laying hardwood floors in our home, I was being driven crazy by the pet hair, dust, and everyday little pieces cluttering the floors everywhere I looked. The first weekend, I vacuumed FOUR TIMES in one day because I couldn't stand it.\\n\\nI bought a Roomba, thinking I could program it to run daily to cut down on the pet hair. It didn't work. We have indoor planting beds in our midcentury-style home, and Roomba just took a nose dive into them and got stuck every 5 minutes. Waste of time and money.\\n\\nSo I got this little guy to replace Roomba. Overall, it's OK. It has a lightweight, sleek design. The battery is easy to deal with, but over the past few months it's held less and less of a charge. Now it can barely get through my 700-ish sq. ft. home before it dies.\\n\\nIt gets into tight spaces and goes under the couch with no issues. The suction actually works pretty well, since it pulls from the floor and pushes air out the top, so it actually sucks up hair from 3-4 inches away.\\n\\nThe only major drawback I see is dealing with pet hair. Our dog's 2-inch hair gets stuck in two places, around the red core of the dirt cup and all along the brush at the bottom of the vacuum. Every time I vacuum, I have to tip the vacuum over while running to manually pull out all the hair at the bottom (sometimes TWICE while vacuuming) - then I have to stop and empty the dirt cup and manually pull off the hair a bit at a time. Our house isn't THAT big, and it's not like I'm waiting weeks in between vacuuming, so I think it should be able to handle this better.\",\n",
       "       b\"Very disappointing.: I was going to return this because the price dropped 30 dollars the day I received it in the mail.  However my hubby convinced me not to.  I should have because I used it once and it worked amazing.  The second time I tried to use it this week, conveniently a month after I bought it, it doesn't work.  The soap and water didn't mix, the soap stayed full.  It also didn't suck up even half of what it put down which was a real bummer because the first time I used it it sucked up everything it dropped down.  I was so impressed with the first use I thought that extra 30 bucks was ok to live with but now I'm out the full purchase cost.  I could have rented a steam cleaner from a local store for 30 bucks instead of what I paid for one use on this.  Bummer.\",\n",
       "       b\"Brushes stopped working and vacuum stopped sucking within a year, apparently it's a common problem.: I have had the machine just over a year now and have used it only about six times. The brushes have stopped moving and it seems to be blowing air instead of sucking. Apparently this is a common problem due to internal parts rusting out. The person who decided against spending an extra dollar to manufacture this without stainless steel washers and bearings should be flogged.\\n\\nI now have a soaking wet rug which will probably be ruined with mildew before I am able to get this repaired or replaced. Not only do I need a new carper shampooer, I will probably also need a new rug. Thanks, Hoover!\",\n",
       "       b\"dissappointed: Worked great the first time. Brushes don't spin anymore. Now have to call hoover for repair after only 60 days\",\n",
       "       b'This is the 2nd Hoover Steamvac I have bought. ...: This is the 2nd Hoover Steamvac I have bought..The 1st one was bought in 1982 and motor finally burned out this year in 2016..I expect this 2nd one to last me just as long as the 1st one..',\n",
       "       b'Junk!: absolute piece of junk!\\n\\nStopped working after 6 months, only used 3 times.',\n",
       "       b'Hoover review: I purchased this product based on other reviews I read on amazon.com and would recommend it highly particularly with ordering it from amazon. First of all I could not find this product in any of my area stores so being able to order from amazon and have it delivered quickly to my door was a big bonus.  I found it to be rather easy to put together and it really cleaned my carpets great - much cheaper than hiring a professional.'],\n",
       "      dtype=object)>"
      ]
     },
     "execution_count": 73,
     "metadata": {},
     "output_type": "execute_result"
    }
   ],
   "source": [
    "demo_x"
   ]
  },
  {
   "cell_type": "code",
   "execution_count": 74,
   "id": "b3e04aa4-fc46-4bb6-8ede-d1ac620e8802",
   "metadata": {
    "execution": {
     "iopub.execute_input": "2024-01-06T03:50:57.450585Z",
     "iopub.status.busy": "2024-01-06T03:50:57.450489Z",
     "iopub.status.idle": "2024-01-06T03:50:57.476364Z",
     "shell.execute_reply": "2024-01-06T03:50:57.476012Z",
     "shell.execute_reply.started": "2024-01-06T03:50:57.450576Z"
    }
   },
   "outputs": [],
   "source": [
    "# # try:\n",
    "# ## COMBINED CODE FOR CHAT GPT QUESTIONS\n",
    "# example_text = ['Sometimes I love this vacuum, sometimes i hate this vacuum']\n",
    "\n",
    "\n",
    "# # Create text Vectorization layer\n",
    "# sequence_vectorizer = tf.keras.layers.TextVectorization(\n",
    "#     standardize=\"lower_and_strip_punctuation\",\n",
    "#     output_mode=\"int\",\n",
    "#     output_sequence_length=SEQUENCE_LENGTH\n",
    "# )\n",
    "\n",
    "# # Fit the Text Vectorization Layer with .adapt\n",
    "# sequence_vectorizer.adapt(demo_ds)\n",
    "# VOCAB_SIZE = sequence_vectorizer.vocabulary_size()\n",
    "\n",
    "\n",
    "# # Create embedding layer of desired # of values\n",
    "# EMBED_DIM = 100\n",
    "# embedding_layer = layers.Embedding(input_dim = VOCAB_SIZE, output_dim = EMBED_DIM)\n",
    "\n",
    "# demo_embed = Sequential()\n",
    "# demo_embed.add(sequence_vectorizer)\n",
    "# demo_embed.add(embedding_layer)\n",
    "# demo_embed.compile(optimizer='adam', loss='categorical_crossentropy')\n",
    "\n",
    "\n",
    "# # Create some dummy target data\n",
    "# # dummy_labels = np.zeros((len(example_text), SEQUENCE_LENGTH, VOCAB_SIZE))\n",
    "\n",
    "\n",
    "# # Fit the model with the dummy labels\n",
    "# demo_embed.fit(demo_ds)#example_text, dummy_labels)\n",
    "# # except Exception as e:\n",
    "# #     display(e)\n"
   ]
  },
  {
   "cell_type": "code",
   "execution_count": null,
   "id": "21ff9633-c7ba-4109-9c80-d9e3f8268e00",
   "metadata": {},
   "outputs": [],
   "source": []
  },
  {
   "cell_type": "code",
   "execution_count": null,
   "id": "842652d7-41df-4450-ba94-a9ba87337a6e",
   "metadata": {},
   "outputs": [],
   "source": []
  },
  {
   "cell_type": "code",
   "execution_count": null,
   "id": "675a51db-8833-44e4-8e33-6c417f8e8666",
   "metadata": {},
   "outputs": [],
   "source": []
  },
  {
   "cell_type": "code",
   "execution_count": 75,
   "id": "8521c70d-c2b6-4435-bdbe-7ac595925a73",
   "metadata": {
    "execution": {
     "iopub.execute_input": "2024-01-06T03:50:57.476890Z",
     "iopub.status.busy": "2024-01-06T03:50:57.476789Z",
     "iopub.status.idle": "2024-01-06T03:50:57.505092Z",
     "shell.execute_reply": "2024-01-06T03:50:57.504721Z",
     "shell.execute_reply.started": "2024-01-06T03:50:57.476880Z"
    }
   },
   "outputs": [
    {
     "data": {
      "text/plain": [
       "<keras.layers.core.embedding.Embedding at 0x2abfeb3a0>"
      ]
     },
     "execution_count": 75,
     "metadata": {},
     "output_type": "execute_result"
    }
   ],
   "source": [
    "EMBED_DIM = 100\n",
    "embedding_layer = layers.Embedding(input_dim = VOCAB_SIZE, output_dim = EMBED_DIM)\n",
    "embedding_layer"
   ]
  },
  {
   "cell_type": "code",
   "execution_count": 76,
   "id": "b3ee284b-06fe-40e3-a3a5-d88b1adfe971",
   "metadata": {
    "execution": {
     "iopub.execute_input": "2024-01-06T03:50:57.505899Z",
     "iopub.status.busy": "2024-01-06T03:50:57.505723Z",
     "iopub.status.idle": "2024-01-06T03:50:57.550392Z",
     "shell.execute_reply": "2024-01-06T03:50:57.549834Z",
     "shell.execute_reply.started": "2024-01-06T03:50:57.505881Z"
    }
   },
   "outputs": [
    {
     "data": {
      "text/plain": [
       "RuntimeError('You must compile your model before training/testing. Use `model.compile(optimizer, loss)`.')"
      ]
     },
     "metadata": {},
     "output_type": "display_data"
    },
    {
     "name": "stdout",
     "output_type": "stream",
     "text": [
      "To be resolved...\n"
     ]
    }
   ],
   "source": [
    "try:\n",
    "    demo_embed = Sequential()\n",
    "    demo_embed.add(sequence_vectorizer)\n",
    "    demo_embed.add(embedding_layer)\n",
    "    demo_embed.fit(example_text)\n",
    "except Exception as e:\n",
    "    display(e)\n",
    "    print(\"To be resolved...\")"
   ]
  },
  {
   "cell_type": "markdown",
   "id": "99986110-1e85-48af-a9dc-495b82cb92a0",
   "metadata": {},
   "source": [
    "- TO DO?\n",
    "    - Glove\n",
    "    - New Embedding Layer"
   ]
  },
  {
   "cell_type": "markdown",
   "id": "95210b15-3546-48cb-9e2e-85669af45e6d",
   "metadata": {},
   "source": [
    "### Simple RNN"
   ]
  },
  {
   "cell_type": "code",
   "execution_count": null,
   "id": "89be6d2b-3847-41ff-a814-0b6ca84ce9ad",
   "metadata": {},
   "outputs": [],
   "source": []
  },
  {
   "cell_type": "code",
   "execution_count": 77,
   "id": "e26bb944-e5b3-4be5-9677-d7450a331d93",
   "metadata": {
    "execution": {
     "iopub.execute_input": "2024-01-06T03:50:57.550972Z",
     "iopub.status.busy": "2024-01-06T03:50:57.550891Z",
     "iopub.status.idle": "2024-01-06T03:50:57.578675Z",
     "shell.execute_reply": "2024-01-06T03:50:57.578266Z",
     "shell.execute_reply.started": "2024-01-06T03:50:57.550964Z"
    }
   },
   "outputs": [
    {
     "data": {
      "text/plain": [
       "{'name': 'text_vectorization_2',\n",
       " 'trainable': True,\n",
       " 'dtype': 'string',\n",
       " 'batch_input_shape': (None,),\n",
       " 'max_tokens': None,\n",
       " 'standardize': 'lower_and_strip_punctuation',\n",
       " 'split': 'whitespace',\n",
       " 'ngrams': None,\n",
       " 'output_mode': 'int',\n",
       " 'output_sequence_length': 150,\n",
       " 'pad_to_max_tokens': False,\n",
       " 'sparse': False,\n",
       " 'ragged': False,\n",
       " 'vocabulary': None,\n",
       " 'idf_weights': None,\n",
       " 'encoding': 'utf-8',\n",
       " 'vocabulary_size': 5889}"
      ]
     },
     "execution_count": 77,
     "metadata": {},
     "output_type": "execute_result"
    }
   ],
   "source": [
    "sequence_vectorizer.get_config()"
   ]
  },
  {
   "cell_type": "code",
   "execution_count": 78,
   "id": "b1f8afd2-a865-4a7b-9b12-1d0c89f5e5ab",
   "metadata": {
    "execution": {
     "iopub.execute_input": "2024-01-06T03:50:57.579607Z",
     "iopub.status.busy": "2024-01-06T03:50:57.579464Z",
     "iopub.status.idle": "2024-01-06T03:50:57.607724Z",
     "shell.execute_reply": "2024-01-06T03:50:57.607333Z",
     "shell.execute_reply.started": "2024-01-06T03:50:57.579596Z"
    }
   },
   "outputs": [
    {
     "data": {
      "text/plain": [
       "150"
      ]
     },
     "execution_count": 78,
     "metadata": {},
     "output_type": "execute_result"
    }
   ],
   "source": [
    "sequence_vectorizer.get_config()['output_sequence_length']"
   ]
  },
  {
   "cell_type": "code",
   "execution_count": null,
   "id": "92853c62-8660-44f3-b289-cb7a50b71064",
   "metadata": {},
   "outputs": [],
   "source": []
  },
  {
   "cell_type": "code",
   "execution_count": 79,
   "id": "ba2fdb25-c2e2-44b7-ae97-1bc87ddc49cc",
   "metadata": {
    "execution": {
     "iopub.execute_input": "2024-01-06T03:50:57.608595Z",
     "iopub.status.busy": "2024-01-06T03:50:57.608322Z",
     "iopub.status.idle": "2024-01-06T03:51:01.760413Z",
     "shell.execute_reply": "2024-01-06T03:51:01.759949Z",
     "shell.execute_reply.started": "2024-01-06T03:50:57.608584Z"
    }
   },
   "outputs": [
    {
     "name": "stdout",
     "output_type": "stream",
     "text": [
      "Model: \"sequential_1\"\n",
      "_________________________________________________________________\n",
      " Layer (type)                Output Shape              Param #   \n",
      "=================================================================\n",
      " text_vectorization_3 (TextV  (None, 50)               0         \n",
      " ectorization)                                                   \n",
      "                                                                 \n",
      " embedding_1 (Embedding)     (None, 50, 100)           588900    \n",
      "                                                                 \n",
      " simple_rnn (SimpleRNN)      (None, 32)                4256      \n",
      "                                                                 \n",
      " dense (Dense)               (None, 1)                 33        \n",
      "                                                                 \n",
      "=================================================================\n",
      "Total params: 593,189\n",
      "Trainable params: 593,189\n",
      "Non-trainable params: 0\n",
      "_________________________________________________________________\n",
      "Epoch 1/30\n",
      "35/35 [==============================] - 1s 10ms/step - loss: 0.5596 - accuracy: 0.7218 - val_loss: 0.3510 - val_accuracy: 0.8899\n",
      "Epoch 2/30\n",
      "35/35 [==============================] - 0s 7ms/step - loss: 0.2900 - accuracy: 0.9079 - val_loss: 0.5172 - val_accuracy: 0.8040\n",
      "Epoch 3/30\n",
      "35/35 [==============================] - 0s 7ms/step - loss: 0.2075 - accuracy: 0.9401 - val_loss: 0.2688 - val_accuracy: 0.9015\n",
      "Epoch 4/30\n",
      "35/35 [==============================] - 0s 8ms/step - loss: 0.1301 - accuracy: 0.9669 - val_loss: 0.4461 - val_accuracy: 0.8092\n",
      "Epoch 5/30\n",
      "35/35 [==============================] - 0s 8ms/step - loss: 0.0861 - accuracy: 0.9830 - val_loss: 0.2602 - val_accuracy: 0.9161\n",
      "Epoch 6/30\n",
      "35/35 [==============================] - 0s 8ms/step - loss: 0.0698 - accuracy: 0.9848 - val_loss: 0.2763 - val_accuracy: 0.9004\n",
      "Epoch 7/30\n",
      "35/35 [==============================] - 0s 8ms/step - loss: 0.0635 - accuracy: 0.9839 - val_loss: 0.4298 - val_accuracy: 0.8543\n",
      "Epoch 8/30\n",
      "35/35 [==============================] - 0s 7ms/step - loss: 0.0976 - accuracy: 0.9732 - val_loss: 0.2576 - val_accuracy: 0.9266\n",
      "Epoch 9/30\n",
      "35/35 [==============================] - 0s 8ms/step - loss: 0.0461 - accuracy: 0.9919 - val_loss: 0.4245 - val_accuracy: 0.8931\n",
      "Epoch 10/30\n",
      "35/35 [==============================] - 0s 8ms/step - loss: 0.0276 - accuracy: 0.9946 - val_loss: 0.3172 - val_accuracy: 0.9057\n",
      "Epoch 11/30\n",
      "35/35 [==============================] - 0s 8ms/step - loss: 0.0156 - accuracy: 0.9991 - val_loss: 0.4073 - val_accuracy: 0.8973\n",
      "Epoch 12/30\n",
      "35/35 [==============================] - 0s 8ms/step - loss: 0.0100 - accuracy: 1.0000 - val_loss: 0.3209 - val_accuracy: 0.9109\n",
      "Epoch 13/30\n",
      "35/35 [==============================] - 0s 8ms/step - loss: 0.2018 - accuracy: 0.9562 - val_loss: 0.5311 - val_accuracy: 0.8753\n"
     ]
    },
    {
     "data": {
      "image/png": "[encoded data removed]",
      "text/plain": [
       "<Figure size 600x400 with 2 Axes>"
      ]
     },
     "metadata": {},
     "output_type": "display_data"
    }
   ],
   "source": [
    "### BEST\n",
    "\n",
    "\n",
    "def build_rnn_model(text_vectorization_layer):\n",
    "    VOCAB_SIZE = text_vectorization_layer.vocabulary_size()\n",
    "    SEQUENCE_LENGTH = sequence_vectorizer.get_config()['output_sequence_length']\n",
    "    \n",
    "    \n",
    "    # Define sequential model with pre-trained vectorization layer and *new* embedding layer\n",
    "    model = Sequential([\n",
    "        text_vectorization_layer,\n",
    "        layers.Embedding(input_dim=VOCAB_SIZE,\n",
    "                                  output_dim=EMBED_DIM, \n",
    "                                  input_length=SEQUENCE_LENGTH)\n",
    "        ])\n",
    "        \n",
    "    # Add *new* LSTM layer\n",
    "    model.add(layers.SimpleRNN(32)) #BEST=32\n",
    "    \n",
    "    # Add output layer\n",
    "    model.add(layers.Dense(1, activation='sigmoid'))\n",
    " \n",
    "    # Compile the model\n",
    "    model.compile(optimizer=optimizers.legacy.Adam(learning_rate = .001), \n",
    "                  loss='bce',#'sparse_categorical_crossentropy', \n",
    "                  metrics=['accuracy'])\n",
    "    \n",
    "    model.summary()\n",
    "    return model\n",
    "\n",
    "def get_callbacks(patience=3, monitor='val_accuracy'):\n",
    "    early_stop = tf.keras.callbacks.EarlyStopping(patience=patience, monitor=monitor)\n",
    "    return [early_stop]\n",
    "\n",
    "## Create text Vectorization layer\n",
    "SEQUENCE_LENGTH=50 #BEST=50\n",
    "EMBED_DIM = 100 # BEST= 200\n",
    "\n",
    "sequence_vectorizer = tf.keras.layers.TextVectorization(\n",
    "    standardize=\"lower_and_strip_punctuation\",\n",
    "    output_mode=\"int\",\n",
    "    output_sequence_length=SEQUENCE_LENGTH\n",
    ")\n",
    "\n",
    "sequence_vectorizer.adapt(ds_texts)\n",
    "\n",
    "# Build the lstm model and specify the vectorizer\n",
    "rnn_model = build_rnn_model(sequence_vectorizer)\n",
    "\n",
    "# Defien number of epocs\n",
    "EPOCHS = 30\n",
    "# Fit the model\n",
    "history = rnn_model.fit(\n",
    "    train_ds,\n",
    "    epochs=EPOCHS,\n",
    "    validation_data=val_ds,\n",
    "    callbacks=get_callbacks(patience=5),\n",
    ")\n",
    "fn.plot_history(history,figsize=(6,4))"
   ]
  },
  {
   "cell_type": "code",
   "execution_count": 80,
   "id": "fb74a307-abc8-4713-bc8f-44ca51062faf",
   "metadata": {
    "execution": {
     "iopub.execute_input": "2024-01-06T03:51:01.761299Z",
     "iopub.status.busy": "2024-01-06T03:51:01.761108Z",
     "iopub.status.idle": "2024-01-06T03:51:04.889334Z",
     "shell.execute_reply": "2024-01-06T03:51:04.888986Z",
     "shell.execute_reply.started": "2024-01-06T03:51:01.761287Z"
    }
   },
   "outputs": [
    {
     "name": "stdout",
     "output_type": "stream",
     "text": [
      "\n",
      "================================================================================\n",
      "- Evaluating Network...\n",
      "================================================================================\n",
      "----------------------------------------------------------------------\n",
      " Classification Metrics: Training Data\n",
      "----------------------------------------------------------------------\n",
      "              precision    recall  f1-score   support\n",
      "\n",
      "           0       0.89      0.94      0.91       559\n",
      "           1       0.93      0.89      0.91       559\n",
      "\n",
      "    accuracy                           0.91      1118\n",
      "   macro avg       0.91      0.91      0.91      1118\n",
      "weighted avg       0.91      0.91      0.91      1118\n",
      "\n"
     ]
    },
    {
     "data": {
      "image/png": "[encoded data removed]",
      "text/plain": [
       "<Figure size 600x400 with 2 Axes>"
      ]
     },
     "metadata": {},
     "output_type": "display_data"
    },
    {
     "name": "stdout",
     "output_type": "stream",
     "text": [
      "\n",
      "- Evaluating Training Data:\n",
      "35/35 [==============================] - 0s 2ms/step - loss: 0.3754 - accuracy: 0.9123\n",
      "{'loss': 0.3753792643547058, 'accuracy': 0.912343442440033}\n",
      "----------------------------------------------------------------------\n",
      " Classification Metrics: Test Data\n",
      "----------------------------------------------------------------------\n",
      "              precision    recall  f1-score   support\n",
      "\n",
      "           0       0.97      0.88      0.92       833\n",
      "           1       0.50      0.83      0.62       121\n",
      "\n",
      "    accuracy                           0.87       954\n",
      "   macro avg       0.73      0.85      0.77       954\n",
      "weighted avg       0.91      0.87      0.88       954\n",
      "\n"
     ]
    },
    {
     "data": {
      "image/png": "[encoded data removed]",
      "text/plain": [
       "<Figure size 600x400 with 2 Axes>"
      ]
     },
     "metadata": {},
     "output_type": "display_data"
    },
    {
     "name": "stdout",
     "output_type": "stream",
     "text": [
      "\n",
      "- Evaluating Test Data:\n",
      "30/30 [==============================] - 0s 2ms/step - loss: 0.5490 - accuracy: 0.8711\n",
      "{'loss': 0.5490251779556274, 'accuracy': 0.8710691928863525}\n"
     ]
    }
   ],
   "source": [
    "# Obtain the results\n",
    "results = fn.evaluate_classification_network(\n",
    "    rnn_model, X_train=train_ds, \n",
    "    X_test=test_ds,# history=history\n",
    ");"
   ]
  },
  {
   "cell_type": "markdown",
   "id": "ab409020-886d-46a5-afcc-bb2fad40fd23",
   "metadata": {},
   "source": [
    "### To Do: \n",
    "- Extract word vectors from embedding layers' weight \n",
    "- Do some word math\n",
    "- Alternative: glove"
   ]
  },
  {
   "cell_type": "code",
   "execution_count": 81,
   "id": "8be57a84-b485-42c6-b580-f46ac5bd835b",
   "metadata": {
    "execution": {
     "iopub.execute_input": "2024-01-06T03:51:04.890145Z",
     "iopub.status.busy": "2024-01-06T03:51:04.889989Z",
     "iopub.status.idle": "2024-01-06T03:51:04.921117Z",
     "shell.execute_reply": "2024-01-06T03:51:04.920654Z",
     "shell.execute_reply.started": "2024-01-06T03:51:04.890134Z"
    }
   },
   "outputs": [
    {
     "data": {
      "text/plain": [
       "(5889, 100)"
      ]
     },
     "execution_count": 81,
     "metadata": {},
     "output_type": "execute_result"
    }
   ],
   "source": [
    "## TEMP/EXP - extract embedding matrix\n",
    "\n",
    "embedding_weights = rnn_model.layers[1].get_weights()[0]\n",
    "embedding_weights.shape"
   ]
  },
  {
   "cell_type": "code",
   "execution_count": null,
   "id": "2b3dabd1-4cb8-4bfb-9064-62ad1874b4b2",
   "metadata": {},
   "outputs": [],
   "source": []
  },
  {
   "cell_type": "code",
   "execution_count": null,
   "id": "392b58b7-ea5e-4afe-8a40-287278be13a1",
   "metadata": {},
   "outputs": [],
   "source": []
  },
  {
   "cell_type": "code",
   "execution_count": null,
   "id": "092d6af1-b8a9-4e24-8d45-2c92d474d5ee",
   "metadata": {},
   "outputs": [],
   "source": []
  },
  {
   "cell_type": "code",
   "execution_count": null,
   "id": "3fbb039b-151b-4642-b113-1ccd0cd62210",
   "metadata": {},
   "outputs": [],
   "source": []
  },
  {
   "cell_type": "markdown",
   "id": "8e091fed-d706-470e-a7d1-e36b682941db",
   "metadata": {},
   "source": [
    "# Lecture 02: Compare "
   ]
  },
  {
   "cell_type": "markdown",
   "id": "15b2e1ec-4270-4e98-92bf-9aadbe76028e",
   "metadata": {},
   "source": [
    "### Experimental Versions"
   ]
  },
  {
   "cell_type": "code",
   "execution_count": 82,
   "id": "fef2a6a6-035d-45dd-a43b-a50e175f9067",
   "metadata": {
    "execution": {
     "iopub.execute_input": "2024-01-06T03:51:04.921881Z",
     "iopub.status.busy": "2024-01-06T03:51:04.921780Z",
     "iopub.status.idle": "2024-01-06T03:51:08.785847Z",
     "shell.execute_reply": "2024-01-06T03:51:08.785396Z",
     "shell.execute_reply.started": "2024-01-06T03:51:04.921871Z"
    }
   },
   "outputs": [
    {
     "name": "stdout",
     "output_type": "stream",
     "text": [
      "Model: \"sequential_2\"\n",
      "_________________________________________________________________\n",
      " Layer (type)                Output Shape              Param #   \n",
      "=================================================================\n",
      " text_vectorization_4 (TextV  (None, 50)               0         \n",
      " ectorization)                                                   \n",
      "                                                                 \n",
      " embedding_2 (Embedding)     (None, 50, 200)           1177800   \n",
      "                                                                 \n",
      " simple_rnn_1 (SimpleRNN)    (None, 32)                7456      \n",
      "                                                                 \n",
      " dropout (Dropout)           (None, 32)                0         \n",
      "                                                                 \n",
      " dense_1 (Dense)             (None, 32)                1056      \n",
      "                                                                 \n",
      " dense_2 (Dense)             (None, 1)                 33        \n",
      "                                                                 \n",
      "=================================================================\n",
      "Total params: 1,186,345\n",
      "Trainable params: 1,186,345\n",
      "Non-trainable params: 0\n",
      "_________________________________________________________________\n",
      "Epoch 1/30\n",
      "35/35 [==============================] - 1s 12ms/step - loss: 0.6769 - accuracy: 0.5823 - val_loss: 0.5934 - val_accuracy: 0.7977\n",
      "Epoch 2/30\n",
      "35/35 [==============================] - 0s 10ms/step - loss: 0.5535 - accuracy: 0.7755 - val_loss: 0.5243 - val_accuracy: 0.8386\n",
      "Epoch 3/30\n",
      "35/35 [==============================] - 0s 10ms/step - loss: 0.3236 - accuracy: 0.9150 - val_loss: 0.3791 - val_accuracy: 0.8585\n",
      "Epoch 4/30\n",
      "35/35 [==============================] - 0s 10ms/step - loss: 0.1677 - accuracy: 0.9597 - val_loss: 0.2749 - val_accuracy: 0.9224\n",
      "Epoch 5/30\n",
      "35/35 [==============================] - 0s 10ms/step - loss: 0.0754 - accuracy: 0.9839 - val_loss: 0.2566 - val_accuracy: 0.9182\n",
      "Epoch 6/30\n",
      "35/35 [==============================] - 0s 10ms/step - loss: 0.0625 - accuracy: 0.9857 - val_loss: 0.3601 - val_accuracy: 0.8952\n",
      "Epoch 7/30\n",
      "35/35 [==============================] - 0s 10ms/step - loss: 0.0762 - accuracy: 0.9776 - val_loss: 0.3587 - val_accuracy: 0.8679\n",
      "Epoch 8/30\n",
      "35/35 [==============================] - 0s 10ms/step - loss: 0.1046 - accuracy: 0.9651 - val_loss: 0.2976 - val_accuracy: 0.9140\n",
      "Epoch 9/30\n",
      "35/35 [==============================] - 0s 10ms/step - loss: 0.0451 - accuracy: 0.9911 - val_loss: 0.3466 - val_accuracy: 0.9224\n"
     ]
    },
    {
     "data": {
      "image/png": "[encoded data removed]",
      "text/plain": [
       "<Figure size 600x400 with 2 Axes>"
      ]
     },
     "metadata": {},
     "output_type": "display_data"
    }
   ],
   "source": [
    "### Global Pooling Layer Version\n",
    "\n",
    "\n",
    "def build_rnn_model(text_vectorization_layer):\n",
    "    VOCAB_SIZE = text_vectorization_layer.vocabulary_size()\n",
    "    SEQUENCE_LENGTH = sequence_vectorizer.get_config()['output_sequence_length']\n",
    "    \n",
    "    \n",
    "    # Define sequential model with pre-trained vectorization layer and *new* embedding layer\n",
    "    model = Sequential([\n",
    "        text_vectorization_layer,\n",
    "        layers.Embedding(input_dim=VOCAB_SIZE,\n",
    "                                  output_dim=EMBED_DIM, \n",
    "                                  input_length=SEQUENCE_LENGTH)\n",
    "        ])\n",
    "        \n",
    "    # Add *new* LSTM layer\n",
    "    model.add(layers.SimpleRNN(32)) #BEST=32\n",
    "    model.add(layers.Dropout(.5)) #BEST=.3\n",
    "\n",
    "    # Add Layer that can handle the sequences\n",
    "    model.add(layers.Dense(32, activation='relu', ))\n",
    "    \n",
    "    # Add output layer\n",
    "    # model.add(layers.Dense(len(classes), activation='softmax'))\n",
    "    model.add(layers.Dense(1, activation='sigmoid'))\n",
    " \n",
    "    # Compile the model\n",
    "    model.compile(optimizer=optimizers.legacy.Adam(learning_rate = .001), \n",
    "                  loss='bce',#'sparse_categorical_crossentropy', \n",
    "                  metrics=['accuracy'])\n",
    "    \n",
    "    model.summary()\n",
    "    return model\n",
    "\n",
    "def get_callbacks(patience=3, monitor='val_accuracy'):\n",
    "    early_stop = tf.keras.callbacks.EarlyStopping(patience=patience, monitor=monitor)\n",
    "    return [early_stop]\n",
    "\n",
    "\n",
    "## Create text Vectorization layer\n",
    "SEQUENCE_LENGTH = 50 #BEST=50\n",
    "EMBED_DIM = 200 # BEST= 200\n",
    "\n",
    "exp_vectorizer = tf.keras.layers.TextVectorization(\n",
    "    standardize=\"lower_and_strip_punctuation\",\n",
    "    output_mode=\"int\",\n",
    "    output_sequence_length=SEQUENCE_LENGTH\n",
    ")\n",
    "\n",
    "exp_vectorizer.adapt(ds_texts)\n",
    "\n",
    "# Build the lstm model and specify the vectorizer\n",
    "exp_rnn_model = build_rnn_model(exp_vectorizer)\n",
    "\n",
    "# Defien number of epocs\n",
    "EPOCHS = 30\n",
    "# Fit the model\n",
    "exp_history = exp_rnn_model.fit(\n",
    "    train_ds,\n",
    "    epochs=EPOCHS,\n",
    "    validation_data=val_ds,\n",
    "    callbacks=get_callbacks(patience=5),\n",
    ")\n",
    "fn.plot_history(exp_history,figsize=(6,4))"
   ]
  },
  {
   "cell_type": "code",
   "execution_count": 83,
   "id": "520bfa1d-a516-47d8-97db-65074cc234c8",
   "metadata": {
    "execution": {
     "iopub.execute_input": "2024-01-06T03:51:08.786746Z",
     "iopub.status.busy": "2024-01-06T03:51:08.786604Z",
     "iopub.status.idle": "2024-01-06T03:51:12.042746Z",
     "shell.execute_reply": "2024-01-06T03:51:12.042358Z",
     "shell.execute_reply.started": "2024-01-06T03:51:08.786737Z"
    }
   },
   "outputs": [
    {
     "name": "stdout",
     "output_type": "stream",
     "text": [
      "\n",
      "================================================================================\n",
      "- Evaluating Network...\n",
      "================================================================================\n",
      "----------------------------------------------------------------------\n",
      " Classification Metrics: Training Data\n",
      "----------------------------------------------------------------------\n",
      "              precision    recall  f1-score   support\n",
      "\n",
      "           0       1.00      0.99      1.00       559\n",
      "           1       0.99      1.00      1.00       559\n",
      "\n",
      "    accuracy                           1.00      1118\n",
      "   macro avg       1.00      1.00      1.00      1118\n",
      "weighted avg       1.00      1.00      1.00      1118\n",
      "\n"
     ]
    },
    {
     "data": {
      "image/png": "[encoded data removed]",
      "text/plain": [
       "<Figure size 600x400 with 2 Axes>"
      ]
     },
     "metadata": {},
     "output_type": "display_data"
    },
    {
     "name": "stdout",
     "output_type": "stream",
     "text": [
      "\n",
      "- Evaluating Training Data:\n",
      "35/35 [==============================] - 0s 2ms/step - loss: 0.0094 - accuracy: 0.9973\n",
      "{'loss': 0.009398684836924076, 'accuracy': 0.9973166584968567}\n",
      "----------------------------------------------------------------------\n",
      " Classification Metrics: Test Data\n",
      "----------------------------------------------------------------------\n",
      "              precision    recall  f1-score   support\n",
      "\n",
      "           0       0.98      0.90      0.94       833\n",
      "           1       0.55      0.84      0.67       121\n",
      "\n",
      "    accuracy                           0.89       954\n",
      "   macro avg       0.76      0.87      0.80       954\n",
      "weighted avg       0.92      0.89      0.90       954\n",
      "\n"
     ]
    },
    {
     "data": {
      "image/png": "[encoded data removed]",
      "text/plain": [
       "<Figure size 600x400 with 2 Axes>"
      ]
     },
     "metadata": {},
     "output_type": "display_data"
    },
    {
     "name": "stdout",
     "output_type": "stream",
     "text": [
      "\n",
      "- Evaluating Test Data:\n",
      "30/30 [==============================] - 0s 2ms/step - loss: 0.4508 - accuracy: 0.8941\n",
      "{'loss': 0.4507564604282379, 'accuracy': 0.8941299915313721}\n"
     ]
    }
   ],
   "source": [
    "# Obtain the results\n",
    "results = fn.evaluate_classification_network(\n",
    "    exp_rnn_model, X_train=train_ds, \n",
    "    X_test=test_ds, #history=history\n",
    ");"
   ]
  },
  {
   "cell_type": "code",
   "execution_count": null,
   "id": "9c3f96d3-12a9-4065-9680-964ffbe698e4",
   "metadata": {},
   "outputs": [],
   "source": []
  },
  {
   "cell_type": "markdown",
   "id": "32d580ad-121c-4642-a573-c1ecb5b8c5eb",
   "metadata": {},
   "source": [
    "###  Using return_sequences=True and Global Pooling layer"
   ]
  },
  {
   "cell_type": "code",
   "execution_count": 84,
   "id": "1482fb4b-e1dd-4aec-b092-d5274b49189c",
   "metadata": {
    "execution": {
     "iopub.execute_input": "2024-01-06T03:51:12.044036Z",
     "iopub.status.busy": "2024-01-06T03:51:12.043532Z",
     "iopub.status.idle": "2024-01-06T03:51:17.696772Z",
     "shell.execute_reply": "2024-01-06T03:51:17.696273Z",
     "shell.execute_reply.started": "2024-01-06T03:51:12.044025Z"
    }
   },
   "outputs": [
    {
     "name": "stdout",
     "output_type": "stream",
     "text": [
      "Model: \"sequential_3\"\n",
      "_________________________________________________________________\n",
      " Layer (type)                Output Shape              Param #   \n",
      "=================================================================\n",
      " text_vectorization_5 (TextV  (None, 100)              0         \n",
      " ectorization)                                                   \n",
      "                                                                 \n",
      " embedding_3 (Embedding)     (None, 100, 200)          1177800   \n",
      "                                                                 \n",
      " simple_rnn_2 (SimpleRNN)    (None, 100, 32)           7456      \n",
      "                                                                 \n",
      " dropout_1 (Dropout)         (None, 100, 32)           0         \n",
      "                                                                 \n",
      " global_max_pooling1d (Globa  (None, 32)               0         \n",
      " lMaxPooling1D)                                                  \n",
      "                                                                 \n",
      " dense_3 (Dense)             (None, 1)                 33        \n",
      "                                                                 \n",
      "=================================================================\n",
      "Total params: 1,185,289\n",
      "Trainable params: 1,185,289\n",
      "Non-trainable params: 0\n",
      "_________________________________________________________________\n",
      "Epoch 1/30\n",
      "35/35 [==============================] - 1s 22ms/step - loss: 0.6206 - accuracy: 0.6798 - val_loss: 0.6383 - val_accuracy: 0.7589\n",
      "Epoch 2/30\n",
      "35/35 [==============================] - 1s 17ms/step - loss: 0.3818 - accuracy: 0.8766 - val_loss: 0.5158 - val_accuracy: 0.8491\n",
      "Epoch 3/30\n",
      "35/35 [==============================] - 1s 17ms/step - loss: 0.2696 - accuracy: 0.9275 - val_loss: 0.3922 - val_accuracy: 0.9172\n",
      "Epoch 4/30\n",
      "35/35 [==============================] - 1s 18ms/step - loss: 0.1867 - accuracy: 0.9436 - val_loss: 0.3523 - val_accuracy: 0.9046\n",
      "Epoch 5/30\n",
      "35/35 [==============================] - 1s 18ms/step - loss: 0.1410 - accuracy: 0.9597 - val_loss: 0.3426 - val_accuracy: 0.8795\n",
      "Epoch 6/30\n",
      "35/35 [==============================] - 1s 17ms/step - loss: 0.1225 - accuracy: 0.9580 - val_loss: 0.3216 - val_accuracy: 0.8868\n",
      "Epoch 7/30\n",
      "35/35 [==============================] - 1s 18ms/step - loss: 0.0922 - accuracy: 0.9750 - val_loss: 0.2867 - val_accuracy: 0.9067\n",
      "Epoch 8/30\n",
      "35/35 [==============================] - 1s 18ms/step - loss: 0.1138 - accuracy: 0.9785 - val_loss: 0.3198 - val_accuracy: 0.9057\n"
     ]
    },
    {
     "data": {
      "image/png": "[encoded data removed]",
      "text/plain": [
       "<Figure size 600x400 with 2 Axes>"
      ]
     },
     "metadata": {},
     "output_type": "display_data"
    }
   ],
   "source": [
    "### Global Pooling Layer Version\n",
    "\n",
    "\n",
    "def build_rnn_model(text_vectorization_layer):\n",
    "    VOCAB_SIZE = text_vectorization_layer.vocabulary_size()\n",
    "    SEQUENCE_LENGTH = sequence_vectorizer.get_config()['output_sequence_length']\n",
    "    \n",
    "    \n",
    "    # Define sequential model with pre-trained vectorization layer and *new* embedding layer\n",
    "    model = Sequential([\n",
    "        text_vectorization_layer,\n",
    "        layers.Embedding(input_dim=VOCAB_SIZE,\n",
    "                                  output_dim=EMBED_DIM, \n",
    "                                  input_length=SEQUENCE_LENGTH)\n",
    "        ])\n",
    "        \n",
    "    # Add *new* LSTM layer\n",
    "    model.add(layers.SimpleRNN(32, return_sequences=True)) #BEST=32\n",
    "    model.add(layers.Dropout(.5)) #BEST=.3\n",
    "\n",
    "    # Add Layer that can handle the sequences\n",
    "    model.add(layers.GlobalMaxPooling1D())\n",
    "    \n",
    "    # Add output layer\n",
    "    # model.add(layers.Dense(len(classes), activation='softmax'))\n",
    "    model.add(layers.Dense(1, activation='sigmoid'))\n",
    " \n",
    "    # Compile the model\n",
    "    model.compile(optimizer=optimizers.legacy.Adam(learning_rate = .001), \n",
    "                  loss='bce',#'sparse_categorical_crossentropy', \n",
    "                  metrics=['accuracy'])\n",
    "    \n",
    "    model.summary()\n",
    "    return model\n",
    "\n",
    "def get_callbacks(patience=3, monitor='val_accuracy'):\n",
    "    early_stop = tf.keras.callbacks.EarlyStopping(patience=patience, monitor=monitor)\n",
    "    return [early_stop]\n",
    "\n",
    "## Create text Vectorization layer\n",
    "SEQUENCE_LENGTH = 100 #BEST=50\n",
    "EMBED_DIM = 200 # BEST= 200\n",
    "\n",
    "exp_vectorizer = tf.keras.layers.TextVectorization(\n",
    "    standardize=\"lower_and_strip_punctuation\",\n",
    "    output_mode=\"int\",\n",
    "    output_sequence_length=SEQUENCE_LENGTH\n",
    ")\n",
    "\n",
    "exp_vectorizer.adapt(ds_texts)\n",
    "\n",
    "# Build the lstm model and specify the vectorizer\n",
    "exp_rnn_model = build_rnn_model(exp_vectorizer)\n",
    "\n",
    "# Defien number of epocs\n",
    "EPOCHS = 30\n",
    "# Fit the model\n",
    "exp_history = exp_rnn_model.fit(\n",
    "    train_ds,\n",
    "    epochs=EPOCHS,\n",
    "    validation_data=val_ds,\n",
    "    callbacks=get_callbacks(patience=5),\n",
    ")\n",
    "fn.plot_history(exp_history,figsize=(6,4))"
   ]
  },
  {
   "cell_type": "code",
   "execution_count": 85,
   "id": "18fa7336-17a2-43d1-94b3-27e4a2987998",
   "metadata": {
    "execution": {
     "iopub.execute_input": "2024-01-06T03:51:17.697661Z",
     "iopub.status.busy": "2024-01-06T03:51:17.697392Z",
     "iopub.status.idle": "2024-01-06T03:51:21.997387Z",
     "shell.execute_reply": "2024-01-06T03:51:21.997037Z",
     "shell.execute_reply.started": "2024-01-06T03:51:17.697648Z"
    }
   },
   "outputs": [
    {
     "name": "stdout",
     "output_type": "stream",
     "text": [
      "\n",
      "================================================================================\n",
      "- Evaluating Network...\n",
      "================================================================================\n",
      "----------------------------------------------------------------------\n",
      " Classification Metrics: Training Data\n",
      "----------------------------------------------------------------------\n",
      "              precision    recall  f1-score   support\n",
      "\n",
      "           0       0.98      0.99      0.98       559\n",
      "           1       0.99      0.98      0.98       559\n",
      "\n",
      "    accuracy                           0.98      1118\n",
      "   macro avg       0.98      0.98      0.98      1118\n",
      "weighted avg       0.98      0.98      0.98      1118\n",
      "\n"
     ]
    },
    {
     "data": {
      "image/png": "[encoded data removed]",
      "text/plain": [
       "<Figure size 600x400 with 2 Axes>"
      ]
     },
     "metadata": {},
     "output_type": "display_data"
    },
    {
     "name": "stdout",
     "output_type": "stream",
     "text": [
      "\n",
      "- Evaluating Training Data:\n",
      "35/35 [==============================] - 0s 4ms/step - loss: 0.1826 - accuracy: 0.9848\n",
      "{'loss': 0.1826135814189911, 'accuracy': 0.9847942590713501}\n",
      "----------------------------------------------------------------------\n",
      " Classification Metrics: Test Data\n",
      "----------------------------------------------------------------------\n",
      "              precision    recall  f1-score   support\n",
      "\n",
      "           0       0.97      0.90      0.94       833\n",
      "           1       0.55      0.83      0.66       121\n",
      "\n",
      "    accuracy                           0.89       954\n",
      "   macro avg       0.76      0.86      0.80       954\n",
      "weighted avg       0.92      0.89      0.90       954\n",
      "\n"
     ]
    },
    {
     "data": {
      "image/png": "[encoded data removed]",
      "text/plain": [
       "<Figure size 600x400 with 2 Axes>"
      ]
     },
     "metadata": {},
     "output_type": "display_data"
    },
    {
     "name": "stdout",
     "output_type": "stream",
     "text": [
      "\n",
      "- Evaluating Test Data:\n",
      "30/30 [==============================] - 0s 4ms/step - loss: 0.3599 - accuracy: 0.8910\n",
      "{'loss': 0.3599238693714142, 'accuracy': 0.8909853100776672}\n"
     ]
    }
   ],
   "source": [
    "# Obtain the results\n",
    "results = fn.evaluate_classification_network(\n",
    "    exp_rnn_model, X_train=train_ds, \n",
    "    X_test=test_ds, #history=history\n",
    ");"
   ]
  },
  {
   "cell_type": "markdown",
   "id": "a94a357f-9baf-4bc6-a6fa-8453f5cd9eb5",
   "metadata": {},
   "source": [
    "### LSTM"
   ]
  },
  {
   "cell_type": "code",
   "execution_count": 86,
   "id": "1bd3ed19-4063-40f0-8f10-bcf037df3bbb",
   "metadata": {
    "execution": {
     "iopub.execute_input": "2024-01-06T03:51:21.998119Z",
     "iopub.status.busy": "2024-01-06T03:51:21.997946Z",
     "iopub.status.idle": "2024-01-06T03:51:22.031759Z",
     "shell.execute_reply": "2024-01-06T03:51:22.031362Z",
     "shell.execute_reply.started": "2024-01-06T03:51:21.998108Z"
    }
   },
   "outputs": [],
   "source": [
    "# Define a function for building an LSTM model\n",
    "from tensorflow.keras.models import Sequential\n",
    "from tensorflow.keras import layers, optimizers, regularizers\n",
    "def build_lstm_model(text_vectorization_layer):\n",
    "    \n",
    "    # Define sequential model with pre-trained vectorization layer and *new* embedding layer\n",
    "    lstm_model = Sequential([\n",
    "        text_vectorization_layer,\n",
    "        layers.Embedding(input_dim=VOCAB_SIZE,\n",
    "                                  output_dim=EMBED_DIM, \n",
    "                                  input_length=SEQUENCE_LENGTH)\n",
    "        ])\n",
    "        \n",
    "    # Add *new* LSTM layer\n",
    "    lstm_model.add(layers.LSTM(16))\n",
    "    # Add output layer\n",
    "    # Add output layer\n",
    "    # model.add(layers.Dense(len(classes), activation='softmax'))\n",
    "    lstm_model.add(layers.Dense(1, activation='sigmoid'))\n",
    " \n",
    "    # Compile the model\n",
    "    lstm_model.compile(optimizer=optimizers.legacy.Adam(learning_rate = .001), \n",
    "                  loss='bce',#'sparse_categorical_crossentropy', \n",
    "                  metrics=['accuracy'])\n",
    "    lstm_model.summary()\n",
    "    return lstm_model\n",
    "    \n",
    "\n",
    "def get_callbacks(patience=3, monitor='val_accuracy'):\n",
    "    early_stop = tf.keras.callbacks.EarlyStopping(patience=patience, monitor=monitor)\n",
    "    return [early_stop]\n",
    "\n"
   ]
  },
  {
   "cell_type": "code",
   "execution_count": 87,
   "id": "997299ff-5954-47c6-9247-bc68844cd729",
   "metadata": {
    "execution": {
     "iopub.execute_input": "2024-01-06T03:51:22.032444Z",
     "iopub.status.busy": "2024-01-06T03:51:22.032351Z",
     "iopub.status.idle": "2024-01-06T03:51:34.427915Z",
     "shell.execute_reply": "2024-01-06T03:51:34.427482Z",
     "shell.execute_reply.started": "2024-01-06T03:51:22.032434Z"
    }
   },
   "outputs": [
    {
     "name": "stdout",
     "output_type": "stream",
     "text": [
      "Model: \"sequential_4\"\n",
      "_________________________________________________________________\n",
      " Layer (type)                Output Shape              Param #   \n",
      "=================================================================\n",
      " text_vectorization_6 (TextV  (None, 50)               0         \n",
      " ectorization)                                                   \n",
      "                                                                 \n",
      " embedding_4 (Embedding)     (None, 50, 200)           1177800   \n",
      "                                                                 \n",
      " lstm (LSTM)                 (None, 16)                13888     \n",
      "                                                                 \n",
      " dense_4 (Dense)             (None, 1)                 17        \n",
      "                                                                 \n",
      "=================================================================\n",
      "Total params: 1,191,705\n",
      "Trainable params: 1,191,705\n",
      "Non-trainable params: 0\n",
      "_________________________________________________________________\n",
      "Epoch 1/30\n",
      "35/35 [==============================] - 1s 18ms/step - loss: 0.6761 - accuracy: 0.5778 - val_loss: 0.6282 - val_accuracy: 0.5535\n",
      "Epoch 2/30\n",
      "35/35 [==============================] - 1s 15ms/step - loss: 0.6079 - accuracy: 0.6521 - val_loss: 0.6119 - val_accuracy: 0.7065\n",
      "Epoch 3/30\n",
      "35/35 [==============================] - 0s 14ms/step - loss: 0.3121 - accuracy: 0.9097 - val_loss: 0.4682 - val_accuracy: 0.8658\n",
      "Epoch 4/30\n",
      "35/35 [==============================] - 1s 14ms/step - loss: 0.2238 - accuracy: 0.9392 - val_loss: 0.4054 - val_accuracy: 0.8679\n",
      "Epoch 5/30\n",
      "35/35 [==============================] - 1s 14ms/step - loss: 0.1688 - accuracy: 0.9615 - val_loss: 0.4412 - val_accuracy: 0.8690\n",
      "Epoch 6/30\n",
      "35/35 [==============================] - 1s 15ms/step - loss: 0.1201 - accuracy: 0.9767 - val_loss: 0.4011 - val_accuracy: 0.8700\n",
      "Epoch 7/30\n",
      "35/35 [==============================] - 0s 14ms/step - loss: 0.0943 - accuracy: 0.9830 - val_loss: 0.2967 - val_accuracy: 0.9099\n",
      "Epoch 8/30\n",
      "35/35 [==============================] - 0s 14ms/step - loss: 0.0631 - accuracy: 0.9893 - val_loss: 0.2910 - val_accuracy: 0.9130\n",
      "Epoch 9/30\n",
      "35/35 [==============================] - 0s 14ms/step - loss: 0.0604 - accuracy: 0.9893 - val_loss: 0.4364 - val_accuracy: 0.8774\n",
      "Epoch 10/30\n",
      "35/35 [==============================] - 0s 14ms/step - loss: 0.0463 - accuracy: 0.9928 - val_loss: 0.2856 - val_accuracy: 0.9161\n",
      "Epoch 11/30\n",
      "35/35 [==============================] - 0s 14ms/step - loss: 0.1302 - accuracy: 0.9723 - val_loss: 0.9065 - val_accuracy: 0.7956\n",
      "Epoch 12/30\n",
      "35/35 [==============================] - 1s 15ms/step - loss: 0.1239 - accuracy: 0.9732 - val_loss: 0.4267 - val_accuracy: 0.8889\n",
      "Epoch 13/30\n",
      "35/35 [==============================] - 0s 14ms/step - loss: 0.0860 - accuracy: 0.9821 - val_loss: 0.3735 - val_accuracy: 0.8941\n",
      "Epoch 14/30\n",
      "35/35 [==============================] - 1s 14ms/step - loss: 0.0751 - accuracy: 0.9866 - val_loss: 0.3492 - val_accuracy: 0.8994\n",
      "Epoch 15/30\n",
      "35/35 [==============================] - 1s 14ms/step - loss: 0.0732 - accuracy: 0.9875 - val_loss: 0.3716 - val_accuracy: 0.8983\n"
     ]
    },
    {
     "data": {
      "image/png": "[encoded data removed]",
      "text/plain": [
       "<Figure size 600x600 with 2 Axes>"
      ]
     },
     "metadata": {},
     "output_type": "display_data"
    },
    {
     "name": "stdout",
     "output_type": "stream",
     "text": [
      "\n",
      "================================================================================\n",
      "- Evaluating Network...\n",
      "================================================================================\n",
      "----------------------------------------------------------------------\n",
      " Classification Metrics: Training Data\n",
      "----------------------------------------------------------------------\n",
      "              precision    recall  f1-score   support\n",
      "\n",
      "           0       0.98      1.00      0.99       559\n",
      "           1       1.00      0.98      0.99       559\n",
      "\n",
      "    accuracy                           0.99      1118\n",
      "   macro avg       0.99      0.99      0.99      1118\n",
      "weighted avg       0.99      0.99      0.99      1118\n",
      "\n"
     ]
    },
    {
     "data": {
      "image/png": "[encoded data removed]",
      "text/plain": [
       "<Figure size 600x400 with 2 Axes>"
      ]
     },
     "metadata": {},
     "output_type": "display_data"
    },
    {
     "name": "stdout",
     "output_type": "stream",
     "text": [
      "\n",
      "- Evaluating Training Data:\n",
      "35/35 [==============================] - 0s 3ms/step - loss: 0.0624 - accuracy: 0.9902\n",
      "{'loss': 0.06236965209245682, 'accuracy': 0.9901610016822815}\n",
      "----------------------------------------------------------------------\n",
      " Classification Metrics: Test Data\n",
      "----------------------------------------------------------------------\n",
      "              precision    recall  f1-score   support\n",
      "\n",
      "           0       0.97      0.88      0.93       833\n",
      "           1       0.51      0.84      0.64       121\n",
      "\n",
      "    accuracy                           0.88       954\n",
      "   macro avg       0.74      0.86      0.78       954\n",
      "weighted avg       0.92      0.88      0.89       954\n",
      "\n"
     ]
    },
    {
     "data": {
      "image/png": "[encoded data removed]",
      "text/plain": [
       "<Figure size 600x400 with 2 Axes>"
      ]
     },
     "metadata": {},
     "output_type": "display_data"
    },
    {
     "name": "stdout",
     "output_type": "stream",
     "text": [
      "\n",
      "- Evaluating Test Data:\n",
      "30/30 [==============================] - 0s 3ms/step - loss: 0.4440 - accuracy: 0.8784\n",
      "{'loss': 0.4439985156059265, 'accuracy': 0.8784067034721375}\n"
     ]
    }
   ],
   "source": [
    "# Create text Vectorization layer\n",
    "SEQUENCE_LENGTH = 50\n",
    "EMBED_DIM = 200\n",
    "\n",
    "sequence_vectorizer = tf.keras.layers.TextVectorization(\n",
    "    standardize=\"lower_and_strip_punctuation\",\n",
    "    output_mode=\"int\",\n",
    "    output_sequence_length=SEQUENCE_LENGTH\n",
    ")\n",
    "\n",
    "sequence_vectorizer.adapt(ds_texts)\n",
    "VOCAB_SIZE = sequence_vectorizer.vocabulary_size()\n",
    "\n",
    "\n",
    "VOCAB_SIZE\n",
    "\n",
    "# Build the lstm model and specify the vectorizer\n",
    "lstm_model = build_lstm_model(sequence_vectorizer)\n",
    "\n",
    "# Defien number of epocs\n",
    "EPOCHS = 30\n",
    "# Fit the model\n",
    "history = lstm_model.fit(\n",
    "    train_ds,\n",
    "    epochs=EPOCHS,\n",
    "    validation_data=val_ds,\n",
    "    callbacks=get_callbacks(patience=5),\n",
    ")\n",
    "# Obtain the results\n",
    "results = fn.evaluate_classification_network(\n",
    "    lstm_model, X_train=train_ds, \n",
    "    X_test=test_ds, history=history, \n",
    ");"
   ]
  },
  {
   "cell_type": "markdown",
   "id": "270a237e-2950-4842-a0f7-cf065e427a51",
   "metadata": {},
   "source": [
    "### Learning Rate Scheduling"
   ]
  },
  {
   "cell_type": "code",
   "execution_count": 116,
   "id": "0c1aa93a-b997-4da5-a598-222906cded64",
   "metadata": {
    "execution": {
     "iopub.execute_input": "2024-01-06T03:52:36.298664Z",
     "iopub.status.busy": "2024-01-06T03:52:36.297875Z",
     "iopub.status.idle": "2024-01-06T03:52:36.346683Z",
     "shell.execute_reply": "2024-01-06T03:52:36.346222Z",
     "shell.execute_reply.started": "2024-01-06T03:52:36.298628Z"
    }
   },
   "outputs": [],
   "source": [
    "# https://www.tensorflow.org/api_docs/python/tf/keras/optimizers/schedules/LearningRateSchedule\n",
    "lr_schedule = tf.keras.optimizers.schedules.InverseTimeDecay(\n",
    "# lr_schedule = tf.keras.optimizers.schedules.ExponentialDecay(\n",
    "    initial_learning_rate=1e-2,\n",
    "    decay_steps=10000,\n",
    "    decay_rate=0.9)\n",
    "optimizer = tf.keras.optimizers.legacy.Adam(learning_rate=lr_schedule)"
   ]
  },
  {
   "cell_type": "code",
   "execution_count": 137,
   "id": "38c629c1-351f-4437-a15a-ebfed76960db",
   "metadata": {
    "execution": {
     "iopub.execute_input": "2024-01-06T03:56:55.121691Z",
     "iopub.status.busy": "2024-01-06T03:56:55.120950Z",
     "iopub.status.idle": "2024-01-06T03:56:55.168585Z",
     "shell.execute_reply": "2024-01-06T03:56:55.168142Z",
     "shell.execute_reply.started": "2024-01-06T03:56:55.121642Z"
    }
   },
   "outputs": [],
   "source": [
    "# Define a function for building an LSTM model\n",
    "from tensorflow.keras.models import Sequential\n",
    "from tensorflow.keras import layers, optimizers, regularizers\n",
    "def build_lstm_model(text_vectorization_layer):\n",
    "    \n",
    "    # Define sequential model with pre-trained vectorization layer and *new* embedding layer\n",
    "    lstm_model = Sequential([\n",
    "        text_vectorization_layer,\n",
    "        layers.Embedding(input_dim=VOCAB_SIZE,\n",
    "                                  output_dim=EMBED_DIM, \n",
    "                                  input_length=SEQUENCE_LENGTH)\n",
    "        ])\n",
    "        \n",
    "    # Add *new* LSTM layer\n",
    "    lstm_model.add(layers.LSTM(64, recurrent_dropout=.2))#,return_sequences=True))\n",
    "    lstm_model.add(layers.Dropout(.2))\n",
    "    # lstm_model.add(layers.GlobalMaxPooling1D())\n",
    "    \n",
    "    # Add output layer\n",
    "    # Add output layer\n",
    "    # model.add(layers.Dense(len(classes), activation='softmax'))\n",
    "    lstm_model.add(layers.Dense(1, activation='sigmoid'))\n",
    " \n",
    "    # Compile the model\n",
    "    # https://www.tensorflow.org/api_docs/python/tf/keras/optimizers/schedules/LearningRateSchedule\n",
    "    lr_schedule = tf.keras.optimizers.schedules.ExponentialDecay(\n",
    "    # lr_schedule = tf.keras.optimizers.schedules.InverseTimeDecay(\n",
    "        initial_learning_rate=1e-3,\n",
    "        decay_steps=10000,\n",
    "        decay_rate=0.9)\n",
    "    lstm_model.compile(optimizer= tf.keras.optimizers.legacy.Adam(learning_rate=lr_schedule),\n",
    "                  loss='bce',#'sparse_categorical_crossentropy', \n",
    "                  metrics=['accuracy'])\n",
    "    lstm_model.summary()\n",
    "    return lstm_model\n",
    "    \n",
    "\n",
    "def get_callbacks(patience=3, monitor='val_accuracy'):\n",
    "    early_stop = tf.keras.callbacks.EarlyStopping(patience=patience, monitor=monitor)\n",
    "    return [early_stop]\n",
    "\n"
   ]
  },
  {
   "cell_type": "code",
   "execution_count": 139,
   "id": "0b3fe896-bd05-4962-b4a3-7a0409f3eae5",
   "metadata": {
    "execution": {
     "iopub.execute_input": "2024-01-06T03:57:35.555539Z",
     "iopub.status.busy": "2024-01-06T03:57:35.554293Z",
     "iopub.status.idle": "2024-01-06T03:57:53.377823Z",
     "shell.execute_reply": "2024-01-06T03:57:53.377489Z",
     "shell.execute_reply.started": "2024-01-06T03:57:35.555474Z"
    }
   },
   "outputs": [
    {
     "name": "stdout",
     "output_type": "stream",
     "text": [
      "Model: \"sequential_18\"\n",
      "_________________________________________________________________\n",
      " Layer (type)                Output Shape              Param #   \n",
      "=================================================================\n",
      " text_vectorization_20 (Text  (None, 50)               0         \n",
      " Vectorization)                                                  \n",
      "                                                                 \n",
      " embedding_18 (Embedding)    (None, 50, 100)           588900    \n",
      "                                                                 \n",
      " lstm_14 (LSTM)              (None, 64)                42240     \n",
      "                                                                 \n",
      " dropout_6 (Dropout)         (None, 64)                0         \n",
      "                                                                 \n",
      " dense_18 (Dense)            (None, 1)                 65        \n",
      "                                                                 \n",
      "=================================================================\n",
      "Total params: 631,205\n",
      "Trainable params: 631,205\n",
      "Non-trainable params: 0\n",
      "_________________________________________________________________\n",
      "Epoch 1/30\n",
      "35/35 [==============================] - 2s 33ms/step - loss: 0.6791 - accuracy: 0.5823 - val_loss: 0.6594 - val_accuracy: 0.5000\n",
      "Epoch 2/30\n",
      "35/35 [==============================] - 1s 30ms/step - loss: 0.5354 - accuracy: 0.7182 - val_loss: 0.4470 - val_accuracy: 0.9067\n",
      "Epoch 3/30\n",
      "35/35 [==============================] - 1s 31ms/step - loss: 0.2543 - accuracy: 0.9114 - val_loss: 0.4265 - val_accuracy: 0.8407\n",
      "Epoch 4/30\n",
      "35/35 [==============================] - 1s 33ms/step - loss: 0.1230 - accuracy: 0.9660 - val_loss: 0.3310 - val_accuracy: 0.8920\n",
      "Epoch 5/30\n",
      "35/35 [==============================] - 1s 33ms/step - loss: 0.0534 - accuracy: 0.9875 - val_loss: 0.2018 - val_accuracy: 0.9287\n",
      "Epoch 6/30\n",
      "35/35 [==============================] - 1s 33ms/step - loss: 0.0579 - accuracy: 0.9875 - val_loss: 0.3312 - val_accuracy: 0.9109\n",
      "Epoch 7/30\n",
      "35/35 [==============================] - 1s 32ms/step - loss: 0.0342 - accuracy: 0.9946 - val_loss: 0.3348 - val_accuracy: 0.8983\n",
      "Epoch 8/30\n",
      "35/35 [==============================] - 1s 32ms/step - loss: 0.0256 - accuracy: 0.9964 - val_loss: 0.6136 - val_accuracy: 0.8742\n",
      "Epoch 9/30\n",
      "35/35 [==============================] - 1s 33ms/step - loss: 0.0201 - accuracy: 0.9973 - val_loss: 0.3516 - val_accuracy: 0.9025\n",
      "Epoch 10/30\n",
      "35/35 [==============================] - 1s 32ms/step - loss: 0.0090 - accuracy: 0.9991 - val_loss: 0.5643 - val_accuracy: 0.8920\n"
     ]
    },
    {
     "data": {
      "image/png": "[encoded data removed]",
      "text/plain": [
       "<Figure size 600x600 with 2 Axes>"
      ]
     },
     "metadata": {},
     "output_type": "display_data"
    },
    {
     "name": "stdout",
     "output_type": "stream",
     "text": [
      "\n",
      "================================================================================\n",
      "- Evaluating Network...\n",
      "================================================================================\n",
      "----------------------------------------------------------------------\n",
      " Classification Metrics: Training Data\n",
      "----------------------------------------------------------------------\n",
      "              precision    recall  f1-score   support\n",
      "\n",
      "           0       1.00      1.00      1.00       559\n",
      "           1       1.00      1.00      1.00       559\n",
      "\n",
      "    accuracy                           1.00      1118\n",
      "   macro avg       1.00      1.00      1.00      1118\n",
      "weighted avg       1.00      1.00      1.00      1118\n",
      "\n"
     ]
    },
    {
     "data": {
      "image/png": "[encoded data removed]",
      "text/plain": [
       "<Figure size 600x400 with 2 Axes>"
      ]
     },
     "metadata": {},
     "output_type": "display_data"
    },
    {
     "name": "stdout",
     "output_type": "stream",
     "text": [
      "\n",
      "- Evaluating Training Data:\n",
      "35/35 [==============================] - 0s 5ms/step - loss: 0.0075 - accuracy: 0.9991\n",
      "{'loss': 0.0074686226435005665, 'accuracy': 0.9991055727005005}\n",
      "----------------------------------------------------------------------\n",
      " Classification Metrics: Test Data\n",
      "----------------------------------------------------------------------\n",
      "              precision    recall  f1-score   support\n",
      "\n",
      "           0       0.98      0.92      0.95       802\n",
      "           1       0.67      0.91      0.77       152\n",
      "\n",
      "    accuracy                           0.92       954\n",
      "   macro avg       0.83      0.91      0.86       954\n",
      "weighted avg       0.93      0.92      0.92       954\n",
      "\n"
     ]
    },
    {
     "data": {
      "image/png": "[encoded data removed]",
      "text/plain": [
       "<Figure size 600x400 with 2 Axes>"
      ]
     },
     "metadata": {},
     "output_type": "display_data"
    },
    {
     "name": "stdout",
     "output_type": "stream",
     "text": [
      "\n",
      "- Evaluating Test Data:\n",
      "30/30 [==============================] - 0s 5ms/step - loss: 0.4190 - accuracy: 0.9151\n",
      "{'loss': 0.4189831018447876, 'accuracy': 0.9150943160057068}\n"
     ]
    }
   ],
   "source": [
    "# Create text Vectorization layer\n",
    "SEQUENCE_LENGTH = 50\n",
    "EMBED_DIM = 100\n",
    "\n",
    "sequence_vectorizer = tf.keras.layers.TextVectorization(\n",
    "    standardize=\"lower_and_strip_punctuation\",\n",
    "    output_mode=\"int\",\n",
    "    output_sequence_length=SEQUENCE_LENGTH,\n",
    "    # ngrams=2\n",
    ")\n",
    "\n",
    "sequence_vectorizer.adapt(ds_texts)\n",
    "VOCAB_SIZE = sequence_vectorizer.vocabulary_size()\n",
    "\n",
    "\n",
    "\n",
    "# Build the lstm model and specify the vectorizer\n",
    "lstm_model = build_lstm_model(sequence_vectorizer)\n",
    "\n",
    "# Defien number of epocs\n",
    "EPOCHS = 30\n",
    "# Fit the model\n",
    "history = lstm_model.fit(\n",
    "    train_ds,\n",
    "    epochs=EPOCHS,\n",
    "    validation_data=val_ds,\n",
    "    callbacks=get_callbacks(patience=5),\n",
    ")\n",
    "# Obtain the results\n",
    "results = fn.evaluate_classification_network(\n",
    "    lstm_model, X_train=train_ds, \n",
    "    X_test=test_ds, history=history, \n",
    ");"
   ]
  },
  {
   "cell_type": "markdown",
   "id": "2f1b9c7a-240a-4904-96bb-328ae8881eed",
   "metadata": {},
   "source": [
    "# APPENDIX"
   ]
  },
  {
   "cell_type": "markdown",
   "id": "097a15b7-dfc1-4e12-9e6f-de8fcae188f2",
   "metadata": {},
   "source": [
    "## Tensorflow Datasets - Order of Operations"
   ]
  },
  {
   "cell_type": "markdown",
   "id": "fecf6d30-a0f9-486a-b73e-7046a017d19a",
   "metadata": {},
   "source": [
    "### Order of Operations\n",
    "\n",
    "1) **Create full dataset object & Shuffle Once.**\n",
    "2) Calculate number of samples for training and validation data.\n",
    "3) Create the train/test/val splits using .take() and .skip()\n",
    "4) **Add shuffle to the train dataset only.**\n",
    "5) (Optional/Not Used on LP) If applying a transformation (e.g. train_ds.map(...)) to the data, add  here, before .cache()\n",
    "7) (Optional) Add .cache() to all splits to increase speed  (but may cause problems with large datasets)\n",
    "8) **Add .batch to all splits (default batch size=32)**\n",
    "9) (Optional) Add .prefetch(tf.data.AUTOTUNE)\n",
    "10) (Optional) Print out final length of datasets"
   ]
  },
  {
   "cell_type": "markdown",
   "id": "38b94fa4-1880-49f4-be58-b51e642b0fd5",
   "metadata": {},
   "source": [
    "## Train-Test-Val Split Version\n"
   ]
  },
  {
   "cell_type": "code",
   "execution_count": 91,
   "id": "6a2238b8-d91b-445e-8d68-067832fe91f0",
   "metadata": {
    "execution": {
     "iopub.execute_input": "2024-01-06T03:51:52.510224Z",
     "iopub.status.busy": "2024-01-06T03:51:52.510106Z",
     "iopub.status.idle": "2024-01-06T03:51:52.540086Z",
     "shell.execute_reply": "2024-01-06T03:51:52.539578Z",
     "shell.execute_reply.started": "2024-01-06T03:51:52.510214Z"
    }
   },
   "outputs": [
    {
     "data": {
      "text/plain": [
       "(4451, 954, 954)"
      ]
     },
     "execution_count": 91,
     "metadata": {},
     "output_type": "execute_result"
    }
   ],
   "source": [
    "# ## Split data into train, test, val\n",
    "X_train_full, X_test, y_train_full, y_test = train_test_split(X, y, test_size=.3, random_state=42)\n",
    "X_val, X_test, y_val, y_test = train_test_split(X_test, y_test, test_size=.5, random_state=42)\n",
    "(len(X_train_full), len(X_val), len(X_test))"
   ]
  },
  {
   "cell_type": "code",
   "execution_count": 92,
   "id": "f261dad4-efda-4b36-9b2d-056caf37d57d",
   "metadata": {
    "execution": {
     "iopub.execute_input": "2024-01-06T03:51:52.541037Z",
     "iopub.status.busy": "2024-01-06T03:51:52.540848Z",
     "iopub.status.idle": "2024-01-06T03:51:52.566825Z",
     "shell.execute_reply": "2024-01-06T03:51:52.566415Z",
     "shell.execute_reply.started": "2024-01-06T03:51:52.541026Z"
    }
   },
   "outputs": [],
   "source": [
    "# from sklearn import set_config\n",
    "# set_config(transform_output='pandas')"
   ]
  },
  {
   "cell_type": "markdown",
   "id": "eb20bc32-8cd8-45f5-999d-a2bd0ed7ff48",
   "metadata": {},
   "source": [
    "### Using Sklearn's LabelEncoder"
   ]
  },
  {
   "cell_type": "code",
   "execution_count": 93,
   "id": "44095fcf-b87b-4328-a1ef-44e4ec235e3d",
   "metadata": {
    "execution": {
     "iopub.execute_input": "2024-01-06T03:51:52.567603Z",
     "iopub.status.busy": "2024-01-06T03:51:52.567428Z",
     "iopub.status.idle": "2024-01-06T03:51:52.595440Z",
     "shell.execute_reply": "2024-01-06T03:51:52.595007Z",
     "shell.execute_reply.started": "2024-01-06T03:51:52.567591Z"
    }
   },
   "outputs": [
    {
     "data": {
      "text/plain": [
       "3889    high\n",
       "3254    high\n",
       "2996    high\n",
       "3790    high\n",
       "3764    high\n",
       "7301    high\n",
       "2449    high\n",
       "430     high\n",
       "2296    high\n",
       "2321     low\n",
       "Name: rating, dtype: object"
      ]
     },
     "execution_count": 93,
     "metadata": {},
     "output_type": "execute_result"
    }
   ],
   "source": [
    "y_train_full[:10]"
   ]
  },
  {
   "cell_type": "code",
   "execution_count": 94,
   "id": "3da586fc-4355-4647-8e5c-58367d8569fa",
   "metadata": {
    "execution": {
     "iopub.execute_input": "2024-01-06T03:51:52.596211Z",
     "iopub.status.busy": "2024-01-06T03:51:52.596090Z",
     "iopub.status.idle": "2024-01-06T03:51:52.623560Z",
     "shell.execute_reply": "2024-01-06T03:51:52.623021Z",
     "shell.execute_reply.started": "2024-01-06T03:51:52.596202Z"
    }
   },
   "outputs": [
    {
     "data": {
      "text/plain": [
       "array(['high', 'low'], dtype=object)"
      ]
     },
     "execution_count": 94,
     "metadata": {},
     "output_type": "execute_result"
    }
   ],
   "source": [
    "y_train_full.unique()"
   ]
  },
  {
   "cell_type": "code",
   "execution_count": 95,
   "id": "91b51208-88a8-4120-83ba-3c2f6a0b2965",
   "metadata": {
    "execution": {
     "iopub.execute_input": "2024-01-06T03:51:52.624662Z",
     "iopub.status.busy": "2024-01-06T03:51:52.624294Z",
     "iopub.status.idle": "2024-01-06T03:51:52.651944Z",
     "shell.execute_reply": "2024-01-06T03:51:52.651620Z",
     "shell.execute_reply.started": "2024-01-06T03:51:52.624640Z"
    }
   },
   "outputs": [],
   "source": [
    "encoder = LabelEncoder()\n",
    "y_train_full_enc = encoder.fit_transform(y_train_full.values)\n",
    "y_test_enc = encoder.transform(y_test)\n",
    "y_val_enc = encoder.transform(y_val)"
   ]
  },
  {
   "cell_type": "code",
   "execution_count": 96,
   "id": "906c5bf9-26da-422d-b6ec-47e7d015efc3",
   "metadata": {
    "execution": {
     "iopub.execute_input": "2024-01-06T03:51:52.652506Z",
     "iopub.status.busy": "2024-01-06T03:51:52.652406Z",
     "iopub.status.idle": "2024-01-06T03:51:52.679260Z",
     "shell.execute_reply": "2024-01-06T03:51:52.678840Z",
     "shell.execute_reply.started": "2024-01-06T03:51:52.652496Z"
    }
   },
   "outputs": [
    {
     "data": {
      "text/plain": [
       "array([0, 0, 0, 0, 1, 0, 0, 0, 0, 0, 0, 0, 0, 0, 0, 0, 0, 0, 0])"
      ]
     },
     "execution_count": 96,
     "metadata": {},
     "output_type": "execute_result"
    }
   ],
   "source": [
    "y_test_enc[:19]"
   ]
  },
  {
   "cell_type": "code",
   "execution_count": 97,
   "id": "a1c9e87e-de8b-404e-bd36-6b6c4fda45f3",
   "metadata": {
    "execution": {
     "iopub.execute_input": "2024-01-06T03:51:52.679952Z",
     "iopub.status.busy": "2024-01-06T03:51:52.679867Z",
     "iopub.status.idle": "2024-01-06T03:51:52.707792Z",
     "shell.execute_reply": "2024-01-06T03:51:52.707362Z",
     "shell.execute_reply.started": "2024-01-06T03:51:52.679945Z"
    }
   },
   "outputs": [
    {
     "data": {
      "text/plain": [
       "array(['high', 'low'], dtype=object)"
      ]
     },
     "execution_count": 97,
     "metadata": {},
     "output_type": "execute_result"
    }
   ],
   "source": [
    "classes = encoder.classes_\n",
    "classes"
   ]
  },
  {
   "cell_type": "code",
   "execution_count": 98,
   "id": "121a1c2b-35b5-4c8d-97c1-ba07acd4dcb6",
   "metadata": {
    "execution": {
     "iopub.execute_input": "2024-01-06T03:51:52.708629Z",
     "iopub.status.busy": "2024-01-06T03:51:52.708502Z",
     "iopub.status.idle": "2024-01-06T03:51:52.736141Z",
     "shell.execute_reply": "2024-01-06T03:51:52.735767Z",
     "shell.execute_reply.started": "2024-01-06T03:51:52.708621Z"
    }
   },
   "outputs": [
    {
     "data": {
      "text/plain": [
       "array(['high', 'low'], dtype=object)"
      ]
     },
     "execution_count": 98,
     "metadata": {},
     "output_type": "execute_result"
    }
   ],
   "source": [
    "encoder.inverse_transform([0,1])"
   ]
  },
  {
   "cell_type": "code",
   "execution_count": 99,
   "id": "db296ec8-b6f8-4a63-b6b1-86870f97c539",
   "metadata": {
    "execution": {
     "iopub.execute_input": "2024-01-06T03:51:52.736872Z",
     "iopub.status.busy": "2024-01-06T03:51:52.736752Z",
     "iopub.status.idle": "2024-01-06T03:51:52.762488Z",
     "shell.execute_reply": "2024-01-06T03:51:52.762099Z",
     "shell.execute_reply.started": "2024-01-06T03:51:52.736863Z"
    }
   },
   "outputs": [],
   "source": [
    "# encoder.inverse_transform(cl)"
   ]
  },
  {
   "cell_type": "code",
   "execution_count": 100,
   "id": "9080b1e5-db2b-4035-b519-2a446fc98f2a",
   "metadata": {
    "execution": {
     "iopub.execute_input": "2024-01-06T03:51:52.763230Z",
     "iopub.status.busy": "2024-01-06T03:51:52.763113Z",
     "iopub.status.idle": "2024-01-06T03:51:52.790656Z",
     "shell.execute_reply": "2024-01-06T03:51:52.790195Z",
     "shell.execute_reply.started": "2024-01-06T03:51:52.763221Z"
    }
   },
   "outputs": [
    {
     "data": {
      "text/plain": [
       "ValueError('Expected 2D array, got 1D array instead:\\narray=[\\'Really like it!: Love this!  No more pulling out the vacuum cleaner from the garage and plugging it in 3 different places to get the whole room.  Suction is great, very compact and nice handling.  We will see if it holds up.  I did buy the extended warranty for 6 bucks due to some of the reviews.  But if I had to spend 100 on a new one every year I would.\\'\\n \\'which is awesome.: My last carpet cleaner broke so I bought this one after reading the reviews. It cleans very well! My carpet dries in about 30 minutes, which is awesome.\\'\\n \\'seriously powerful: This is our second of these vacuums- we liked the first so much that we decided to get a second one for the second floor of our house.  This is the only \"stick vac\" we have found that can compete with our Dyson. We have four cats, three birds, and a ten year old daughter with very long hair, plus a garden we track leaves and dirt in from, so we\\\\\\'re constantly (and I do mean constantly- at least twice a day) thoroughly vacuuming- I mean, going over the whole house. We usually do our big daily vacuuming of the whole house with the Dyson, but it\\\\\\'s a beast, and it\\\\\\'s not ideal for quick clean ups or, or lugging up the stairs, or doing what we call, \"zip ups\" throughout the day. This is the FIRST stick vac we have had that actually gets up all the hair plus any bird seed and dried leaves, and can make it through our whole house on a charge and continue to work powerfully. It\\\\\\'s also fairly lightweight (but not feather weight).\\\\n\\\\nIt would be nice if there was on board charging- that\\\\\\'s the ONLY major flaw with this vacuum- you have to take the battery out and put it in the charger to get a charge. And you\\\\\\'re not supposed to keep it in the charger, so you have to babysit the battery all the time. It\\\\\\'s be nice to have on-board charging, but alas...\\\\n\\\\nregardless, it\\\\\\'s the best lightweight vacuum we have found and we like it so much we now own two, and they regularly compete with the Dyson. I can\\\\\\'t recommend it enough.\\'\\n ...\\n \"No clean vacuum cleaner: Hard to get it to pick up the dog hair & sand. Dog hair clogs the opening which in turn won\\'t let it pick up the sand. I have to run across a rug to get the dog hair off so I can get what little sand it will pick up. Even with low cost, not worth the money.\"\\n \"Works great!: Works great.  So far I\\'ve used it 3 different times.  I\\'ve cleaned my carpets on 2 different days and furniture another day.  I noticed the most difference on the furniture (mostly because our carpets are dark brown shag and you can\\'t tell when they\\'re dirty) .  The spinning upholstery brush works great!  I did make the mistake of scrubbing cat throw up off the couch with the spin brush and I guess a granule got caught in the spin gears and it stopped spinning.  My husband was able to take it apart and get the grain out and it worked fine again.  So it\\'s important to vacuum any particles up before using the spin brush, but the other upholstery attachment had no issue sucking gobs of cat hair off the furniture.\\\\nI had no issues assembling the machine or with anything leaking.  Already went through the bottle of cleaning solution that came with it, but it was a small bottle.  I probably got 7-10 fills out of that bottle.  The instructions say to place the machine on a hard surface and let it suck up clean water to clean out the front suction part.  Man, does it suck up water well!  You can\\'t tell on carpets other than seeing the water being sucked through the machine.  But on hard floors, the floors are practically dry!  Will be great to have if our basement leaks again.\\\\nI figured for the cost of renting a machine twice, I could just own my own.  After reading reviews on several different machines, I\\'m happy I got this one.\"\\n \\'Researched and Researched and Researched: Researched and researched and researched and this was the result.\\\\n\\\\nSatisfied am I with the slim size, significant suck, and decent battery performance.\\'].\\nReshape your data either using array.reshape(-1, 1) if your data has a single feature or array.reshape(1, -1) if it contains a single sample.')"
      ]
     },
     "metadata": {},
     "output_type": "display_data"
    }
   ],
   "source": [
    "from imblearn.under_sampling import RandomUnderSampler\n",
    "\n",
    "# Instantiate a RandomUnderSampler\n",
    "sampler = RandomUnderSampler(random_state=42)\n",
    "try:\n",
    "    X_train, y_train = sampler.fit_resample(X_train_full,y_train_full_enc)\n",
    "except Exception as e:\n",
    "    display(e)"
   ]
  },
  {
   "cell_type": "code",
   "execution_count": 101,
   "id": "3c9fba05-a222-447a-9fd4-b674b44c534e",
   "metadata": {
    "execution": {
     "iopub.execute_input": "2024-01-06T03:51:52.791416Z",
     "iopub.status.busy": "2024-01-06T03:51:52.791283Z",
     "iopub.status.idle": "2024-01-06T03:51:52.816970Z",
     "shell.execute_reply": "2024-01-06T03:51:52.816618Z",
     "shell.execute_reply.started": "2024-01-06T03:51:52.791407Z"
    }
   },
   "outputs": [],
   "source": [
    "# X_train_full.values.reshape(-1,1)"
   ]
  },
  {
   "cell_type": "code",
   "execution_count": 102,
   "id": "ffcc0c41-3daf-4324-a039-97a29ddc339d",
   "metadata": {
    "execution": {
     "iopub.execute_input": "2024-01-06T03:51:52.817690Z",
     "iopub.status.busy": "2024-01-06T03:51:52.817547Z",
     "iopub.status.idle": "2024-01-06T03:51:52.844818Z",
     "shell.execute_reply": "2024-01-06T03:51:52.844431Z",
     "shell.execute_reply.started": "2024-01-06T03:51:52.817680Z"
    }
   },
   "outputs": [
    {
     "data": {
      "text/plain": [
       "(1118, 1)"
      ]
     },
     "execution_count": 102,
     "metadata": {},
     "output_type": "execute_result"
    }
   ],
   "source": [
    "# Fit_resample on the reshaped X_train data and y-train data\n",
    "X_train, y_train = sampler.fit_resample(X_train_full.values.reshape(-1,1),\n",
    "                                        y_train_full_enc)\n",
    "X_train.shape"
   ]
  },
  {
   "cell_type": "code",
   "execution_count": null,
   "id": "98a30ca1-8d7b-42c3-87b8-8b21991b7410",
   "metadata": {},
   "outputs": [],
   "source": []
  },
  {
   "cell_type": "code",
   "execution_count": 103,
   "id": "4e6a3418-77b6-40e0-85b7-243fb312c924",
   "metadata": {
    "execution": {
     "iopub.execute_input": "2024-01-06T03:51:52.845635Z",
     "iopub.status.busy": "2024-01-06T03:51:52.845480Z",
     "iopub.status.idle": "2024-01-06T03:51:52.871796Z",
     "shell.execute_reply": "2024-01-06T03:51:52.871349Z",
     "shell.execute_reply.started": "2024-01-06T03:51:52.845626Z"
    }
   },
   "outputs": [
    {
     "data": {
      "text/plain": [
       "(1118,)"
      ]
     },
     "execution_count": 103,
     "metadata": {},
     "output_type": "execute_result"
    }
   ],
   "source": [
    "# Flatten the reshaped X_train data back to 1D\n",
    "X_train = X_train.flatten()\n",
    "X_train.shape"
   ]
  },
  {
   "cell_type": "code",
   "execution_count": 104,
   "id": "9a1bc9c0-0c0a-45eb-801d-29ed7feb6105",
   "metadata": {
    "execution": {
     "iopub.execute_input": "2024-01-06T03:51:52.872555Z",
     "iopub.status.busy": "2024-01-06T03:51:52.872474Z",
     "iopub.status.idle": "2024-01-06T03:51:52.899933Z",
     "shell.execute_reply": "2024-01-06T03:51:52.899532Z",
     "shell.execute_reply.started": "2024-01-06T03:51:52.872547Z"
    }
   },
   "outputs": [
    {
     "data": {
      "text/plain": [
       "0    559\n",
       "1    559\n",
       "dtype: int64"
      ]
     },
     "execution_count": 104,
     "metadata": {},
     "output_type": "execute_result"
    }
   ],
   "source": [
    "# Check for class balance\n",
    "pd.Series(y_train).value_counts()"
   ]
  },
  {
   "cell_type": "markdown",
   "id": "eaec0a83-5b60-4ef1-9c41-c844e358977a",
   "metadata": {},
   "source": [
    "### Prepare Tensorflow Datasets"
   ]
  },
  {
   "cell_type": "markdown",
   "id": "60733dc8-9621-421e-8a3c-c9b750d2df44",
   "metadata": {},
   "source": [
    "Since we already have train/test/val X and y vars, we will make 3 dataset objects using tf.data.Dataset.from_tensor_slices."
   ]
  },
  {
   "cell_type": "code",
   "execution_count": 105,
   "id": "5df57b42-509c-4d54-b0a3-4a55fde3a002",
   "metadata": {
    "execution": {
     "iopub.execute_input": "2024-01-06T03:51:52.900688Z",
     "iopub.status.busy": "2024-01-06T03:51:52.900560Z",
     "iopub.status.idle": "2024-01-06T03:51:52.929352Z",
     "shell.execute_reply": "2024-01-06T03:51:52.928881Z",
     "shell.execute_reply.started": "2024-01-06T03:51:52.900679Z"
    }
   },
   "outputs": [],
   "source": [
    "# Convert to Dataset Object\n",
    "train_ds = tf.data.Dataset.from_tensor_slices((X_train, y_train))\n",
    "test_ds = tf.data.Dataset.from_tensor_slices((X_test, y_test_enc))\n",
    "val_ds = tf.data.Dataset.from_tensor_slices((X_val, y_val_enc))"
   ]
  },
  {
   "cell_type": "markdown",
   "id": "49810f66-26f9-43db-88d4-57f5f85cb3a3",
   "metadata": {},
   "source": [
    "Let's examine a single element."
   ]
  },
  {
   "cell_type": "code",
   "execution_count": 106,
   "id": "bccec483-9b94-4431-b138-379ce7b76311",
   "metadata": {
    "execution": {
     "iopub.execute_input": "2024-01-06T03:51:52.930253Z",
     "iopub.status.busy": "2024-01-06T03:51:52.930149Z",
     "iopub.status.idle": "2024-01-06T03:51:52.957304Z",
     "shell.execute_reply": "2024-01-06T03:51:52.956861Z",
     "shell.execute_reply.started": "2024-01-06T03:51:52.930243Z"
    }
   },
   "outputs": [
    {
     "name": "stdout",
     "output_type": "stream",
     "text": [
      "tf.Tensor(b'We are pleased with the older model and the new one is ...: We have an older model at a second home. We were having to carry it back and forth. We are pleased with the older model and the new one is even better. Highly  Recommended!', shape=(), dtype=string) \n",
      "\n",
      " tf.Tensor(0, shape=(), dtype=int64)\n"
     ]
    }
   ],
   "source": [
    "# taking a sample \n",
    "example_X, example_y= train_ds.take(1).get_single_element()\n",
    "print(example_X,'\\n\\n',example_y)"
   ]
  },
  {
   "cell_type": "code",
   "execution_count": 107,
   "id": "69866501-cf67-4ad5-97c3-41fcb387f72c",
   "metadata": {
    "execution": {
     "iopub.execute_input": "2024-01-06T03:51:52.958003Z",
     "iopub.status.busy": "2024-01-06T03:51:52.957913Z",
     "iopub.status.idle": "2024-01-06T03:51:52.985485Z",
     "shell.execute_reply": "2024-01-06T03:51:52.984994Z",
     "shell.execute_reply.started": "2024-01-06T03:51:52.957994Z"
    }
   },
   "outputs": [
    {
     "name": "stdout",
     "output_type": "stream",
     "text": [
      "tf.Tensor(b'We are pleased with the older model and the new one is ...: We have an older model at a second home. We were having to carry it back and forth. We are pleased with the older model and the new one is even better. Highly  Recommended!', shape=(), dtype=string) \n",
      "\n",
      " tf.Tensor(0, shape=(), dtype=int64)\n"
     ]
    }
   ],
   "source": [
    "# taking a sample  (same result)\n",
    "example_X, example_y= train_ds.take(1).get_single_element()\n",
    "print(example_X,'\\n\\n',example_y)"
   ]
  },
  {
   "cell_type": "markdown",
   "id": "5d892722-f348-40fd-88bd-baf9be8eaa5d",
   "metadata": {},
   "source": [
    "> Shuffle the training data at the end of each epoch"
   ]
  },
  {
   "cell_type": "code",
   "execution_count": 108,
   "id": "f7895034-c771-4648-88ea-6a54faa26828",
   "metadata": {
    "execution": {
     "iopub.execute_input": "2024-01-06T03:51:52.986253Z",
     "iopub.status.busy": "2024-01-06T03:51:52.986122Z",
     "iopub.status.idle": "2024-01-06T03:51:53.012223Z",
     "shell.execute_reply": "2024-01-06T03:51:53.011868Z",
     "shell.execute_reply.started": "2024-01-06T03:51:52.986244Z"
    }
   },
   "outputs": [],
   "source": [
    "# Shuffle only the training data every epoch\n",
    "train_ds = train_ds.shuffle(len(train_ds))"
   ]
  },
  {
   "cell_type": "code",
   "execution_count": 109,
   "id": "0b06b0e3-67a7-4eb0-b124-3412aee15ca5",
   "metadata": {
    "execution": {
     "iopub.execute_input": "2024-01-06T03:51:53.012891Z",
     "iopub.status.busy": "2024-01-06T03:51:53.012802Z",
     "iopub.status.idle": "2024-01-06T03:51:53.040464Z",
     "shell.execute_reply": "2024-01-06T03:51:53.040001Z",
     "shell.execute_reply.started": "2024-01-06T03:51:53.012882Z"
    }
   },
   "outputs": [
    {
     "name": "stdout",
     "output_type": "stream",
     "text": [
      "tf.Tensor(b\"easy to use: This affordable vacuum saved our carpet! It works extremely well with getting stains out and made everything look new again... Despite the carpet being over ten years old and white. It worked well against the stains our cats leave, too! It's lightweight, easy to use, and an all-around great vacuum. Very happy with this purchase, it will save us tons of money in the years to come by not having to rent a steam cleaning vacuum. I highly recommend!\", shape=(), dtype=string) \n",
      "\n",
      " tf.Tensor(0, shape=(), dtype=int64)\n"
     ]
    }
   ],
   "source": [
    "# taking a sample  (different result)\n",
    "example_X, example_y= train_ds.take(1).get_single_element()\n",
    "print(example_X,'\\n\\n',example_y)"
   ]
  },
  {
   "cell_type": "code",
   "execution_count": 110,
   "id": "2062b366-b4de-4713-bb82-5d98b15abd4d",
   "metadata": {
    "execution": {
     "iopub.execute_input": "2024-01-06T03:51:53.041273Z",
     "iopub.status.busy": "2024-01-06T03:51:53.041142Z",
     "iopub.status.idle": "2024-01-06T03:51:53.068739Z",
     "shell.execute_reply": "2024-01-06T03:51:53.068327Z",
     "shell.execute_reply.started": "2024-01-06T03:51:53.041263Z"
    }
   },
   "outputs": [
    {
     "name": "stdout",
     "output_type": "stream",
     "text": [
      "tf.Tensor(b\"Sad but true: A worthless two year warranty. I purchased this vacuum at the end of December of this year. I treated it gently as I read the reviews of the pins coming loose witch causes the roller bar to stop turning. I figured if I had that problem with the vacuum then I would go through Hoover to fix it during the warranty period and then I would fix it myself if something happened after the two year warranty period. I got a total of 6 months use out of it before the roller died. No problem, I'll contact Hoover and they will replace it. I couldn't get their online warranty process to work so I took it to a local Hoover authorized service department. They didn't fill me with hope. They said it would take about a month to get Hoover to do anything. They were right. One month later and my claim was denied with no reason given. They said they would re-submit as this sometimes works. I am now a month and a half without my vacuum. Hoover is no longer the company it once was. Sad but true. If you choose to buy this vacuum just don't count on the warranty being honored. To bad as when the vacuum worked it was nice.\\n\\nUpdate\\nAfter 3 denied claims using Hoovers automated refund system and two follow up calls as to why I was given the denials, I have now received a replacement unit.\", shape=(), dtype=string) \n",
      "\n",
      " tf.Tensor(1, shape=(), dtype=int64)\n"
     ]
    }
   ],
   "source": [
    "# taking a sample  (different result)\n",
    "example_X, example_y= train_ds.take(1).get_single_element()\n",
    "print(example_X,'\\n\\n',example_y)"
   ]
  },
  {
   "cell_type": "markdown",
   "id": "b44d3ca1-86bd-42f3-98e5-79e8f6f02a42",
   "metadata": {},
   "source": [
    "> Add batching (use 32 for batch_size)"
   ]
  },
  {
   "cell_type": "code",
   "execution_count": 111,
   "id": "502a7439-8e81-415c-bc54-ea5ad055140f",
   "metadata": {
    "execution": {
     "iopub.execute_input": "2024-01-06T03:51:53.069519Z",
     "iopub.status.busy": "2024-01-06T03:51:53.069381Z",
     "iopub.status.idle": "2024-01-06T03:51:53.096983Z",
     "shell.execute_reply": "2024-01-06T03:51:53.096668Z",
     "shell.execute_reply.started": "2024-01-06T03:51:53.069509Z"
    }
   },
   "outputs": [
    {
     "name": "stdout",
     "output_type": "stream",
     "text": [
      " There are 35 training batches.\n",
      " There are 30 validation batches.\n",
      " There are 30 testing batches.\n"
     ]
    }
   ],
   "source": [
    "#  Setting the batch_size for all datasets\n",
    "BATCH_SIZE = 32\n",
    "\n",
    "train_ds = train_ds.batch(BATCH_SIZE)\n",
    "val_ds = val_ds.batch(BATCH_SIZE)\n",
    "test_ds = test_ds.batch(BATCH_SIZE)\n",
    "\n",
    "\n",
    "# Confirm the number of batches in each\n",
    "print (f' There are {len(train_ds)} training batches.')\n",
    "print (f' There are {len(val_ds)} validation batches.')\n",
    "print (f' There are {len(test_ds)} testing batches.')"
   ]
  },
  {
   "cell_type": "code",
   "execution_count": 112,
   "id": "98638bb3-7011-45d3-850b-7279978346f6",
   "metadata": {
    "execution": {
     "iopub.execute_input": "2024-01-06T03:51:53.097699Z",
     "iopub.status.busy": "2024-01-06T03:51:53.097552Z",
     "iopub.status.idle": "2024-01-06T03:51:53.125704Z",
     "shell.execute_reply": "2024-01-06T03:51:53.125240Z",
     "shell.execute_reply.started": "2024-01-06T03:51:53.097689Z"
    }
   },
   "outputs": [
    {
     "name": "stdout",
     "output_type": "stream",
     "text": [
      "tf.Tensor(\n",
      "[b\"It's okay, but I've had better for cheaper.: The suction is great. In theory, I like the separate tanks for water and solution. The water is supposed to stay clean water but the solution always ends up in it and I can't rinse the floor because I'm just putting more soap on the floor. Also, the yellow stopper that rises when the dump tank is full comes up way before the tank is actually full.\"\n",
      " b\"Rinse Cycle - DOES NOT WORK: Water/soap separator does not work. Sent back. Still uses soap when you have it 'water only' rinse cycle.\"\n",
      " b'Great Carpet Cleaner: This works great and is light and easy to use.  It also picks up the water faster.'\n",
      " b'Worst investment, so many passes and still never clean: Been using this for a year to get rid of dirt on carpet. Worst investment, so many passes and still never clean.'\n",
      " b'Five Stars: Works well.'\n",
      " b\"Great Product!: This Is a great Product. This is the second one I've purchased and the keep making improvements. The first one is still working and I gave it to my daughter. we use it nearly every day on hardwood  floors and low mat area rugs. The improvements that have been made, make this unit nearly bullet proof. I recommend a second battery so you can just change the battery when it dies, rather than charge after every use.\"\n",
      " b\"Sometimes You DON'T Get What You Pay For: Having numerous cats I am always using cordless hand vacs, floor vacs & stix vacs to clean up pet hair, dust and litter. It's an endless freekin job & the first thing we do upon arriving home from work every single day. My favorite hand vac is the Shark, which is now up to 18 volts and totally awesome! I've had a variety of stix vacs with my last one finally breaking down which was both a wet/dry vac & only cost me $20! I used it pretty much everyday for over 2 years so I definitely have no complaints.\\nI decided to up the anty & get a top of the line vac & was able to buy this elsewhere with a coupon, on sale for under $100. I thought I had hit the jackpot.\\nNOT!\\nIf I recall, this has a lifetime warranty & be glad it does! I've had it in the shop 3 times already & just got it back a little under a month ago & it's already acting up again. My repeat problem has been with the rotating brush. It doesn't! Now after having it replaced for a 3rd time it now makes so much noise it scares the crap out of my cats & they take off hiding for hours. At this rate I won't need a vacuum because they will not be coming out and making messes!\\nI'm not happy at all. My vac repair guy says he gets these in for repairs a lot & the fact that Hoover bids out contracts for parts is one of their major issues as you never know who is making what - no consistency - no quality control.\\nIt's unfortunate but now that this is so darn loud it is sitting in the closet and we are using a good old fashion dust broome until I can decide on a different stix vac to buy.\\nHowever I can tell you this: I will never spend this kind of money on one again. Find one for around $40 and use it until it falls apart. You won't be upset about the expense and you will get what you paid for.\"\n",
      " b\"Stopped working in 6mos after 3 uses.  Hoover wants me to drive 70 miles to have it looked at.  Don't BUY it.: Quit working after 3 times using it.  Contacted Amazon and they made me contact Hoover.  Hoover is making me drive 70 miles to a center that is authorized to work on this.  Now I don't know about you, but if I had known it was going to be so difficult to get this taken care of I would never have purchased it.  I bought it 6 dos ago so it's still like new and should be working well.  Instead the brushes just stopped working.  Think twice before you buy this piece of garbage.\"\n",
      " b'Five Stars: Works great. easy to assemble'\n",
      " b\"carpet cleaner does a great job and is a very good price: carpet cleaner does a great job and is a very good price. I don't have much carpet in my house so i wasn't looking to spend a butt load of money. this has done a great job cleaning up the mess from my dogs and is very easy to use/ take apart for cleaning,\"\n",
      " b\"Do not purchase: Don't waste your money on this, spend the extra money to get a nicer one. Initially, I thought this was a great machine. I purchased it as a Christmas gift, four months after it's first use the cleaning brush broke. The middle brush in the brush set just fell out. After a fairly simple process of going to the service center (which is totally out of our way) we had the brush repaired. Four months after having the brush replaced, it is broken again. On top of that, the powered hand tool is broken as well. It does not spin at all. Hoover's customer service isn't the greatest, but it looks like after emailing our Amazon invoice we will be able to get these items replaced. That's great news, but will the brush set need replaced again in four months? Which I will have to pay out of pocket. Bottom line, don't even consider this. Or really any Hoover brand cleaner.\"\n",
      " b\"Love This Bad Boy!: I never thought I'd write a glowing review of a vacuum, but here goes.\\n\\nI'll be honest, the thought of spending more than a benjamin on something as unsexy as a vacuum made me a bit uneasy.  I thought about all the cool things I could be buying instead, like new shoes, or make-up.  But I have a toddler who is like a tornado in my house, leaving a path of crumbs and other destruction in her wake.  I knew I needed to suck it up (har har) and get this.  It's been worth every penny!  Let me break it down for you:\\n\\nPROS:\\n\\nVery Lightweight (read:  easy to haul up and down the stairs of my 3 story house)\\n\\nGreat Power (actually sucks up crumbs and dirt with one pass)\\n\\nWorks on all my Home's Surfaces--area rugs and ceramic tile AND wood floors.  It's not stellar on plush carpeting but it's good enough for a quick cleaning\\n\\nEasy to Use--I never once looked at the instruction manual.  This is an intuitive product.  The canister is easy to remove and dump out.  The battery pops right out and right into the charger\\n\\nEasy to Maneuver in Awkward Spaces--This gets the first couple inches under the sofa, easily\\n\\nCONS:\\n\\nNot Great on Plush Carpet--I use this for touch ups on our plush carpet.  It doesn't clean as well as a heavy obnoxious vacuum, but it's good enough for a non-OCD cleaner (me!)  It does work very well on our area rugs that have shorter pile\\n\\nTricky on Stairs--I make it work on my stairs because I'm lazy like that, but honestly a handheld vac (like my Shark) would work 100 times better\\n\\nOverall I love this vacuum!  I cannot comment on battery life other than to say I have vacuumed all three floors on my house with it at one time and the battery has never run out on me.  Now perhaps that's just because I am a quick, sloppy cleaner, OR the battery power is just plain awesome.  I cannot say.\\n\\nLastly, everyone in my family owns this vacuum.  My sister bought it first, and my mom loved using it, so she bought one.  Then I tried my mom's and I bought one.  I think you should try it too!\"\n",
      " b\"Great value for great performance!: I love the dual tank system.  Don't consider a single tank with a bladder.  Didn't come with the bare floor attachment (I don't think listing said it did though).  Dirty tank was full very shortly before the clean tank was full.  I used very hot water in the tank and it stayed hot until I was done using the clean tank.  I love that the bristles are removable and can separately be replaced.  I got this last night and cleaned a section of my carpet where there was cat pee (yuck) that I had ground baking soda paste into to try to get out (yes stupid me) that had dried solid hard.  The area now just has a small hard area, mostly undetectable.  I think I can wear it down over a few cleanings.  It's not a stain cleaner but it worked really well on the cheap apartment carpeting we have.  Pulled a TON of nasty out of it.\\nSidenote:  It came in three HUGE boxes that I made the most awesome cardboard box condo for my kid out of.  So yeah, the packaging was amazing.\\nCon:\\nThe hose attachment storage is weird.  It doesn't hold the attachment on very well, and I just decided to let it slip off and hang there.  The hose is attached securely so it doesn't go anywhere, but it hangs there at the back of the machine.  It's annoying but only because I'm OCD.\"\n",
      " b'Excellent until it falls apart: The top part of the handle connects to the body of the machine by way of a weak piece of plastic that appears to be no more than a sixteenth of an inch thick.  That plastic connection easily breaks, at which time the handle falls off.  Epoxy glue might suffice to restore functionality.  Glue therefore is the remedy that I am going to try.  It is as if the manufacturer intentionally included a structural flaw, so that you would have to buy a new vacuum cleaner every year thereby assuring the manufacturer of your repeat business.'\n",
      " b\"Useless despite ratings: This vacuum is rated quite highly from others who have purchased it.  However, I found it to be nearly useless for my purposes. The charge was sufficient for my small home but there was not sufficient power to clean the carpet adequately and even though it was advertised to pick up dry cat food and clean hard floors my experience was the opposite. The vacuum sprayed the cat food over the floor and it did not pick up even smaller items.\\nI have purchased a similar vacuum which is far superior to the Hoover Lynx in cleaning ability, and with ease of use. My husband was a skeptic after my experience with the Lynx, but he loves the new vacuum, frequently commenting on how powerful it is and how fun it is to use.\\nBuyer beware of the high ratings on Amazon and the dealer sites for the Hoover Lynx vacuum.  I am pleased to report that Amazon maintained it's high standards for customer satisfaction and refunded the entire purchase price of this item.\"\n",
      " b'One Star: Parts missing, used return label. Murphy was here.'\n",
      " b'Five Stars: Very satisfied'\n",
      " b'Adequate: This cleaner does an adequate job of cleaning carpet but is not at all easy or convenient to use.  Multiple parts, no handles on the tanks or the machine itself, seal in tank broke after one use.  Fortunately, it still removes water from the carpet.  Very poorly engineered.'\n",
      " b\"Complete crap product: Assembly instructions are horrible. Thank goodness for the Internet and videos. Doesn't suck, so rug is wet and an hour troubleshooting this did not help. It's going to the dump and I am on my way to Home Depot for an industrial shop vac to try to salvage my rug. Save yourself time money and angst.\"\n",
      " b'Big Big POS, Stay away: I have purchased a lot of different cleaning machines over the years, even a few hoovers that were much better made than this. How ever this machine is so poorly designed and made of such flimsy material that if it did not break the very first time one used it, I would be totally shocked.\\n\\n The deployment of the dirty water container is such that I can see about 7 different ways where it will leak and be a problem in a very short time.  The hand attachment hose is not, I repeat is not permanently attached to the machine, but rather attached by removing the lid to the dirty water tank, then pulling up and out on the flimsy piece of plastic that connects the tank to the front floor suction section, then fitted in a slot where the front suction connector use to be and held into place with the lid of the tank that has very little other then a cheap brittle piece of plastic tang to hold it in place and will be one of the first things I suspect that will be broken on this machine.  Take my advice and stay far away from this machine.  Spend the money for a Bissell or better  yet rent a rug doctor or hire a carpet cleaner.\\n\\nAlso  because the return of the machine was due to my dissatisfaction rather then a problem with shipping damage and or missing pieces, broken parts or defective machine, I was charged for the cost to ship it back.  So keep that in mind also.'\n",
      " b'Excellent !: Super value and quality!'\n",
      " b\"it worked wonderfully BUT it didn't last very long: I thought this vacuum would have served us more then 1 MONTH!! Now the handle keeps popping off and the vacuum makes a loud squeaking sound. I typically do not write reviews, but I want to save someone from purchasing this vacuum. When we first started using it, it worked wonderfully BUT it didn't last very long. We own a motel and we use this vacuum to clean up in our lounge (which does not get dirty, but we need to occasionally vacuum to keep the area clean looking).\"\n",
      " b'clean water and dirty water then the ones on other cleaners: Works well, I prefer the way this system separates the cleaning solution, clean water and dirty water then the ones on other cleaners.'\n",
      " b'though it works better with the beater bar running: This is really a toy of a vacuum, to be honest.  It will SORT OF pick up dust and debris off the floor, though it works better with the beater bar running, even on hard floors.  So, it\\'s more like a very expensive floor sweeper, rather than a vacuum.  Very annoying \"features\" like a very sticky head tilt so the head will be off the floor rather than down doing its job.  The dust cup falls off frequently when you go from one surface to another, OR when you pick it up and place it down in a new place.  Just falls out and clatters onto the floor.\\n\\nIt is convenient since it\\'s cordless - it would be even more convenient if it did the job you expect of a vacuum:  suck stuff up.'\n",
      " b\"****3 months past warranty: ****Update 3 Months out of Warranty****\\n\\n3 months past Manufacturors Warranty the Clean Water Resivoir is leaking straight through the hose, and onto the floor. We currently have no idea why, and will be trying to fix it ourselves.\\nIt was working perfectly fine last time we used it, and was stored completely empty in the house. Same room as our parrots, so no freezing temps or anything like that. IF we are unable to fix on our own (we found a site called partswarehouse that lets us look up all the parts by model # with a easy to read diagram) we will then update again because traveling to a vacuum repair shop is not do-able for us in our situation, & we will be back on the market for a new carpet scrubbing machine.\\nHowever if we do sucessfully repair on our own using the site we listed to at least find the part number, & all goes well we will not be updating until further incident/we replace it with a fancy model. We are going to leave the stars at a 2 because the owner manual does not list any parts numbers, or anything related to gasket failures which is going to be pretty common when you are using a liquid + cleaners on rubber/plastic pieces. That being said because we have taken care of it - there should be no failures less than 3 yrs later at this price point. We are very disappointed in the machine, the lack of information provided on troubleshooting, parts numbers, and human help - especially when you consider many of us do not live near a vacuum repair shop. We specifically bought the cleaner because our town is actually so small we can not rent a carpet cleaner, & with a house full of boys, & pets we need it on occasion, & as a carpet general cleaning.\\n\\n****We are very, very disappointed, and at this point do NOT recommend this particular model.\\n\\nI LOVE, LOVE, LOVE this cleaner!!\\nI have 3 very social  very active boys and 1 girl with friends always over, an Ironworker for a husband, 3 very large & 1 small dogs plus acres of grass, mud, dirt, and livestock out in the country. My carpets take a beating to say the least!\\nI love that the cleaner is always on hand, and I love that is does a great job!\\n\\n My only complaint is that the suction portion that actually makes contact with the carpet is kind of wobbly. Not so much that it's a real complaint, and when the bottom bucket is fit in exactly (another area that could use improvement, but then it might not fit back in as easily as it does) it doesn't wobble as much.\\n\\nI was a little surprised by the size of it as I have been accustomed to the giant, heavy, cumbersome carpet shampooers, but performance has not effected it's performance, and I find it more agile than the others, plus it's not as heavy, and does not require as much storage space (space is at a premium in our house for sure). So I have come to love it's smaller size even though I was initially a little wary it would be able to work as well as the others - it's actually works better by being easily moved about a room of furniture, and no loss I performance!\\n\\nThe shampooer has excellent scrubbing abilities too!\\n We had one spot that prompted this purchase where our 126lb American Bully XXL, and our English Bulldog just love to chew ip their smoked bones, and treats. Which also happens to be the most walked on piece of carpet in our house. I could not get it all broke down, and clean by hand. There was also no way a carpet steamer would get it clean (plus with kids, and the fact that we don't have wool carpeting a shampooer was/is the only way to go -steamers are useless to us), so a good shampooer is right up our alley. Anywho - this cleaner completely cleaned it up immediately. No coming back later, it was basically effortless.\\n\\nI have used both premixed carpet shampoos, all kinds of them. They have been fantastic, but these days I mix my own, & it works better than most, and as good as the best. We save a lot of money this way.\\nI like to clean it out (much, much easier than most machines) after doing a room, or two, and loading it up with my mix so I have it ready to go for individual messes as needed (although it does it's best job with hot water I am a very busy Mom) Of course bare in mind we have a lot of messes, and it doesn't sit for weeks, or months at a time. \\n\\nBecause of the dogs I also like to shampoo the carpets prior to any toddlers visiting, and my carpets will dry overnight without a problem, the suction on the shampooer is great, and removes most of the water if you do it right, and pull back over the wet areas slowly.\\n\\nI am also a great fan of the rinse option as it takes all of the shampoo residue, and my carpets stay cleaner longer! Which is always a bonus!\\n\\n******* I definitely recommend this shampooer, and if mine is ever broken I will be purchasing it again.\\nA must have if you have kids/pets, or are just a clean carpet fanatic like myself!*****\\n\\nP.S. I am writing this review nearly a year after purchase. My shampooer still works as though brand new just out of the box!\"\n",
      " b'Five Stars: My new best friend!'\n",
      " b\"Piece of Junk: The vac stopped working after two months (one use). The vac no longer sucks water after dispensing it. I'll be contacting Hoover to see what they can do.\"\n",
      " b'Steam Vac: Awesome machine!!! My mother had Hoover products and she had many years of service from them. This does a great job on my carpeted floors in my 14x70 single wide mobile home. It\\'s not a \"trailer\"! Any who... since carpeting is throughout this \"home\" (excluding the kitchen & bathroom) it gets dirty often and the Hoover SteamVac does a great job getting all the dirt out. The separate dirty water tank is really easy to empty. So is the clean water tank and the cup/cap is helpful at getting the right amount of detergent in the clean water tank. And it comes with a nozzle cleaning tool for the main floor nozzle. Helps to remove the lint build-up. Really like the removable counter-rotating brushes. makes it really easy to clean them. It\\'s a well made machine. I see most of the motors (pump, floor brush & handheld brush) are vacuum type which reduce the extra consumption of electricity.'\n",
      " b'hoover linx cordles stick: Week suction.  Poor choice on my part.  Clogs quickly with pet hair, etc.  Maybe best used on bare floors.  My error.'\n",
      " b'Cleans just ok.: Too small in width for a large area. And the float locks up the water too early. Miss my older larger model.'\n",
      " b\"If you have hard floors- get the Linx!: This is my second Hoover Link- the first one is almost two years old and still works like the day I bought it.  I got a second for upstairs. Very maneuverable around corners and edges, excellent suction, great battery life and quick charging.  No complaints whatsoever - and i live in the desert, in a dust bowl, so these little guys get lots of action!  I use them every single day.  I  had the Dyson cordless but didn't feel it was any better and i disliked having to constantly hold the button, and the price, so it went back and the Hoover stayed!  I do have two big Dysons for carpet and deeper cleanings though.\"\n",
      " b\"Very easy to use and carpet is very clean!: We bought this steam vac for my mother-in-law since my husband broke her other hoover steam vac. We're quite happy to hear that she liked this hoover steam vac because it is easier for her to use and it is lighter than the old one. So with this, I want to try the steam vac in my own house to see if it is worth owning one. So I tried to do my daughter's room. It cleans pretty well! I am quite surprised on how it was able to make the carpet look brand new. And it is dryer than the old hoover ( though I still add alcohol to the water when rinsing to help evaporation).\\n\\nThe only issue I have is that it is using a lot of detergent. After reading online if this is an issue, someone gave a really good idea. Just plain water in wash mode first. Then wash mode with detergent/solution. Then rinse.\\n It seems more work but worth it. Just washing with water took out some of the dirt already. Then with detergent, the dirt were basically ready to come out. I rinse the carpet twice just to be sure it is soap free.\\n\\nSo I will definitely buy this one again. Very handy and easy to use.\"], shape=(32,), dtype=string) \n",
      "\n",
      " tf.Tensor([1 1 0 1 0 0 1 1 0 0 1 0 0 1 1 1 0 1 1 1 0 1 0 1 1 0 1 0 1 1 0 0], shape=(32,), dtype=int64)\n"
     ]
    }
   ],
   "source": [
    "# taking a sample - now 32 observations instead of 1\n",
    "example_X, example_y= train_ds.take(1).get_single_element()\n",
    "print(example_X,'\\n\\n',example_y)\n"
   ]
  },
  {
   "cell_type": "code",
   "execution_count": null,
   "id": "d926f35b-8fa9-4e77-a116-fe67068c8d24",
   "metadata": {},
   "outputs": [],
   "source": []
  }
 ],
 "metadata": {
  "kernelspec": {
   "display_name": "Python (dojo-env)",
   "language": "python",
   "name": "dojo-env"
  },
  "language_info": {
   "codemirror_mode": {
    "name": "ipython",
    "version": 3
   },
   "file_extension": ".py",
   "mimetype": "text/x-python",
   "name": "python",
   "nbconvert_exporter": "python",
   "pygments_lexer": "ipython3",
   "version": "3.10.10"
  }
 },
 "nbformat": 4,
 "nbformat_minor": 5
}
