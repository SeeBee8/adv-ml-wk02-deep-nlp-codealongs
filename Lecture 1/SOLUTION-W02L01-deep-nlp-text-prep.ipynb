{
 "cells": [
  {
   "cell_type": "markdown",
   "id": "69383602-32d0-44b4-86d5-a29d46674555",
   "metadata": {},
   "source": [
    "# SOLUTION Advanced ML Week 3, Lecture 1: Text Vectorization - Sequences"
   ]
  },
  {
   "cell_type": "code",
   "execution_count": 1,
   "id": "d36b5806-1bf5-4c55-8e39-3f9159e26d1a",
   "metadata": {
    "execution": {
     "iopub.execute_input": "2024-01-05T03:02:48.954570Z",
     "iopub.status.busy": "2024-01-05T03:02:48.954482Z",
     "iopub.status.idle": "2024-01-05T03:02:48.960381Z",
     "shell.execute_reply": "2024-01-05T03:02:48.960098Z",
     "shell.execute_reply.started": "2024-01-05T03:02:48.954559Z"
    }
   },
   "outputs": [
    {
     "data": {
      "text/markdown": [
       "# Amazon Product Reviews\n",
       "\n",
       "- URL: https://cseweb.ucsd.edu/~jmcauley/datasets.html#amazon_reviews \n",
       "\n",
       "## Description\n",
       "\n",
       "This is a large crawl of product reviews from Amazon. This dataset contains 82.83 million unique reviews, from around 20 million users.\n",
       "\n",
       "## Basic statistics\n",
       "\n",
       "| Ratings:  | 82.83 million        |\n",
       "| --------- | -------------------- |\n",
       "| Users:    | 20.98 million        |\n",
       "| Items:    | 9.35 million         |\n",
       "| Timespan: | May 1996 - July 2014 |\n",
       "\n",
       "## Metadata\n",
       "\n",
       "- reviews and ratings\n",
       "- item-to-item relationships (e.g. \"people who bought X also bought Y\")\n",
       "- timestamps\n",
       "- helpfulness votes\n",
       "- product image (and CNN features)\n",
       "- price\n",
       "- category\n",
       "- salesRank\n",
       "\n",
       "## Example\n",
       "\n",
       "```\n",
       "{  \"reviewerID\": \"A2SUAM1J3GNN3B\",  \"asin\": \"0000013714\",  \"reviewerName\": \"J. McDonald\",  \"helpful\": [2, 3],  \"reviewText\": \"I bought this for my husband who plays the piano.  He is having a wonderful time playing these old hymns.  The music  is at times hard to read because we think the book was published for singing from more than playing from.  Great purchase though!\",  \"overall\": 5.0,  \"summary\": \"Heavenly Highway Hymns\",  \"unixReviewTime\": 1252800000,  \"reviewTime\": \"09 13, 2009\" }\n",
       "```\n",
       "\n",
       "## Download link\n",
       "\n",
       "See the [Amazon Dataset Page](https://cseweb.ucsd.edu/~jmcauley/datasets/amazon_v2/) for download information.\n",
       "\n",
       "The 2014 version of this dataset is [also available](https://cseweb.ucsd.edu/~jmcauley/datasets/amazon/links.html).\n",
       "\n",
       "## Citation\n",
       "\n",
       "Please cite the following if you use the data:\n",
       "\n",
       "**Ups and downs: Modeling the visual evolution of fashion trends with one-class collaborative filtering**\n",
       "\n",
       "R. He, J. McAuley\n",
       "\n",
       "*WWW*, 2016\n",
       "[pdf](https://cseweb.ucsd.edu/~jmcauley/pdfs/www16a.pdf)\n",
       "\n",
       "**Image-based recommendations on styles and substitutes**\n",
       "\n",
       "J. McAuley, C. Targett, J. Shi, A. van den Hengel\n",
       "\n",
       "*SIGIR*, 2015\n",
       "[pdf](https://cseweb.ucsd.edu/~jmcauley/pdfs/sigir15.pdf)"
      ],
      "text/plain": [
       "<IPython.core.display.Markdown object>"
      ]
     },
     "metadata": {},
     "output_type": "display_data"
    }
   ],
   "source": [
    "from IPython.display import display, Markdown\n",
    "with open(\"../Data-AmazonReviews/Amazon Product Reviews.md\") as f:\n",
    "    display(Markdown(f.read()))"
   ]
  },
  {
   "cell_type": "code",
   "execution_count": 2,
   "id": "d1f7e2ff-dcf2-4b44-addc-6215aa8a9223",
   "metadata": {
    "execution": {
     "iopub.execute_input": "2024-01-05T03:02:48.961724Z",
     "iopub.status.busy": "2024-01-05T03:02:48.961634Z",
     "iopub.status.idle": "2024-01-05T03:02:52.093178Z",
     "shell.execute_reply": "2024-01-05T03:02:52.092843Z",
     "shell.execute_reply.started": "2024-01-05T03:02:48.961716Z"
    }
   },
   "outputs": [],
   "source": [
    "import tensorflow as tf\n",
    "import numpy as np\n",
    "# Then Set Random Seeds\n",
    "tf.keras.utils.set_random_seed(42)\n",
    "tf.random.set_seed(42)\n",
    "np.random.seed(42)\n",
    "# Then run the Enable Deterministic Operations Function\n",
    "tf.config.experimental.enable_op_determinism()\n",
    "\n",
    "# MacOS Sonoma Fix\n",
    "tf.config.set_visible_devices([], 'GPU')"
   ]
  },
  {
   "cell_type": "code",
   "execution_count": 3,
   "id": "89879753-84c6-40cb-a2a8-8d6e7221cdf3",
   "metadata": {
    "execution": {
     "iopub.execute_input": "2024-01-05T03:02:52.093796Z",
     "iopub.status.busy": "2024-01-05T03:02:52.093623Z",
     "iopub.status.idle": "2024-01-05T03:02:53.003538Z",
     "shell.execute_reply": "2024-01-05T03:02:53.003173Z",
     "shell.execute_reply.started": "2024-01-05T03:02:52.093787Z"
    }
   },
   "outputs": [],
   "source": [
    "import pandas as pd \n",
    "import seaborn as sns\n",
    "\n",
    "import pandas as pd\n",
    "import matplotlib.pyplot as plt\n",
    "import seaborn as sns\n",
    "import numpy as np\n",
    "\n",
    "\n",
    "from tensorflow.keras.layers import TextVectorization\n",
    "from tensorflow.keras import layers\n",
    "from tensorflow.keras import optimizers\n",
    "\n",
    "from sklearn.model_selection import train_test_split\n",
    "from sklearn.pipeline import make_pipeline, Pipeline\n",
    "from sklearn.model_selection import GridSearchCV\n",
    "from imblearn.under_sampling import RandomUnderSampler\n",
    "from sklearn.preprocessing import LabelEncoder\n",
    "from sklearn import set_config\n",
    "set_config(transform_output='pandas')\n",
    "pd.set_option('display.max_colwidth', 250)\n",
    "\n"
   ]
  },
  {
   "cell_type": "code",
   "execution_count": 4,
   "id": "8b67cf1a-97b6-4d3b-b103-694e4a6c6c29",
   "metadata": {
    "execution": {
     "iopub.execute_input": "2024-01-05T03:02:53.004355Z",
     "iopub.status.busy": "2024-01-05T03:02:53.004123Z",
     "iopub.status.idle": "2024-01-05T03:02:53.234376Z",
     "shell.execute_reply": "2024-01-05T03:02:53.234082Z",
     "shell.execute_reply.started": "2024-01-05T03:02:53.004343Z"
    }
   },
   "outputs": [
    {
     "name": "stdout",
     "output_type": "stream",
     "text": [
      "<class 'pandas.core.frame.DataFrame'>\n",
      "Int64Index: 8191 entries, 0 to 8256\n",
      "Data columns (total 10 columns):\n",
      " #   Column             Non-Null Count  Dtype  \n",
      "---  ------             --------------  -----  \n",
      " 0   overall            8191 non-null   float64\n",
      " 1   text-raw           8191 non-null   object \n",
      " 2   length             8191 non-null   int64  \n",
      " 3   text               8191 non-null   object \n",
      " 4   lower_text         8191 non-null   object \n",
      " 5   tokens             8191 non-null   object \n",
      " 6   no_stops           8191 non-null   object \n",
      " 7   no_stops_no_punct  8191 non-null   object \n",
      " 8   spacy_lemmas       8191 non-null   object \n",
      " 9   bigrams            8191 non-null   object \n",
      "dtypes: float64(1), int64(1), object(8)\n",
      "memory usage: 703.9+ KB\n"
     ]
    },
    {
     "data": {
      "text/html": [
       "<div>\n",
       "<style scoped>\n",
       "    .dataframe tbody tr th:only-of-type {\n",
       "        vertical-align: middle;\n",
       "    }\n",
       "\n",
       "    .dataframe tbody tr th {\n",
       "        vertical-align: top;\n",
       "    }\n",
       "\n",
       "    .dataframe thead th {\n",
       "        text-align: right;\n",
       "    }\n",
       "</style>\n",
       "<table border=\"1\" class=\"dataframe\">\n",
       "  <thead>\n",
       "    <tr style=\"text-align: right;\">\n",
       "      <th></th>\n",
       "      <th>overall</th>\n",
       "      <th>text-raw</th>\n",
       "      <th>length</th>\n",
       "      <th>text</th>\n",
       "      <th>lower_text</th>\n",
       "      <th>tokens</th>\n",
       "      <th>no_stops</th>\n",
       "      <th>no_stops_no_punct</th>\n",
       "      <th>spacy_lemmas</th>\n",
       "      <th>bigrams</th>\n",
       "    </tr>\n",
       "  </thead>\n",
       "  <tbody>\n",
       "    <tr>\n",
       "      <th>0</th>\n",
       "      <td>4.0</td>\n",
       "      <td>Not going to show you the dirty water on here because I have shame and it ...: Used it twice already and I have absolutely seen results. Not going to show you the dirty water on here because I have shame and it is gross. I will say that while you...</td>\n",
       "      <td>672</td>\n",
       "      <td>Not going to show you the dirty water on here because I have shame and it ...: Used it twice already and I have absolutely seen results. Not going to show you the dirty water on here because I have shame and it is gross. I will say that while you...</td>\n",
       "      <td>not going to show you the dirty water on here because i have shame and it ...: used it twice already and i have absolutely seen results. not going to show you the dirty water on here because i have shame and it is gross. i will say that while you...</td>\n",
       "      <td>[not, going, to, show, you, the, dirty, water, on, here, because, i, have, shame, and, it, ..., :, used, it, twice, already, and, i, have, absolutely, seen, results, ., not, going, to, show, you, the, dirty, water, on, here, because, i, have, sha...</td>\n",
       "      <td>[going, show, dirty, water, shame, ..., :, used, twice, already, absolutely, seen, results, ., going, show, dirty, water, shame, gross, ., say, 're, cleaning, ,, leave, place, second, (, instance, ,, 're, moving, plug, new, outlet, ), ,, leak, li...</td>\n",
       "      <td>[going, show, dirty, water, shame, ..., used, twice, already, absolutely, seen, results, going, show, dirty, water, shame, gross, say, 're, cleaning, leave, place, second, instance, 're, moving, plug, new, outlet, leak, little, water, part, sucks...</td>\n",
       "      <td>[go, dirty, water, shame, twice, absolutely, see, result, go, dirty, water, shame, gross, clean, leave, place, second, instance, move, plug, new, outlet, leak, little, water, suck, upward, big, deal, suck, right, happen, end, cleaning, remove, ta...</td>\n",
       "      <td>[(go, dirty), (dirty, water), (water, shame), (shame, twice), (twice, absolutely), (absolutely, see), (see, result), (result, go), (go, dirty), (dirty, water), (water, shame), (shame, gross), (gross, clean), (clean, leave), (leave, place), (place...</td>\n",
       "    </tr>\n",
       "    <tr>\n",
       "      <th>1</th>\n",
       "      <td>5.0</td>\n",
       "      <td>Makes carpet look brand new!!!: When you get the shampooer you have to put it together but is very easy...the handle is the only thing that you have to attach...\\n\\n My carpets were very dirty because I have 2 small dogs that go in and hour all d...</td>\n",
       "      <td>1021</td>\n",
       "      <td>Makes carpet look brand new!!!: When you get the shampooer you have to put it together but is very easy...the handle is the only thing that you have to attach...\\n\\n My carpets were very dirty because I have 2 small dogs that go in and hour all d...</td>\n",
       "      <td>makes carpet look brand new!!!: when you get the shampooer you have to put it together but is very easy...the handle is the only thing that you have to attach...\\n\\n my carpets were very dirty because i have 2 small dogs that go in and hour all d...</td>\n",
       "      <td>[makes, carpet, look, brand, new, !, !, !, :, when, you, get, the, shampooer, you, have, to, put, it, together, but, is, very, easy, ..., the, handle, is, the, only, thing, that, you, have, to, attach, ..., my, carpets, were, very, dirty, because...</td>\n",
       "      <td>[makes, carpet, look, brand, new, !, !, !, :, get, shampooer, put, together, easy, ..., handle, thing, attach, ..., carpets, dirty, 2, small, dogs, go, hour, day, ..., 1st, day, got, shampoo, shampooed, entire, house, made, huge, difference, ., w...</td>\n",
       "      <td>[makes, carpet, look, brand, new, get, shampooer, put, together, easy, ..., handle, thing, attach, ..., carpets, dirty, 2, small, dogs, go, hour, day, ..., 1st, day, got, shampoo, shampooed, entire, house, made, huge, difference, week, later, dow...</td>\n",
       "      <td>[make, carpet, look, brand, new, shampooer, easy, handle, thing, attach, carpet, dirty, 2, small, dog, hour, day, 1st, day, get, shampoo, shampoo, entire, house, huge, difference, week, later, downstair, dirt, carpet, shampoo, carpet, look, brian...</td>\n",
       "      <td>[(make, carpet), (carpet, look), (look, brand), (brand, new), (new, shampooer), (shampooer, easy), (easy, handle), (handle, thing), (thing, attach), (attach, carpet), (carpet, dirty), (dirty, 2), (2, small), (small, dog), (dog, hour), (hour, day)...</td>\n",
       "    </tr>\n",
       "    <tr>\n",
       "      <th>2</th>\n",
       "      <td>4.0</td>\n",
       "      <td>I Got What I Paid For: After getting an estimate on how much it would cost to have a \"professional\" clean our sofa &amp; love seat I decided to do it myself, so purchased this cleaner.  I chose this Hoover based on the many Amazon reviews I read, pri...</td>\n",
       "      <td>3016</td>\n",
       "      <td>I Got What I Paid For: After getting an estimate on how much it would cost to have a \"professional\" clean our sofa &amp; love seat I decided to do it myself, so purchased this cleaner.  I chose this Hoover based on the many Amazon reviews I read, pri...</td>\n",
       "      <td>i got what i paid for: after getting an estimate on how much it would cost to have a \"professional\" clean our sofa &amp; love seat i decided to do it myself, so purchased this cleaner.  i chose this hoover based on the many amazon reviews i read, pri...</td>\n",
       "      <td>[i, got, what, i, paid, for, :, after, getting, an, estimate, on, how, much, it, would, cost, to, have, a, ``, professional, '', clean, our, sofa, &amp;, love, seat, i, decided, to, do, it, myself, ,, so, purchased, this, cleaner, ., i, chose, this, ...</td>\n",
       "      <td>[got, paid, :, getting, estimate, much, would, cost, ``, professional, '', clean, sofa, &amp;, love, seat, decided, ,, purchased, cleaner, ., chose, hoover, based, many, amazon, reviews, read, ,, price, ,, reputation, maker, ., arrived, time, ,, pack...</td>\n",
       "      <td>[got, paid, getting, estimate, much, would, cost, ``, professional, '', clean, sofa, love, seat, decided, purchased, cleaner, chose, hoover, based, many, amazon, reviews, read, price, reputation, maker, arrived, time, packaging, great, thanks, am...</td>\n",
       "      <td>[got, pay, get, estimate, cost, professional, clean, sofa, love, seat, decide, purchase, cleaner, choose, hoover, base, amazon, review, read, price, reputation, maker, arrive, time, packaging, great, thank, amazon, cleaner, brand, new, condition,...</td>\n",
       "      <td>[(got, pay), (pay, get), (get, estimate), (estimate, cost), (cost, professional), (professional, clean), (clean, sofa), (sofa, love), (love, seat), (seat, decide), (decide, purchase), (purchase, cleaner), (cleaner, choose), (choose, hoover), (hoo...</td>\n",
       "    </tr>\n",
       "    <tr>\n",
       "      <th>3</th>\n",
       "      <td>4.0</td>\n",
       "      <td>Read tips before use, but overall great product: I purchased this Hoover carpet cleaner, because of all the great reviews on here.  I really like this carpet cleaner, and it really helped my poor tan colored carpet.  I have a dog, two cats, toddl...</td>\n",
       "      <td>995</td>\n",
       "      <td>Read tips before use, but overall great product: I purchased this Hoover carpet cleaner, because of all the great reviews on here.  I really like this carpet cleaner, and it really helped my poor tan colored carpet.  I have a dog, two cats, toddl...</td>\n",
       "      <td>read tips before use, but overall great product: i purchased this hoover carpet cleaner, because of all the great reviews on here.  i really like this carpet cleaner, and it really helped my poor tan colored carpet.  i have a dog, two cats, toddl...</td>\n",
       "      <td>[read, tips, before, use, ,, but, overall, great, product, :, i, purchased, this, hoover, carpet, cleaner, ,, because, of, all, the, great, reviews, on, here, ., i, really, like, this, carpet, cleaner, ,, and, it, really, helped, my, poor, tan, c...</td>\n",
       "      <td>[read, tips, use, ,, overall, great, product, :, purchased, hoover, carpet, cleaner, ,, great, reviews, ., really, like, carpet, cleaner, ,, really, helped, poor, tan, colored, carpet, ., dog, ,, two, cats, ,, toddler, ,, husband, ,, personally, ...</td>\n",
       "      <td>[read, tips, use, overall, great, product, purchased, hoover, carpet, cleaner, great, reviews, really, like, carpet, cleaner, really, helped, poor, tan, colored, carpet, dog, two, cats, toddler, husband, personally, beverage, spiller, pros, high,...</td>\n",
       "      <td>[read, tip, use, overall, great, product, purchase, hoover, carpet, cleaner, great, review, like, carpet, cleaner, help, poor, tan, color, carpet, dog, cat, toddler, husband, personally, beverage, spiller, pro, high, suction, heavy, clean, con, c...</td>\n",
       "      <td>[(read, tip), (tip, use), (use, overall), (overall, great), (great, product), (product, purchase), (purchase, hoover), (hoover, carpet), (carpet, cleaner), (cleaner, great), (great, review), (review, like), (like, carpet), (carpet, cleaner), (cle...</td>\n",
       "    </tr>\n",
       "    <tr>\n",
       "      <th>4</th>\n",
       "      <td>1.0</td>\n",
       "      <td>VERY DISAPPOINTED: WORKED for maybe 1/2 hr and then it appeared the motor got hot and shut off and 10 secs later would start again and would work for 10 or 15 secs and quit again.......sending it back to HOOVER this week......I was VERY DISAPPOIN...</td>\n",
       "      <td>311</td>\n",
       "      <td>VERY DISAPPOINTED: WORKED for maybe 1/2 hr and then it appeared the motor got hot and shut off and 10 secs later would start again and would work for 10 or 15 secs and quit again.......sending it back to HOOVER this week......I was VERY DISAPPOIN...</td>\n",
       "      <td>very disappointed: worked for maybe 1/2 hr and then it appeared the motor got hot and shut off and 10 secs later would start again and would work for 10 or 15 secs and quit again.......sending it back to hoover this week......i was very disappoin...</td>\n",
       "      <td>[very, disappointed, :, worked, for, maybe, 1/2, hr, and, then, it, appeared, the, motor, got, hot, and, shut, off, and, 10, secs, later, would, start, again, and, would, work, for, 10, or, 15, secs, and, quit, again, ......., sending, it, back, ...</td>\n",
       "      <td>[disappointed, :, worked, maybe, 1/2, hr, appeared, motor, got, hot, shut, 10, secs, later, would, start, would, work, 10, 15, secs, quit, ......., sending, back, hoover, week, ......, disappointed, cause, reviews, good, ....., maybe, got, lemon,...</td>\n",
       "      <td>[disappointed, worked, maybe, 1/2, hr, appeared, motor, got, hot, shut, 10, secs, later, would, start, would, work, 10, 15, secs, quit, ......., sending, back, hoover, week, ......, disappointed, cause, reviews, good, ....., maybe, got, lemon]</td>\n",
       "      <td>[disappointed, worked, maybe, 1/2, hr, appear, motor, get, hot, shut, 10, sec, later, start, work, 10, 15, sec, quit, send, hoover, week, disappointed, cause, review, good, maybe, get, lemon]</td>\n",
       "      <td>[(disappointed, worked), (worked, maybe), (maybe, 1/2), (1/2, hr), (hr, appear), (appear, motor), (motor, get), (get, hot), (hot, shut), (shut, 10), (10, sec), (sec, later), (later, start), (start, work), (work, 10), (10, 15), (15, sec), (sec, qu...</td>\n",
       "    </tr>\n",
       "  </tbody>\n",
       "</table>\n",
       "</div>"
      ],
      "text/plain": [
       "   overall  \\\n",
       "0      4.0   \n",
       "1      5.0   \n",
       "2      4.0   \n",
       "3      4.0   \n",
       "4      1.0   \n",
       "\n",
       "                                                                                                                                                                                                                                                    text-raw  \\\n",
       "0  Not going to show you the dirty water on here because I have shame and it ...: Used it twice already and I have absolutely seen results. Not going to show you the dirty water on here because I have shame and it is gross. I will say that while you...   \n",
       "1  Makes carpet look brand new!!!: When you get the shampooer you have to put it together but is very easy...the handle is the only thing that you have to attach...\\n\\n My carpets were very dirty because I have 2 small dogs that go in and hour all d...   \n",
       "2  I Got What I Paid For: After getting an estimate on how much it would cost to have a \"professional\" clean our sofa & love seat I decided to do it myself, so purchased this cleaner.  I chose this Hoover based on the many Amazon reviews I read, pri...   \n",
       "3  Read tips before use, but overall great product: I purchased this Hoover carpet cleaner, because of all the great reviews on here.  I really like this carpet cleaner, and it really helped my poor tan colored carpet.  I have a dog, two cats, toddl...   \n",
       "4  VERY DISAPPOINTED: WORKED for maybe 1/2 hr and then it appeared the motor got hot and shut off and 10 secs later would start again and would work for 10 or 15 secs and quit again.......sending it back to HOOVER this week......I was VERY DISAPPOIN...   \n",
       "\n",
       "   length  \\\n",
       "0     672   \n",
       "1    1021   \n",
       "2    3016   \n",
       "3     995   \n",
       "4     311   \n",
       "\n",
       "                                                                                                                                                                                                                                                        text  \\\n",
       "0  Not going to show you the dirty water on here because I have shame and it ...: Used it twice already and I have absolutely seen results. Not going to show you the dirty water on here because I have shame and it is gross. I will say that while you...   \n",
       "1  Makes carpet look brand new!!!: When you get the shampooer you have to put it together but is very easy...the handle is the only thing that you have to attach...\\n\\n My carpets were very dirty because I have 2 small dogs that go in and hour all d...   \n",
       "2  I Got What I Paid For: After getting an estimate on how much it would cost to have a \"professional\" clean our sofa & love seat I decided to do it myself, so purchased this cleaner.  I chose this Hoover based on the many Amazon reviews I read, pri...   \n",
       "3  Read tips before use, but overall great product: I purchased this Hoover carpet cleaner, because of all the great reviews on here.  I really like this carpet cleaner, and it really helped my poor tan colored carpet.  I have a dog, two cats, toddl...   \n",
       "4  VERY DISAPPOINTED: WORKED for maybe 1/2 hr and then it appeared the motor got hot and shut off and 10 secs later would start again and would work for 10 or 15 secs and quit again.......sending it back to HOOVER this week......I was VERY DISAPPOIN...   \n",
       "\n",
       "                                                                                                                                                                                                                                                  lower_text  \\\n",
       "0  not going to show you the dirty water on here because i have shame and it ...: used it twice already and i have absolutely seen results. not going to show you the dirty water on here because i have shame and it is gross. i will say that while you...   \n",
       "1  makes carpet look brand new!!!: when you get the shampooer you have to put it together but is very easy...the handle is the only thing that you have to attach...\\n\\n my carpets were very dirty because i have 2 small dogs that go in and hour all d...   \n",
       "2  i got what i paid for: after getting an estimate on how much it would cost to have a \"professional\" clean our sofa & love seat i decided to do it myself, so purchased this cleaner.  i chose this hoover based on the many amazon reviews i read, pri...   \n",
       "3  read tips before use, but overall great product: i purchased this hoover carpet cleaner, because of all the great reviews on here.  i really like this carpet cleaner, and it really helped my poor tan colored carpet.  i have a dog, two cats, toddl...   \n",
       "4  very disappointed: worked for maybe 1/2 hr and then it appeared the motor got hot and shut off and 10 secs later would start again and would work for 10 or 15 secs and quit again.......sending it back to hoover this week......i was very disappoin...   \n",
       "\n",
       "                                                                                                                                                                                                                                                      tokens  \\\n",
       "0  [not, going, to, show, you, the, dirty, water, on, here, because, i, have, shame, and, it, ..., :, used, it, twice, already, and, i, have, absolutely, seen, results, ., not, going, to, show, you, the, dirty, water, on, here, because, i, have, sha...   \n",
       "1  [makes, carpet, look, brand, new, !, !, !, :, when, you, get, the, shampooer, you, have, to, put, it, together, but, is, very, easy, ..., the, handle, is, the, only, thing, that, you, have, to, attach, ..., my, carpets, were, very, dirty, because...   \n",
       "2  [i, got, what, i, paid, for, :, after, getting, an, estimate, on, how, much, it, would, cost, to, have, a, ``, professional, '', clean, our, sofa, &, love, seat, i, decided, to, do, it, myself, ,, so, purchased, this, cleaner, ., i, chose, this, ...   \n",
       "3  [read, tips, before, use, ,, but, overall, great, product, :, i, purchased, this, hoover, carpet, cleaner, ,, because, of, all, the, great, reviews, on, here, ., i, really, like, this, carpet, cleaner, ,, and, it, really, helped, my, poor, tan, c...   \n",
       "4  [very, disappointed, :, worked, for, maybe, 1/2, hr, and, then, it, appeared, the, motor, got, hot, and, shut, off, and, 10, secs, later, would, start, again, and, would, work, for, 10, or, 15, secs, and, quit, again, ......., sending, it, back, ...   \n",
       "\n",
       "                                                                                                                                                                                                                                                    no_stops  \\\n",
       "0  [going, show, dirty, water, shame, ..., :, used, twice, already, absolutely, seen, results, ., going, show, dirty, water, shame, gross, ., say, 're, cleaning, ,, leave, place, second, (, instance, ,, 're, moving, plug, new, outlet, ), ,, leak, li...   \n",
       "1  [makes, carpet, look, brand, new, !, !, !, :, get, shampooer, put, together, easy, ..., handle, thing, attach, ..., carpets, dirty, 2, small, dogs, go, hour, day, ..., 1st, day, got, shampoo, shampooed, entire, house, made, huge, difference, ., w...   \n",
       "2  [got, paid, :, getting, estimate, much, would, cost, ``, professional, '', clean, sofa, &, love, seat, decided, ,, purchased, cleaner, ., chose, hoover, based, many, amazon, reviews, read, ,, price, ,, reputation, maker, ., arrived, time, ,, pack...   \n",
       "3  [read, tips, use, ,, overall, great, product, :, purchased, hoover, carpet, cleaner, ,, great, reviews, ., really, like, carpet, cleaner, ,, really, helped, poor, tan, colored, carpet, ., dog, ,, two, cats, ,, toddler, ,, husband, ,, personally, ...   \n",
       "4  [disappointed, :, worked, maybe, 1/2, hr, appeared, motor, got, hot, shut, 10, secs, later, would, start, would, work, 10, 15, secs, quit, ......., sending, back, hoover, week, ......, disappointed, cause, reviews, good, ....., maybe, got, lemon,...   \n",
       "\n",
       "                                                                                                                                                                                                                                           no_stops_no_punct  \\\n",
       "0  [going, show, dirty, water, shame, ..., used, twice, already, absolutely, seen, results, going, show, dirty, water, shame, gross, say, 're, cleaning, leave, place, second, instance, 're, moving, plug, new, outlet, leak, little, water, part, sucks...   \n",
       "1  [makes, carpet, look, brand, new, get, shampooer, put, together, easy, ..., handle, thing, attach, ..., carpets, dirty, 2, small, dogs, go, hour, day, ..., 1st, day, got, shampoo, shampooed, entire, house, made, huge, difference, week, later, dow...   \n",
       "2  [got, paid, getting, estimate, much, would, cost, ``, professional, '', clean, sofa, love, seat, decided, purchased, cleaner, chose, hoover, based, many, amazon, reviews, read, price, reputation, maker, arrived, time, packaging, great, thanks, am...   \n",
       "3  [read, tips, use, overall, great, product, purchased, hoover, carpet, cleaner, great, reviews, really, like, carpet, cleaner, really, helped, poor, tan, colored, carpet, dog, two, cats, toddler, husband, personally, beverage, spiller, pros, high,...   \n",
       "4        [disappointed, worked, maybe, 1/2, hr, appeared, motor, got, hot, shut, 10, secs, later, would, start, would, work, 10, 15, secs, quit, ......., sending, back, hoover, week, ......, disappointed, cause, reviews, good, ....., maybe, got, lemon]   \n",
       "\n",
       "                                                                                                                                                                                                                                                spacy_lemmas  \\\n",
       "0  [go, dirty, water, shame, twice, absolutely, see, result, go, dirty, water, shame, gross, clean, leave, place, second, instance, move, plug, new, outlet, leak, little, water, suck, upward, big, deal, suck, right, happen, end, cleaning, remove, ta...   \n",
       "1  [make, carpet, look, brand, new, shampooer, easy, handle, thing, attach, carpet, dirty, 2, small, dog, hour, day, 1st, day, get, shampoo, shampoo, entire, house, huge, difference, week, later, downstair, dirt, carpet, shampoo, carpet, look, brian...   \n",
       "2  [got, pay, get, estimate, cost, professional, clean, sofa, love, seat, decide, purchase, cleaner, choose, hoover, base, amazon, review, read, price, reputation, maker, arrive, time, packaging, great, thank, amazon, cleaner, brand, new, condition,...   \n",
       "3  [read, tip, use, overall, great, product, purchase, hoover, carpet, cleaner, great, review, like, carpet, cleaner, help, poor, tan, color, carpet, dog, cat, toddler, husband, personally, beverage, spiller, pro, high, suction, heavy, clean, con, c...   \n",
       "4                                                            [disappointed, worked, maybe, 1/2, hr, appear, motor, get, hot, shut, 10, sec, later, start, work, 10, 15, sec, quit, send, hoover, week, disappointed, cause, review, good, maybe, get, lemon]   \n",
       "\n",
       "                                                                                                                                                                                                                                                     bigrams  \n",
       "0  [(go, dirty), (dirty, water), (water, shame), (shame, twice), (twice, absolutely), (absolutely, see), (see, result), (result, go), (go, dirty), (dirty, water), (water, shame), (shame, gross), (gross, clean), (clean, leave), (leave, place), (place...  \n",
       "1  [(make, carpet), (carpet, look), (look, brand), (brand, new), (new, shampooer), (shampooer, easy), (easy, handle), (handle, thing), (thing, attach), (attach, carpet), (carpet, dirty), (dirty, 2), (2, small), (small, dog), (dog, hour), (hour, day)...  \n",
       "2  [(got, pay), (pay, get), (get, estimate), (estimate, cost), (cost, professional), (professional, clean), (clean, sofa), (sofa, love), (love, seat), (seat, decide), (decide, purchase), (purchase, cleaner), (cleaner, choose), (choose, hoover), (hoo...  \n",
       "3  [(read, tip), (tip, use), (use, overall), (overall, great), (great, product), (product, purchase), (purchase, hoover), (hoover, carpet), (carpet, cleaner), (cleaner, great), (great, review), (review, like), (like, carpet), (carpet, cleaner), (cle...  \n",
       "4  [(disappointed, worked), (worked, maybe), (maybe, 1/2), (1/2, hr), (hr, appear), (appear, motor), (motor, get), (get, hot), (hot, shut), (shut, 10), (10, sec), (sec, later), (later, start), (start, work), (work, 10), (10, 15), (15, sec), (sec, qu...  "
      ]
     },
     "execution_count": 4,
     "metadata": {},
     "output_type": "execute_result"
    }
   ],
   "source": [
    "import joblib\n",
    "df = joblib.load('../Data-AmazonReviews/processed_data.joblib')\n",
    "df.info()\n",
    "df.head()"
   ]
  },
  {
   "cell_type": "code",
   "execution_count": 5,
   "id": "88999b3f-1b93-49ee-950b-9f0bdb426be0",
   "metadata": {
    "execution": {
     "iopub.execute_input": "2024-01-05T03:02:53.235090Z",
     "iopub.status.busy": "2024-01-05T03:02:53.234948Z",
     "iopub.status.idle": "2024-01-05T03:02:53.237025Z",
     "shell.execute_reply": "2024-01-05T03:02:53.236755Z",
     "shell.execute_reply.started": "2024-01-05T03:02:53.235079Z"
    }
   },
   "outputs": [],
   "source": [
    "def create_groups(x):\n",
    "    if x>=5.0:\n",
    "        return \"high\"\n",
    "    elif x <=2.0:\n",
    "        return \"low\"\n",
    "    else: \n",
    "        return None\n",
    "    "
   ]
  },
  {
   "cell_type": "markdown",
   "id": "292f5e92-f195-4ded-ac66-934ecb6644a2",
   "metadata": {},
   "source": [
    "To understand what customers do and do not like about Hoover products, we will define 2 groups:\n",
    "- High Ratings\n",
    "    - Overall rating = 5.0\n",
    "- Low Ratings\n",
    "    - Overall rating = 1.0 or 2.0\n",
    "\n",
    "\n",
    "We can use a function and .map to define group names based on the numeric overall ratings."
   ]
  },
  {
   "cell_type": "code",
   "execution_count": 6,
   "id": "9cda1d0b-e442-4f09-b334-c3397ab11834",
   "metadata": {
    "execution": {
     "iopub.execute_input": "2024-01-05T03:02:53.237828Z",
     "iopub.status.busy": "2024-01-05T03:02:53.237527Z",
     "iopub.status.idle": "2024-01-05T03:02:53.242506Z",
     "shell.execute_reply": "2024-01-05T03:02:53.242202Z",
     "shell.execute_reply.started": "2024-01-05T03:02:53.237817Z"
    }
   },
   "outputs": [
    {
     "data": {
      "text/plain": [
       "high    5547\n",
       "None    1832\n",
       "low      812\n",
       "Name: rating, dtype: int64"
      ]
     },
     "execution_count": 6,
     "metadata": {},
     "output_type": "execute_result"
    }
   ],
   "source": [
    "## Use the function to create a new \"rating\" column with groups\n",
    "df['rating'] = df['overall'].map(create_groups)\n",
    "df['rating'].value_counts(dropna=False)"
   ]
  },
  {
   "cell_type": "code",
   "execution_count": 7,
   "id": "5caeeaad-6db4-4dbf-a9e2-fcd3dfd30334",
   "metadata": {
    "execution": {
     "iopub.execute_input": "2024-01-05T03:02:53.244525Z",
     "iopub.status.busy": "2024-01-05T03:02:53.244398Z",
     "iopub.status.idle": "2024-01-05T03:02:53.247986Z",
     "shell.execute_reply": "2024-01-05T03:02:53.247573Z",
     "shell.execute_reply.started": "2024-01-05T03:02:53.244512Z"
    }
   },
   "outputs": [
    {
     "data": {
      "text/plain": [
       "high    0.872307\n",
       "low     0.127693\n",
       "Name: rating, dtype: float64"
      ]
     },
     "execution_count": 7,
     "metadata": {},
     "output_type": "execute_result"
    }
   ],
   "source": [
    "## Check class balance of 'rating'\n",
    "df['rating'].value_counts(normalize=True)"
   ]
  },
  {
   "cell_type": "code",
   "execution_count": 8,
   "id": "34a9010c-9582-42e3-b958-507c65ad08fd",
   "metadata": {
    "execution": {
     "iopub.execute_input": "2024-01-05T03:02:53.248605Z",
     "iopub.status.busy": "2024-01-05T03:02:53.248510Z",
     "iopub.status.idle": "2024-01-05T03:02:53.264761Z",
     "shell.execute_reply": "2024-01-05T03:02:53.264453Z",
     "shell.execute_reply.started": "2024-01-05T03:02:53.248597Z"
    }
   },
   "outputs": [
    {
     "data": {
      "text/plain": [
       "overall              0\n",
       "text-raw             0\n",
       "length               0\n",
       "text                 0\n",
       "lower_text           0\n",
       "tokens               0\n",
       "no_stops             0\n",
       "no_stops_no_punct    0\n",
       "spacy_lemmas         0\n",
       "bigrams              0\n",
       "rating               0\n",
       "dtype: int64"
      ]
     },
     "execution_count": 8,
     "metadata": {},
     "output_type": "execute_result"
    }
   ],
   "source": [
    "# Create a df_ml without null ratings\n",
    "df_ml = df.dropna(subset=['rating']).copy()\n",
    "df_ml.isna().sum()"
   ]
  },
  {
   "cell_type": "code",
   "execution_count": 9,
   "id": "2cd85e99-a07d-4475-9d20-134e1695c248",
   "metadata": {
    "execution": {
     "iopub.execute_input": "2024-01-05T03:02:53.265577Z",
     "iopub.status.busy": "2024-01-05T03:02:53.265409Z",
     "iopub.status.idle": "2024-01-05T03:02:53.269400Z",
     "shell.execute_reply": "2024-01-05T03:02:53.268975Z",
     "shell.execute_reply.started": "2024-01-05T03:02:53.265566Z"
    }
   },
   "outputs": [
    {
     "data": {
      "text/plain": [
       "1     Makes carpet look brand new!!!: When you get the shampooer you have to put it together but is very easy...the handle is the only thing that you have to attach...\\n\\n My carpets were very dirty because I have 2 small dogs that go in and hour all d...\n",
       "4     VERY DISAPPOINTED: WORKED for maybe 1/2 hr and then it appeared the motor got hot and shut off and 10 secs later would start again and would work for 10 or 15 secs and quit again.......sending it back to HOOVER this week......I was VERY DISAPPOIN...\n",
       "5                                                                 Perfect!: I love this cleaner!  It's easy to operate, light enough to manipulate and easy to clean. The tank holds plenty of shampoo and water solution and the suction for removal is great.\n",
       "6     Wow - way exceeded expectations: I had the older model from probably 2001 and it was great for the occasional pet stain or the muddy paw prints on white carpet situation, but it was not for routine cleaning.  It finally konked out so bought this ...\n",
       "7     Nice Carpet Machine!: This machine works really well, both putting out the solution and then sucking it back up.  The pieces to it are durable and fit well together.  It is not clumsy.  I shampooed my living room and family room carpet in about 2...\n",
       "8     Great Product: This steamvac is easy to use, does an excellent job.  Changing water is a breeze.  The scrub brushes really \"rough up\" the carpet to get it clean.  Seems to have done a better job than anything else I have used, since the carpet is...\n",
       "9     Not good for major clean ups: We've had to use this three times now - once was for generally sanitizing a reasonably clean carpet following a kiddie get-together. The second time was for a peeing incident and it worked less well. We could detect ...\n",
       "11    Great Value: We had not washed our carpets in years and this cleaner did a great job.  The liquid containers could be a bit bigger however for this price we have no complaints.  It cleaned up every spot and high traffic area.  I was impressed tha...\n",
       "12                                                                                                      Cleans good: Does a good job cleaning. I have had a few hoover cleaners over the years, this one is a little more simple but does what I need it to do.\n",
       "14    Easy to set up and use - and a reasonable price!: We needed to replace our very old canister green machine, which worked well but was a hassle to set up for use.  We considered the green machine upright but it was twice the price of this one, whi...\n",
       "Name: text, dtype: object"
      ]
     },
     "execution_count": 9,
     "metadata": {},
     "output_type": "execute_result"
    }
   ],
   "source": [
    "## X - Option A)  lemmas\n",
    "# def join_tokens(token_list):\n",
    "#     joined_tokens = ' '.join(token_list)\n",
    "#     return joined_tokens\n",
    "# X = df_ml['spacy_lemmas'].apply(join_tokens)\n",
    "\n",
    "# X - Option B) original raw text\n",
    "X = df_ml['text']\n",
    "\n",
    "# y - use our binary target \n",
    "y = df_ml['rating']\n",
    "X.head(10)"
   ]
  },
  {
   "cell_type": "code",
   "execution_count": 10,
   "id": "ea038ef0-08da-4dc5-b7b3-41f4652ca28d",
   "metadata": {
    "execution": {
     "iopub.execute_input": "2024-01-05T03:02:53.270050Z",
     "iopub.status.busy": "2024-01-05T03:02:53.269936Z",
     "iopub.status.idle": "2024-01-05T03:02:53.273904Z",
     "shell.execute_reply": "2024-01-05T03:02:53.273596Z",
     "shell.execute_reply.started": "2024-01-05T03:02:53.270041Z"
    }
   },
   "outputs": [
    {
     "data": {
      "text/plain": [
       "high    0.872307\n",
       "low     0.127693\n",
       "Name: rating, dtype: float64"
      ]
     },
     "execution_count": 10,
     "metadata": {},
     "output_type": "execute_result"
    }
   ],
   "source": [
    "y.value_counts(normalize=True)"
   ]
  },
  {
   "cell_type": "code",
   "execution_count": null,
   "id": "bde1fe33-1460-4d18-8ffe-8eb4ca9c6cee",
   "metadata": {},
   "outputs": [],
   "source": []
  },
  {
   "cell_type": "markdown",
   "id": "2486c413-1286-46df-b939-b6cc423e9b4e",
   "metadata": {},
   "source": [
    "## Train-Test-Split Version"
   ]
  },
  {
   "cell_type": "code",
   "execution_count": 11,
   "id": "5f9c6b64-a923-4bcd-a899-8d1c43181cd1",
   "metadata": {
    "execution": {
     "iopub.execute_input": "2024-01-05T03:02:53.274457Z",
     "iopub.status.busy": "2024-01-05T03:02:53.274366Z",
     "iopub.status.idle": "2024-01-05T03:02:53.278407Z",
     "shell.execute_reply": "2024-01-05T03:02:53.278125Z",
     "shell.execute_reply.started": "2024-01-05T03:02:53.274448Z"
    }
   },
   "outputs": [
    {
     "data": {
      "text/plain": [
       "(4451, 1908)"
      ]
     },
     "execution_count": 11,
     "metadata": {},
     "output_type": "execute_result"
    }
   ],
   "source": [
    "X_train_full, X_test, y_train_full, y_test = train_test_split(X, y, test_size=.3, random_state=42)\n",
    "len(X_train_full), len(X_test)"
   ]
  },
  {
   "cell_type": "markdown",
   "id": "8c5dc81c-53c6-486c-9beb-1ba5a86f6909",
   "metadata": {},
   "source": [
    "### Using Sklearn's LabelEncoder"
   ]
  },
  {
   "cell_type": "code",
   "execution_count": 12,
   "id": "f098d599-e5a0-4d07-b8aa-a61ae8659921",
   "metadata": {
    "execution": {
     "iopub.execute_input": "2024-01-05T03:02:53.278971Z",
     "iopub.status.busy": "2024-01-05T03:02:53.278865Z",
     "iopub.status.idle": "2024-01-05T03:02:53.281830Z",
     "shell.execute_reply": "2024-01-05T03:02:53.281533Z",
     "shell.execute_reply.started": "2024-01-05T03:02:53.278963Z"
    }
   },
   "outputs": [
    {
     "data": {
      "text/plain": [
       "3889    high\n",
       "3254    high\n",
       "2996    high\n",
       "3790    high\n",
       "3764    high\n",
       "7301    high\n",
       "2449    high\n",
       "430     high\n",
       "2296    high\n",
       "2321     low\n",
       "Name: rating, dtype: object"
      ]
     },
     "execution_count": 12,
     "metadata": {},
     "output_type": "execute_result"
    }
   ],
   "source": [
    "y_train_full[:10]"
   ]
  },
  {
   "cell_type": "code",
   "execution_count": 13,
   "id": "e4195576-f430-446b-853a-da86d2bf0322",
   "metadata": {
    "execution": {
     "iopub.execute_input": "2024-01-05T03:02:53.282456Z",
     "iopub.status.busy": "2024-01-05T03:02:53.282351Z",
     "iopub.status.idle": "2024-01-05T03:02:53.286712Z",
     "shell.execute_reply": "2024-01-05T03:02:53.286225Z",
     "shell.execute_reply.started": "2024-01-05T03:02:53.282446Z"
    }
   },
   "outputs": [
    {
     "data": {
      "text/plain": [
       "array([0, 0, 0, 0, 0, 0, 0, 0, 0, 1])"
      ]
     },
     "execution_count": 13,
     "metadata": {},
     "output_type": "execute_result"
    }
   ],
   "source": [
    "encoder = LabelEncoder()\n",
    "y_train_full_enc = encoder.fit_transform(y_train_full.values)\n",
    "y_test_enc = encoder.transform(y_test)\n",
    "\n",
    "y_train_full_enc[:10]"
   ]
  },
  {
   "cell_type": "code",
   "execution_count": 14,
   "id": "a2b8926d-f87c-40dd-b883-6ab44f054b16",
   "metadata": {
    "execution": {
     "iopub.execute_input": "2024-01-05T03:02:53.287500Z",
     "iopub.status.busy": "2024-01-05T03:02:53.287370Z",
     "iopub.status.idle": "2024-01-05T03:02:53.290627Z",
     "shell.execute_reply": "2024-01-05T03:02:53.290179Z",
     "shell.execute_reply.started": "2024-01-05T03:02:53.287489Z"
    }
   },
   "outputs": [
    {
     "data": {
      "text/plain": [
       "array(['high', 'low'], dtype=object)"
      ]
     },
     "execution_count": 14,
     "metadata": {},
     "output_type": "execute_result"
    }
   ],
   "source": [
    "# Original Class names saved as .classes_\n",
    "classes = encoder.classes_\n",
    "classes"
   ]
  },
  {
   "cell_type": "code",
   "execution_count": 15,
   "id": "a552b075-6d94-4ad7-8c05-025d60ac00c4",
   "metadata": {
    "execution": {
     "iopub.execute_input": "2024-01-05T03:02:53.291497Z",
     "iopub.status.busy": "2024-01-05T03:02:53.291394Z",
     "iopub.status.idle": "2024-01-05T03:02:53.294580Z",
     "shell.execute_reply": "2024-01-05T03:02:53.294168Z",
     "shell.execute_reply.started": "2024-01-05T03:02:53.291488Z"
    }
   },
   "outputs": [
    {
     "data": {
      "text/plain": [
       "array(['high', 'low'], dtype=object)"
      ]
     },
     "execution_count": 15,
     "metadata": {},
     "output_type": "execute_result"
    }
   ],
   "source": [
    "# Can inverse-transform \n",
    "encoder.inverse_transform([0,1])"
   ]
  },
  {
   "cell_type": "code",
   "execution_count": 16,
   "id": "25d98790-5804-4162-9e78-4b0b3ff8faa5",
   "metadata": {
    "execution": {
     "iopub.execute_input": "2024-01-05T03:02:53.298232Z",
     "iopub.status.busy": "2024-01-05T03:02:53.297671Z",
     "iopub.status.idle": "2024-01-05T03:02:53.300285Z",
     "shell.execute_reply": "2024-01-05T03:02:53.299997Z",
     "shell.execute_reply.started": "2024-01-05T03:02:53.298216Z"
    }
   },
   "outputs": [],
   "source": [
    "from imblearn.under_sampling import RandomUnderSampler\n",
    "\n",
    "# Instantiate a RandomUnderSampler\n",
    "sampler = RandomUnderSampler(random_state=42)"
   ]
  },
  {
   "cell_type": "code",
   "execution_count": 17,
   "id": "14d977d4-e6a1-4bf1-8b84-b50c216f0fbd",
   "metadata": {
    "execution": {
     "iopub.execute_input": "2024-01-05T03:02:53.300903Z",
     "iopub.status.busy": "2024-01-05T03:02:53.300795Z",
     "iopub.status.idle": "2024-01-05T03:02:53.304167Z",
     "shell.execute_reply": "2024-01-05T03:02:53.303821Z",
     "shell.execute_reply.started": "2024-01-05T03:02:53.300895Z"
    }
   },
   "outputs": [
    {
     "data": {
      "text/plain": [
       "ValueError('Expected 2D array, got 1D array instead:\\narray=[\\'Really like it!: Love this!  No more pulling out the vacuum cleaner from the garage and plugging it in 3 different places to get the whole room.  Suction is great, very compact and nice handling.  We will see if it holds up.  I did buy the extended warranty for 6 bucks due to some of the reviews.  But if I had to spend 100 on a new one every year I would.\\'\\n \\'which is awesome.: My last carpet cleaner broke so I bought this one after reading the reviews. It cleans very well! My carpet dries in about 30 minutes, which is awesome.\\'\\n \\'seriously powerful: This is our second of these vacuums- we liked the first so much that we decided to get a second one for the second floor of our house.  This is the only \"stick vac\" we have found that can compete with our Dyson. We have four cats, three birds, and a ten year old daughter with very long hair, plus a garden we track leaves and dirt in from, so we\\\\\\'re constantly (and I do mean constantly- at least twice a day) thoroughly vacuuming- I mean, going over the whole house. We usually do our big daily vacuuming of the whole house with the Dyson, but it\\\\\\'s a beast, and it\\\\\\'s not ideal for quick clean ups or, or lugging up the stairs, or doing what we call, \"zip ups\" throughout the day. This is the FIRST stick vac we have had that actually gets up all the hair plus any bird seed and dried leaves, and can make it through our whole house on a charge and continue to work powerfully. It\\\\\\'s also fairly lightweight (but not feather weight).\\\\n\\\\nIt would be nice if there was on board charging- that\\\\\\'s the ONLY major flaw with this vacuum- you have to take the battery out and put it in the charger to get a charge. And you\\\\\\'re not supposed to keep it in the charger, so you have to babysit the battery all the time. It\\\\\\'s be nice to have on-board charging, but alas...\\\\n\\\\nregardless, it\\\\\\'s the best lightweight vacuum we have found and we like it so much we now own two, and they regularly compete with the Dyson. I can\\\\\\'t recommend it enough.\\'\\n ...\\n \"No clean vacuum cleaner: Hard to get it to pick up the dog hair & sand. Dog hair clogs the opening which in turn won\\'t let it pick up the sand. I have to run across a rug to get the dog hair off so I can get what little sand it will pick up. Even with low cost, not worth the money.\"\\n \"Works great!: Works great.  So far I\\'ve used it 3 different times.  I\\'ve cleaned my carpets on 2 different days and furniture another day.  I noticed the most difference on the furniture (mostly because our carpets are dark brown shag and you can\\'t tell when they\\'re dirty) .  The spinning upholstery brush works great!  I did make the mistake of scrubbing cat throw up off the couch with the spin brush and I guess a granule got caught in the spin gears and it stopped spinning.  My husband was able to take it apart and get the grain out and it worked fine again.  So it\\'s important to vacuum any particles up before using the spin brush, but the other upholstery attachment had no issue sucking gobs of cat hair off the furniture.\\\\nI had no issues assembling the machine or with anything leaking.  Already went through the bottle of cleaning solution that came with it, but it was a small bottle.  I probably got 7-10 fills out of that bottle.  The instructions say to place the machine on a hard surface and let it suck up clean water to clean out the front suction part.  Man, does it suck up water well!  You can\\'t tell on carpets other than seeing the water being sucked through the machine.  But on hard floors, the floors are practically dry!  Will be great to have if our basement leaks again.\\\\nI figured for the cost of renting a machine twice, I could just own my own.  After reading reviews on several different machines, I\\'m happy I got this one.\"\\n \\'Researched and Researched and Researched: Researched and researched and researched and this was the result.\\\\n\\\\nSatisfied am I with the slim size, significant suck, and decent battery performance.\\'].\\nReshape your data either using array.reshape(-1, 1) if your data has a single feature or array.reshape(1, -1) if it contains a single sample.')"
      ]
     },
     "metadata": {},
     "output_type": "display_data"
    }
   ],
   "source": [
    "try:\n",
    "    X_train, y_train = sampler.fit_resample(X_train_full,y_train_full_enc)\n",
    "except Exception as e:\n",
    "    display(e)"
   ]
  },
  {
   "cell_type": "code",
   "execution_count": 18,
   "id": "6e69b21c-e59a-44f2-9619-ec706e571518",
   "metadata": {
    "execution": {
     "iopub.execute_input": "2024-01-05T03:02:53.304900Z",
     "iopub.status.busy": "2024-01-05T03:02:53.304784Z",
     "iopub.status.idle": "2024-01-05T03:02:53.309157Z",
     "shell.execute_reply": "2024-01-05T03:02:53.308849Z",
     "shell.execute_reply.started": "2024-01-05T03:02:53.304890Z"
    }
   },
   "outputs": [
    {
     "data": {
      "text/plain": [
       "(1118, 1)"
      ]
     },
     "execution_count": 18,
     "metadata": {},
     "output_type": "execute_result"
    }
   ],
   "source": [
    "# Fit_resample on the reshaped X_train data and y-train data\n",
    "X_train, y_train_enc = sampler.fit_resample(X_train_full.values.reshape(-1,1),\n",
    "                                        y_train_full_enc)\n",
    "X_train.shape"
   ]
  },
  {
   "cell_type": "code",
   "execution_count": 19,
   "id": "13b6157b-9f31-48fb-80d0-db4c35f5fbbc",
   "metadata": {
    "execution": {
     "iopub.execute_input": "2024-01-05T03:02:53.309735Z",
     "iopub.status.busy": "2024-01-05T03:02:53.309646Z",
     "iopub.status.idle": "2024-01-05T03:02:53.312138Z",
     "shell.execute_reply": "2024-01-05T03:02:53.311828Z",
     "shell.execute_reply.started": "2024-01-05T03:02:53.309727Z"
    }
   },
   "outputs": [
    {
     "data": {
      "text/plain": [
       "(1118,)"
      ]
     },
     "execution_count": 19,
     "metadata": {},
     "output_type": "execute_result"
    }
   ],
   "source": [
    "# Flatten the reshaped X_train data back to 1D\n",
    "X_train = X_train.flatten()\n",
    "X_train.shape"
   ]
  },
  {
   "cell_type": "markdown",
   "id": "9880fe72-4a80-4135-ba02-1c2a5f873a21",
   "metadata": {},
   "source": [
    "### Previous ML Model"
   ]
  },
  {
   "cell_type": "code",
   "execution_count": 20,
   "id": "8a3487b0-db87-4f70-bc6c-a48e62956740",
   "metadata": {
    "execution": {
     "iopub.execute_input": "2024-01-05T03:02:53.312833Z",
     "iopub.status.busy": "2024-01-05T03:02:53.312695Z",
     "iopub.status.idle": "2024-01-05T03:02:53.314826Z",
     "shell.execute_reply": "2024-01-05T03:02:53.314550Z",
     "shell.execute_reply.started": "2024-01-05T03:02:53.312824Z"
    }
   },
   "outputs": [],
   "source": [
    "# Adding parent directory to python path\n",
    "import sys, os\n",
    "sys.path.append( os.path.abspath('../'))"
   ]
  },
  {
   "cell_type": "code",
   "execution_count": 21,
   "id": "23f8d776-63e5-4a02-afd8-04628e4c858e",
   "metadata": {
    "execution": {
     "iopub.execute_input": "2024-01-05T03:02:53.315383Z",
     "iopub.status.busy": "2024-01-05T03:02:53.315259Z",
     "iopub.status.idle": "2024-01-05T03:02:53.353143Z",
     "shell.execute_reply": "2024-01-05T03:02:53.352633Z",
     "shell.execute_reply.started": "2024-01-05T03:02:53.315373Z"
    }
   },
   "outputs": [],
   "source": [
    "## Load the autoreload extension\n",
    "%load_ext autoreload \n",
    "%autoreload 2\n",
    "\n",
    "import custom_functions_SOLUTION  as fn"
   ]
  },
  {
   "cell_type": "code",
   "execution_count": 22,
   "id": "d319c2f9-60a7-4f4e-b2e2-acf0a1fe0f69",
   "metadata": {
    "execution": {
     "iopub.execute_input": "2024-01-05T03:02:53.359059Z",
     "iopub.status.busy": "2024-01-05T03:02:53.358888Z",
     "iopub.status.idle": "2024-01-05T03:02:53.395567Z",
     "shell.execute_reply": "2024-01-05T03:02:53.395263Z",
     "shell.execute_reply.started": "2024-01-05T03:02:53.359049Z"
    }
   },
   "outputs": [],
   "source": [
    "from sklearn.feature_extraction.text import CountVectorizer, TfidfVectorizer\n",
    "from sklearn.pipeline import Pipeline\n",
    "from sklearn.naive_bayes import MultinomialNB"
   ]
  },
  {
   "cell_type": "code",
   "execution_count": 23,
   "id": "9b488903-2846-4bfc-a046-41ebb7ccebfa",
   "metadata": {
    "execution": {
     "iopub.execute_input": "2024-01-05T03:02:53.396255Z",
     "iopub.status.busy": "2024-01-05T03:02:53.396103Z",
     "iopub.status.idle": "2024-01-05T03:02:53.721317Z",
     "shell.execute_reply": "2024-01-05T03:02:53.720888Z",
     "shell.execute_reply.started": "2024-01-05T03:02:53.396245Z"
    }
   },
   "outputs": [
    {
     "name": "stdout",
     "output_type": "stream",
     "text": [
      "----------------------------------------------------------------------\n",
      " Classification Metrics: Training Data\n",
      "----------------------------------------------------------------------\n",
      "              precision    recall  f1-score   support\n",
      "\n",
      "           0       0.95      0.99      0.97       559\n",
      "           1       0.99      0.95      0.97       559\n",
      "\n",
      "    accuracy                           0.97      1118\n",
      "   macro avg       0.97      0.97      0.97      1118\n",
      "weighted avg       0.97      0.97      0.97      1118\n",
      "\n"
     ]
    },
    {
     "data": {
      "image/png": "[encoded data removed]",
      "text/plain": [
       "<Figure size 600x400 with 2 Axes>"
      ]
     },
     "metadata": {},
     "output_type": "display_data"
    },
    {
     "name": "stdout",
     "output_type": "stream",
     "text": [
      "\n",
      "----------------------------------------------------------------------\n",
      " Classification Metrics: Test Data\n",
      "----------------------------------------------------------------------\n",
      "              precision    recall  f1-score   support\n",
      "\n",
      "           0       0.98      0.94      0.96      1655\n",
      "           1       0.68      0.91      0.78       253\n",
      "\n",
      "    accuracy                           0.93      1908\n",
      "   macro avg       0.83      0.92      0.87      1908\n",
      "weighted avg       0.94      0.93      0.94      1908\n",
      "\n"
     ]
    },
    {
     "data": {
      "image/png": "[encoded data removed]",
      "text/plain": [
       "<Figure size 600x400 with 2 Axes>"
      ]
     },
     "metadata": {},
     "output_type": "display_data"
    }
   ],
   "source": [
    "## Create a model pipeline \n",
    "count_pipe = Pipeline([('vectorizer',  CountVectorizer()), \n",
    "                       ('naivebayes',  MultinomialNB())])\n",
    "\n",
    "count_pipe.fit(X_train, y_train_enc)\n",
    "fn.evaluate_classification(count_pipe, X_train, y_train_enc, X_test, y_test_enc,)"
   ]
  },
  {
   "cell_type": "code",
   "execution_count": null,
   "id": "5bf02bd9-eea7-4f5c-aa3b-4c98da641129",
   "metadata": {},
   "outputs": [],
   "source": []
  },
  {
   "cell_type": "markdown",
   "id": "23e80644-9fda-416e-80b6-789bb7a5903d",
   "metadata": {},
   "source": [
    "## Preparing For Neural Networks (Train-Test-Val Datasets)"
   ]
  },
  {
   "cell_type": "code",
   "execution_count": null,
   "id": "9bcb37c0-2c2a-488b-b526-622f8a289f52",
   "metadata": {},
   "outputs": [],
   "source": []
  },
  {
   "cell_type": "code",
   "execution_count": 24,
   "id": "3898e60d-cb19-408e-91d4-e677f033a47d",
   "metadata": {
    "execution": {
     "iopub.execute_input": "2024-01-05T03:02:53.722019Z",
     "iopub.status.busy": "2024-01-05T03:02:53.721887Z",
     "iopub.status.idle": "2024-01-05T03:02:53.754548Z",
     "shell.execute_reply": "2024-01-05T03:02:53.754082Z",
     "shell.execute_reply.started": "2024-01-05T03:02:53.722009Z"
    }
   },
   "outputs": [
    {
     "data": {
      "text/plain": [
       "0    559\n",
       "1    559\n",
       "dtype: int64"
      ]
     },
     "execution_count": 24,
     "metadata": {},
     "output_type": "execute_result"
    }
   ],
   "source": [
    "# Check for class balance\n",
    "pd.Series(y_train_enc).value_counts()"
   ]
  },
  {
   "cell_type": "markdown",
   "id": "47ef132d-e442-485e-a634-acf94bf541ea",
   "metadata": {},
   "source": [
    "### Prepare Tensorflow Datasets"
   ]
  },
  {
   "cell_type": "markdown",
   "id": "56f330c7-0f11-4181-8d04-e80aad6ef623",
   "metadata": {},
   "source": [
    "Since we already have train/test/val X and y vars, we will make 3 dataset objects using tf.data.Dataset.from_tensor_slices."
   ]
  },
  {
   "cell_type": "code",
   "execution_count": 25,
   "id": "e0658b2a-2c35-4f27-a06e-a54416aa9821",
   "metadata": {
    "execution": {
     "iopub.execute_input": "2024-01-05T03:02:53.755541Z",
     "iopub.status.busy": "2024-01-05T03:02:53.755166Z",
     "iopub.status.idle": "2024-01-05T03:02:53.802308Z",
     "shell.execute_reply": "2024-01-05T03:02:53.801870Z",
     "shell.execute_reply.started": "2024-01-05T03:02:53.755525Z"
    }
   },
   "outputs": [],
   "source": [
    "# Convert to Dataset Object\n",
    "train_ds = tf.data.Dataset.from_tensor_slices((X_train, y_train_enc))\n",
    "# Shuffle dataset\n",
    "train_ds = train_ds.shuffle(buffer_size=len(train_ds),\n",
    "                            reshuffle_each_iteration=False)"
   ]
  },
  {
   "cell_type": "markdown",
   "id": "fedeaafa-fa13-4309-a8a8-42913843b8c3",
   "metadata": {},
   "source": [
    "Split the val/test data in 2 "
   ]
  },
  {
   "cell_type": "code",
   "execution_count": 26,
   "id": "3e890160-24b8-4bcf-a3af-5d88bd0237a9",
   "metadata": {
    "execution": {
     "iopub.execute_input": "2024-01-05T03:02:53.803237Z",
     "iopub.status.busy": "2024-01-05T03:02:53.803064Z",
     "iopub.status.idle": "2024-01-05T03:02:53.835577Z",
     "shell.execute_reply": "2024-01-05T03:02:53.835169Z",
     "shell.execute_reply.started": "2024-01-05T03:02:53.803227Z"
    }
   },
   "outputs": [
    {
     "data": {
      "text/plain": [
       "<_TensorSliceDataset element_spec=(TensorSpec(shape=(), dtype=tf.string, name=None), TensorSpec(shape=(), dtype=tf.int64, name=None))>"
      ]
     },
     "execution_count": 26,
     "metadata": {},
     "output_type": "execute_result"
    }
   ],
   "source": [
    "# Convert test to dataset object and split\n",
    "val_test_split_ds = tf.data.Dataset.from_tensor_slices((X_test, y_test_enc))\n",
    "val_test_split_ds"
   ]
  },
  {
   "cell_type": "code",
   "execution_count": 27,
   "id": "b903db53-a71d-4181-9cbc-f900485a5508",
   "metadata": {
    "execution": {
     "iopub.execute_input": "2024-01-05T03:02:53.836293Z",
     "iopub.status.busy": "2024-01-05T03:02:53.836194Z",
     "iopub.status.idle": "2024-01-05T03:02:53.867657Z",
     "shell.execute_reply": "2024-01-05T03:02:53.867246Z",
     "shell.execute_reply.started": "2024-01-05T03:02:53.836283Z"
    }
   },
   "outputs": [
    {
     "data": {
      "text/plain": [
       "954.0"
      ]
     },
     "execution_count": 27,
     "metadata": {},
     "output_type": "execute_result"
    }
   ],
   "source": [
    "len(X_test)/2"
   ]
  },
  {
   "cell_type": "code",
   "execution_count": 28,
   "id": "d69060a8-96f1-4398-9242-af1b3701b761",
   "metadata": {
    "execution": {
     "iopub.execute_input": "2024-01-05T03:02:53.868327Z",
     "iopub.status.busy": "2024-01-05T03:02:53.868229Z",
     "iopub.status.idle": "2024-01-05T03:02:53.900047Z",
     "shell.execute_reply": "2024-01-05T03:02:53.899683Z",
     "shell.execute_reply.started": "2024-01-05T03:02:53.868318Z"
    }
   },
   "outputs": [
    {
     "data": {
      "text/plain": [
       "954"
      ]
     },
     "execution_count": 28,
     "metadata": {},
     "output_type": "execute_result"
    }
   ],
   "source": [
    "n_val_samples =  int(len(val_test_split_ds) * .5)\n",
    "n_val_samples"
   ]
  },
  {
   "cell_type": "code",
   "execution_count": 29,
   "id": "e495b3b9-b89e-41c8-b597-d65a383cddbc",
   "metadata": {
    "execution": {
     "iopub.execute_input": "2024-01-05T03:02:53.900810Z",
     "iopub.status.busy": "2024-01-05T03:02:53.900708Z",
     "iopub.status.idle": "2024-01-05T03:02:53.931748Z",
     "shell.execute_reply": "2024-01-05T03:02:53.931414Z",
     "shell.execute_reply.started": "2024-01-05T03:02:53.900801Z"
    }
   },
   "outputs": [],
   "source": [
    "## Perform the val/test split\n",
    "\n",
    "## Create the validation dataset\n",
    "val_ds = val_test_split_ds.take(n_val_samples)\n",
    "\n",
    "## Create the test dataset\n",
    "test_ds = val_test_split_ds.skip(n_val_samples)"
   ]
  },
  {
   "cell_type": "code",
   "execution_count": 30,
   "id": "7ad4a489-7074-49ea-be83-ea6c6f54cc38",
   "metadata": {
    "execution": {
     "iopub.execute_input": "2024-01-05T03:02:53.932652Z",
     "iopub.status.busy": "2024-01-05T03:02:53.932462Z",
     "iopub.status.idle": "2024-01-05T03:02:53.960899Z",
     "shell.execute_reply": "2024-01-05T03:02:53.960559Z",
     "shell.execute_reply.started": "2024-01-05T03:02:53.932641Z"
    }
   },
   "outputs": [
    {
     "data": {
      "text/plain": [
       "(1118, 954, 954)"
      ]
     },
     "execution_count": 30,
     "metadata": {},
     "output_type": "execute_result"
    }
   ],
   "source": [
    "len(train_ds), len(val_ds), len(test_ds)"
   ]
  },
  {
   "cell_type": "markdown",
   "id": "66afce4b-e39e-458b-b022-ac39ed9ca9ef",
   "metadata": {},
   "source": [
    "Let's examine a single element."
   ]
  },
  {
   "cell_type": "code",
   "execution_count": 31,
   "id": "f4678d3f-baba-4962-87cf-00910be748f5",
   "metadata": {
    "execution": {
     "iopub.execute_input": "2024-01-05T03:02:53.961583Z",
     "iopub.status.busy": "2024-01-05T03:02:53.961470Z",
     "iopub.status.idle": "2024-01-05T03:02:53.992845Z",
     "shell.execute_reply": "2024-01-05T03:02:53.992508Z",
     "shell.execute_reply.started": "2024-01-05T03:02:53.961572Z"
    }
   },
   "outputs": [
    {
     "name": "stdout",
     "output_type": "stream",
     "text": [
      "tf.Tensor(b'Easy, Fast and does a Good Job: Easy to use, fast set-up.  It did a great job on the carpet I wanted to rescue.', shape=(), dtype=string) \n",
      "\n",
      " tf.Tensor(0, shape=(), dtype=int64)\n"
     ]
    }
   ],
   "source": [
    "# taking a sample \n",
    "example_X, example_y= train_ds.take(1).get_single_element()\n",
    "print(example_X,'\\n\\n',example_y)"
   ]
  },
  {
   "cell_type": "code",
   "execution_count": 32,
   "id": "95b9ebe2-9d41-4641-8961-88c3dfa7adf2",
   "metadata": {
    "execution": {
     "iopub.execute_input": "2024-01-05T03:02:53.993714Z",
     "iopub.status.busy": "2024-01-05T03:02:53.993553Z",
     "iopub.status.idle": "2024-01-05T03:02:54.023783Z",
     "shell.execute_reply": "2024-01-05T03:02:54.023465Z",
     "shell.execute_reply.started": "2024-01-05T03:02:53.993704Z"
    }
   },
   "outputs": [
    {
     "name": "stdout",
     "output_type": "stream",
     "text": [
      "tf.Tensor(b'Easy, Fast and does a Good Job: Easy to use, fast set-up.  It did a great job on the carpet I wanted to rescue.', shape=(), dtype=string) \n",
      "\n",
      " tf.Tensor(0, shape=(), dtype=int64)\n"
     ]
    }
   ],
   "source": [
    "# taking a sample  (same result)\n",
    "example_X, example_y= train_ds.take(1).get_single_element()\n",
    "print(example_X,'\\n\\n',example_y)"
   ]
  },
  {
   "cell_type": "markdown",
   "id": "1cf8c3ac-d2a0-437d-952b-a778d3d054a3",
   "metadata": {},
   "source": [
    "> Shuffle the training data at the end of each epoch"
   ]
  },
  {
   "cell_type": "code",
   "execution_count": 33,
   "id": "c4969390-4e72-4e52-9fe7-41f83e683729",
   "metadata": {
    "execution": {
     "iopub.execute_input": "2024-01-05T03:02:54.024463Z",
     "iopub.status.busy": "2024-01-05T03:02:54.024363Z",
     "iopub.status.idle": "2024-01-05T03:02:54.053844Z",
     "shell.execute_reply": "2024-01-05T03:02:54.053486Z",
     "shell.execute_reply.started": "2024-01-05T03:02:54.024454Z"
    }
   },
   "outputs": [],
   "source": [
    "# Shuffle only the training data every epoch\n",
    "train_ds = train_ds.shuffle(len(train_ds))"
   ]
  },
  {
   "cell_type": "code",
   "execution_count": 34,
   "id": "d5d8b84c-a4b2-464e-a7ef-21e2891df7ee",
   "metadata": {
    "execution": {
     "iopub.execute_input": "2024-01-05T03:02:54.054491Z",
     "iopub.status.busy": "2024-01-05T03:02:54.054370Z",
     "iopub.status.idle": "2024-01-05T03:02:54.082735Z",
     "shell.execute_reply": "2024-01-05T03:02:54.082423Z",
     "shell.execute_reply.started": "2024-01-05T03:02:54.054480Z"
    }
   },
   "outputs": [
    {
     "name": "stdout",
     "output_type": "stream",
     "text": [
      "tf.Tensor(b\"I want it to have a good hand tool for washing the carpeted staircase: I don't nee much from a carpet washer. I want it to have a good hand tool for washing the carpeted staircase, and a dirty tank that can be cleaned. My old Bissel had a tank that got packed with fibers that were not even theoretically removable. This tank I can disassemble, wash, dry, and assemble back. Thank you.\", shape=(), dtype=string) \n",
      "\n",
      " tf.Tensor(0, shape=(), dtype=int64)\n"
     ]
    }
   ],
   "source": [
    "# taking a sample  (different result)\n",
    "example_X, example_y= train_ds.take(1).get_single_element()\n",
    "print(example_X,'\\n\\n',example_y)"
   ]
  },
  {
   "cell_type": "code",
   "execution_count": 35,
   "id": "4d8caedf-696c-4284-a224-194e64319af4",
   "metadata": {
    "execution": {
     "iopub.execute_input": "2024-01-05T03:02:54.083420Z",
     "iopub.status.busy": "2024-01-05T03:02:54.083310Z",
     "iopub.status.idle": "2024-01-05T03:02:54.112819Z",
     "shell.execute_reply": "2024-01-05T03:02:54.112335Z",
     "shell.execute_reply.started": "2024-01-05T03:02:54.083411Z"
    }
   },
   "outputs": [
    {
     "name": "stdout",
     "output_type": "stream",
     "text": [
      "tf.Tensor(b'Hoover SteamVac f5914-900 beat my old rainbow hands down: This steamvac made our carpets look like new, we were thinking of replacing them but now we do not have too.  Works well above what I ever thought it could.  Love it and I used to hate cleaning the carpet with the old rainbow.', shape=(), dtype=string) \n",
      "\n",
      " tf.Tensor(0, shape=(), dtype=int64)\n"
     ]
    }
   ],
   "source": [
    "# taking a sample  (different result)\n",
    "example_X, example_y= train_ds.take(1).get_single_element()\n",
    "print(example_X,'\\n\\n',example_y)"
   ]
  },
  {
   "cell_type": "markdown",
   "id": "8b99b4bd-6d3c-409e-956b-a7d2e0fd5916",
   "metadata": {},
   "source": [
    "> Add batching (use 32 for batch_size)"
   ]
  },
  {
   "cell_type": "code",
   "execution_count": 36,
   "id": "e48eeddb-5554-4f37-a435-91ea27911e99",
   "metadata": {
    "execution": {
     "iopub.execute_input": "2024-01-05T03:02:54.113466Z",
     "iopub.status.busy": "2024-01-05T03:02:54.113357Z",
     "iopub.status.idle": "2024-01-05T03:02:54.144425Z",
     "shell.execute_reply": "2024-01-05T03:02:54.144106Z",
     "shell.execute_reply.started": "2024-01-05T03:02:54.113457Z"
    }
   },
   "outputs": [
    {
     "name": "stdout",
     "output_type": "stream",
     "text": [
      " There are 35 training batches.\n",
      " There are 30 validation batches.\n",
      " There are 30 testing batches.\n"
     ]
    }
   ],
   "source": [
    "#  Setting the batch_size for all datasets\n",
    "BATCH_SIZE = 32\n",
    "\n",
    "train_ds = train_ds.batch(BATCH_SIZE)\n",
    "val_ds = val_ds.batch(BATCH_SIZE)\n",
    "test_ds = test_ds.batch(BATCH_SIZE)\n",
    "\n",
    "\n",
    "# Confirm the number of batches in each\n",
    "print (f' There are {len(train_ds)} training batches.')\n",
    "print (f' There are {len(val_ds)} validation batches.')\n",
    "print (f' There are {len(test_ds)} testing batches.')"
   ]
  },
  {
   "cell_type": "code",
   "execution_count": 37,
   "id": "a498f8eb-bdaa-45bb-a809-f36014e03f0d",
   "metadata": {
    "execution": {
     "iopub.execute_input": "2024-01-05T03:02:54.145223Z",
     "iopub.status.busy": "2024-01-05T03:02:54.145115Z",
     "iopub.status.idle": "2024-01-05T03:02:54.175594Z",
     "shell.execute_reply": "2024-01-05T03:02:54.175267Z",
     "shell.execute_reply.started": "2024-01-05T03:02:54.145213Z"
    }
   },
   "outputs": [
    {
     "name": "stdout",
     "output_type": "stream",
     "text": [
      "tf.Tensor(\n",
      "[b'Two Stars: cumbersome'\n",
      " b\"Excellent cleaning machine. Keeps my carpets clean for our newborn. Worked great getting rid of tough pet stains too.: I had the Bissell portable unit before this. That one broke, so I gave this a try.\\n\\nIt is light years ahead of the Bissell, but it costs more so you might expect it to be. I only wish I had bought this first. The additional vacuum-driven cleaning brush is a major bonus too. It's so much easier to spot clean now.\\n\\nWe just had a baby and I want to keep all our carpets very clean. Before he was born, I used it to clean up our cat's accidents. It does a great job spot cleaning and cleaning large areas. It works as well if not better than the rental ones ... and you don't have to worry about other people's gunk.\\n\\nThe separate water / detergent chambers make it easy to keep it filled with detergent and not waste any. I just refill the water reservoir with hot water and I'm ready to clean!\"\n",
      " b'So thrilled with the way it cleans.: This is a fabulous carpet cleaner.\\nNot hard to assemble, easy to use and works great.'\n",
      " b'surprisingly good for not much $$: this thing is pretty decent. I have used it a lot and it still works fine for about a year now. Maybe 6 cleanings.'\n",
      " b'Five Stars: Best.'\n",
      " b\"I don't recommend.: I have been dealing with many different issues since purchase. I don't recommend .\"\n",
      " b'Worth It!: Works well and easy to maneuver'\n",
      " b'Waste of money: Received it, used it.  If you want to do ONLY VERY SMALL AREAS, it will work, but I could have accomplished the same with a scrub brush and any spray-on carpet cleaner bought in Safeway.  Instructions are neither simple nor clear.  I COULD NOT RECOMMEND THIS TO ANYONEONE IF MY NAME WAS INCLUDED.  Unfortunately, the shipping box got destroyed, because I had confidence, so returning it would be a waste of my time.'\n",
      " b'only used once so far but easy to assemble: only used once so far but easy to assemble, easy to use and easy to clean. Did a decent job on pet stains and heavy traffic areas.'\n",
      " b'Big Big POS, Stay away: I have purchased a lot of different cleaning machines over the years, even a few hoovers that were much better made than this. How ever this machine is so poorly designed and made of such flimsy material that if it did not break the very first time one used it, I would be totally shocked.\\n\\n The deployment of the dirty water container is such that I can see about 7 different ways where it will leak and be a problem in a very short time.  The hand attachment hose is not, I repeat is not permanently attached to the machine, but rather attached by removing the lid to the dirty water tank, then pulling up and out on the flimsy piece of plastic that connects the tank to the front floor suction section, then fitted in a slot where the front suction connector use to be and held into place with the lid of the tank that has very little other then a cheap brittle piece of plastic tang to hold it in place and will be one of the first things I suspect that will be broken on this machine.  Take my advice and stay far away from this machine.  Spend the money for a Bissell or better  yet rent a rug doctor or hire a carpet cleaner.\\n\\nAlso  because the return of the machine was due to my dissatisfaction rather then a problem with shipping damage and or missing pieces, broken parts or defective machine, I was charged for the cost to ship it back.  So keep that in mind also.'\n",
      " b'Great Carpet Cleaner: Replaced a Bissel canister carpet cleaner that was once upon a time the best in its class.  This product is exceptional.  Easy to use, easy to clean and really sucks up the water to greatly improve the drying time.  Highly recommended.'\n",
      " b\"Hate it: I have had this for a couple years now and am updating my original 4 star review. This unit is very finicky. It often does not suck up all the solution. This leaves the carpet/rug too wet to properly dry, but you won't realize that until it emits a funky smell the next day. It has ruined one rug already. I have another one sitting in the sun right now attempting to properly dry it. I can't imagine if this had happened on a carpet. I do not recommend this product. If you decide to buy it anyway, be very careful to watch and make sure the unit is sucking up all the solution. If it is not, stop using and diagnose the problem. It is also expensive. It also uses what seems to be a lot of solution which can make it rather expensive.\"\n",
      " b\"it started leaking dirty water after 12 years: THIS IS AN UPDATE FROM MY PREVIOUS REVIEW:\\nOriginally I gave this 3 stars.  I have now changed my mind.  I only got 1 year and 5 months out of this machine and never once used it to clean an entire room...only spot cleaning approximately once a week.  Besides the fact it left my carpet real wet after use, the soap would leak into the clean water compartment, and I was constantly having to clean the filter to get the brushes to work (which is a pain to do and something I never had to do with my old Hoover Max).  Eventually the brushes stopped working altogether.  In the past, I have always used Hoover products (carpet cleaners and vacuum cleaners).  I owned two Hoover Max cleaners in a period of 24 years. Their vacuum cleaners the same. They were both used HEAVILY  (I had my own housecleaning business and after school care).  Their quality...THEN... was outstanding.  Then when my Hoover vacuum cleaner went out (and they began making the new ones in Mexico with cheap plastic parts), I noticed the quality wasn't the same and I was replacing them every 1 1/2 years (just cleaning my own home).  I finally stopped using Hoover and went with a Miele (which I have had for 8 years with not one problem and I vacuum heavily several times a week and I have a large home).  The company I purchased the Miele from said they no longer sell Hoover products due to poor quality.  So when my Max was going out after 12 years, I took a chance on this, and unfortunately, the quality is poor.  Hoover no longer makes quality products.  So if you purchase any Hoover product...just have the mindset that you can expect about a years worth of use (if you are lucky), along with continual problems to keep them going.\\n\\nOriginal Review:\\nWell....I have used the Hoover Max and it served me well.  Although it still worked, it started leaking dirty water after 12 years.  I decided to purchase the power scrub mainly due to size and weight.  I have stairs and got tired of carrying the heavier Max up the stairs.  The power scrub is much smaller and therefore will take much longer cleaning the carpet in my home...since I have a fairly large home (would be great in condo or apartment).  I mainly use it to clean up spills and cat barf (she has IBS).  I find the power scrub doesn't clean as well as the Max and that I have to go over the spot several times for the stain to come out...whereas with the Max it came out easier and better.  The power scrub doesn't soak up the water as well either...carpet is very damp and takes much longer to dry (and I live in the low desert of Calif).  The rinse cycle doesn't work either.  It's suppose to rinse clean water with no soap...nope the soap comes right along with the water.  Glad I bought this on todays deals otherwise I would of returned it.\\nPros:  lightweight and good water bucket (easy to dump out water).\"\n",
      " b'Poor parts.: The clean water solution tank is leaking a lot when I filled it with water and soap during the first use. Called the 800 number enclosed and you have to wait for hours. Apparently its been a problem for many people when I was looking online for trouble shooting.\\nWill return it.'\n",
      " b\"Buyer Beware: I purchased this vacuum, USED: Like New from Ware house Deals for about $25 less. It was a return, what for, I do not know, but when I got it, the screw for the handle wasn't there. I could purchase one elsewhere for .32 cents and pay $5 postage. I spent a lot of time considering whether to just return it, which Amazon had offered to do, but after my husband used it, I just decided to keep it. So I filled out the warranty card as far as #7 which asked for the Mfg. number listed on the bottom of the machine. Well, it was not there, so the lady at Hoover said it could be on a label on the handle- not there either. This Used : Like New item had some flaws. So without the number I could not register it and so Amazon told me to return it. So, though this item is really great and I intend to buy a NEW one when I get my refund, I would warn you not to buy used\\nmechanical items just to save a few bucks. In the end, I gained nothing but a headache. Amazon was very understanding and\\nthat is why I continue to buy from them. Thank You Amazon.com!\"\n",
      " b'Great when it works: I have owned this for 5 months now. It is awesome at scubbing out stains and making your carpet clean again. We typically do the whole house once a month and spot clean quite often. Early this week the scrub brushes stopped rotating. I called customer service and sat on the phone for 20 minutes waiting to talk to someone. The turbine for the brushes stopped working. We were told by the repair center that the part could take 2 weeks to 6 months to show up or they might send a new machine. Most of the time it will come within a month. They will know nothing until it shows up and they match up the packing slip numbers to what they have. This is the \"new\" way of doing things with Hoover since they were bought out by a Japanese company. So now we wait.'\n",
      " b'Five Stars: This carpet cleaner is amazing and does a fantastic job. I am very happy with this purchase would recommend.'\n",
      " b\"WHERE HAS THIS BEEN ALL MY LIFE: Goes from carpet to hardwood floors without having to change any settings. Perfect for anyone with pets or toddlers. Super lightweight. Compact size to get in hard to reach areas. Comvenient and bagless reservoir. Just don't vacuum up moist food as it will make it stink or pine needles from Christmas trees which will get jammed up.\"\n",
      " b'Great product! Recovers my carpet after my 18 months ...: Great product! Recovers my carpet after my 18 months old baby kind of destroys it from time to time:) Hot air blow help with drying process. I would deffinetely recommend it!'\n",
      " b'Great for Cleaning Your Carpets!!: I ordered this item after reading a lot of the reviews. There are only two screws for the handle that you need a screw driver for. That is it! The rest of the parts easily lock in place. I used very hot tap water that ends up being \"warm\" by the time it hits the carpet. It would probably be better to use boiling water. I have used a larger carpet cleaner from a rental store that was very heavy and awkward to use. This Hoover Power Scrub does just as good as a job as the big machine but MUCH easier to maneuver. Very easy to use. This did an excellent job on my carpets. The rental store charges about $60 for the day to rent their machine so it is worth it to buy this Hoover because it pays for itself after about 3 uses. Right after I bought this my son got gum on my microfiber sofa! I was not happy. I read on the internet that I should use peanut butter to remove the gum. I used the peanut butter and it did remove the gum. BUT...I needed this Hoover to clean the peanut butter! It did an excellent job cleaning the peanut butter and now you can\\'t tell there was a big blotch of gum there. This machine is well designed and worth the money. You won\\'t be sorry.'\n",
      " b'Cordless Stick Vac: FABULOUS product.  I love it.  Has great suction, and easy to use, holds a charge, and easy to empty.  Very happy with my purchase.'\n",
      " b'MOTOR FAILURE: FOR THOSE WHOSE MOTOR STOPPED WORKING. Take the head apart and you will find one of the wires broken. This design fault has caused repeated repairs on our unit. This has been disappointing for me and frustrating for my wife.'\n",
      " b'Five Stars: excellent'\n",
      " b\"Not sure if it was bad luck I got a defective washer or what: Not sure if it was bad luck I got a defective washer or what, but I ended up having to return the one I had because it wasn't rinsing well.  Now I'm having to hire professionals to come in and clean all the soap that got left behind by this unit.\"\n",
      " b'Rinse first - Shampoo second - Repeat Rinse!: I decided to wash our carpet after it was professionally washed by a company I always used for my previous house. There were a couple of old pet stains the professionals could not remove with their machine nor by using special chemicals (the previous home owner had a dog who peed in one place numerous times yuk) and I had guests coming, so I decided to refresh the carpet and to work more on these stains. It is amazing how much dirt this little machine was able to pull - after the professional wash! The old stains are lighter, still not completely gone, but they look a lot better.'\n",
      " b\"Very frustrating experience trying to use this carpet cleaner: My husband and I worked long and hard to get this carpet cleaner put together. He's a handy guy, but he had a hard time figuring out what the instructions were telling him to do. Finally thought we had it put together correctly. We poured the cleaning solution into the holding tank and it immediately emptied onto the carpet, saturating it. Took the whole thing apart and put it together again....same thing happened. Shipped back to Amazon and will never buy a Hoover product again.\"\n",
      " b'Build Quality = Garbage / Customer Service = Non-Existent: I must confess I really liked this unit when I received it.  It had plenty of power, did a great job cleaning up and the battery life was well above what I expected.  However, a few months later and this unit is coming apart.\\n\\nWe mostly use this vacuum on our tile floors only as we have another vacuum we use for our carpets.  So it came as a complete surprise when the motorized power brush stopped working when we hardly used it when vacuuming our hard flooring.  In addition to that, there is a thin layer of material that is shredding away from the handle (see pics) and which regularly comes off in the hand or falls on the floor.  Both of these failures indicate that this is definitely NOT a quality item.\\n\\nIf this had been a relatively inexpensive vacuum, I would not have expected it to last for a considerably long time.  But at almost $150, this unit should not be falling apart and should certainly remain serviceable and intact into the foreseeable future especially when only tasked to perform light vacuuming a few days a week.\\n\\nFind a similar item from another brand - Hoover is NOT the company it used to be...in build quality or customer service.'\n",
      " b\"easy to clean: Works amazingly well.  I used with Carpet Miracle by Sunny & Honey and it worked wonders.  Got the stains out of my beige carpet and beige microfiber couches.  Its a lot of work, but what do you expect? There's a reason carpet/upholstery cleaning services are expensive, took me a long time to do my whole apt but it looks immaculate.  Well worth the money, easy to clean.... afterwards I used a comb to clean out the scrub brushes because a lot of lint and carpet fibers were stuck in there.  I was shocked by how dark the water in the dirty water tank, can't believe that was in my couch!! A must have for anyone who is a clean freak.\"\n",
      " b\"Doesnt suck up excess water: This is my 2nd Hoover shampooer, my last one last 5 years and even after it started struggling it worked better than this one. Some of my major complaints are that after the water runs out, it still shoots out soap. There is no alert to when the water runs out, you just have to watch, so don't fill the solution area completely or you'll have a very soapy carpet. Two the dirty water stops sucking before it's full, because the suds push the bobber making it think it's full. Also quick movements or turns, will pop the bobber up, causing the same issue. So you're either constantly stopping to get the bobber to fall or emptying it. Three, it doesn't even suck up half the water. Which, as someone with a wool carpet, is a big deal. Wet wool is not a fun smell. I call bull on the heating to dry faster too, I go over the same sections with just suction multiple times, as in no fewer than 6, to get any water I can up and it's still cold and wet. The old one did a much better job, even towards then end of its life. Is it better than having just a bucket and brush, absolutely, but not by much.\"\n",
      " b\"i don't like this vacuum: i don't like this vacuum. i really wanted to like it, and i did a lot of research before buying it for our new house. i'm so disappointed because it doesnt hold a charge for longer than 20 minutes. my house is not huge--about 2000sqft, so i never thought i would have a problem getting through my whole house with this vacuum. it's so frustrating when this thing dies halfway through cleaning. it's happened almost every time i've used it so far. i'm a very capable person and know for a fact that it's fully charged because the blue light blinks slowly on the charging dock once it's fully charged. takes about 3 hours. i love the fact that it's cordless and there are no bulky cords to manuever, and you don't have to keep unplugging and re-plugging in around the house. but if i would have known the battery was going to die every 15-20 minutes i defintely wouldn't have bought this vacuum.\"\n",
      " b\"Works great - no complaints: I've used a few other in-home carpet cleaners and this one is by far my favorite. I like that it keeps the clean water separate from the dirty water and does a great job getting most of the moisture out of the carpets. I've used it several times now... no musty smell after it dries (like a few other machines) and the dog hair easily comes out of the scrubbing circles.\\n\\nAlso, it was very easy to put together out of the box... just took about 10 minutes\"\n",
      " b'Good carpet cleaner: Hoover F5914-900 SteamVac with Clean Surge&nbsp;We have Oriental carpets and have moved to a rural area.  Previously we had them commercially cleaned.  There\\'s no such service available here.  The dirt was building up.  SO I took a chance on this machine.  Because the carpets are wool, I didn\\'t use super hot water.  Others said the machine worked well with half the amount of detergent that Hoover calls for.  It did work well, tho I had to pre-treat really dirty areas, as expected.  I didn\\'t use the brushes because the carpets are delicate, but still got a LOT of dirt out.  I kept my \"wet\" passes down to two as recommended, used four \"dry\" passes, and put washed out plastic milk cartons under the damp carpet to facilitate drying with the help of a box fan.  The rugs felt dry in about four hours, but I kept the fans going overnight for the sake of the wood floor. Be sure to read Lissie\\'s detailed review of the machine and avoid problems.  You\\'ll save the purchase price pretty quickly, but I\\'ll do it sooner since the price I paid is almost $20 less than the current one, and I got free shipping.  I haven\\'t used the upholstery cleaning ability yet, but expect it will be quite respectable, too. Oh, don\\'t look for how to get your carpet \"steam cleaned\" with this: it doesn\\'t really use steam.'], shape=(32,), dtype=string) \n",
      "\n",
      " tf.Tensor([1 0 0 0 0 1 0 1 0 1 0 1 1 1 1 1 0 0 0 0 0 1 0 1 0 1 1 0 1 1 0 0], shape=(32,), dtype=int64)\n"
     ]
    }
   ],
   "source": [
    "# taking a sample - now 32 observations instead of 1\n",
    "example_X, example_y= train_ds.take(1).get_single_element()\n",
    "print(example_X,'\\n\\n',example_y)\n"
   ]
  },
  {
   "cell_type": "markdown",
   "id": "d31a1990-85b6-4c25-852d-6049cae198a4",
   "metadata": {},
   "source": [
    "# Vectorizing Text with Keras's TextVectorization Layer"
   ]
  },
  {
   "cell_type": "markdown",
   "id": "37bccabc-475f-49aa-8ede-aca4e55333c6",
   "metadata": {},
   "source": [
    "> ADD INTRO, explain need for sequence length"
   ]
  },
  {
   "cell_type": "code",
   "execution_count": 38,
   "id": "89ce67c8-4815-4dba-a9b6-0a8d7b97b069",
   "metadata": {
    "execution": {
     "iopub.execute_input": "2024-01-05T03:02:54.176294Z",
     "iopub.status.busy": "2024-01-05T03:02:54.176195Z",
     "iopub.status.idle": "2024-01-05T03:02:54.204568Z",
     "shell.execute_reply": "2024-01-05T03:02:54.204126Z",
     "shell.execute_reply.started": "2024-01-05T03:02:54.176285Z"
    }
   },
   "outputs": [],
   "source": [
    "# df_ml['length (characters)'] = df_ml['text'].map(len)\n",
    "# df_ml.head(3)\n",
    "\n",
    "# ax = sns.histplot(data=df_ml, hue='rating', x='length (characters)',\n",
    "#                 stat='percent',common_norm=False)#, estimator='median',);\n",
    "# ax.axvline()"
   ]
  },
  {
   "cell_type": "markdown",
   "id": "098b2e66-01cb-407d-992c-0a815025039d",
   "metadata": {},
   "source": [
    "## Text Vectorization Layer"
   ]
  },
  {
   "cell_type": "markdown",
   "id": "597c67c8-c54a-4614-893c-f914120509af",
   "metadata": {},
   "source": [
    "### Determine appropriate sequence length. "
   ]
  },
  {
   "cell_type": "code",
   "execution_count": 39,
   "id": "825a1930-00f2-41c4-b337-e20f3cec154d",
   "metadata": {
    "execution": {
     "iopub.execute_input": "2024-01-05T03:02:54.205370Z",
     "iopub.status.busy": "2024-01-05T03:02:54.205214Z",
     "iopub.status.idle": "2024-01-05T03:02:54.252739Z",
     "shell.execute_reply": "2024-01-05T03:02:54.252298Z",
     "shell.execute_reply.started": "2024-01-05T03:02:54.205360Z"
    }
   },
   "outputs": [
    {
     "data": {
      "text/plain": [
       "count    6359.000000\n",
       "mean       85.317345\n",
       "std       105.261462\n",
       "min         2.000000\n",
       "25%        21.000000\n",
       "50%        52.000000\n",
       "75%       106.000000\n",
       "max      1521.000000\n",
       "Name: length (tokens), dtype: float64"
      ]
     },
     "execution_count": 39,
     "metadata": {},
     "output_type": "execute_result"
    }
   ],
   "source": [
    "# Let's take a look at the length of the each text\n",
    "# We will split on each space, and then get the length\n",
    "df_ml['length (tokens)'] = df_ml['text'].map( lambda x: len(x.split(\" \")))\n",
    "df_ml['length (tokens)'].describe()"
   ]
  },
  {
   "cell_type": "code",
   "execution_count": 40,
   "id": "27050d88-b035-4861-a971-344839ddb452",
   "metadata": {
    "execution": {
     "iopub.execute_input": "2024-01-05T03:02:54.253386Z",
     "iopub.status.busy": "2024-01-05T03:02:54.253287Z",
     "iopub.status.idle": "2024-01-05T03:02:54.281716Z",
     "shell.execute_reply": "2024-01-05T03:02:54.281324Z",
     "shell.execute_reply.started": "2024-01-05T03:02:54.253377Z"
    }
   },
   "outputs": [],
   "source": [
    "# ax = sns.histplot(data=df_ml, hue='rating', x='length (tokens)',\n",
    "#                 stat='frequency',common_norm=False)#, estimator='median',);\n"
   ]
  },
  {
   "cell_type": "code",
   "execution_count": 41,
   "id": "d404d3ad-45eb-4c4a-ad53-c67714b350ea",
   "metadata": {
    "execution": {
     "iopub.execute_input": "2024-01-05T03:02:54.282380Z",
     "iopub.status.busy": "2024-01-05T03:02:54.282276Z",
     "iopub.status.idle": "2024-01-05T03:02:54.640527Z",
     "shell.execute_reply": "2024-01-05T03:02:54.640171Z",
     "shell.execute_reply.started": "2024-01-05T03:02:54.282370Z"
    }
   },
   "outputs": [
    {
     "data": {
      "text/plain": [
       "<matplotlib.lines.Line2D at 0x2cd50dba0>"
      ]
     },
     "execution_count": 41,
     "metadata": {},
     "output_type": "execute_result"
    },
    {
     "data": {
      "image/png": "[encoded data removed]",
      "text/plain": [
       "<Figure size 640x480 with 1 Axes>"
      ]
     },
     "metadata": {},
     "output_type": "display_data"
    }
   ],
   "source": [
    "SEQUENCE_LENGTH = 150\n",
    "ax = sns.histplot(data=df_ml, hue='rating', x='length (tokens)',kde=True,\n",
    "                stat='probability',common_norm=False)#, estimator='median',);\n",
    "ax.axvline(SEQUENCE_LENGTH, color='red', ls=\":\")"
   ]
  },
  {
   "cell_type": "markdown",
   "id": "3899e199-f286-483a-a466-c63fe987d652",
   "metadata": {},
   "source": [
    "### Create the Training Texts Dataset"
   ]
  },
  {
   "cell_type": "markdown",
   "id": "56612dd3-9d92-4a02-a28a-5cffd50abacc",
   "metadata": {},
   "source": [
    "> We need to get a version of our data that is **only the texts**."
   ]
  },
  {
   "cell_type": "code",
   "execution_count": 42,
   "id": "68a346be-2bf5-483d-8c13-4074fb506730",
   "metadata": {
    "execution": {
     "iopub.execute_input": "2024-01-05T03:02:54.641182Z",
     "iopub.status.busy": "2024-01-05T03:02:54.641084Z",
     "iopub.status.idle": "2024-01-05T03:02:54.694805Z",
     "shell.execute_reply": "2024-01-05T03:02:54.694234Z",
     "shell.execute_reply.started": "2024-01-05T03:02:54.641172Z"
    }
   },
   "outputs": [
    {
     "name": "stderr",
     "output_type": "stream",
     "text": [
      "2024-01-04 22:02:54.689395: W tensorflow/tsl/platform/profile_utils/cpu_utils.cc:128] Failed to get CPU frequency: 0 Hz\n"
     ]
    },
    {
     "data": {
      "text/plain": [
       "<tf.Tensor: shape=(32,), dtype=string, numpy=\n",
       "array([b\"If you have kids or animals or both - you need this.: I usually rent a rug doctor to clean my carpets but I just got tired of that and started to let them go to long so I bought this to keep in the house.  I love it, should have done this years ago when the kids were younger.\\nPros:\\nEasy to use, not any harder then pushing your vacume around.\\nDoes a very nice job\\nPrice is good, same as walmart\\n\\nCon:\\nTank is a little small so you have to fill and empty often.  But since I'm not renting it by the hour it's not that big of a deal for me.\",\n",
       "       b\"Leaked everywhere, but I got my money back on it: Bought it Nov. 2016.  It's broken a year later.  I bought the 2-year warranty provided by Square Trade, who issued me a full refund, sending me a refund check in the mail and did NOT ask for the machine back.  The machine leaked a bit from the first time I used it, a reported issue in the reviews.  But, I so loved the machine that I put up with the leaking.  But, it got worse and worse over time, finally dumping a lot of water on the carpet.  It easily sucked it all up, but it takes way too long to clean anything this way.  A gasket ring under the rinse tank also broke during my final use of the machine.  I had problems reaching Square Trade on my own, as their site said my e-mail was already associated with an account (Yes, MY account), but that my password was not working.  The new password they sent didn't work either, so I could not initiate the refund via their website.  They do NOT post a phone number.  I called WONDERFUL AMAZON CUSTOMER SERVICE (can't say enough good things about them).  They called Square Trade for me and put me through to talking directly to their customer service, who quickly decided the machine was not worth returning or fixing and issued me a full refund.  I did not like the machine.  I did like the resolution of the problem.\",\n",
       "       b'No steam!!!: It does clean well but there is no heating element of any way of heating the water. So not sure why the word steam cleaner. Also the instructions are so wired i have not been able to put the hose in so i have to keep the old one i have around because the hose part works well to clean the upholstery.',\n",
       "       b\"Wow. My rugs were nasty!: This thing is amazing. I cleaned my area rugs with it and the dirty water was black! And I had this weird smell in my parlor like there was a dead mouse in the crawlspace under the house or something. A bad DOA smell. Now after cleaning my rugs it's gone. Ugh. They were that dirty!! This thing is great. Highly recommend!\",\n",
       "       b\"Stopped Scrubbing on the Third Day: The brush stopped spinning at the beginning of the third day.  I can spin the brush by hand so it's not jammed.  Only used it about 2 hours for two days in a row.  I did check the little screen as described in the manual and it's clean.  Cleaned the brush, too.  I haven't even finished half of our house yet, and haven't moved the furniture so it's really less than a quarter of the house.\\n\\nWhen it worked, it cleaned and scrubbed the carpet well.  It sent the motor's warm exhaust downward to help dry the carpet - a clever design.  It had very good suction power.  The carpet dried to crisp in about 2 hours (in mid-70's with humidity below 10%.)\\n\\nThe only other negative was that the motor was jet engine loud.  I wore my 30db rated gun range hearing protection, but it's still louder than my Shark vacuum.\",\n",
       "       b'this thing is nearly useless. Picks up dust: meh, this thing is nearly useless. Picks up dust, requires a lot of cleaning. Long hair wraps around core plastic piece and it loses suction.',\n",
       "       b'Best vacuum ever: Best vacuum ever! I use this more than my stronger plugin simply because of the convenience of a cordless.',\n",
       "       b\"Stopped working after 10 months: My vacuum stopped working after 10 months. I don't know if it is a battery issue or what. Looks like battery issue. I charge the battery it will run for 2 mins and then stop. Is there anyway they can send me new battery? My last cordless vacuum last me for 3 years.\",\n",
       "       b\"This is the greatest little vacuum for us and our dogs: This is the greatest little vacuum for us and our dogs. Picks up most of the dog hair and we love watching it spin around in the dirt cup. Very rewarding to dump it all in the trash too. It's so easy we got another one for upstairs!\",\n",
       "       b'Great Vacuum!!: This is a great vacuum. It is so nice to just grab it and do a quick clean up. It does a great job on floors and carpets. Recharging is quick and easy. It is extremely convenient!',\n",
       "       b\"One Star: Don't waste your money!! Horrible item. I didn't clean at all! It was so frustrating! Please don't buy.\",\n",
       "       b'Not easy to clean the dust: Not easy to clean the dust, very difficult to open the dust container and put it back.\\nSucking not as good as I thought.',\n",
       "       b'Does a good job!: Cleans great!  I had to look up a youtube video to figure out how to attach the attachment hose but it works great!!',\n",
       "       b'Leaky mess that cant be fixed. Terrible customer service.: DO NOt BUY HOOVER power scrub for carpet cleaning. Their Authorized service center had for 2 weeks , replaced the motor and it still leaks. HOOVER wants me to take it back again instead of replacing it.  It worked fine 2 or 3 times for one large room then leaked everywhere. Do your research!',\n",
       "       b'Five Stars: Works great! Easy to use!',\n",
       "       b\"Extremely disappointed and have not even used it yet!!: No place for tools on the machine.  Put wet tools into a bag.  Talk about cheap!\\nEverything is plastic.  Too light weight.  Does not feel at all like there is any quality or durability.\\nCan't use it as I want to return it.\",\n",
       "       b\"it's better just to rent it: not what i expected.  who would buy just a carpet cleaner.  it is so heavy.  it's better just to rent it.\",\n",
       "       b'We have dogs that spay incontinence and though this wash + rince model would do better. HELL NO: Not enough power, just Jeb bush.  I also own the F5914900 which does not have a standalone rinse option.  We use that 99% of the time.  We have dogs that spay incontinence and though this wash + rince model would do better. HELL NO.  the F5914900 is heavier and sucks up most of the water.  This crappy one leaves a lot of fluid behind in the carpet.',\n",
       "       b'Five Stars: Awesome Vacuum for a Cordless.  I just love the suction and it works so easily.',\n",
       "       b'Very good product - also has great reviews.: Great for quick cleaning - strong suction and good battery life.  Have one for each floor.',\n",
       "       b'AWESOME!!!: OMG It really works well!!!!! Used with the pet stain and odor remover- this machine brouth our carpets back to their original gorgeous state!!! I am blown away!',\n",
       "       b\"I had no idea my carpet could look new!: I live in an apartment complex and the carpet is about 4 years old. When we moved in it was not looking in the best shape and figured it would never come clean! I purchased this product (I don't write reviews but I have to here) and OMG 3 extremely dark black water buckets later and an extremely clean carpet I was convinced this was getting the job done better than hiring a carpet cleaner for the same price!!!!! I also put clean water in the solution area after cleaning with the deep cleaning solution the steam vac came with (which works wonders without even spot treating) and I still got all the dirt up! Fast, simple, easy to use, effective and does just as good if not better than the rug doctor you rent! Extremely pleased!\\n\\nUpdated on 13JUN16- It has finally began to fall apart! This steam cleaner ahs been through so many things and been with me since a few months before my first son was born (about 3 1/2 years total life) We used this to do EVERYTHING! when you have kids this is a must. Sadly the bottom to keep it upright or let it go back broke off naturally... NO we aren't hard on our things, we seriously have used this so much and honestly that would be my biggest gripe about this steam cleaner is the way it holds itself upright is very wobbly. and the things which hold the dirty water tank in one of those broke off too. we have divorced and we will be purchasing the newer version of this steam cleaner! Hoover has done a fantastic job with steam cleaners for the price point! Just wish it would've lasted a bit longer!\",\n",
       "       b'Best Bang for the Buck or any Buck!: The shampooer came in three days and well packaged. I tried it out the next day. To my amazement it took dirt and stains out of our rug that had been there for several years. I used the Hoover carpet shampoo and that was a good choice. While this is not a commercial machine, it did a great job and was easy to use.',\n",
       "       b'A Must For Pet Owners: Excellent vacuum for pet owners. Light, easy to maneuver, charges quickly.',\n",
       "       b'Not great: Love the idea of this - and all the reviews were very good.  I had high expectations.  Unfortunately the roller grabs threads and other long dirt items and wraps them around so tight the roller just stops working.  You have to either \"remember\" to unwind it each time or suffer like I did and get frustrated. After 3 weeks of trying to put up with it because the no-cord thing is fabulous, it stopped working - just plain old stopped - quit - nada - nothing.  It leaves tomorrow.',\n",
       "       b'Very good, when it works. Do not expect long life out of it.: Got it in March 2015, today is end of October 2015.\\nPlastic is cracking at the points where you put screws to hold the handler in place. Today the vacuum started leaking badly. Both solvent and water leaks out from the bottom with the stream, which empty the tank within 4-5 minutes.\\nThe unit was kept dry and washed after every cleaning.\\nI just loaded it up and noticed the leak. Stay away from this equipment.',\n",
       "       b'Stopped working after a few uses.: Had this machine for a little over a year and it worked great. Only used it 4 or 5 times. Used it a few months ago and it worked fine, went to clean my couch with the hand tool and it did not work. Tried to use it to clean my rugs a few days ago and it will not dispense the cleaning solution. Looked online to find a solution and nothing worked. I came on here the other day to order a new machine and saw one on sale, ordered it and realized that this is the same machine I already have, will be returning when it arrives.',\n",
       "       b'Steer clear, do not buy used!!!!!!!!!!: If I could give zero stars.....Garbage.  Missing second water container, thrown in box.  Dirty, no instructions.  Could have done better going to thrift shop.  How can they honestly charge anyone for a machine missing water holder, basically non functional???? ',\n",
       "       b\"Good cleaner: This steam carpet cleaner works very well.  Does a good job on the carpet and is very easy to use.  I had a similar one that I used for years and when it finally gave out, I got a Bissel. In  the three years I had that one, it had to be replaced once while still under warranty and it quit working again so I got this one.  I like the ease of use. My only complaint is the hose attachment storage on machine itself doesn't seem to work so well for me, so the hose is not stored on my machine.\",\n",
       "       b'There is no where to contact anyone when there is ...: There is no where to contact anyone when there is a problem, I was not offered any extended plan on Amazon and now the vacuum cleaner is not working. The dirt is backing up in the exhaust and not going into the canister. Buy from here at your own risk',\n",
       "       b\"super cleaner!: I am so impressed with this hoover steamvac, i hadn't cleaned my carpets in years and now they look like new again!!! Best money I have spent in a long long time\",\n",
       "       b\"Hardly worth it: So heavy to push around, hardly worth the effort, doesn't get the carpet very clean at all, nothing like a professional cleaning no matter how hard you work at it.  My sister has a different brand and it seems to do a much superior job.\"],\n",
       "      dtype=object)>"
      ]
     },
     "execution_count": 42,
     "metadata": {},
     "output_type": "execute_result"
    }
   ],
   "source": [
    "# Get just the text from ds_train\n",
    "ds_texts = train_ds.map(lambda x, y: x)\n",
    "\n",
    "# Preview the text\n",
    "ds_texts.take(1).get_single_element()"
   ]
  },
  {
   "cell_type": "code",
   "execution_count": null,
   "id": "9a93b466-c14b-4a10-bf7e-65b1e5cf9434",
   "metadata": {},
   "outputs": [],
   "source": []
  },
  {
   "cell_type": "markdown",
   "id": "81fb09ae-5216-41a8-9004-c737d83e8224",
   "metadata": {},
   "source": [
    "### Instantiate a TextVectorization Layer"
   ]
  },
  {
   "cell_type": "markdown",
   "id": "f364ee95-673d-42f4-b17e-57d95674e222",
   "metadata": {},
   "source": [
    "Flexible layer that can convert text to bag-of-words or sequences."
   ]
  },
  {
   "cell_type": "code",
   "execution_count": 43,
   "id": "396378c7-cdc7-45d7-bacd-967abdf5f581",
   "metadata": {
    "execution": {
     "iopub.execute_input": "2024-01-05T03:02:54.695588Z",
     "iopub.status.busy": "2024-01-05T03:02:54.695409Z",
     "iopub.status.idle": "2024-01-05T03:02:54.724964Z",
     "shell.execute_reply": "2024-01-05T03:02:54.724607Z",
     "shell.execute_reply.started": "2024-01-05T03:02:54.695571Z"
    }
   },
   "outputs": [],
   "source": [
    "# # Create text Vectorization layer\n",
    "# count_vectorizer = tf.keras.layers.TextVectorization(\n",
    "#     standardize=\"lower_and_strip_punctuation\",\n",
    "#     output_mode=\"count\",\n",
    "#     # output_sequence_length=SEQUENCE_LENGTH\n",
    "# )\n",
    "# count_vectorizer"
   ]
  },
  {
   "cell_type": "code",
   "execution_count": 44,
   "id": "066c1dde-7d3a-4f62-ba2f-09fb5fd17194",
   "metadata": {
    "execution": {
     "iopub.execute_input": "2024-01-05T03:02:54.725582Z",
     "iopub.status.busy": "2024-01-05T03:02:54.725482Z",
     "iopub.status.idle": "2024-01-05T03:02:54.752927Z",
     "shell.execute_reply": "2024-01-05T03:02:54.752546Z",
     "shell.execute_reply.started": "2024-01-05T03:02:54.725573Z"
    }
   },
   "outputs": [],
   "source": [
    "# # Before training, only contains the out of vocab token ([UNK])\n",
    "# count_vectorizer.get_vocabulary()"
   ]
  },
  {
   "cell_type": "code",
   "execution_count": 45,
   "id": "1cb84974-50fe-466f-81d6-9e6a6f5a22cf",
   "metadata": {
    "execution": {
     "iopub.execute_input": "2024-01-05T03:02:54.753528Z",
     "iopub.status.busy": "2024-01-05T03:02:54.753429Z",
     "iopub.status.idle": "2024-01-05T03:02:54.782071Z",
     "shell.execute_reply": "2024-01-05T03:02:54.781732Z",
     "shell.execute_reply.started": "2024-01-05T03:02:54.753519Z"
    }
   },
   "outputs": [],
   "source": [
    "example_text = [['Sometimes I love this vacuum, sometimes i hate this vacuum']]"
   ]
  },
  {
   "cell_type": "code",
   "execution_count": 46,
   "id": "bc93a1b0-e470-4e79-8c91-9f3d58d5e6c7",
   "metadata": {
    "execution": {
     "iopub.execute_input": "2024-01-05T03:02:54.782831Z",
     "iopub.status.busy": "2024-01-05T03:02:54.782660Z",
     "iopub.status.idle": "2024-01-05T03:02:54.810121Z",
     "shell.execute_reply": "2024-01-05T03:02:54.809774Z",
     "shell.execute_reply.started": "2024-01-05T03:02:54.782820Z"
    }
   },
   "outputs": [],
   "source": [
    "# # Fitting the vectorizer using .adapt\n",
    "# count_vectorizer.adapt(example_text)\n",
    "\n",
    "# # Before training, only contains the out of vocab token ([UNK])\n",
    "# count_vectorizer.get_vocabulary()#[:10]"
   ]
  },
  {
   "cell_type": "code",
   "execution_count": 47,
   "id": "6666ae7b-f4cc-43f8-ba87-294e7a99b959",
   "metadata": {
    "execution": {
     "iopub.execute_input": "2024-01-05T03:02:54.810846Z",
     "iopub.status.busy": "2024-01-05T03:02:54.810728Z",
     "iopub.status.idle": "2024-01-05T03:02:54.838221Z",
     "shell.execute_reply": "2024-01-05T03:02:54.837873Z",
     "shell.execute_reply.started": "2024-01-05T03:02:54.810836Z"
    }
   },
   "outputs": [],
   "source": [
    "# counts = count_vectorizer(example_text)\n",
    "# print(counts)"
   ]
  },
  {
   "cell_type": "code",
   "execution_count": null,
   "id": "aa852fc8-92ac-4d1f-ae29-42f49a35cc6f",
   "metadata": {},
   "outputs": [],
   "source": []
  },
  {
   "cell_type": "code",
   "execution_count": null,
   "id": "3a37577f-0738-4836-89bd-392d3b4ffc44",
   "metadata": {},
   "outputs": [],
   "source": []
  },
  {
   "cell_type": "code",
   "execution_count": null,
   "id": "a094a5bd-8758-44e5-a078-2e05e583b100",
   "metadata": {},
   "outputs": [],
   "source": []
  },
  {
   "cell_type": "code",
   "execution_count": null,
   "id": "6d128654-ce00-4827-bd86-90737a54e79b",
   "metadata": {},
   "outputs": [],
   "source": []
  },
  {
   "cell_type": "code",
   "execution_count": 48,
   "id": "cc2aeb45-d8d4-4c6f-a11d-914b1a5f8e23",
   "metadata": {
    "execution": {
     "iopub.execute_input": "2024-01-05T03:02:54.838885Z",
     "iopub.status.busy": "2024-01-05T03:02:54.838785Z",
     "iopub.status.idle": "2024-01-05T03:02:54.873226Z",
     "shell.execute_reply": "2024-01-05T03:02:54.872887Z",
     "shell.execute_reply.started": "2024-01-05T03:02:54.838876Z"
    }
   },
   "outputs": [],
   "source": [
    "# Create text Vectorization layer\n",
    "demo_sequence_vectorizer = tf.keras.layers.TextVectorization(\n",
    "    standardize=\"lower_and_strip_punctuation\",\n",
    "    output_mode=\"int\",\n",
    "    output_sequence_length=50\n",
    ")"
   ]
  },
  {
   "cell_type": "code",
   "execution_count": 49,
   "id": "711794b0-ee24-4917-996f-33c59ef1b8b2",
   "metadata": {
    "execution": {
     "iopub.execute_input": "2024-01-05T03:02:54.873967Z",
     "iopub.status.busy": "2024-01-05T03:02:54.873833Z",
     "iopub.status.idle": "2024-01-05T03:02:54.982201Z",
     "shell.execute_reply": "2024-01-05T03:02:54.981842Z",
     "shell.execute_reply.started": "2024-01-05T03:02:54.873957Z"
    }
   },
   "outputs": [
    {
     "data": {
      "text/plain": [
       "['', '[UNK]', 'vacuum', 'this', 'sometimes', 'i', 'love', 'hate']"
      ]
     },
     "execution_count": 49,
     "metadata": {},
     "output_type": "execute_result"
    }
   ],
   "source": [
    "# Fitting the vectorizer using .adapt\n",
    "demo_sequence_vectorizer.adapt(example_text)\n",
    "# Before training, only contains the out of vocab token ([UNK])\n",
    "demo_sequence_vectorizer.get_vocabulary()[:10]"
   ]
  },
  {
   "cell_type": "code",
   "execution_count": 50,
   "id": "c3381ee3-2a32-412d-bab6-61bf02edaf62",
   "metadata": {
    "execution": {
     "iopub.execute_input": "2024-01-05T03:02:54.983174Z",
     "iopub.status.busy": "2024-01-05T03:02:54.982963Z",
     "iopub.status.idle": "2024-01-05T03:02:55.013369Z",
     "shell.execute_reply": "2024-01-05T03:02:55.013027Z",
     "shell.execute_reply.started": "2024-01-05T03:02:54.983162Z"
    }
   },
   "outputs": [
    {
     "data": {
      "text/plain": [
       "['', '[UNK]', 'vacuum', 'this', 'sometimes', 'i', 'love', 'hate']"
      ]
     },
     "execution_count": 50,
     "metadata": {},
     "output_type": "execute_result"
    }
   ],
   "source": [
    "# Before training, only contains the out of vocab token ([UNK])\n",
    "demo_sequence_vectorizer.get_vocabulary()"
   ]
  },
  {
   "cell_type": "code",
   "execution_count": 51,
   "id": "5ffffb57-fbe8-4c2f-9ad0-a1e138733fee",
   "metadata": {
    "execution": {
     "iopub.execute_input": "2024-01-05T03:02:55.014011Z",
     "iopub.status.busy": "2024-01-05T03:02:55.013903Z",
     "iopub.status.idle": "2024-01-05T03:02:55.053509Z",
     "shell.execute_reply": "2024-01-05T03:02:55.053054Z",
     "shell.execute_reply.started": "2024-01-05T03:02:55.014002Z"
    }
   },
   "outputs": [
    {
     "name": "stdout",
     "output_type": "stream",
     "text": [
      "tf.Tensor(\n",
      "[[4 5 6 3 2 4 5 7 3 2 0 0 0 0 0 0 0 0 0 0 0 0 0 0 0 0 0 0 0 0 0 0 0 0 0 0\n",
      "  0 0 0 0 0 0 0 0 0 0 0 0 0 0]], shape=(1, 50), dtype=int64)\n"
     ]
    }
   ],
   "source": [
    "sequences = demo_sequence_vectorizer(example_text)\n",
    "print(sequences)"
   ]
  },
  {
   "cell_type": "code",
   "execution_count": 52,
   "id": "73d5cc8b-963d-4a78-a33f-4f134509e812",
   "metadata": {
    "execution": {
     "iopub.execute_input": "2024-01-05T03:02:55.054385Z",
     "iopub.status.busy": "2024-01-05T03:02:55.054245Z",
     "iopub.status.idle": "2024-01-05T03:02:55.082057Z",
     "shell.execute_reply": "2024-01-05T03:02:55.081720Z",
     "shell.execute_reply.started": "2024-01-05T03:02:55.054376Z"
    }
   },
   "outputs": [],
   "source": [
    "# # Fit the layer on the training texts\n",
    "# try:\n",
    "#     sequence_vectorizer.adapt(train_ds)\n",
    "# except Exception as e:\n",
    "#     display(e)"
   ]
  },
  {
   "cell_type": "markdown",
   "id": "ed82d8d9-8d00-4b90-8d83-7eb963cf5ba9",
   "metadata": {},
   "source": [
    "### \"Fitting\" the Text Vectorization Layer"
   ]
  },
  {
   "cell_type": "code",
   "execution_count": 53,
   "id": "972e8d3e-634d-4d6a-8524-a62be7f3de52",
   "metadata": {
    "execution": {
     "iopub.execute_input": "2024-01-05T03:02:55.082792Z",
     "iopub.status.busy": "2024-01-05T03:02:55.082634Z",
     "iopub.status.idle": "2024-01-05T03:02:55.112923Z",
     "shell.execute_reply": "2024-01-05T03:02:55.112525Z",
     "shell.execute_reply.started": "2024-01-05T03:02:55.082782Z"
    }
   },
   "outputs": [],
   "source": [
    "# Create text Vectorization layer\n",
    "sequence_vectorizer = tf.keras.layers.TextVectorization(\n",
    "    standardize=\"lower_and_strip_punctuation\",\n",
    "    output_mode=\"int\",\n",
    "    output_sequence_length=SEQUENCE_LENGTH\n",
    ")"
   ]
  },
  {
   "cell_type": "code",
   "execution_count": 54,
   "id": "3a628364-29e3-4180-90fd-3c2d42c0db90",
   "metadata": {
    "execution": {
     "iopub.execute_input": "2024-01-05T03:02:55.113524Z",
     "iopub.status.busy": "2024-01-05T03:02:55.113425Z",
     "iopub.status.idle": "2024-01-05T03:02:55.193133Z",
     "shell.execute_reply": "2024-01-05T03:02:55.192796Z",
     "shell.execute_reply.started": "2024-01-05T03:02:55.113515Z"
    }
   },
   "outputs": [],
   "source": [
    "# Fitting the vectorizer using .adapt\n",
    "sequence_vectorizer.adapt(ds_texts)"
   ]
  },
  {
   "cell_type": "code",
   "execution_count": 55,
   "id": "97a25c29-8323-4909-bcc0-d9c31c557abd",
   "metadata": {
    "execution": {
     "iopub.execute_input": "2024-01-05T03:02:55.193795Z",
     "iopub.status.busy": "2024-01-05T03:02:55.193688Z",
     "iopub.status.idle": "2024-01-05T03:02:55.228522Z",
     "shell.execute_reply": "2024-01-05T03:02:55.228128Z",
     "shell.execute_reply.started": "2024-01-05T03:02:55.193786Z"
    }
   },
   "outputs": [
    {
     "data": {
      "text/plain": [
       "['', '[UNK]', 'the', 'i', 'it', 'and', 'to', 'a', 'this', 'is']"
      ]
     },
     "execution_count": 55,
     "metadata": {},
     "output_type": "execute_result"
    }
   ],
   "source": [
    "# Before training, only contains the out of vocab token ([UNK])\n",
    "sequence_vectorizer.get_vocabulary()[:10]"
   ]
  },
  {
   "cell_type": "code",
   "execution_count": 56,
   "id": "532cfa99-1ce6-4dbd-b02f-b331a1aa6f09",
   "metadata": {
    "execution": {
     "iopub.execute_input": "2024-01-05T03:02:55.229293Z",
     "iopub.status.busy": "2024-01-05T03:02:55.229185Z",
     "iopub.status.idle": "2024-01-05T03:02:55.258490Z",
     "shell.execute_reply": "2024-01-05T03:02:55.258146Z",
     "shell.execute_reply.started": "2024-01-05T03:02:55.229284Z"
    }
   },
   "outputs": [
    {
     "data": {
      "text/plain": [
       "5889"
      ]
     },
     "execution_count": 56,
     "metadata": {},
     "output_type": "execute_result"
    }
   ],
   "source": [
    "# Saving the Size of the Vocab\n",
    "VOCAB_SIZE = sequence_vectorizer.vocabulary_size()\n",
    "VOCAB_SIZE"
   ]
  },
  {
   "cell_type": "code",
   "execution_count": null,
   "id": "66623992-d44d-4838-a2e3-4c9e26bcfe75",
   "metadata": {},
   "outputs": [],
   "source": []
  },
  {
   "cell_type": "code",
   "execution_count": 57,
   "id": "8edba3e4-0cb6-4326-a8b6-9bbec61df44b",
   "metadata": {
    "execution": {
     "iopub.execute_input": "2024-01-05T03:02:55.259275Z",
     "iopub.status.busy": "2024-01-05T03:02:55.259122Z",
     "iopub.status.idle": "2024-01-05T03:02:55.286866Z",
     "shell.execute_reply": "2024-01-05T03:02:55.286410Z",
     "shell.execute_reply.started": "2024-01-05T03:02:55.259265Z"
    }
   },
   "outputs": [],
   "source": [
    "# # Getting list of vocab\n",
    "# vocab = sequence_vectorizer.get_vocabulary()\n",
    "# int_to_str = {idx: word for idx, word in enumerate(vocab)}\n",
    "# int_to_str\n",
    "\n"
   ]
  },
  {
   "cell_type": "code",
   "execution_count": null,
   "id": "35a88812-b08e-43b3-b465-b630886c9d07",
   "metadata": {},
   "outputs": [],
   "source": []
  },
  {
   "cell_type": "code",
   "execution_count": null,
   "id": "33a83610-1bec-4198-8ce7-a46e399330df",
   "metadata": {},
   "outputs": [],
   "source": []
  },
  {
   "cell_type": "code",
   "execution_count": null,
   "id": "8521c70d-c2b6-4435-bdbe-7ac595925a73",
   "metadata": {},
   "outputs": [],
   "source": []
  },
  {
   "cell_type": "markdown",
   "id": "95210b15-3546-48cb-9e2e-85669af45e6d",
   "metadata": {},
   "source": [
    "### Simple RNN"
   ]
  },
  {
   "cell_type": "code",
   "execution_count": null,
   "id": "89be6d2b-3847-41ff-a814-0b6ca84ce9ad",
   "metadata": {},
   "outputs": [],
   "source": []
  },
  {
   "cell_type": "code",
   "execution_count": 58,
   "id": "e26bb944-e5b3-4be5-9677-d7450a331d93",
   "metadata": {
    "execution": {
     "iopub.execute_input": "2024-01-05T03:02:55.287446Z",
     "iopub.status.busy": "2024-01-05T03:02:55.287348Z",
     "iopub.status.idle": "2024-01-05T03:02:55.317166Z",
     "shell.execute_reply": "2024-01-05T03:02:55.316824Z",
     "shell.execute_reply.started": "2024-01-05T03:02:55.287437Z"
    }
   },
   "outputs": [
    {
     "data": {
      "text/plain": [
       "{'name': 'text_vectorization_1',\n",
       " 'trainable': True,\n",
       " 'dtype': 'string',\n",
       " 'batch_input_shape': (None,),\n",
       " 'max_tokens': None,\n",
       " 'standardize': 'lower_and_strip_punctuation',\n",
       " 'split': 'whitespace',\n",
       " 'ngrams': None,\n",
       " 'output_mode': 'int',\n",
       " 'output_sequence_length': 150,\n",
       " 'pad_to_max_tokens': False,\n",
       " 'sparse': False,\n",
       " 'ragged': False,\n",
       " 'vocabulary': None,\n",
       " 'idf_weights': None,\n",
       " 'encoding': 'utf-8',\n",
       " 'vocabulary_size': 5889}"
      ]
     },
     "execution_count": 58,
     "metadata": {},
     "output_type": "execute_result"
    }
   ],
   "source": [
    "sequence_vectorizer.get_config()"
   ]
  },
  {
   "cell_type": "code",
   "execution_count": 59,
   "id": "b1f8afd2-a865-4a7b-9b12-1d0c89f5e5ab",
   "metadata": {
    "execution": {
     "iopub.execute_input": "2024-01-05T03:02:55.317933Z",
     "iopub.status.busy": "2024-01-05T03:02:55.317770Z",
     "iopub.status.idle": "2024-01-05T03:02:55.347437Z",
     "shell.execute_reply": "2024-01-05T03:02:55.347048Z",
     "shell.execute_reply.started": "2024-01-05T03:02:55.317917Z"
    }
   },
   "outputs": [
    {
     "data": {
      "text/plain": [
       "150"
      ]
     },
     "execution_count": 59,
     "metadata": {},
     "output_type": "execute_result"
    }
   ],
   "source": [
    "sequence_vectorizer.get_config()['output_sequence_length']"
   ]
  },
  {
   "cell_type": "code",
   "execution_count": null,
   "id": "52da53f1-44f1-4fbe-b48f-3d59f4db6068",
   "metadata": {},
   "outputs": [],
   "source": []
  },
  {
   "cell_type": "code",
   "execution_count": 60,
   "id": "92853c62-8660-44f3-b289-cb7a50b71064",
   "metadata": {
    "execution": {
     "iopub.execute_input": "2024-01-05T03:02:55.348236Z",
     "iopub.status.busy": "2024-01-05T03:02:55.348085Z",
     "iopub.status.idle": "2024-01-05T03:02:55.378448Z",
     "shell.execute_reply": "2024-01-05T03:02:55.378132Z",
     "shell.execute_reply.started": "2024-01-05T03:02:55.348225Z"
    }
   },
   "outputs": [],
   "source": [
    "# Define a function for building an LSTM model\n",
    "from tensorflow.keras.models import Sequential\n",
    "from tensorflow.keras import layers, optimizers, regularizers"
   ]
  },
  {
   "cell_type": "code",
   "execution_count": 61,
   "id": "ba2fdb25-c2e2-44b7-ae97-1bc87ddc49cc",
   "metadata": {
    "execution": {
     "iopub.execute_input": "2024-01-05T03:02:55.379009Z",
     "iopub.status.busy": "2024-01-05T03:02:55.378902Z",
     "iopub.status.idle": "2024-01-05T03:02:59.145081Z",
     "shell.execute_reply": "2024-01-05T03:02:59.144700Z",
     "shell.execute_reply.started": "2024-01-05T03:02:55.378999Z"
    }
   },
   "outputs": [
    {
     "name": "stdout",
     "output_type": "stream",
     "text": [
      "Model: \"sequential\"\n",
      "_________________________________________________________________\n",
      " Layer (type)                Output Shape              Param #   \n",
      "=================================================================\n",
      " text_vectorization_2 (TextV  (None, 50)               0         \n",
      " ectorization)                                                   \n",
      "                                                                 \n",
      " embedding (Embedding)       (None, 50, 200)           1177800   \n",
      "                                                                 \n",
      " simple_rnn (SimpleRNN)      (None, 32)                7456      \n",
      "                                                                 \n",
      " dropout (Dropout)           (None, 32)                0         \n",
      "                                                                 \n",
      " dense (Dense)               (None, 1)                 33        \n",
      "                                                                 \n",
      "=================================================================\n",
      "Total params: 1,185,289\n",
      "Trainable params: 1,185,289\n",
      "Non-trainable params: 0\n",
      "_________________________________________________________________\n",
      "Epoch 1/30\n",
      "35/35 [==============================] - 1s 13ms/step - loss: 0.6022 - accuracy: 0.6977 - val_loss: 0.5935 - val_accuracy: 0.7285\n",
      "Epoch 2/30\n",
      "35/35 [==============================] - 0s 10ms/step - loss: 0.4719 - accuracy: 0.8265 - val_loss: 0.3821 - val_accuracy: 0.8690\n",
      "Epoch 3/30\n",
      "35/35 [==============================] - 0s 10ms/step - loss: 0.3974 - accuracy: 0.8596 - val_loss: 0.3129 - val_accuracy: 0.9046\n",
      "Epoch 4/30\n",
      "35/35 [==============================] - 0s 10ms/step - loss: 0.4843 - accuracy: 0.8113 - val_loss: 0.3369 - val_accuracy: 0.8962\n",
      "Epoch 5/30\n",
      "35/35 [==============================] - 0s 10ms/step - loss: 0.6419 - accuracy: 0.6869 - val_loss: 0.4533 - val_accuracy: 0.8847\n",
      "Epoch 6/30\n",
      "35/35 [==============================] - 0s 11ms/step - loss: 0.6028 - accuracy: 0.6798 - val_loss: 0.4636 - val_accuracy: 0.8836\n",
      "Epoch 7/30\n",
      "35/35 [==============================] - 0s 10ms/step - loss: 0.5913 - accuracy: 0.6959 - val_loss: 0.4472 - val_accuracy: 0.8868\n",
      "Epoch 8/30\n",
      "35/35 [==============================] - 0s 10ms/step - loss: 0.5261 - accuracy: 0.7531 - val_loss: 0.4449 - val_accuracy: 0.8805\n"
     ]
    },
    {
     "data": {
      "image/png": "[encoded data removed]",
      "text/plain": [
       "<Figure size 600x400 with 2 Axes>"
      ]
     },
     "metadata": {},
     "output_type": "display_data"
    }
   ],
   "source": [
    "### BEST\n",
    "\n",
    "\n",
    "def build_rnn_model(text_vectorization_layer):\n",
    "    VOCAB_SIZE = text_vectorization_layer.vocabulary_size()\n",
    "    SEQUENCE_LENGTH = sequence_vectorizer.get_config()['output_sequence_length']\n",
    "    \n",
    "    \n",
    "    # Define sequential model with pre-trained vectorization layer and *new* embedding layer\n",
    "    model = Sequential([\n",
    "        text_vectorization_layer,\n",
    "        layers.Embedding(input_dim=VOCAB_SIZE,\n",
    "                                  output_dim=EMBED_DIM, \n",
    "                                  input_length=SEQUENCE_LENGTH)\n",
    "        ])\n",
    "        \n",
    "    # Add *new* LSTM layer\n",
    "    model.add(layers.SimpleRNN(32)) #BEST=32\n",
    "    model.add(layers.Dropout(.3)) #BEST=.3\n",
    "    \n",
    "    # Add output layer\n",
    "    # model.add(layers.Dense(len(classes), activation='softmax'))\n",
    "    model.add(layers.Dense(1, activation='sigmoid'))\n",
    " \n",
    "    # Compile the model\n",
    "    model.compile(optimizer=optimizers.legacy.Adam(learning_rate = .001), \n",
    "                  loss='bce',#'sparse_categorical_crossentropy', \n",
    "                  metrics=['accuracy'])\n",
    "    \n",
    "    model.summary()\n",
    "    return model\n",
    "\n",
    "def get_callbacks(patience=3, monitor='val_accuracy'):\n",
    "    early_stop = tf.keras.callbacks.EarlyStopping(patience=patience, monitor=monitor)\n",
    "    return [early_stop]\n",
    "\n",
    "## Create text Vectorization layer\n",
    "SEQUENCE_LENGTH=50 #BEST=50\n",
    "EMBED_DIM = 200 # BEST= 200\n",
    "\n",
    "sequence_vectorizer = tf.keras.layers.TextVectorization(\n",
    "    standardize=\"lower_and_strip_punctuation\",\n",
    "    output_mode=\"int\",\n",
    "    output_sequence_length=SEQUENCE_LENGTH\n",
    ")\n",
    "\n",
    "sequence_vectorizer.adapt(ds_texts)\n",
    "\n",
    "# Build the lstm model and specify the vectorizer\n",
    "rnn_model = build_rnn_model(sequence_vectorizer)\n",
    "\n",
    "# Defien number of epocs\n",
    "EPOCHS = 30\n",
    "# Fit the model\n",
    "history = rnn_model.fit(\n",
    "    train_ds,\n",
    "    epochs=EPOCHS,\n",
    "    validation_data=val_ds,\n",
    "    callbacks=get_callbacks(patience=5),\n",
    ")\n",
    "fn.plot_history(history,figsize=(6,4))"
   ]
  },
  {
   "cell_type": "code",
   "execution_count": 62,
   "id": "fb74a307-abc8-4713-bc8f-44ca51062faf",
   "metadata": {
    "execution": {
     "iopub.execute_input": "2024-01-05T03:02:59.145863Z",
     "iopub.status.busy": "2024-01-05T03:02:59.145582Z",
     "iopub.status.idle": "2024-01-05T03:03:02.927343Z",
     "shell.execute_reply": "2024-01-05T03:03:02.927014Z",
     "shell.execute_reply.started": "2024-01-05T03:02:59.145843Z"
    }
   },
   "outputs": [
    {
     "name": "stdout",
     "output_type": "stream",
     "text": [
      "\n",
      "================================================================================\n",
      "- Evaluating Network...\n",
      "================================================================================\n",
      "----------------------------------------------------------------------\n",
      " Classification Metrics: Training Data\n",
      "----------------------------------------------------------------------\n",
      "              precision    recall  f1-score   support\n",
      "\n",
      "           0       0.69      0.96      0.80       559\n",
      "           1       0.93      0.58      0.71       559\n",
      "\n",
      "    accuracy                           0.77      1118\n",
      "   macro avg       0.81      0.77      0.76      1118\n",
      "weighted avg       0.81      0.77      0.76      1118\n",
      "\n"
     ]
    },
    {
     "data": {
      "image/png": "[encoded data removed]",
      "text/plain": [
       "<Figure size 600x400 with 2 Axes>"
      ]
     },
     "metadata": {},
     "output_type": "display_data"
    },
    {
     "name": "stdout",
     "output_type": "stream",
     "text": [
      "\n",
      "- Evaluating Training Data:\n",
      "35/35 [==============================] - 0s 2ms/step - loss: 0.4598 - accuracy: 0.7665\n",
      "{'loss': 0.4598497748374939, 'accuracy': 0.7665473818778992}\n",
      "----------------------------------------------------------------------\n",
      " Classification Metrics: Test Data\n",
      "----------------------------------------------------------------------\n",
      "              precision    recall  f1-score   support\n",
      "\n",
      "           0       0.91      0.96      0.93       833\n",
      "           1       0.55      0.36      0.44       121\n",
      "\n",
      "    accuracy                           0.88       954\n",
      "   macro avg       0.73      0.66      0.69       954\n",
      "weighted avg       0.87      0.88      0.87       954\n",
      "\n"
     ]
    },
    {
     "data": {
      "image/png": "[encoded data removed]",
      "text/plain": [
       "<Figure size 600x400 with 2 Axes>"
      ]
     },
     "metadata": {},
     "output_type": "display_data"
    },
    {
     "name": "stdout",
     "output_type": "stream",
     "text": [
      "\n",
      "- Evaluating Test Data:\n",
      "30/30 [==============================] - 0s 2ms/step - loss: 0.4490 - accuracy: 0.8816\n",
      "{'loss': 0.4489750266075134, 'accuracy': 0.8815513849258423}\n"
     ]
    }
   ],
   "source": [
    "# Obtain the results\n",
    "results = fn.evaluate_classification_network(\n",
    "    rnn_model, X_train=train_ds, \n",
    "    X_test=test_ds,# history=history\n",
    ");"
   ]
  },
  {
   "cell_type": "markdown",
   "id": "15b2e1ec-4270-4e98-92bf-9aadbe76028e",
   "metadata": {},
   "source": [
    "### Experimental Version"
   ]
  },
  {
   "cell_type": "code",
   "execution_count": null,
   "id": "1482fb4b-e1dd-4aec-b092-d5274b49189c",
   "metadata": {
    "execution": {
     "iopub.execute_input": "2024-01-05T03:03:02.928410Z",
     "iopub.status.busy": "2024-01-05T03:03:02.928066Z"
    }
   },
   "outputs": [
    {
     "name": "stdout",
     "output_type": "stream",
     "text": [
      "Model: \"sequential_1\"\n",
      "_________________________________________________________________\n",
      " Layer (type)                Output Shape              Param #   \n",
      "=================================================================\n",
      " text_vectorization_3 (TextV  (None, 50)               0         \n",
      " ectorization)                                                   \n",
      "                                                                 \n",
      " embedding_1 (Embedding)     (None, 50, 200)           1177800   \n",
      "                                                                 \n",
      " simple_rnn_1 (SimpleRNN)    (None, 32)                7456      \n",
      "                                                                 \n",
      " dropout_1 (Dropout)         (None, 32)                0         \n",
      "                                                                 \n",
      " dense_1 (Dense)             (None, 1)                 33        \n",
      "                                                                 \n",
      "=================================================================\n",
      "Total params: 1,185,289\n",
      "Trainable params: 1,185,289\n",
      "Non-trainable params: 0\n",
      "_________________________________________________________________\n",
      "Epoch 1/30\n",
      "29/35 [=======================>......] - ETA: 0s - loss: 0.6819 - accuracy: 0.5690"
     ]
    }
   ],
   "source": [
    "### BEST\n",
    "\n",
    "\n",
    "def build_rnn_model(text_vectorization_layer):\n",
    "    VOCAB_SIZE = text_vectorization_layer.vocabulary_size()\n",
    "    SEQUENCE_LENGTH = sequence_vectorizer.get_config()['output_sequence_length']\n",
    "    \n",
    "    \n",
    "    # Define sequential model with pre-trained vectorization layer and *new* embedding layer\n",
    "    model = Sequential([\n",
    "        text_vectorization_layer,\n",
    "        layers.Embedding(input_dim=VOCAB_SIZE,\n",
    "                                  output_dim=EMBED_DIM, \n",
    "                                  input_length=SEQUENCE_LENGTH)\n",
    "        ])\n",
    "        \n",
    "    # Add *new* LSTM layer\n",
    "    model.add(layers.SimpleRNN(32)) #BEST=32\n",
    "    model.add(layers.Dropout(.3)) #BEST=.3\n",
    "    \n",
    "    # Add output layer\n",
    "    # model.add(layers.Dense(len(classes), activation='softmax'))\n",
    "    model.add(layers.Dense(1, activation='sigmoid'))\n",
    " \n",
    "    # Compile the model\n",
    "    model.compile(optimizer=optimizers.legacy.Adam(learning_rate = .001), \n",
    "                  loss='bce',#'sparse_categorical_crossentropy', \n",
    "                  metrics=['accuracy'])\n",
    "    \n",
    "    model.summary()\n",
    "    return model\n",
    "\n",
    "def get_callbacks(patience=3, monitor='val_accuracy'):\n",
    "    early_stop = tf.keras.callbacks.EarlyStopping(patience=patience, monitor=monitor)\n",
    "    return [early_stop]\n",
    "\n",
    "## Create text Vectorization layer\n",
    "SEQUENCE_LENGTH=50 #BEST=50\n",
    "EMBED_DIM = 200 # BEST= 200\n",
    "\n",
    "exp_vectorizer = tf.keras.layers.TextVectorization(\n",
    "    standardize=\"lower_and_strip_punctuation\",\n",
    "    output_mode=\"int\",\n",
    "    output_sequence_length=SEQUENCE_LENGTH\n",
    ")\n",
    "\n",
    "exp_vectorizer.adapt(ds_texts)\n",
    "\n",
    "# Build the lstm model and specify the vectorizer\n",
    "exp_rnn_model = build_rnn_model(exp_vectorizer)\n",
    "\n",
    "# Defien number of epocs\n",
    "EPOCHS = 30\n",
    "# Fit the model\n",
    "exp_history = exp_rnn_model.fit(\n",
    "    train_ds,\n",
    "    epochs=EPOCHS,\n",
    "    validation_data=val_ds,\n",
    "    callbacks=get_callbacks(patience=5),\n",
    ")\n",
    "fn.plot_history(exp_history,figsize=(6,4))"
   ]
  },
  {
   "cell_type": "code",
   "execution_count": null,
   "id": "18fa7336-17a2-43d1-94b3-27e4a2987998",
   "metadata": {},
   "outputs": [],
   "source": [
    "# Obtain the results\n",
    "results = fn.evaluate_classification_network(\n",
    "    rnn_model, X_train=train_ds, \n",
    "    X_test=test_ds, #history=history\n",
    ");"
   ]
  },
  {
   "cell_type": "markdown",
   "id": "a94a357f-9baf-4bc6-a6fa-8453f5cd9eb5",
   "metadata": {},
   "source": [
    "### LSTM"
   ]
  },
  {
   "cell_type": "code",
   "execution_count": null,
   "id": "1bd3ed19-4063-40f0-8f10-bcf037df3bbb",
   "metadata": {},
   "outputs": [],
   "source": [
    "# # Define a function for building an LSTM model\n",
    "# from tensorflow.keras.models import Sequential\n",
    "# from tensorflow.keras import layers, optimizers, regularizers\n",
    "# def build_lstm_model(text_vectorization_layer):\n",
    "    \n",
    "#     # Define sequential model with pre-trained vectorization layer and *new* embedding layer\n",
    "#     lstm_model = Sequential([\n",
    "#         text_vectorization_layer,\n",
    "#         layers.Embedding(input_dim=VOCAB_SIZE,\n",
    "#                                   output_dim=EMBED_DIM, \n",
    "#                                   input_length=SEQUENCE_LENGTH)\n",
    "#         ])\n",
    "        \n",
    "#     # Add *new* LSTM layer\n",
    "#     lstm_model.add(layers.LSTM(128))\n",
    "#     # Add output layer\n",
    "#     lstm_model.add(layers.Dense(len(classes), activation='softmax'))\n",
    " \n",
    "#     # Compile the model\n",
    "#     lstm_model.compile(optimizer=optimizers.legacy.Adam(learning_rate = .01), \n",
    "#                   loss='sparse_categorical_crossentropy', \n",
    "#                   metrics=['accuracy'])\n",
    "    \n",
    "#     lstm_model.summary()\n",
    "#     return lstm_model\n",
    "\n",
    "# def get_callbacks(patience=3, monitor='val_accuracy'):\n",
    "#     early_stop = tf.keras.callbacks.EarlyStopping(patience=patience, monitor=monitor)\n",
    "#     return [early_stop]\n",
    "\n"
   ]
  },
  {
   "cell_type": "code",
   "execution_count": null,
   "id": "bc45f131-151b-42e3-9723-bde97c3e7cb3",
   "metadata": {},
   "outputs": [],
   "source": [
    "# Create text Vectorization layer\n",
    "SEQUENCE_LENGTH = 100\n",
    "EMBED_DIM = 100\n",
    "\n",
    "sequence_vectorizer = tf.keras.layers.TextVectorization(\n",
    "    standardize=\"lower_and_strip_punctuation\",\n",
    "    output_mode=\"int\",\n",
    "    output_sequence_length=SEQUENCE_LENGTH\n",
    ")\n",
    "\n",
    "sequence_vectorizer.adapt(ds_texts)\n"
   ]
  },
  {
   "cell_type": "code",
   "execution_count": null,
   "id": "c217f0e2-53db-468c-833b-5fc083601a61",
   "metadata": {},
   "outputs": [],
   "source": [
    "VOCAB_SIZE"
   ]
  },
  {
   "cell_type": "code",
   "execution_count": null,
   "id": "ca565a2f-d180-4e93-971a-fea1caf69141",
   "metadata": {},
   "outputs": [],
   "source": []
  },
  {
   "cell_type": "code",
   "execution_count": null,
   "id": "d66e49c9-d3b0-4002-9013-3e66772e6ab0",
   "metadata": {},
   "outputs": [],
   "source": [
    "# Build the lstm model and specify the vectorizer\n",
    "lstm_model = build_lstm_model(sequence_vectorizer)\n",
    "\n",
    "# Defien number of epocs\n",
    "EPOCHS = 30\n",
    "# Fit the model\n",
    "history = lstm_model.fit(\n",
    "    train_ds,\n",
    "    epochs=EPOCHS,\n",
    "    validation_data=val_ds,\n",
    "    callbacks=get_callbacks(),\n",
    ")\n",
    "# Obtain the results\n",
    "results = evaluate_classification_network(\n",
    "    lstm_model, X_train=train_ds, \n",
    "    X_test=test_ds, history=history\n",
    ");"
   ]
  },
  {
   "cell_type": "code",
   "execution_count": null,
   "id": "0c1aa93a-b997-4da5-a598-222906cded64",
   "metadata": {},
   "outputs": [],
   "source": []
  },
  {
   "cell_type": "markdown",
   "id": "2f1b9c7a-240a-4904-96bb-328ae8881eed",
   "metadata": {},
   "source": [
    "# APPENDIX"
   ]
  },
  {
   "cell_type": "markdown",
   "id": "85836730-03e6-4972-97b9-800ae934010f",
   "metadata": {},
   "source": [
    "## 🚧Functions (To Move to .py file) {move to before ML}"
   ]
  },
  {
   "cell_type": "code",
   "execution_count": null,
   "id": "615ff79d-d236-414f-872f-58093d182cb1",
   "metadata": {},
   "outputs": [],
   "source": [
    "# from pprint import pprint\n",
    "# def make_text_vectorization_layer(train_ds,  max_tokens=None, \n",
    "#                                   split='whitespace',\n",
    "#                                   standardize=\"lower_and_strip_punctuation\",\n",
    "#                                   output_mode=\"int\",\n",
    "#                                   output_sequence_length=None,\n",
    "#                                   ngrams=None, pad_to_max_tokens=False,\n",
    "#                                   verbose=True,\n",
    "#                                   **kwargs,\n",
    "#                                  ):\n",
    "#     # Build the text vectorization layer\n",
    "#     text_vectorizer = tf.keras.layers.TextVectorization(\n",
    "#         max_tokens=max_tokens,\n",
    "#         standardize=standardize, \n",
    "#         output_mode=output_mode,\n",
    "#         output_sequence_length=output_sequence_length,\n",
    "#         **kwargs\n",
    "#     )\n",
    "#     # Get just the text from the training data\n",
    "#     if isinstance(train_ds, (np.ndarray, list, tuple, pd.Series)):\n",
    "#         ds_texts = train_ds\n",
    "#     else:\n",
    "#         try:\n",
    "#             ds_texts = train_ds.map(lambda x, y: x )\n",
    "#         except:\n",
    "#             ds_texts = train_ds\n",
    "            \n",
    "#     # Fit the layer on the training texts\n",
    "#     text_vectorizer.adapt(ds_texts)\n",
    "    \n",
    "    \n",
    "#     if verbose:\n",
    "#         # Print the params\n",
    "#         print( \"\\ntf.keras.layers.TextVectorization(\" )\n",
    "#         config = text_vectorizer.get_config()\n",
    "#         pprint(config,indent=4)\n",
    "#         print(\")\")\n",
    "               \n",
    "#     # SAVING VOCAB FOR LATER\n",
    "#     # Getting list of vocab \n",
    "#     vocab = text_vectorizer.get_vocabulary()\n",
    "#     # Save dictionaries to look up words from ints \n",
    "#     int_to_str  = {idx:word for idx, word in enumerate(vocab)}\n",
    "    \n",
    "#     return text_vectorizer, int_to_str\n"
   ]
  },
  {
   "cell_type": "code",
   "execution_count": null,
   "id": "c7b18f3d-37d6-4752-a636-fde1d5e72528",
   "metadata": {},
   "outputs": [],
   "source": [
    "# # Writing a demo custom function for .py file\n",
    "# def demo_function(name):\n",
    "#     print(f'Hello, {name}!')\n",
    "\n"
   ]
  },
  {
   "cell_type": "code",
   "execution_count": null,
   "id": "b2a0b407-2ac8-4f34-8eb5-7dd8b415e011",
   "metadata": {},
   "outputs": [],
   "source": [
    "# from sklearn.metrics import classification_report, ConfusionMatrixDisplay\n",
    "# def classification_metrics(y_true, y_pred, label='',\n",
    "#                            output_dict=False, figsize=(8,4),\n",
    "#                            normalize='true', cmap='Blues',\n",
    "#                            colorbar=False,values_format=\".2f\"):\n",
    "#     \"\"\"Modified version of classification metrics function from Intro to Machine Learning.\n",
    "#     Updates:\n",
    "#     - Reversed raw counts confusion matrix cmap  (so darker==more).\n",
    "#     - Added arg for normalized confusion matrix values_format\n",
    "#     \"\"\"\n",
    "#     # Get the classification report\n",
    "#     report = classification_report(y_true, y_pred)\n",
    "    \n",
    "#     ## Print header and report\n",
    "#     header = \"-\"*70\n",
    "#     print(header, f\" Classification Metrics: {label}\", header, sep='\\n')\n",
    "#     print(report)\n",
    "    \n",
    "#     ## CONFUSION MATRICES SUBPLOTS\n",
    "#     fig, axes = plt.subplots(ncols=2, figsize=figsize)\n",
    "    \n",
    "#     # Create a confusion matrix  of raw counts (left subplot)\n",
    "#     ConfusionMatrixDisplay.from_predictions(y_true, y_pred,\n",
    "#                                             normalize=None, \n",
    "#                                             cmap='gist_gray_r',# Updated cmap\n",
    "#                                             values_format=\"d\", \n",
    "#                                             colorbar=colorbar,\n",
    "#                                             ax = axes[0]);\n",
    "#     axes[0].set_title(\"Raw Counts\")\n",
    "    \n",
    "#     # Create a confusion matrix with the data with normalize argument \n",
    "#     ConfusionMatrixDisplay.from_predictions(y_true, y_pred,\n",
    "#                                             normalize=normalize,\n",
    "#                                             cmap=cmap, \n",
    "#                                             values_format=values_format, #New arg\n",
    "#                                             colorbar=colorbar,\n",
    "#                                             ax = axes[1]);\n",
    "#     axes[1].set_title(\"Normalized Confusion Matrix\")\n",
    "    \n",
    "#     # Adjust layout and show figure\n",
    "#     fig.tight_layout()\n",
    "#     plt.show()\n",
    "    \n",
    "#     # Return dictionary of classification_report\n",
    "#     if output_dict==True:\n",
    "#         report_dict = classification_report(y_true, y_pred, output_dict=True)\n",
    "#         return report_dict\n",
    "\n",
    "# def evaluate_classification(model, X_train, y_train, X_test, y_test,\n",
    "#                          figsize=(6,4), normalize='true', output_dict = False,\n",
    "#                             cmap_train='Blues', cmap_test=\"Reds\",colorbar=False):\n",
    "#   # Get predictions for training data\n",
    "#   y_train_pred = model.predict(X_train)\n",
    "#   # Call the helper function to obtain regression metrics for training data\n",
    "#   results_train = classification_metrics(y_train, y_train_pred, #verbose = verbose,\n",
    "#                                      output_dict=True, figsize=figsize,\n",
    "#                                          colorbar=colorbar, cmap=cmap_train,\n",
    "#                                      label='Training Data')\n",
    "#   print()\n",
    "#   # Get predictions for test data\n",
    "#   y_test_pred = model.predict(X_test)\n",
    "#   # Call the helper function to obtain regression metrics for test data\n",
    "#   results_test = classification_metrics(y_test, y_test_pred, #verbose = verbose,\n",
    "#                                   output_dict=True,figsize=figsize,\n",
    "#                                          colorbar=colorbar, cmap=cmap_test,\n",
    "#                                     label='Test Data' )\n",
    "#   if output_dict == True:\n",
    "#     # Store results in a dataframe if ouput_frame is True\n",
    "#     results_dict = {'train':results_train,\n",
    "#                     'test': results_test}\n",
    "#     return results_dict\n",
    "\n",
    "      \n",
    "\n",
    "# def evaluate_classification_network(model, \n",
    "#                                     X_train=None, y_train=None, \n",
    "#                                     X_test=None, y_test=None,\n",
    "#                                     history=None, history_figsize=(6,6),\n",
    "#                                     figsize=(6,4), normalize='true',\n",
    "#                                     output_dict = False,\n",
    "#                                     cmap_train='Blues',\n",
    "#                                     cmap_test=\"Reds\",\n",
    "#                                     values_format=\".2f\", \n",
    "#                                     colorbar=False):\n",
    "#     \"\"\"Evaluates a neural network classification task using either\n",
    "#     separate X and y arrays or a tensorflow Dataset\n",
    "    \n",
    "#     Data Args:\n",
    "#         X_train (array, or Dataset)\n",
    "#         y_train (array, or None if using a Dataset\n",
    "#         X_test (array, or Dataset)\n",
    "#         y_test (array, or None if using a Dataset)\n",
    "#         history (history object)\n",
    "#         \"\"\"\n",
    "#     # Plot history, if provided\n",
    "#     if history is not None:\n",
    "#         plot_history(history, figsize=history_figsize)\n",
    "#     ## Adding a Print Header\n",
    "#     print(\"\\n\"+'='*80)\n",
    "#     print('- Evaluating Network...')\n",
    "#     print('='*80)\n",
    "#     ## TRAINING DATA EVALUATION\n",
    "#     # check if X_train was provided\n",
    "#     if X_train is not None:\n",
    "#         ## Check if X_train is a dataset\n",
    "#         if hasattr(X_train,'map'):\n",
    "#             # If it IS a Datset:\n",
    "#             # extract y_train and y_train_pred with helper function\n",
    "#             y_train, y_train_pred = get_true_pred_labels(model, X_train)\n",
    "#         else:\n",
    "#             # Get predictions for training data\n",
    "#             y_train_pred = model.predict(X_train)\n",
    "#         ## Pass both y-vars through helper compatibility function\n",
    "#         y_train = convert_y_to_sklearn_classes(y_train)\n",
    "#         y_train_pred = convert_y_to_sklearn_classes(y_train_pred)\n",
    "        \n",
    "#         # Call the helper function to obtain regression metrics for training data\n",
    "#         results_train = classification_metrics(y_train, y_train_pred, \n",
    "#                                          output_dict=True, figsize=figsize,\n",
    "#                                              colorbar=colorbar, cmap=cmap_train,\n",
    "#                                                values_format=values_format,\n",
    "#                                          label='Training Data')\n",
    "        \n",
    "#         ## Run model.evaluate         \n",
    "#         print(\"\\n- Evaluating Training Data:\")\n",
    "#         print(model.evaluate(X_train, return_dict=True))\n",
    "    \n",
    "#     # If no X_train, then save empty list for results_train\n",
    "#     else:\n",
    "#         results_train = []\n",
    "#     ## TEST DATA EVALUATION\n",
    "#     # check if X_test was provided\n",
    "#     if X_test is not None:\n",
    "#         ## Check if X_train is a dataset\n",
    "#         if hasattr(X_test,'map'):\n",
    "#             # If it IS a Datset:\n",
    "#             # extract y_train and y_train_pred with helper function\n",
    "#             y_test, y_test_pred = get_true_pred_labels(model, X_test)\n",
    "#         else:\n",
    "#             # Get predictions for training data\n",
    "#             y_test_pred = model.predict(X_test)\n",
    "#         ## Pass both y-vars through helper compatibility function\n",
    "#         y_test = convert_y_to_sklearn_classes(y_test)\n",
    "#         y_test_pred = convert_y_to_sklearn_classes(y_test_pred)\n",
    "        \n",
    "#         # Call the helper function to obtain regression metrics for training data\n",
    "#         results_test = classification_metrics(y_test, y_test_pred, \n",
    "#                                          output_dict=True, figsize=figsize,\n",
    "#                                              colorbar=colorbar, cmap=cmap_test,\n",
    "#                                               values_format=values_format,\n",
    "#                                          label='Test Data')\n",
    "        \n",
    "#         ## Run model.evaluate         \n",
    "#         print(\"\\n- Evaluating Test Data:\")\n",
    "#         print(model.evaluate(X_test, return_dict=True))\n",
    "      \n",
    "#     # If no X_test, then save empty list for results_test\n",
    "#     else:\n",
    "#         results_test = []\n",
    "      \n",
    "#     # Store results in a dictionary\n",
    "#     results_dict = {'train':results_train,\n",
    "#                     'test': results_test}\n",
    "#     if output_dict == True:\n",
    "#         return results_dict\n",
    "\n",
    "# def plot_history(history,figsize=(6,8)):\n",
    "#     # Get a unique list of metrics \n",
    "#     all_metrics = np.unique([k.replace('val_','') for k in history.history.keys()])\n",
    "#     # Plot each metric\n",
    "#     n_plots = len(all_metrics)\n",
    "#     fig, axes = plt.subplots(nrows=n_plots, figsize=figsize)\n",
    "#     axes = axes.flatten()\n",
    "#     # Loop through metric names add get an index for the axes\n",
    "#     for i, metric in enumerate(all_metrics):\n",
    "#         # Get the epochs and metric values\n",
    "#         epochs = history.epoch\n",
    "#         score = history.history[metric]\n",
    "#         # Plot the training results\n",
    "#         axes[i].plot(epochs, score, label=metric, marker='.')\n",
    "#         # Plot val results (if they exist)\n",
    "#         try:\n",
    "#             val_score = history.history[f\"val_{metric}\"]\n",
    "#             axes[i].plot(epochs, val_score, label=f\"val_{metric}\",marker='.')\n",
    "#         except:\n",
    "#             pass\n",
    "#         finally:\n",
    "#             axes[i].legend()\n",
    "#             axes[i].set(title=metric, xlabel=\"Epoch\",ylabel=metric)\n",
    "#     # Adjust subplots and show\n",
    "#     fig.tight_layout()\n",
    "#     plt.show()\n",
    "\n",
    "# def convert_y_to_sklearn_classes(y, verbose=False):\n",
    "#     # If already one-dimension\n",
    "#     if np.ndim(y)==1:\n",
    "#         if verbose:\n",
    "#             print(\"- y is 1D, using it as-is.\")\n",
    "#         return y\n",
    "        \n",
    "#     # If 2 dimensions with more than 1 column:\n",
    "#     elif y.shape[1]>1:\n",
    "#         if verbose:\n",
    "#             print(\"- y is 2D with >1 column. Using argmax for metrics.\")   \n",
    "#         return np.argmax(y, axis=1)\n",
    "    \n",
    "#     else:\n",
    "#         if verbose:\n",
    "#             print(\"y is 2D with 1 column. Using round for metrics.\")\n",
    "#         return np.round(y).flatten().astype(int)\n",
    "\n",
    "\n",
    "# def get_true_pred_labels(model,ds):\n",
    "#     \"\"\"Gets the labels and predicted probabilities from a Tensorflow model and Dataset object.\n",
    "#     Adapted from source: https://stackoverflow.com/questions/66386561/keras-classification-report-accuracy-is-different-between-model-predict-accurac\n",
    "#     \"\"\"\n",
    "#     y_true = []\n",
    "#     y_pred_probs = []\n",
    "    \n",
    "#     # Loop through the dataset as a numpy iterator\n",
    "#     for images, labels in ds.as_numpy_iterator():\n",
    "        \n",
    "#         # Get prediction with batch_size=1\n",
    "#         y_probs = model.predict(images, batch_size=1, verbose=0)\n",
    "#         # Combine previous labels/preds with new labels/preds\n",
    "#         y_true.extend(labels)\n",
    "#         y_pred_probs.extend(y_probs)\n",
    "#     ## Convert the lists to arrays\n",
    "#     y_true = np.array(y_true)\n",
    "#     y_pred_probs = np.array(y_pred_probs)\n",
    "    \n",
    "#     return y_true, y_pred_probs\n"
   ]
  },
  {
   "cell_type": "code",
   "execution_count": null,
   "id": "229368d5-a825-4185-b265-e1c0d7cd0dc2",
   "metadata": {},
   "outputs": [],
   "source": [
    "# # Adding parent directory to python path\n",
    "# import sys, os\n",
    "# sys.path.append( os.path.abspath('../'))"
   ]
  },
  {
   "cell_type": "code",
   "execution_count": null,
   "id": "d37f8c44-19e8-4d0d-8888-60d6065ed44d",
   "metadata": {},
   "outputs": [],
   "source": [
    "# ## Load the autoreload extension\n",
    "# %load_ext autoreload \n",
    "# %autoreload 2\n",
    "\n",
    "# import custom_functions_SOLUTION  as fn"
   ]
  },
  {
   "cell_type": "code",
   "execution_count": null,
   "id": "44117edd-f2e2-4f61-a20d-ae1ac47f2f06",
   "metadata": {},
   "outputs": [],
   "source": [
    "# # Call custom function from imported file\n",
    "# fn.demo_function('Brenda')\n",
    "\n"
   ]
  },
  {
   "cell_type": "markdown",
   "id": "097a15b7-dfc1-4e12-9e6f-de8fcae188f2",
   "metadata": {},
   "source": [
    "## Tensorflow Datasets - Order of Operations"
   ]
  },
  {
   "cell_type": "markdown",
   "id": "fecf6d30-a0f9-486a-b73e-7046a017d19a",
   "metadata": {},
   "source": [
    "### Order of Operations\n",
    "\n",
    "1) **Create full dataset object & Shuffle Once.**\n",
    "2) Calculate number of samples for training and validation data.\n",
    "3) Create the train/test/val splits using .take() and .skip()\n",
    "4) **Add shuffle to the train dataset only.**\n",
    "5) (Optional/Not Used on LP) If applying a transformation (e.g. train_ds.map(...)) to the data, add  here, before .cache()\n",
    "7) (Optional) Add .cache() to all splits to increase speed  (but may cause problems with large datasets)\n",
    "8) **Add .batch to all splits (default batch size=32)**\n",
    "9) (Optional) Add .prefetch(tf.data.AUTOTUNE)\n",
    "10) (Optional) Print out final length of datasets"
   ]
  },
  {
   "cell_type": "markdown",
   "id": "38b94fa4-1880-49f4-be58-b51e642b0fd5",
   "metadata": {},
   "source": [
    "## Train-Test-Val Split Version\n"
   ]
  },
  {
   "cell_type": "code",
   "execution_count": null,
   "id": "6a2238b8-d91b-445e-8d68-067832fe91f0",
   "metadata": {},
   "outputs": [],
   "source": [
    "# ## Split data into train, test, val\n",
    "X_train_full, X_test, y_train_full, y_test = train_test_split(X, y, test_size=.3, random_state=42)\n",
    "X_val, X_test, y_val, y_test = train_test_split(X_test, y_test, test_size=.5, random_state=42)\n",
    "(len(X_train_full), len(X_val), len(X_test))"
   ]
  },
  {
   "cell_type": "code",
   "execution_count": null,
   "id": "f261dad4-efda-4b36-9b2d-056caf37d57d",
   "metadata": {},
   "outputs": [],
   "source": [
    "# from sklearn import set_config\n",
    "# set_config(transform_output='pandas')"
   ]
  },
  {
   "cell_type": "markdown",
   "id": "eb20bc32-8cd8-45f5-999d-a2bd0ed7ff48",
   "metadata": {},
   "source": [
    "### Using Sklearn's LabelEncoder"
   ]
  },
  {
   "cell_type": "code",
   "execution_count": null,
   "id": "44095fcf-b87b-4328-a1ef-44e4ec235e3d",
   "metadata": {},
   "outputs": [],
   "source": [
    "y_train_full[:10]"
   ]
  },
  {
   "cell_type": "code",
   "execution_count": null,
   "id": "3da586fc-4355-4647-8e5c-58367d8569fa",
   "metadata": {},
   "outputs": [],
   "source": [
    "y_train_full.unique()"
   ]
  },
  {
   "cell_type": "code",
   "execution_count": null,
   "id": "91b51208-88a8-4120-83ba-3c2f6a0b2965",
   "metadata": {},
   "outputs": [],
   "source": [
    "encoder = LabelEncoder()\n",
    "y_train_full_enc = encoder.fit_transform(y_train_full.values)\n",
    "y_test_enc = encoder.transform(y_test)\n",
    "y_val_enc = encoder.transform(y_val)"
   ]
  },
  {
   "cell_type": "code",
   "execution_count": null,
   "id": "906c5bf9-26da-422d-b6ec-47e7d015efc3",
   "metadata": {},
   "outputs": [],
   "source": [
    "y_test_enc[:19]"
   ]
  },
  {
   "cell_type": "code",
   "execution_count": null,
   "id": "a1c9e87e-de8b-404e-bd36-6b6c4fda45f3",
   "metadata": {},
   "outputs": [],
   "source": [
    "classes = encoder.classes_\n",
    "classes"
   ]
  },
  {
   "cell_type": "code",
   "execution_count": null,
   "id": "121a1c2b-35b5-4c8d-97c1-ba07acd4dcb6",
   "metadata": {},
   "outputs": [],
   "source": [
    "encoder.inverse_transform([0,1])"
   ]
  },
  {
   "cell_type": "code",
   "execution_count": null,
   "id": "db296ec8-b6f8-4a63-b6b1-86870f97c539",
   "metadata": {},
   "outputs": [],
   "source": [
    "# encoder.inverse_transform(cl)"
   ]
  },
  {
   "cell_type": "code",
   "execution_count": null,
   "id": "9080b1e5-db2b-4035-b519-2a446fc98f2a",
   "metadata": {},
   "outputs": [],
   "source": [
    "from imblearn.under_sampling import RandomUnderSampler\n",
    "\n",
    "# Instantiate a RandomUnderSampler\n",
    "sampler = RandomUnderSampler(random_state=42)\n",
    "try:\n",
    "    X_train, y_train = sampler.fit_resample(X_train_full,y_train_full_enc)\n",
    "except Exception as e:\n",
    "    display(e)"
   ]
  },
  {
   "cell_type": "code",
   "execution_count": null,
   "id": "3c9fba05-a222-447a-9fd4-b674b44c534e",
   "metadata": {},
   "outputs": [],
   "source": [
    "# X_train_full.values.reshape(-1,1)"
   ]
  },
  {
   "cell_type": "code",
   "execution_count": null,
   "id": "ffcc0c41-3daf-4324-a039-97a29ddc339d",
   "metadata": {},
   "outputs": [],
   "source": [
    "# Fit_resample on the reshaped X_train data and y-train data\n",
    "X_train, y_train = sampler.fit_resample(X_train_full.values.reshape(-1,1),\n",
    "                                        y_train_full_enc)\n",
    "X_train.shape"
   ]
  },
  {
   "cell_type": "code",
   "execution_count": null,
   "id": "98a30ca1-8d7b-42c3-87b8-8b21991b7410",
   "metadata": {},
   "outputs": [],
   "source": []
  },
  {
   "cell_type": "code",
   "execution_count": null,
   "id": "4e6a3418-77b6-40e0-85b7-243fb312c924",
   "metadata": {},
   "outputs": [],
   "source": [
    "# Flatten the reshaped X_train data back to 1D\n",
    "X_train = X_train.flatten()\n",
    "X_train.shape"
   ]
  },
  {
   "cell_type": "code",
   "execution_count": null,
   "id": "9a1bc9c0-0c0a-45eb-801d-29ed7feb6105",
   "metadata": {},
   "outputs": [],
   "source": [
    "# Check for class balance\n",
    "pd.Series(y_train).value_counts()"
   ]
  },
  {
   "cell_type": "markdown",
   "id": "eaec0a83-5b60-4ef1-9c41-c844e358977a",
   "metadata": {},
   "source": [
    "### Prepare Tensorflow Datasets"
   ]
  },
  {
   "cell_type": "markdown",
   "id": "60733dc8-9621-421e-8a3c-c9b750d2df44",
   "metadata": {},
   "source": [
    "Since we already have train/test/val X and y vars, we will make 3 dataset objects using tf.data.Dataset.from_tensor_slices."
   ]
  },
  {
   "cell_type": "code",
   "execution_count": null,
   "id": "5df57b42-509c-4d54-b0a3-4a55fde3a002",
   "metadata": {},
   "outputs": [],
   "source": [
    "# Convert to Dataset Object\n",
    "train_ds = tf.data.Dataset.from_tensor_slices((X_train, y_train))\n",
    "test_ds = tf.data.Dataset.from_tensor_slices((X_test, y_test_enc))\n",
    "val_ds = tf.data.Dataset.from_tensor_slices((X_val, y_val_enc))"
   ]
  },
  {
   "cell_type": "markdown",
   "id": "49810f66-26f9-43db-88d4-57f5f85cb3a3",
   "metadata": {},
   "source": [
    "Let's examine a single element."
   ]
  },
  {
   "cell_type": "code",
   "execution_count": null,
   "id": "bccec483-9b94-4431-b138-379ce7b76311",
   "metadata": {},
   "outputs": [],
   "source": [
    "# taking a sample \n",
    "example_X, example_y= train_ds.take(1).get_single_element()\n",
    "print(example_X,'\\n\\n',example_y)"
   ]
  },
  {
   "cell_type": "code",
   "execution_count": null,
   "id": "69866501-cf67-4ad5-97c3-41fcb387f72c",
   "metadata": {},
   "outputs": [],
   "source": [
    "# taking a sample  (same result)\n",
    "example_X, example_y= train_ds.take(1).get_single_element()\n",
    "print(example_X,'\\n\\n',example_y)"
   ]
  },
  {
   "cell_type": "markdown",
   "id": "5d892722-f348-40fd-88bd-baf9be8eaa5d",
   "metadata": {},
   "source": [
    "> Shuffle the training data at the end of each epoch"
   ]
  },
  {
   "cell_type": "code",
   "execution_count": null,
   "id": "f7895034-c771-4648-88ea-6a54faa26828",
   "metadata": {},
   "outputs": [],
   "source": [
    "# Shuffle only the training data every epoch\n",
    "train_ds = train_ds.shuffle(len(train_ds))"
   ]
  },
  {
   "cell_type": "code",
   "execution_count": null,
   "id": "0b06b0e3-67a7-4eb0-b124-3412aee15ca5",
   "metadata": {},
   "outputs": [],
   "source": [
    "# taking a sample  (different result)\n",
    "example_X, example_y= train_ds.take(1).get_single_element()\n",
    "print(example_X,'\\n\\n',example_y)"
   ]
  },
  {
   "cell_type": "code",
   "execution_count": null,
   "id": "2062b366-b4de-4713-bb82-5d98b15abd4d",
   "metadata": {},
   "outputs": [],
   "source": [
    "# taking a sample  (different result)\n",
    "example_X, example_y= train_ds.take(1).get_single_element()\n",
    "print(example_X,'\\n\\n',example_y)"
   ]
  },
  {
   "cell_type": "markdown",
   "id": "b44d3ca1-86bd-42f3-98e5-79e8f6f02a42",
   "metadata": {},
   "source": [
    "> Add batching (use 32 for batch_size)"
   ]
  },
  {
   "cell_type": "code",
   "execution_count": null,
   "id": "502a7439-8e81-415c-bc54-ea5ad055140f",
   "metadata": {},
   "outputs": [],
   "source": [
    "#  Setting the batch_size for all datasets\n",
    "BATCH_SIZE = 32\n",
    "\n",
    "train_ds = train_ds.batch(BATCH_SIZE)\n",
    "val_ds = val_ds.batch(BATCH_SIZE)\n",
    "test_ds = test_ds.batch(BATCH_SIZE)\n",
    "\n",
    "\n",
    "# Confirm the number of batches in each\n",
    "print (f' There are {len(train_ds)} training batches.')\n",
    "print (f' There are {len(val_ds)} validation batches.')\n",
    "print (f' There are {len(test_ds)} testing batches.')"
   ]
  },
  {
   "cell_type": "code",
   "execution_count": null,
   "id": "98638bb3-7011-45d3-850b-7279978346f6",
   "metadata": {},
   "outputs": [],
   "source": [
    "# taking a sample - now 32 observations instead of 1\n",
    "example_X, example_y= train_ds.take(1).get_single_element()\n",
    "print(example_X,'\\n\\n',example_y)\n"
   ]
  },
  {
   "cell_type": "code",
   "execution_count": null,
   "id": "d926f35b-8fa9-4e77-a116-fe67068c8d24",
   "metadata": {},
   "outputs": [],
   "source": []
  }
 ],
 "metadata": {
  "kernelspec": {
   "display_name": "Python (dojo-env)",
   "language": "python",
   "name": "dojo-env"
  },
  "language_info": {
   "codemirror_mode": {
    "name": "ipython",
    "version": 3
   },
   "file_extension": ".py",
   "mimetype": "text/x-python",
   "name": "python",
   "nbconvert_exporter": "python",
   "pygments_lexer": "ipython3",
   "version": "3.10.10"
  }
 },
 "nbformat": 4,
 "nbformat_minor": 5
}
